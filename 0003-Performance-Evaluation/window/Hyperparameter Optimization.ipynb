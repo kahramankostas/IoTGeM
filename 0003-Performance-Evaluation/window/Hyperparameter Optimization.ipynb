{
 "cells": [
  {
   "cell_type": "code",
   "execution_count": 1,
   "metadata": {},
   "outputs": [],
   "source": [
    "%matplotlib inline\n",
    "from scipy.stats import randint as sp_randint\n",
    "from scipy.stats import uniform\n",
    "from scipy.stats import uniform as sp_randFloat\n",
    "from sklearn import svm\n",
    "from tqdm import tqdm\n",
    "from sklearn.ensemble import GradientBoostingClassifier\n",
    "from sklearn.naive_bayes import CategoricalNB\n",
    "from sklearn.model_selection import GridSearchCV\n",
    "from sklearn.ensemble import RandomForestClassifier\n",
    "from sklearn.model_selection import GridSearchCV\n",
    "from sklearn.model_selection import RandomizedSearchCV\n",
    "from sklearn.model_selection import train_test_split\n",
    "from sklearn.neighbors import KNeighborsClassifier\n",
    "from sklearn.tree import DecisionTreeClassifier\n",
    "from time import time\n",
    "from tabulate import tabulate\n",
    "import numpy as np\n",
    "import pandas as pd\n",
    "import sklearn\n",
    "import warnings\n",
    "warnings.filterwarnings('ignore')\n",
    "import os"
   ]
  },
  {
   "cell_type": "code",
   "execution_count": 2,
   "metadata": {},
   "outputs": [],
   "source": [
    "from scipy.stats import randint as sp_randInt\n",
    "\n",
    "from sklearn.model_selection import GridSearchCV, PredefinedSplit\n",
    "from sklearn.metrics import make_scorer\n",
    "from scipy import sparse"
   ]
  },
  {
   "cell_type": "code",
   "execution_count": 3,
   "metadata": {},
   "outputs": [],
   "source": [
    "import json\n",
    "with open('GA_output_ET.json', 'r') as fp:\n",
    "    feature_list = json.load(fp)"
   ]
  },
  {
   "cell_type": "code",
   "execution_count": 4,
   "metadata": {},
   "outputs": [
    {
     "data": {
      "text/plain": [
       "{'SYN': ['ts',\n",
       "  'IP_flags',\n",
       "  'IP_DF',\n",
       "  'TCP_dataofs',\n",
       "  'TCP_SYN',\n",
       "  'TCP_ACK',\n",
       "  'sport_class',\n",
       "  'dst_IP_diversity',\n",
       "  'dst_port_diversity',\n",
       "  'pck_size_sum_of_EW',\n",
       "  'ts_diff',\n",
       "  'ts_std_WE',\n",
       "  'ts_sum_of_EW',\n",
       "  'TCP_window_std_WE',\n",
       "  'pck_size_mean_2',\n",
       "  'ts_mean_2',\n",
       "  'ts_std_2',\n",
       "  'TCP_window_mean_2',\n",
       "  'TCP_SYN_sum',\n",
       "  'TCP_ACK_sum',\n",
       "  'TCP_SYN_ratio',\n",
       "  'TCP_ACK_SR',\n",
       "  'ts_mean_6',\n",
       "  'ts_std_6',\n",
       "  'pck_size_mean_9',\n",
       "  'ts_mean_9',\n",
       "  'ts_std_9',\n",
       "  'TCP_window_mean_9',\n",
       "  'TCP_ACK_R',\n",
       "  'Label'],\n",
       " 'HTTP': ['ts',\n",
       "  'TCP_flags',\n",
       "  'dport_class',\n",
       "  'pck_size_sum_of_EW',\n",
       "  'ts_std_WE',\n",
       "  'ts_sum_of_EW',\n",
       "  'payload_bytes_sum_of_EW',\n",
       "  'entropy_mean_WE',\n",
       "  'TCP_window_mean_2',\n",
       "  'sport_sum',\n",
       "  'TCP_ACK_sum',\n",
       "  'TCP_ACK_ratio',\n",
       "  'sum',\n",
       "  'TCP_ACK_SR',\n",
       "  'ts_std_6',\n",
       "  'TCP_window_mean_6',\n",
       "  'TCP_PSH_R',\n",
       "  'Label'],\n",
       " 'ACK': ['payload_bytes_mean_WE',\n",
       "  'sport_sum',\n",
       "  'TCP_ACK_ratio',\n",
       "  'TCP_ACK_SR',\n",
       "  'ts_mean_6',\n",
       "  'Label'],\n",
       " 'UDP': ['IP_tos',\n",
       "  'IP_DF',\n",
       "  'IP_proto',\n",
       "  'TCP_dataofs',\n",
       "  'TCP_window',\n",
       "  'TCP_options',\n",
       "  'sport_class',\n",
       "  'Protocol',\n",
       "  'TCP_window_sum_of_EW',\n",
       "  'entropy_diff',\n",
       "  'ts_std_2',\n",
       "  'TCP_window_mean_2',\n",
       "  'entropy_std_2',\n",
       "  'TCP_PSH_sum',\n",
       "  'TCP_ACK_sum',\n",
       "  'TCP_ACK_ratio',\n",
       "  'sum',\n",
       "  'TCP_ACK_SR',\n",
       "  'ts_std_6',\n",
       "  'TCP_window_mean_6',\n",
       "  'TCP_window_mean_9',\n",
       "  'entropy_std_9',\n",
       "  'TCP_PSH_R',\n",
       "  'TCP_ACK_R',\n",
       "  'Label'],\n",
       " 'ARP': ['Ether_type',\n",
       "  'IP_tos',\n",
       "  'IP_flags',\n",
       "  'IP_MF',\n",
       "  'IP_ttl',\n",
       "  'IP_proto',\n",
       "  'ICMP_type',\n",
       "  'TCP_reserved',\n",
       "  'TCP_ACK',\n",
       "  'TCP_ECE',\n",
       "  'TCP_CWR',\n",
       "  'UDP_len',\n",
       "  'DNS_qr',\n",
       "  'DNS_ra',\n",
       "  'DNS_qdcount',\n",
       "  'DNS_nscount',\n",
       "  'DNS_arcount',\n",
       "  'payload_bytes',\n",
       "  'entropy',\n",
       "  'Protocol',\n",
       "  'dst_IP_diversity',\n",
       "  'pck_size_diff',\n",
       "  'pck_size_mean_WE',\n",
       "  'pck_size_std_WE',\n",
       "  'pck_size_sum_of_EW',\n",
       "  'ts_std_WE',\n",
       "  'TCP_window_mean_WE',\n",
       "  'TCP_window_std_WE',\n",
       "  'TCP_window_sum_of_EW',\n",
       "  'payload_bytes_mean_WE',\n",
       "  'entropy_diff',\n",
       "  'entropy_mean_WE',\n",
       "  'entropy_std_WE',\n",
       "  'entropy_sum_of_EW',\n",
       "  'pck_size_mean_2',\n",
       "  'ts_mean_2',\n",
       "  'entropy_mean_2',\n",
       "  'TCP_SYN_sum',\n",
       "  'TCP_RST_sum',\n",
       "  'TCP_ACK_sum',\n",
       "  'TCP_SYN_ratio',\n",
       "  'TCP_RST_ratio',\n",
       "  'TCP_PSH_ratio',\n",
       "  'TCP_CWR_ratio',\n",
       "  'TCP_RST_SR',\n",
       "  'TCP_PSH_SR',\n",
       "  'TCP_URG_SR',\n",
       "  'TCP_ECE_SR',\n",
       "  'TCP_CWR_SR',\n",
       "  'pck_size_mean_6',\n",
       "  'TCP_window_std_6',\n",
       "  'payload_bytes_mean_6',\n",
       "  'payload_bytes_std_6',\n",
       "  'entropy_mean_6',\n",
       "  'entropy_std_6',\n",
       "  'pck_size_mean_9',\n",
       "  'pck_size_std_9',\n",
       "  'ts_mean_9',\n",
       "  'payload_bytes_mean_9',\n",
       "  'entropy_std_9',\n",
       "  'TCP_SYN_R',\n",
       "  'Label'],\n",
       " 'SP': ['IP_flags',\n",
       "  'IP_DF',\n",
       "  'TCP_flags',\n",
       "  'TCP_SYN',\n",
       "  'entropy_sum_of_EW',\n",
       "  'TCP_SYN_sum',\n",
       "  'TCP_ACK_sum',\n",
       "  'TCP_SYN_ratio',\n",
       "  'TCP_ACK_SR',\n",
       "  'Label'],\n",
       " 'BF': ['payload_bytes',\n",
       "  'pck_size_diff',\n",
       "  'TCP_window_diff',\n",
       "  'entropy_mean_WE',\n",
       "  'pck_size_mean_2',\n",
       "  'pck_size_std_2',\n",
       "  'TCP_window_mean_2',\n",
       "  'TCP_window_std_2',\n",
       "  'payload_bytes_mean_2',\n",
       "  'payload_bytes_std_2',\n",
       "  'sport_sum',\n",
       "  'TCP_FIN_sum',\n",
       "  'TCP_FIN_ratio',\n",
       "  'TCP_FIN_SR',\n",
       "  'pck_size_mean_6',\n",
       "  'ts_std_6',\n",
       "  'TCP_window_mean_6',\n",
       "  'TCP_window_std_6',\n",
       "  'payload_bytes_std_6',\n",
       "  'entropy_mean_6',\n",
       "  'pck_size_std_9',\n",
       "  'ts_std_9',\n",
       "  'TCP_window_mean_9',\n",
       "  'TCP_window_std_9',\n",
       "  'payload_bytes_mean_9',\n",
       "  'TCP_SYN_R',\n",
       "  'TCP_RST_R',\n",
       "  'Label'],\n",
       " 'OS': ['IP_ttl',\n",
       "  'TCP_flags',\n",
       "  'TCP_SYN',\n",
       "  'TCP_ACK',\n",
       "  'TCP_URG',\n",
       "  'TCP_ECE',\n",
       "  'TCP_window',\n",
       "  'TCP_urgptr',\n",
       "  'UDP_len',\n",
       "  'dport_class',\n",
       "  'Protocol',\n",
       "  'dst_IP_diversity',\n",
       "  'pck_size_sum_of_EW',\n",
       "  'ts_diff',\n",
       "  'ts_mean_WE',\n",
       "  'ts_std_WE',\n",
       "  'ts_sum_of_EW',\n",
       "  'TCP_window_mean_WE',\n",
       "  'TCP_window_sum_of_EW',\n",
       "  'payload_bytes_diff',\n",
       "  'payload_bytes_mean_WE',\n",
       "  'entropy_mean_WE',\n",
       "  'entropy_std_WE',\n",
       "  'entropy_sum_of_EW',\n",
       "  'payload_bytes_std_2',\n",
       "  'entropy_std_2',\n",
       "  'dport_sum',\n",
       "  'TCP_SYN_sum',\n",
       "  'TCP_PSH_sum',\n",
       "  'TCP_ACK_sum',\n",
       "  'TCP_FIN_ratio',\n",
       "  'TCP_PSH_ratio',\n",
       "  'TCP_ACK_ratio',\n",
       "  'TCP_URG_ratio',\n",
       "  'TCP_ECE_ratio',\n",
       "  'TCP_CWR_ratio',\n",
       "  'sum',\n",
       "  'TCP_FIN_SR',\n",
       "  'TCP_SYN_SR',\n",
       "  'TCP_ACK_SR',\n",
       "  'TCP_URG_SR',\n",
       "  'TCP_ECE_SR',\n",
       "  'TCP_CWR_SR',\n",
       "  'pck_size_mean_6',\n",
       "  'pck_size_std_6',\n",
       "  'ts_std_6',\n",
       "  'payload_bytes_std_6',\n",
       "  'entropy_mean_6',\n",
       "  'pck_size_std_9',\n",
       "  'ts_mean_9',\n",
       "  'payload_bytes_mean_9',\n",
       "  'entropy_mean_9',\n",
       "  'TCP_SYN_R',\n",
       "  'TCP_RST_R',\n",
       "  'TCP_PSH_R',\n",
       "  'TCP_ACK_R',\n",
       "  'TCP_ECE_R',\n",
       "  'Label'],\n",
       " 'SCHD': ['Ether_type',\n",
       "  'IP_version',\n",
       "  'IP_DF',\n",
       "  'IP_ttl',\n",
       "  'TCP_flags',\n",
       "  'TCP_options',\n",
       "  'dport_class',\n",
       "  'Protocol',\n",
       "  'IP_add_count',\n",
       "  'pck_size_mean_WE',\n",
       "  'pck_size_std_WE',\n",
       "  'ts_diff',\n",
       "  'ts_mean_WE',\n",
       "  'ts_std_WE',\n",
       "  'TCP_window_mean_WE',\n",
       "  'payload_bytes_mean_WE',\n",
       "  'payload_bytes_std_WE',\n",
       "  'payload_bytes_sum_of_EW',\n",
       "  'entropy_mean_WE',\n",
       "  'entropy_std_WE',\n",
       "  'pck_size_mean_2',\n",
       "  'ts_std_2',\n",
       "  'TCP_ACK_sum',\n",
       "  'TCP_ACK_ratio',\n",
       "  'TCP_ACK_SR',\n",
       "  'pck_size_mean_6',\n",
       "  'ts_mean_6',\n",
       "  'ts_std_6',\n",
       "  'ts_mean_9',\n",
       "  'ts_std_9',\n",
       "  'TCP_PSH_R',\n",
       "  'TCP_ACK_R',\n",
       "  'Label'],\n",
       " 'MHDis': ['IP_ihl',\n",
       "  'IP_ttl',\n",
       "  'TCP_options',\n",
       "  'sport_class',\n",
       "  'Protocol',\n",
       "  'pck_size_std_WE',\n",
       "  'pck_size_sum_of_EW',\n",
       "  'ts_mean_WE',\n",
       "  'ts_std_WE',\n",
       "  'ts_sum_of_EW',\n",
       "  'pck_size_mean_2',\n",
       "  'ts_mean_2',\n",
       "  'TCP_ACK_sum',\n",
       "  'sum',\n",
       "  'pck_size_mean_6',\n",
       "  'ts_mean_6',\n",
       "  'ts_std_6',\n",
       "  'ts_mean_9',\n",
       "  'ts_std_9',\n",
       "  'TCP_ACK_R',\n",
       "  'Label']}"
      ]
     },
     "execution_count": 4,
     "metadata": {},
     "output_type": "execute_result"
    }
   ],
   "source": [
    "feature_list"
   ]
  },
  {
   "cell_type": "code",
   "execution_count": 5,
   "metadata": {},
   "outputs": [],
   "source": [
    "file_list={'SYN': ['./INPUT/SM/DoS-SYN-1.csv', './INPUT/VAL/VAL-SYN.csv'],\n",
    " 'HTTP': ['./INPUT/SM/MB-HTTP-4.csv', './INPUT/VAL/VAL-HTTP.csv'],\n",
    " 'ACK': ['./INPUT/SM/MB-ACK-4.csv', './INPUT/VAL/VAL-ACK.csv'],\n",
    " 'UDP': ['./INPUT/SM/MB-UDP-4.csv', './INPUT/VAL/VAL-UDP.csv'],\n",
    " 'ARP': ['./INPUT/SM/MitM-ARP-6.csv', './INPUT/VAL/VAL-ARP.csv'],\n",
    " 'SP': ['./INPUT/SM/Scan-Port-3.csv', './INPUT/VAL/VAL-SP.csv'],\n",
    " 'BF': ['./INPUT/SM/MB-BF-5.csv', './INPUT/VAL/VAL-BF.csv'],\n",
    " 'OS': ['./INPUT/SM/Scan-OS-3.csv', './INPUT/VAL/VAL-OS.csv'],\n",
    " 'SCHD': ['./INPUT/SM/Scan-HDis-3.csv', './INPUT/VAL/VAL-SCHD.csv'],\n",
    " 'MHDis': ['./INPUT/SM/MB-HDis-3.csv', './INPUT/VAL/VAL-MHDis.csv']}"
   ]
  },
  {
   "cell_type": "code",
   "execution_count": 6,
   "metadata": {},
   "outputs": [],
   "source": [
    "def run_random_search(model, params, x_train, y_train):\n",
    "    #grid = GridSearchCV(model, params, cv = ps, n_jobs = -1, scoring = score, verbose = 0, refit = False)\n",
    "    grid =RandomizedSearchCV(model, param_grid, cv=ps,scoring = 'f1_macro')\n",
    "    grid.fit(x_train, y_train)\n",
    "    return (grid.best_params_, round(grid.best_score_,8),grid.best_estimator_)"
   ]
  },
  {
   "cell_type": "code",
   "execution_count": 7,
   "metadata": {},
   "outputs": [],
   "source": [
    "def find_the_way(path,file_format,con=\"\"):\n",
    "    files_add = []\n",
    "    # r=root, d=directories, f = files\n",
    "    for r, d, f in os.walk(path):\n",
    "        for file in f:\n",
    "            if file_format in file:\n",
    "                if con in file:\n",
    "                    files_add.append(os.path.join(r, file))  \n",
    "            \n",
    "    return files_add"
   ]
  },
  {
   "cell_type": "code",
   "execution_count": null,
   "metadata": {},
   "outputs": [],
   "source": []
  },
  {
   "cell_type": "markdown",
   "metadata": {},
   "source": [
    "# RandomizedSearchCV  DT"
   ]
  },
  {
   "cell_type": "code",
   "execution_count": 26,
   "metadata": {
    "scrolled": false
   },
   "outputs": [
    {
     "name": "stdout",
     "output_type": "stream",
     "text": [
      "SYN\n",
      "HYPERPARAMETERS                     F1 Score             Time     No      \n",
      "default                             0.9998489480892206   3.873    24      \n"
     ]
    },
    {
     "name": "stderr",
     "output_type": "stream",
     "text": [
      "100%|██████████████████████████████████████████████████████████████████████████████████| 50/50 [01:38<00:00,  1.98s/it]\n"
     ]
    },
    {
     "name": "stdout",
     "output_type": "stream",
     "text": [
      "HTTP\n",
      "HYPERPARAMETERS                     F1 Score             Time     No      \n",
      "default                             1.0                  4.27     24      \n"
     ]
    },
    {
     "name": "stderr",
     "output_type": "stream",
     "text": [
      "100%|██████████████████████████████████████████████████████████████████████████████████| 50/50 [00:52<00:00,  1.05s/it]\n"
     ]
    },
    {
     "name": "stdout",
     "output_type": "stream",
     "text": [
      "ACK\n",
      "HYPERPARAMETERS                     F1 Score             Time     No      \n",
      "default                             1.0                  0.771    24      \n"
     ]
    },
    {
     "name": "stderr",
     "output_type": "stream",
     "text": [
      "100%|██████████████████████████████████████████████████████████████████████████████████| 50/50 [00:23<00:00,  2.11it/s]\n"
     ]
    },
    {
     "name": "stdout",
     "output_type": "stream",
     "text": [
      "UDP\n",
      "HYPERPARAMETERS                     F1 Score             Time     No      \n",
      "default                             1.0                  1.085    24      \n"
     ]
    },
    {
     "name": "stderr",
     "output_type": "stream",
     "text": [
      "100%|██████████████████████████████████████████████████████████████████████████████████| 50/50 [00:44<00:00,  1.13it/s]\n"
     ]
    },
    {
     "name": "stdout",
     "output_type": "stream",
     "text": [
      "ARP\n",
      "HYPERPARAMETERS                     F1 Score             Time     No      \n",
      "default                             1.0                  14.337   24      \n"
     ]
    },
    {
     "name": "stderr",
     "output_type": "stream",
     "text": [
      "100%|██████████████████████████████████████████████████████████████████████████████████| 50/50 [06:24<00:00,  7.69s/it]\n"
     ]
    },
    {
     "name": "stdout",
     "output_type": "stream",
     "text": [
      "SP\n",
      "HYPERPARAMETERS                     F1 Score             Time     No      \n",
      "default                             1.0                  0.541    24      \n"
     ]
    },
    {
     "name": "stderr",
     "output_type": "stream",
     "text": [
      "100%|██████████████████████████████████████████████████████████████████████████████████| 50/50 [00:16<00:00,  3.12it/s]\n"
     ]
    },
    {
     "name": "stdout",
     "output_type": "stream",
     "text": [
      "BF\n",
      "HYPERPARAMETERS                     F1 Score             Time     No      \n",
      "default                             1.0                  1.195    24      \n"
     ]
    },
    {
     "name": "stderr",
     "output_type": "stream",
     "text": [
      "100%|██████████████████████████████████████████████████████████████████████████████████| 50/50 [00:39<00:00,  1.26it/s]\n"
     ]
    },
    {
     "name": "stdout",
     "output_type": "stream",
     "text": [
      "OS\n",
      "HYPERPARAMETERS                     F1 Score             Time     No      \n",
      "default                             1.0                  1.56     24      \n"
     ]
    },
    {
     "name": "stderr",
     "output_type": "stream",
     "text": [
      "100%|██████████████████████████████████████████████████████████████████████████████████| 50/50 [00:50<00:00,  1.01s/it]\n"
     ]
    },
    {
     "name": "stdout",
     "output_type": "stream",
     "text": [
      "SCHD\n",
      "HYPERPARAMETERS                     F1 Score             Time     No      \n",
      "default                             1.0                  1.125    24      \n"
     ]
    },
    {
     "name": "stderr",
     "output_type": "stream",
     "text": [
      "100%|██████████████████████████████████████████████████████████████████████████████████| 50/50 [00:35<00:00,  1.42it/s]\n"
     ]
    },
    {
     "name": "stdout",
     "output_type": "stream",
     "text": [
      "MHDis\n",
      "HYPERPARAMETERS                     F1 Score             Time     No      \n",
      "default                             1.0                  0.847    24      \n"
     ]
    },
    {
     "name": "stderr",
     "output_type": "stream",
     "text": [
      "100%|██████████████████████████████████████████████████████████████████████████████████| 50/50 [00:25<00:00,  1.94it/s]"
     ]
    },
    {
     "name": "stdout",
     "output_type": "stream",
     "text": [
      "    criterion      max_depth    max_features    min_samples_split        F1    Std    Time    No  Attack\n",
      "--  -----------  -----------  --------------  -------------------  --------  -----  ------  ----  --------\n",
      " 0  gini                   6              10                    2  0.999849      0   1.953    49  SYN\n",
      " 1  gini                   6              10                    3  1             0   1.487     0  HTTP\n",
      " 2  entropy                3               4                    4  1             0   0.55     27  ACK\n",
      " 3  gini                   5              20                    6  1             0   0.88     17  UDP\n",
      " 4  gini                  17              51                    2  1             0   8.867    35  ARP\n",
      " 5  entropy                6               6                    2  1             0   0.375    16  SP\n",
      " 6  entropy                6              21                    3  1             0   0.933    37  BF\n",
      " 7  entropy                1              53                    4  1             0   1.307    38  OS\n",
      " 8  entropy                4              26                    9  1             0   0.869     5  SCHD\n",
      " 9  gini                   7              12                    9  1             0   0.481     0  MHDis\n"
     ]
    },
    {
     "name": "stderr",
     "output_type": "stream",
     "text": [
      "\n"
     ]
    }
   ],
   "source": [
    "lines=[['criterion', 'max_depth', 'max_features', 'min_samples_split', \"F1\",\"Std\",\"Time\",\"No\",\"Attack\"]]\n",
    "\n",
    "for j in file_list:\n",
    "    print(j)\n",
    "    df=pd.read_csv(file_list[j][0],usecols=feature_list[j]) \n",
    "    X_train = df.iloc[:,0:-1]\n",
    "    df['Label'] = df['Label'].astype('category')\n",
    "    y_train=df['Label'].cat.codes  \n",
    "\n",
    "\n",
    "    df=pd.read_csv(file_list[j][1],usecols=feature_list[j]) \n",
    "    X_test = df.iloc[:,0:-1]\n",
    "    df['Label'] = df['Label'].astype('category')\n",
    "    y_test=df['Label'].cat.codes  \n",
    "    \n",
    "    \n",
    "    \n",
    "    X= np.concatenate([X_train, X_test])\n",
    "    test_fold = [-1 for _ in range(X_train.shape[0])] + [0 for _ in range(X_test.shape[0])]\n",
    "    y = np.concatenate([y_train, y_test])\n",
    "    ps = PredefinedSplit(test_fold)\n",
    "    \n",
    "    \n",
    "    print ('%-35s %-20s %-8s %-8s' % (\"HYPERPARAMETERS\",\"F1 Score\", \"Time\", \"No\"))\n",
    "\n",
    "    nfolds=10\n",
    "    param_grid = { 'criterion':['gini','entropy'],\n",
    "                      \"max_depth\":np.linspace(1, 32, 32, endpoint=True).astype(int),\n",
    "                     \"min_samples_split\": sp_randint(2,10),#uniform(0.1,1 ),\n",
    "                        # \"min_samples_leafs\" : np.linspace(0.1, 0.5, 5, endpoint=True)\n",
    "                        \"max_features\" : sp_randint(1,X_train.shape[1])}\n",
    "\n",
    "    second=time()\n",
    "    f1=[]\n",
    "    clf=DecisionTreeClassifier()\n",
    "    for ii in range(25):\n",
    "        clf.fit(X_train, y_train)\n",
    "        predict =clf.predict(X_test)\n",
    "        f1.append(sklearn.metrics.f1_score(y_test, predict,average= \"macro\") )\n",
    "    f1=sum(f1)/len(f1)   \n",
    "    #if f1>0.76:\n",
    "    print('%-35s %-20s %-8s %-8s' % (\"default\",f1,round(time()-second,3),ii))\n",
    "    ######################################################################################################################\n",
    "    for i in tqdm(range(50)):\n",
    "        second=time()\n",
    "        a,b,clf=run_random_search(DecisionTreeClassifier(),param_grid,X,y)\n",
    "        f1=[]\n",
    "        for ii in range(10):\n",
    "            clf.fit(X_train, y_train)\n",
    "            predict =clf.predict(X_test)\n",
    "            f1.append(sklearn.metrics.f1_score(y_test, predict,average= \"macro\") )\n",
    "        f1_result=sum(f1)/len(f1)   \n",
    "        f1=np.array(f1)\n",
    "        stndtd=f1.std()\n",
    "        temp=list(a.values())\n",
    "        #print('%-90s %-20s %-8s %-8s' % (a,f1_result,round(time()-second,3),i))\n",
    "        temp=temp+[f1_result,stndtd,round(time()-second,3),i,j]\n",
    "        lines.append(temp)\n",
    "\n",
    "        #if f1>0.76:\n",
    "results = pd.DataFrame (lines[1:], columns = lines[0])\n",
    "results.to_csv(\"DT_HPO.csv\",index=False)\n",
    "\n",
    "final_parametres=[['criterion', 'max_depth', 'max_features', 'min_samples_split', \"F1\",\"Std\",\"Time\",\"No\",\"Attack\"]]\n",
    "for i in results[\"Attack\"].unique():\n",
    "    df=results[results[\"Attack\"]==i]\n",
    "    m=df[\"F1\"].max()\n",
    "    df=df[df[\"F1\"]==m]\n",
    "    m=df[\"max_depth\"].min()\n",
    "    df=df[df[\"max_depth\"]==m]  \n",
    "    final_parametres.append(list(df.values)[0])\n",
    "results = pd.DataFrame (final_parametres[1:], columns=  final_parametres[0])\n",
    "print (tabulate(results, headers=list(results.columns)))\n",
    "    \n",
    "    "
   ]
  },
  {
   "cell_type": "markdown",
   "metadata": {},
   "source": [
    "# RandomizedSearchCV RF"
   ]
  },
  {
   "cell_type": "code",
   "execution_count": 27,
   "metadata": {},
   "outputs": [
    {
     "name": "stdout",
     "output_type": "stream",
     "text": [
      "SYN\n",
      "HYPERPARAMETERS                     F1 Score             Time     No      \n",
      "default                             0.9998489480892209   0.987    0       \n"
     ]
    },
    {
     "name": "stderr",
     "output_type": "stream",
     "text": [
      "100%|██████████████████████████████████████████████████████████████████████████████████| 10/10 [03:31<00:00, 21.14s/it]\n"
     ]
    },
    {
     "name": "stdout",
     "output_type": "stream",
     "text": [
      "HTTP\n",
      "HYPERPARAMETERS                     F1 Score             Time     No      \n",
      "default                             1.0                  1.571    0       \n"
     ]
    },
    {
     "name": "stderr",
     "output_type": "stream",
     "text": [
      "100%|██████████████████████████████████████████████████████████████████████████████████| 10/10 [07:20<00:00, 44.07s/it]\n"
     ]
    },
    {
     "name": "stdout",
     "output_type": "stream",
     "text": [
      "ACK\n",
      "HYPERPARAMETERS                     F1 Score             Time     No      \n",
      "default                             1.0                  0.861    0       \n"
     ]
    },
    {
     "name": "stderr",
     "output_type": "stream",
     "text": [
      "100%|██████████████████████████████████████████████████████████████████████████████████| 10/10 [04:36<00:00, 27.64s/it]\n"
     ]
    },
    {
     "name": "stdout",
     "output_type": "stream",
     "text": [
      "UDP\n",
      "HYPERPARAMETERS                     F1 Score             Time     No      \n",
      "default                             1.0                  1.211    0       \n"
     ]
    },
    {
     "name": "stderr",
     "output_type": "stream",
     "text": [
      "100%|██████████████████████████████████████████████████████████████████████████████████| 10/10 [04:19<00:00, 25.98s/it]\n"
     ]
    },
    {
     "name": "stdout",
     "output_type": "stream",
     "text": [
      "ARP\n",
      "HYPERPARAMETERS                     F1 Score             Time     No      \n",
      "default                             1.0                  4.845    0       \n"
     ]
    },
    {
     "name": "stderr",
     "output_type": "stream",
     "text": [
      "100%|█████████████████████████████████████████████████████████████████████████████████| 10/10 [21:12<00:00, 127.28s/it]\n"
     ]
    },
    {
     "name": "stdout",
     "output_type": "stream",
     "text": [
      "SP\n",
      "HYPERPARAMETERS                     F1 Score             Time     No      \n",
      "default                             1.0                  0.644    0       \n"
     ]
    },
    {
     "name": "stderr",
     "output_type": "stream",
     "text": [
      "100%|██████████████████████████████████████████████████████████████████████████████████| 10/10 [02:38<00:00, 15.86s/it]\n"
     ]
    },
    {
     "name": "stdout",
     "output_type": "stream",
     "text": [
      "BF\n",
      "HYPERPARAMETERS                     F1 Score             Time     No      \n",
      "default                             1.0                  0.925    0       \n"
     ]
    },
    {
     "name": "stderr",
     "output_type": "stream",
     "text": [
      "100%|██████████████████████████████████████████████████████████████████████████████████| 10/10 [03:07<00:00, 18.71s/it]\n"
     ]
    },
    {
     "name": "stdout",
     "output_type": "stream",
     "text": [
      "OS\n",
      "HYPERPARAMETERS                     F1 Score             Time     No      \n",
      "default                             1.0                  0.94     0       \n"
     ]
    },
    {
     "name": "stderr",
     "output_type": "stream",
     "text": [
      "100%|██████████████████████████████████████████████████████████████████████████████████| 10/10 [02:51<00:00, 17.19s/it]\n"
     ]
    },
    {
     "name": "stdout",
     "output_type": "stream",
     "text": [
      "SCHD\n",
      "HYPERPARAMETERS                     F1 Score             Time     No      \n",
      "default                             1.0                  0.855    0       \n"
     ]
    },
    {
     "name": "stderr",
     "output_type": "stream",
     "text": [
      "100%|██████████████████████████████████████████████████████████████████████████████████| 10/10 [03:07<00:00, 18.70s/it]\n"
     ]
    },
    {
     "name": "stdout",
     "output_type": "stream",
     "text": [
      "MHDis\n",
      "HYPERPARAMETERS                     F1 Score             Time     No      \n",
      "default                             1.0                  0.768    0       \n"
     ]
    },
    {
     "name": "stderr",
     "output_type": "stream",
     "text": [
      "100%|██████████████████████████████████████████████████████████████████████████████████| 10/10 [02:28<00:00, 14.83s/it]"
     ]
    },
    {
     "name": "stdout",
     "output_type": "stream",
     "text": [
      "    bootst    criter      max_depth    max_features    min_samp_split    n_estimators        F1    Std     Time    No  Attack\n",
      "--  --------  --------  -----------  --------------  ----------------  --------------  --------  -----  -------  ----  --------\n",
      " 0  False     gini                7               8                 2              98  0.999849      0   24.569     2  SYN\n",
      " 1  True      gini                7               9                 2              73  1             0   39.185     1  HTTP\n",
      " 2  True      entropy             8               7                 8              55  1             0   21.485     4  ACK\n",
      " 3  False     entropy            14               3                 3              35  1             0   14.393     7  UDP\n",
      " 4  False     gini               17               9                 2             140  1             0  140.288     5  ARP\n",
      " 5  False     gini                8               7                 2               1  1             0    9.688     6  SP\n",
      " 6  False     gini                5               9                 9             138  1             0   32.554     8  BF\n",
      " 7  False     entropy             5               2                 6               3  1             0    8.532     3  OS\n",
      " 8  False     gini               13               9                 7              73  1             0   12.591     9  SCHD\n",
      " 9  True      gini               11               3                 5              75  1             0    9.769     4  MHDis\n"
     ]
    },
    {
     "name": "stderr",
     "output_type": "stream",
     "text": [
      "\n"
     ]
    }
   ],
   "source": [
    "lines=[['bootst', 'criter', 'max_depth', 'max_features',\"min_samp_split\",\"n_estimators\", \"F1\",\"Std\",\"Time\",\"No\",\"Attack\"]]\n",
    "\n",
    "\n",
    "\n",
    "for j in file_list:\n",
    "    print(j)\n",
    "    \n",
    "    \n",
    "    df=pd.read_csv(file_list[j][0],usecols=feature_list[j]) \n",
    "    X_train = df.iloc[:,0:-1]\n",
    "    df['Label'] = df['Label'].astype('category')\n",
    "    y_train=df['Label'].cat.codes  \n",
    "\n",
    "\n",
    "    df=pd.read_csv(file_list[j][1],usecols=feature_list[j]) \n",
    "    X_test = df.iloc[:,0:-1]\n",
    "    df['Label'] = df['Label'].astype('category')\n",
    "    y_test=df['Label'].cat.codes  \n",
    "    \n",
    "    \n",
    "    \n",
    "    X= np.concatenate([X_train, X_test])\n",
    "    test_fold = [-1 for _ in range(X_train.shape[0])] + [0 for _ in range(X_test.shape[0])]\n",
    "    y = np.concatenate([y_train, y_test])\n",
    "    ps = PredefinedSplit(test_fold)\n",
    "    \n",
    "    \n",
    "    \n",
    "    \n",
    "    \n",
    "    print ('%-35s %-20s %-8s %-8s' % (\"HYPERPARAMETERS\",\"F1 Score\", \"Time\", \"No\"))\n",
    "\n",
    "\n",
    "\n",
    "    # use a full grid over all parameters\n",
    "    param_grid = {\"max_depth\":np.linspace(1, 32, 32, endpoint=True).astype(int),\n",
    "                  \"n_estimators\" : sp_randint(1, 200),\n",
    "                  \"max_features\": sp_randint(1, 11),\n",
    "                  \"min_samples_split\":sp_randint(2, 11),\n",
    "                  \"bootstrap\": [True, False],\n",
    "                  \"criterion\": [\"gini\", \"entropy\"]}\n",
    "    second=time()\n",
    "    f1=[]\n",
    "    clf=RandomForestClassifier()\n",
    "    for ii in range(1):\n",
    "        clf.fit(X_train, y_train)\n",
    "        predict =clf.predict(X_test)\n",
    "        f1.append(sklearn.metrics.f1_score(y_test, predict,average= \"macro\") )\n",
    "    f1=sum(f1)/len(f1)   \n",
    "    #if f1>0.76:\n",
    "    print('%-35s %-20s %-8s %-8s' % (\"default\",f1,round(time()-second,3),ii))\n",
    "\n",
    "\n",
    "    \n",
    "    ######################################################################################################################\n",
    "    for i in tqdm(range(10)):\n",
    "        second=time()\n",
    "        a,b,clf=run_random_search(RandomForestClassifier(),param_grid,X,y)\n",
    "        f1=[]\n",
    "        for ii in range(5):\n",
    "            clf.fit(X_train, y_train)\n",
    "            predict =clf.predict(X_test)\n",
    "            f1.append(sklearn.metrics.f1_score(y_test, predict,average= \"macro\") )\n",
    "        f1_result=sum(f1)/len(f1)   \n",
    "        f1=np.array(f1)\n",
    "        stndtd=f1.std()\n",
    "        temp=list(a.values())\n",
    "        #print('%-90s %-20s %-8s %-8s' % (a,f1_result,round(time()-second,3),i))\n",
    "        temp=temp+[f1_result,stndtd,round(time()-second,3),i,j]\n",
    "        lines.append(temp)\n",
    "\n",
    "        #if f1>0.76:\n",
    "results = pd.DataFrame (lines[1:], columns = lines[0])\n",
    "results.to_csv(\"RF_HPO.csv\",index=False)\n",
    "\n",
    "final_parametres=[['bootst', 'criter', 'max_depth', 'max_features',\"min_samp_split\",\"n_estimators\", \"F1\",\"Std\",\"Time\",\"No\",\"Attack\"]]\n",
    "\n",
    "for i in results[\"Attack\"].unique():\n",
    "    df=results[results[\"Attack\"]==i]\n",
    "    m=df[\"F1\"].max()\n",
    "    df=df[df[\"F1\"]==m]\n",
    "    m=df[\"max_depth\"].min()\n",
    "    df=df[df[\"max_depth\"]==m]  \n",
    "    final_parametres.append(list(df.values)[0])\n",
    "results = pd.DataFrame (final_parametres[1:], columns=  final_parametres[0])\n",
    "print (tabulate(results, headers=list(results.columns)))\n",
    "    \n",
    "    \n",
    "    \n",
    "    \n",
    "    \n",
    "    \n",
    "    \n",
    "    \n",
    "    \n",
    "    \n",
    "    \n",
    "    \n",
    "    \n",
    "    \n",
    "    "
   ]
  },
  {
   "cell_type": "markdown",
   "metadata": {},
   "source": [
    "# XGBClassifier"
   ]
  },
  {
   "cell_type": "code",
   "execution_count": 8,
   "metadata": {},
   "outputs": [
    {
     "name": "stdout",
     "output_type": "stream",
     "text": [
      "SYN\n",
      "default                             0.9996979037876128   1.158    0       \n"
     ]
    },
    {
     "name": "stderr",
     "output_type": "stream",
     "text": [
      " 20%|████████████████▌                                                                  | 1/5 [02:32<10:10, 152.57s/it]"
     ]
    },
    {
     "name": "stdout",
     "output_type": "stream",
     "text": [
      "{'n_estimators': 1500, 'min_child_weight': 1, 'max_depth': 15, 'learning_rate': 0.2}       0.9996979037876128   152.574  0       \n"
     ]
    },
    {
     "name": "stderr",
     "output_type": "stream",
     "text": [
      " 40%|█████████████████████████████████▏                                                 | 2/5 [03:56<05:36, 112.03s/it]"
     ]
    },
    {
     "name": "stdout",
     "output_type": "stream",
     "text": [
      "{'n_estimators': 500, 'min_child_weight': 1, 'max_depth': 5, 'learning_rate': 0.15}        0.9996979037876128   83.638   1       \n"
     ]
    },
    {
     "name": "stderr",
     "output_type": "stream",
     "text": [
      " 60%|█████████████████████████████████████████████████▊                                 | 3/5 [06:00<03:54, 117.45s/it]"
     ]
    },
    {
     "name": "stdout",
     "output_type": "stream",
     "text": [
      "{'n_estimators': 1100, 'min_child_weight': 3, 'max_depth': 10, 'learning_rate': 0.2}       0.9996979037876128   123.905  2       \n"
     ]
    },
    {
     "name": "stderr",
     "output_type": "stream",
     "text": [
      " 80%|██████████████████████████████████████████████████████████████████▍                | 4/5 [08:22<02:07, 127.45s/it]"
     ]
    },
    {
     "name": "stdout",
     "output_type": "stream",
     "text": [
      "{'n_estimators': 1500, 'min_child_weight': 4, 'max_depth': 2, 'learning_rate': 0.2}        0.9996979037876128   142.78   3       \n"
     ]
    },
    {
     "name": "stderr",
     "output_type": "stream",
     "text": [
      "100%|███████████████████████████████████████████████████████████████████████████████████| 5/5 [10:35<00:00, 127.04s/it]"
     ]
    },
    {
     "name": "stdout",
     "output_type": "stream",
     "text": [
      "{'n_estimators': 1100, 'min_child_weight': 4, 'max_depth': 10, 'learning_rate': 0.2}       0.9996979037876128   132.291  4       \n",
      "HTTP\n"
     ]
    },
    {
     "name": "stderr",
     "output_type": "stream",
     "text": [
      "\n"
     ]
    },
    {
     "name": "stdout",
     "output_type": "stream",
     "text": [
      "default                             1.0                  0.863    0       \n"
     ]
    },
    {
     "name": "stderr",
     "output_type": "stream",
     "text": [
      " 20%|████████████████▊                                                                   | 1/5 [00:56<03:46, 56.53s/it]"
     ]
    },
    {
     "name": "stdout",
     "output_type": "stream",
     "text": [
      "{'n_estimators': 900, 'min_child_weight': 3, 'max_depth': 2, 'learning_rate': 0.15}        1.0                  56.532   0       \n"
     ]
    },
    {
     "name": "stderr",
     "output_type": "stream",
     "text": [
      " 40%|█████████████████████████████████▏                                                 | 2/5 [03:54<06:23, 127.77s/it]"
     ]
    },
    {
     "name": "stdout",
     "output_type": "stream",
     "text": [
      "{'n_estimators': 1500, 'min_child_weight': 3, 'max_depth': 2, 'learning_rate': 0.1}        1.0                  177.625  1       \n"
     ]
    },
    {
     "name": "stderr",
     "output_type": "stream",
     "text": [
      " 60%|█████████████████████████████████████████████████▊                                 | 3/5 [05:51<04:05, 122.93s/it]"
     ]
    },
    {
     "name": "stdout",
     "output_type": "stream",
     "text": [
      "{'n_estimators': 500, 'min_child_weight': 4, 'max_depth': 10, 'learning_rate': 0.1}        1.0                  117.145  2       \n"
     ]
    },
    {
     "name": "stderr",
     "output_type": "stream",
     "text": [
      " 80%|██████████████████████████████████████████████████████████████████▍                | 4/5 [07:15<01:47, 107.43s/it]"
     ]
    },
    {
     "name": "stdout",
     "output_type": "stream",
     "text": [
      "{'n_estimators': 100, 'min_child_weight': 1, 'max_depth': 2, 'learning_rate': 0.2}         1.0                  83.664   3       \n"
     ]
    },
    {
     "name": "stderr",
     "output_type": "stream",
     "text": [
      "100%|███████████████████████████████████████████████████████████████████████████████████| 5/5 [09:39<00:00, 115.93s/it]"
     ]
    },
    {
     "name": "stdout",
     "output_type": "stream",
     "text": [
      "{'n_estimators': 500, 'min_child_weight': 1, 'max_depth': 5, 'learning_rate': 0.1}         1.0                  144.67   4       \n",
      "ACK\n"
     ]
    },
    {
     "name": "stderr",
     "output_type": "stream",
     "text": [
      "\n"
     ]
    },
    {
     "name": "stdout",
     "output_type": "stream",
     "text": [
      "default                             1.0                  0.393    0       \n"
     ]
    },
    {
     "name": "stderr",
     "output_type": "stream",
     "text": [
      " 20%|████████████████▊                                                                   | 1/5 [01:05<04:23, 65.78s/it]"
     ]
    },
    {
     "name": "stdout",
     "output_type": "stream",
     "text": [
      "{'n_estimators': 100, 'min_child_weight': 1, 'max_depth': 10, 'learning_rate': 0.1}        1.0                  65.769   0       \n"
     ]
    },
    {
     "name": "stderr",
     "output_type": "stream",
     "text": [
      " 40%|█████████████████████████████████▌                                                  | 2/5 [02:33<03:56, 78.93s/it]"
     ]
    },
    {
     "name": "stdout",
     "output_type": "stream",
     "text": [
      "{'n_estimators': 500, 'min_child_weight': 1, 'max_depth': 5, 'learning_rate': 0.05}        1.0                  88.138   1       \n"
     ]
    },
    {
     "name": "stderr",
     "output_type": "stream",
     "text": [
      " 60%|██████████████████████████████████████████████████▍                                 | 3/5 [03:31<02:18, 69.34s/it]"
     ]
    },
    {
     "name": "stdout",
     "output_type": "stream",
     "text": [
      "{'n_estimators': 100, 'min_child_weight': 1, 'max_depth': 15, 'learning_rate': 0.1}        1.0                  57.903   2       \n"
     ]
    },
    {
     "name": "stderr",
     "output_type": "stream",
     "text": [
      " 80%|███████████████████████████████████████████████████████████████████▏                | 4/5 [05:26<01:27, 87.10s/it]"
     ]
    },
    {
     "name": "stdout",
     "output_type": "stream",
     "text": [
      "{'n_estimators': 1100, 'min_child_weight': 1, 'max_depth': 15, 'learning_rate': 0.1}       1.0                  114.319  3       \n"
     ]
    },
    {
     "name": "stderr",
     "output_type": "stream",
     "text": [
      "100%|███████████████████████████████████████████████████████████████████████████████████| 5/5 [08:54<00:00, 106.89s/it]"
     ]
    },
    {
     "name": "stdout",
     "output_type": "stream",
     "text": [
      "{'n_estimators': 1100, 'min_child_weight': 1, 'max_depth': 2, 'learning_rate': 0.15}       1.0                  208.268  4       \n",
      "UDP\n"
     ]
    },
    {
     "name": "stderr",
     "output_type": "stream",
     "text": [
      "\n"
     ]
    },
    {
     "name": "stdout",
     "output_type": "stream",
     "text": [
      "default                             1.0                  4.555    0       \n"
     ]
    },
    {
     "name": "stderr",
     "output_type": "stream",
     "text": [
      " 20%|████████████████▌                                                                  | 1/5 [05:17<21:11, 317.94s/it]"
     ]
    },
    {
     "name": "stdout",
     "output_type": "stream",
     "text": [
      "{'n_estimators': 900, 'min_child_weight': 1, 'max_depth': 10, 'learning_rate': 0.1}        1.0                  317.943  0       \n"
     ]
    },
    {
     "name": "stderr",
     "output_type": "stream",
     "text": [
      " 40%|█████████████████████████████████▏                                                 | 2/5 [09:43<14:21, 287.17s/it]"
     ]
    },
    {
     "name": "stdout",
     "output_type": "stream",
     "text": [
      "{'n_estimators': 900, 'min_child_weight': 2, 'max_depth': 2, 'learning_rate': 0.15}        1.0                  265.623  1       \n"
     ]
    },
    {
     "name": "stderr",
     "output_type": "stream",
     "text": [
      " 60%|█████████████████████████████████████████████████▊                                 | 3/5 [12:20<07:35, 227.73s/it]"
     ]
    },
    {
     "name": "stdout",
     "output_type": "stream",
     "text": [
      "{'n_estimators': 500, 'min_child_weight': 1, 'max_depth': 5, 'learning_rate': 0.1}         1.0                  157.004  2       \n"
     ]
    },
    {
     "name": "stderr",
     "output_type": "stream",
     "text": [
      " 80%|██████████████████████████████████████████████████████████████████▍                | 4/5 [14:29<03:08, 188.77s/it]"
     ]
    },
    {
     "name": "stdout",
     "output_type": "stream",
     "text": [
      "{'n_estimators': 100, 'min_child_weight': 2, 'max_depth': 2, 'learning_rate': 0.1}         1.0                  129.046  3       \n"
     ]
    },
    {
     "name": "stderr",
     "output_type": "stream",
     "text": [
      "100%|███████████████████████████████████████████████████████████████████████████████████| 5/5 [17:05<00:00, 205.18s/it]"
     ]
    },
    {
     "name": "stdout",
     "output_type": "stream",
     "text": [
      "{'n_estimators': 100, 'min_child_weight': 3, 'max_depth': 5, 'learning_rate': 0.05}        1.0                  156.282  4       \n",
      "ARP\n"
     ]
    },
    {
     "name": "stderr",
     "output_type": "stream",
     "text": [
      "\n"
     ]
    },
    {
     "name": "stdout",
     "output_type": "stream",
     "text": [
      "default                             1.0                  8.636    0       \n"
     ]
    },
    {
     "name": "stderr",
     "output_type": "stream",
     "text": [
      " 20%|████████████████▌                                                                  | 1/5 [09:45<39:02, 585.65s/it]"
     ]
    },
    {
     "name": "stdout",
     "output_type": "stream",
     "text": [
      "{'n_estimators': 900, 'min_child_weight': 2, 'max_depth': 5, 'learning_rate': 0.2}         1.0                  585.652  0       \n"
     ]
    },
    {
     "name": "stderr",
     "output_type": "stream",
     "text": [
      " 40%|█████████████████████████████████▏                                                 | 2/5 [25:19<39:31, 790.58s/it]"
     ]
    },
    {
     "name": "stdout",
     "output_type": "stream",
     "text": [
      "{'n_estimators': 1500, 'min_child_weight': 3, 'max_depth': 5, 'learning_rate': 0.05}       1.0                  934.031  1       \n"
     ]
    },
    {
     "name": "stderr",
     "output_type": "stream",
     "text": [
      " 60%|█████████████████████████████████████████████████▊                                 | 3/5 [38:02<25:55, 777.97s/it]"
     ]
    },
    {
     "name": "stdout",
     "output_type": "stream",
     "text": [
      "{'n_estimators': 1100, 'min_child_weight': 3, 'max_depth': 2, 'learning_rate': 0.2}        1.0                  762.956  2       \n"
     ]
    },
    {
     "name": "stderr",
     "output_type": "stream",
     "text": [
      " 80%|██████████████████████████████████████████████████████████████████▍                | 4/5 [44:41<10:28, 628.32s/it]"
     ]
    },
    {
     "name": "stdout",
     "output_type": "stream",
     "text": [
      "{'n_estimators': 1100, 'min_child_weight': 3, 'max_depth': 3, 'learning_rate': 0.1}        1.0                  398.915  3       \n"
     ]
    },
    {
     "name": "stderr",
     "output_type": "stream",
     "text": [
      "100%|███████████████████████████████████████████████████████████████████████████████████| 5/5 [48:11<00:00, 578.35s/it]"
     ]
    },
    {
     "name": "stdout",
     "output_type": "stream",
     "text": [
      "{'n_estimators': 900, 'min_child_weight': 2, 'max_depth': 5, 'learning_rate': 0.15}        1.0                  210.191  4       \n",
      "SP\n"
     ]
    },
    {
     "name": "stderr",
     "output_type": "stream",
     "text": [
      "\n"
     ]
    },
    {
     "name": "stdout",
     "output_type": "stream",
     "text": [
      "default                             0.9995471041131181   0.262    0       \n"
     ]
    },
    {
     "name": "stderr",
     "output_type": "stream",
     "text": [
      " 20%|████████████████████████                                                                                                | 1/5 [00:21<01:25, 21.28s/it]"
     ]
    },
    {
     "name": "stdout",
     "output_type": "stream",
     "text": [
      "{'n_estimators': 1100, 'min_child_weight': 1, 'max_depth': 3, 'learning_rate': 0.2}        0.9997736319386206   21.274   0       \n"
     ]
    },
    {
     "name": "stderr",
     "output_type": "stream",
     "text": [
      " 40%|████████████████████████████████████████████████                                                                        | 2/5 [00:32<00:45, 15.10s/it]"
     ]
    },
    {
     "name": "stdout",
     "output_type": "stream",
     "text": [
      "{'n_estimators': 100, 'min_child_weight': 4, 'max_depth': 10, 'learning_rate': 0.15}       0.9997736319386206   10.781   1       \n"
     ]
    },
    {
     "name": "stderr",
     "output_type": "stream",
     "text": [
      " 60%|████████████████████████████████████████████████████████████████████████                                                | 3/5 [00:51<00:34, 17.20s/it]"
     ]
    },
    {
     "name": "stdout",
     "output_type": "stream",
     "text": [
      "{'n_estimators': 900, 'min_child_weight': 4, 'max_depth': 15, 'learning_rate': 0.05}       0.9997736319386206   19.7     2       \n"
     ]
    },
    {
     "name": "stderr",
     "output_type": "stream",
     "text": [
      " 80%|████████████████████████████████████████████████████████████████████████████████████████████████                        | 4/5 [01:19<00:21, 21.23s/it]"
     ]
    },
    {
     "name": "stdout",
     "output_type": "stream",
     "text": [
      "{'n_estimators': 1500, 'min_child_weight': 3, 'max_depth': 15, 'learning_rate': 0.15}      0.9997736319386206   27.39    3       \n"
     ]
    },
    {
     "name": "stderr",
     "output_type": "stream",
     "text": [
      "100%|████████████████████████████████████████████████████████████████████████████████████████████████████████████████████████| 5/5 [01:30<00:00, 18.13s/it]"
     ]
    },
    {
     "name": "stdout",
     "output_type": "stream",
     "text": [
      "{'n_estimators': 100, 'min_child_weight': 1, 'max_depth': 3, 'learning_rate': 0.1}         0.9997736319386206   11.52    4       \n",
      "BF\n"
     ]
    },
    {
     "name": "stderr",
     "output_type": "stream",
     "text": [
      "\n"
     ]
    },
    {
     "name": "stdout",
     "output_type": "stream",
     "text": [
      "default                             1.0                  0.288    0       \n"
     ]
    },
    {
     "name": "stderr",
     "output_type": "stream",
     "text": [
      " 20%|████████████████████████                                                                                                | 1/5 [00:34<02:17, 34.37s/it]"
     ]
    },
    {
     "name": "stdout",
     "output_type": "stream",
     "text": [
      "{'n_estimators': 1500, 'min_child_weight': 4, 'max_depth': 15, 'learning_rate': 0.2}       1.0                  34.366   0       \n"
     ]
    },
    {
     "name": "stderr",
     "output_type": "stream",
     "text": [
      " 40%|████████████████████████████████████████████████                                                                        | 2/5 [01:04<01:36, 32.12s/it]"
     ]
    },
    {
     "name": "stdout",
     "output_type": "stream",
     "text": [
      "{'n_estimators': 900, 'min_child_weight': 2, 'max_depth': 3, 'learning_rate': 0.05}        1.0                  30.543   1       \n"
     ]
    },
    {
     "name": "stderr",
     "output_type": "stream",
     "text": [
      " 60%|████████████████████████████████████████████████████████████████████████                                                | 3/5 [01:34<01:01, 30.79s/it]"
     ]
    },
    {
     "name": "stdout",
     "output_type": "stream",
     "text": [
      "{'n_estimators': 1100, 'min_child_weight': 4, 'max_depth': 2, 'learning_rate': 0.05}       1.0                  29.196   2       \n"
     ]
    },
    {
     "name": "stderr",
     "output_type": "stream",
     "text": [
      " 80%|████████████████████████████████████████████████████████████████████████████████████████████████                        | 4/5 [02:04<00:30, 30.82s/it]"
     ]
    },
    {
     "name": "stdout",
     "output_type": "stream",
     "text": [
      "{'n_estimators': 1100, 'min_child_weight': 3, 'max_depth': 10, 'learning_rate': 0.05}      1.0                  30.874   3       \n"
     ]
    },
    {
     "name": "stderr",
     "output_type": "stream",
     "text": [
      "100%|████████████████████████████████████████████████████████████████████████████████████████████████████████████████████████| 5/5 [02:28<00:00, 29.74s/it]"
     ]
    },
    {
     "name": "stdout",
     "output_type": "stream",
     "text": [
      "{'n_estimators': 500, 'min_child_weight': 2, 'max_depth': 5, 'learning_rate': 0.05}        1.0                  23.719   4       \n",
      "OS\n"
     ]
    },
    {
     "name": "stderr",
     "output_type": "stream",
     "text": [
      "\n"
     ]
    },
    {
     "name": "stdout",
     "output_type": "stream",
     "text": [
      "default                             1.0                  0.435    0       \n"
     ]
    },
    {
     "name": "stderr",
     "output_type": "stream",
     "text": [
      " 20%|████████████████████████                                                                                                | 1/5 [00:43<02:52, 43.14s/it]"
     ]
    },
    {
     "name": "stdout",
     "output_type": "stream",
     "text": [
      "{'n_estimators': 1100, 'min_child_weight': 1, 'max_depth': 15, 'learning_rate': 0.2}       1.0                  43.137   0       \n"
     ]
    },
    {
     "name": "stderr",
     "output_type": "stream",
     "text": [
      " 40%|████████████████████████████████████████████████                                                                        | 2/5 [01:10<01:42, 34.00s/it]"
     ]
    },
    {
     "name": "stdout",
     "output_type": "stream",
     "text": [
      "{'n_estimators': 100, 'min_child_weight': 4, 'max_depth': 3, 'learning_rate': 0.2}         1.0                  27.601   1       \n"
     ]
    },
    {
     "name": "stderr",
     "output_type": "stream",
     "text": [
      " 60%|████████████████████████████████████████████████████████████████████████                                                | 3/5 [02:09<01:30, 45.41s/it]"
     ]
    },
    {
     "name": "stdout",
     "output_type": "stream",
     "text": [
      "{'n_estimators': 1500, 'min_child_weight': 3, 'max_depth': 5, 'learning_rate': 0.15}       1.0                  58.988   2       \n"
     ]
    },
    {
     "name": "stderr",
     "output_type": "stream",
     "text": [
      " 80%|████████████████████████████████████████████████████████████████████████████████████████████████                        | 4/5 [02:54<00:45, 45.03s/it]"
     ]
    },
    {
     "name": "stdout",
     "output_type": "stream",
     "text": [
      "{'n_estimators': 1100, 'min_child_weight': 1, 'max_depth': 3, 'learning_rate': 0.2}        1.0                  44.442   3       \n"
     ]
    },
    {
     "name": "stderr",
     "output_type": "stream",
     "text": [
      "100%|████████████████████████████████████████████████████████████████████████████████████████████████████████████████████████| 5/5 [03:22<00:00, 40.52s/it]"
     ]
    },
    {
     "name": "stdout",
     "output_type": "stream",
     "text": [
      "{'n_estimators': 100, 'min_child_weight': 3, 'max_depth': 2, 'learning_rate': 0.15}        1.0                  28.433   4       \n",
      "SCHD\n"
     ]
    },
    {
     "name": "stderr",
     "output_type": "stream",
     "text": [
      "\n"
     ]
    },
    {
     "name": "stdout",
     "output_type": "stream",
     "text": [
      "default                             1.0                  0.319    0       \n"
     ]
    },
    {
     "name": "stderr",
     "output_type": "stream",
     "text": [
      " 20%|████████████████████████                                                                                                | 1/5 [00:17<01:11, 17.86s/it]"
     ]
    },
    {
     "name": "stdout",
     "output_type": "stream",
     "text": [
      "{'n_estimators': 100, 'min_child_weight': 3, 'max_depth': 15, 'learning_rate': 0.15}       1.0                  17.864   0       \n"
     ]
    },
    {
     "name": "stderr",
     "output_type": "stream",
     "text": [
      " 40%|████████████████████████████████████████████████                                                                        | 2/5 [00:54<01:27, 29.02s/it]"
     ]
    },
    {
     "name": "stdout",
     "output_type": "stream",
     "text": [
      "{'n_estimators': 1100, 'min_child_weight': 2, 'max_depth': 5, 'learning_rate': 0.2}        1.0                  36.823   1       \n"
     ]
    },
    {
     "name": "stderr",
     "output_type": "stream",
     "text": [
      " 60%|████████████████████████████████████████████████████████████████████████                                                | 3/5 [01:11<00:47, 23.66s/it]"
     ]
    },
    {
     "name": "stdout",
     "output_type": "stream",
     "text": [
      "{'n_estimators': 100, 'min_child_weight': 2, 'max_depth': 2, 'learning_rate': 0.1}         1.0                  17.286   2       \n"
     ]
    },
    {
     "name": "stderr",
     "output_type": "stream",
     "text": [
      " 80%|████████████████████████████████████████████████████████████████████████████████████████████████                        | 4/5 [01:46<00:28, 28.08s/it]"
     ]
    },
    {
     "name": "stdout",
     "output_type": "stream",
     "text": [
      "{'n_estimators': 1100, 'min_child_weight': 3, 'max_depth': 2, 'learning_rate': 0.05}       1.0                  34.86    3       \n"
     ]
    },
    {
     "name": "stderr",
     "output_type": "stream",
     "text": [
      "100%|████████████████████████████████████████████████████████████████████████████████████████████████████████████████████████| 5/5 [02:20<00:00, 28.17s/it]"
     ]
    },
    {
     "name": "stdout",
     "output_type": "stream",
     "text": [
      "{'n_estimators': 1100, 'min_child_weight': 2, 'max_depth': 15, 'learning_rate': 0.05}      1.0                  33.989   4       \n",
      "MHDis\n"
     ]
    },
    {
     "name": "stderr",
     "output_type": "stream",
     "text": [
      "\n"
     ]
    },
    {
     "name": "stdout",
     "output_type": "stream",
     "text": [
      "default                             1.0                  0.32     0       \n"
     ]
    },
    {
     "name": "stderr",
     "output_type": "stream",
     "text": [
      " 20%|████████████████████████                                                                                                | 1/5 [00:34<02:18, 34.62s/it]"
     ]
    },
    {
     "name": "stdout",
     "output_type": "stream",
     "text": [
      "{'n_estimators': 900, 'min_child_weight': 1, 'max_depth': 5, 'learning_rate': 0.2}         1.0                  34.62    0       \n"
     ]
    },
    {
     "name": "stderr",
     "output_type": "stream",
     "text": [
      " 40%|████████████████████████████████████████████████                                                                        | 2/5 [01:01<01:30, 30.06s/it]"
     ]
    },
    {
     "name": "stdout",
     "output_type": "stream",
     "text": [
      "{'n_estimators': 900, 'min_child_weight': 2, 'max_depth': 15, 'learning_rate': 0.2}        1.0                  26.868   1       \n"
     ]
    },
    {
     "name": "stderr",
     "output_type": "stream",
     "text": [
      " 60%|████████████████████████████████████████████████████████████████████████                                                | 3/5 [01:48<01:15, 37.96s/it]"
     ]
    },
    {
     "name": "stdout",
     "output_type": "stream",
     "text": [
      "{'n_estimators': 1100, 'min_child_weight': 1, 'max_depth': 10, 'learning_rate': 0.1}       1.0                  47.367   2       \n"
     ]
    },
    {
     "name": "stderr",
     "output_type": "stream",
     "text": [
      " 80%|████████████████████████████████████████████████████████████████████████████████████████████████                        | 4/5 [02:28<00:38, 38.58s/it]"
     ]
    },
    {
     "name": "stdout",
     "output_type": "stream",
     "text": [
      "{'n_estimators': 1100, 'min_child_weight': 2, 'max_depth': 2, 'learning_rate': 0.15}       1.0                  39.524   3       \n"
     ]
    },
    {
     "name": "stderr",
     "output_type": "stream",
     "text": [
      "100%|████████████████████████████████████████████████████████████████████████████████████████████████████████████████████████| 5/5 [03:13<00:00, 38.74s/it]"
     ]
    },
    {
     "name": "stdout",
     "output_type": "stream",
     "text": [
      "{'n_estimators': 1500, 'min_child_weight': 1, 'max_depth': 5, 'learning_rate': 0.15}       1.0                  45.325   4       \n",
      "      n_estimators    min_child_weight    max_depth    learning_rate        F1    Std     Time    No  Attack\n",
      "--  --------------  ------------------  -----------  ---------------  --------  -----  -------  ----  --------\n",
      " 0            1500                   1           15             0.2   0.999698      0  152.574     0  SYN\n",
      " 1             500                   1            5             0.15  0.999698      0   83.642     1  SYN\n",
      " 2            1100                   3           10             0.2   0.999698      0  123.905     2  SYN\n",
      " 3            1500                   4            2             0.2   0.999698      0  142.78      3  SYN\n",
      " 4            1100                   4           10             0.2   0.999698      0  132.291     4  SYN\n",
      " 5             900                   3            2             0.15  1             0   56.532     0  HTTP\n",
      " 6            1500                   3            2             0.1   1             0  177.625     1  HTTP\n",
      " 7             500                   4           10             0.1   1             0  117.158     2  HTTP\n",
      " 8             100                   1            2             0.2   1             0   83.664     3  HTTP\n",
      " 9             500                   1            5             0.1   1             0  144.67      4  HTTP\n",
      "10             100                   1           10             0.1   1             0   65.784     0  ACK\n",
      "11             500                   1            5             0.05  1             0   88.138     1  ACK\n",
      "12             100                   1           15             0.1   1             0   57.918     2  ACK\n",
      "13            1100                   1           15             0.1   1             0  114.319     3  ACK\n",
      "14            1100                   1            2             0.15  1             0  208.268     4  ACK\n",
      "15             900                   1           10             0.1   1             0  317.943     0  UDP\n",
      "16             900                   2            2             0.15  1             0  265.623     1  UDP\n",
      "17             500                   1            5             0.1   1             0  157.005     2  UDP\n",
      "18             100                   2            2             0.1   1             0  129.046     3  UDP\n",
      "19             100                   3            5             0.05  1             0  156.282     4  UDP\n",
      "20             900                   2            5             0.2   1             0  585.652     0  ARP\n",
      "21            1500                   3            5             0.05  1             0  934.036     1  ARP\n",
      "22            1100                   3            2             0.2   1             0  762.956     2  ARP\n",
      "23            1100                   3            3             0.1   1             0  398.916     3  ARP\n",
      "24             900                   2            5             0.15  1             0  210.192     4  ARP\n",
      "25            1100                   1            3             0.2   0.999774      0   21.275     0  SP\n",
      "26             100                   4           10             0.15  0.999774      0   10.781     1  SP\n",
      "27             900                   4           15             0.05  0.999774      0   19.7       2  SP\n",
      "28            1500                   3           15             0.15  0.999774      0   27.39      3  SP\n",
      "29             100                   1            3             0.1   0.999774      0   11.521     4  SP\n",
      "30            1500                   4           15             0.2   1             0   34.368     0  BF\n",
      "31             900                   2            3             0.05  1             0   30.543     1  BF\n",
      "32            1100                   4            2             0.05  1             0   29.196     2  BF\n",
      "33            1100                   3           10             0.05  1             0   30.875     3  BF\n",
      "34             500                   2            5             0.05  1             0   23.72      4  BF\n",
      "35            1100                   1           15             0.2   1             0   43.138     0  OS\n",
      "36             100                   4            3             0.2   1             0   27.604     1  OS\n",
      "37            1500                   3            5             0.15  1             0   58.989     2  OS\n",
      "38            1100                   1            3             0.2   1             0   44.442     3  OS\n",
      "39             100                   3            2             0.15  1             0   28.434     4  OS\n",
      "40             100                   3           15             0.15  1             0   17.864     0  SCHD\n",
      "41            1100                   2            5             0.2   1             0   36.823     1  SCHD\n",
      "42             100                   2            2             0.1   1             0   17.287     2  SCHD\n",
      "43            1100                   3            2             0.05  1             0   34.861     3  SCHD\n",
      "44            1100                   2           15             0.05  1             0   33.989     4  SCHD\n",
      "45             900                   1            5             0.2   1             0   34.62      0  MHDis\n",
      "46             900                   2           15             0.2   1             0   26.869     1  MHDis\n",
      "47            1100                   1           10             0.1   1             0   47.367     2  MHDis\n",
      "48            1100                   2            2             0.15  1             0   39.524     3  MHDis\n",
      "49            1500                   1            5             0.15  1             0   45.325     4  MHDis\n"
     ]
    },
    {
     "name": "stderr",
     "output_type": "stream",
     "text": [
      "\n"
     ]
    },
    {
     "ename": "NameError",
     "evalue": "name 'final_parametres' is not defined",
     "output_type": "error",
     "traceback": [
      "\u001b[1;31m---------------------------------------------------------------------------\u001b[0m",
      "\u001b[1;31mNameError\u001b[0m                                 Traceback (most recent call last)",
      "Cell \u001b[1;32mIn[8], line 78\u001b[0m\n\u001b[0;32m     76\u001b[0m     m\u001b[38;5;241m=\u001b[39mdf[\u001b[38;5;124m\"\u001b[39m\u001b[38;5;124mmax_depth\u001b[39m\u001b[38;5;124m\"\u001b[39m]\u001b[38;5;241m.\u001b[39mmin()\n\u001b[0;32m     77\u001b[0m     df\u001b[38;5;241m=\u001b[39mdf[df[\u001b[38;5;124m\"\u001b[39m\u001b[38;5;124mmax_depth\u001b[39m\u001b[38;5;124m\"\u001b[39m]\u001b[38;5;241m==\u001b[39mm]  \n\u001b[1;32m---> 78\u001b[0m     \u001b[43mfinal_parametres\u001b[49m\u001b[38;5;241m.\u001b[39mappend(\u001b[38;5;28mlist\u001b[39m(df\u001b[38;5;241m.\u001b[39mvalues)[\u001b[38;5;241m0\u001b[39m])\n\u001b[0;32m     79\u001b[0m results \u001b[38;5;241m=\u001b[39m pd\u001b[38;5;241m.\u001b[39mDataFrame (final_parametres[\u001b[38;5;241m1\u001b[39m:], columns\u001b[38;5;241m=\u001b[39m  final_parametres[\u001b[38;5;241m0\u001b[39m])\n\u001b[0;32m     80\u001b[0m \u001b[38;5;28mprint\u001b[39m (tabulate(results, headers\u001b[38;5;241m=\u001b[39m\u001b[38;5;28mlist\u001b[39m(results\u001b[38;5;241m.\u001b[39mcolumns)))\n",
      "\u001b[1;31mNameError\u001b[0m: name 'final_parametres' is not defined"
     ]
    }
   ],
   "source": [
    "import xgboost\n",
    "\n",
    "lines=[['n_estimators', 'min_child_weight', 'max_depth','learning_rate', \"F1\",\"Std\",\"Time\",\"No\",\"Attack\"]]\n",
    "\n",
    "for j in file_list:\n",
    "    print(j)\n",
    "    \n",
    "    \n",
    "    df=pd.read_csv(file_list[j][0],usecols=feature_list[j]) \n",
    "    X_train = df.iloc[:,0:-1]\n",
    "    df['Label'] = df['Label'].astype('category')\n",
    "    y_train=df['Label'].cat.codes  \n",
    "\n",
    "\n",
    "    df=pd.read_csv(file_list[j][1],usecols=feature_list[j]) \n",
    "    X_test = df.iloc[:,0:-1]\n",
    "    df['Label'] = df['Label'].astype('category')\n",
    "    y_test=df['Label'].cat.codes  \n",
    "    \n",
    "    X= np.concatenate([X_train, X_test])\n",
    "    test_fold = [-1 for _ in range(X_train.shape[0])] + [0 for _ in range(X_test.shape[0])]\n",
    "    y = np.concatenate([y_train, y_test])\n",
    "    ps = PredefinedSplit(test_fold)\n",
    "    \n",
    "\n",
    "\n",
    "    param_grid =   {\n",
    "    'n_estimators': [100, 500, 900, 1100, 1500],\n",
    "    'max_depth': [2, 3, 5, 10, 15],\n",
    "    'learning_rate': [0.05, 0.1, 0.15, 0.20],\n",
    "    'min_child_weight': [1, 2, 3, 4]\n",
    "    }\n",
    "\n",
    "    second=time()\n",
    "    f1=[]\n",
    "    clf=xgboost.XGBClassifier()\n",
    "    for ii in range(1):\n",
    "        clf.fit(X_train, y_train)\n",
    "        predict =clf.predict(X_test)\n",
    "        f1.append(sklearn.metrics.f1_score(y_test, predict,average= \"macro\") )\n",
    "    f1=sum(f1)/len(f1)   \n",
    "    #if f1>0.76:\n",
    "    print('%-35s %-20s %-8s %-8s' % (\"default\",f1,round(time()-second,3),ii))\n",
    "\n",
    "\n",
    "    \n",
    "    ######################################################################################################################\n",
    "    for i in tqdm(range(5)):\n",
    "        second=time()\n",
    "        a,b,clf=run_random_search(xgboost.XGBClassifier(),param_grid,X,y)\n",
    "        f1=[]\n",
    "        for ii in range(5):\n",
    "            clf.fit(X_train, y_train)\n",
    "            predict =clf.predict(X_test)\n",
    "            f1.append(sklearn.metrics.f1_score(y_test, predict,average= \"macro\") )\n",
    "        f1_result=sum(f1)/len(f1)   \n",
    "        f1=np.array(f1)\n",
    "        stndtd=f1.std()\n",
    "        temp=list(a.values())\n",
    "        print('%-90s %-20s %-8s %-8s' % (a,f1_result,round(time()-second,3),i))\n",
    "        temp=temp+[f1_result,stndtd,round(time()-second,3),i,j]\n",
    "        lines.append(temp)\n",
    "\n",
    "        #if f1>0.76:\n",
    "\n",
    "results = pd.DataFrame (lines[1:], columns = lines[0])\n",
    "results.to_csv(\"XGB_HPO.csv\",index=False)\n",
    "\n",
    "\n",
    "print (tabulate(results, headers=list(results.columns)))\n",
    "    \n",
    "for i in results[\"Attack\"].unique():\n",
    "    df=results[results[\"Attack\"]==i]\n",
    "    m=df[\"F1\"].max()\n",
    "    df=df[df[\"F1\"]==m]\n",
    "    m=df[\"max_depth\"].min()\n",
    "    df=df[df[\"max_depth\"]==m]  \n",
    "    final_parametres.append(list(df.values)[0])\n",
    "results = pd.DataFrame (final_parametres[1:], columns=  final_parametres[0])\n",
    "print (tabulate(results, headers=list(results.columns)))"
   ]
  },
  {
   "cell_type": "code",
   "execution_count": 9,
   "metadata": {},
   "outputs": [
    {
     "name": "stdout",
     "output_type": "stream",
     "text": [
      "      n_estimators    max_depth    learning_rate    min_child_weight        F1    Std     Time    No  Attack\n",
      "--  --------------  -----------  ---------------  ------------------  --------  -----  -------  ----  --------\n",
      " 0            1500            4                2                0.2   0.999698      0  142.78      3  SYN\n",
      " 1             900            3                2                0.15  1             0   56.532     0  HTTP\n",
      " 2            1100            1                2                0.15  1             0  208.268     4  ACK\n",
      " 3             900            2                2                0.15  1             0  265.623     1  UDP\n",
      " 4            1100            3                2                0.2   1             0  762.956     2  ARP\n",
      " 5            1100            1                3                0.2   0.999774      0   21.275     0  SP\n",
      " 6            1100            4                2                0.05  1             0   29.196     2  BF\n",
      " 7             100            3                2                0.15  1             0   28.434     4  OS\n",
      " 8             100            2                2                0.1   1             0   17.287     2  SCHD\n",
      " 9            1100            2                2                0.15  1             0   39.524     3  MHDis\n"
     ]
    }
   ],
   "source": [
    "final_parametres=[['n_estimators', 'max_depth', 'learning_rate','min_child_weight', \"F1\",\"Std\",\"Time\",\"No\",\"Attack\"]]\n",
    "for i in results[\"Attack\"].unique():\n",
    "    df=results[results[\"Attack\"]==i]\n",
    "    m=df[\"F1\"].max()\n",
    "    df=df[df[\"F1\"]==m]\n",
    "    m=df[\"max_depth\"].min()\n",
    "    df=df[df[\"max_depth\"]==m]  \n",
    "    final_parametres.append(list(df.values)[0])\n",
    "results = pd.DataFrame (final_parametres[1:], columns=  final_parametres[0])\n",
    "print (tabulate(results, headers=list(results.columns)))\n",
    "    "
   ]
  },
  {
   "cell_type": "markdown",
   "metadata": {},
   "source": [
    "# RandomizedSearchCV  KNeighborsClassifier"
   ]
  },
  {
   "cell_type": "code",
   "execution_count": 10,
   "metadata": {
    "scrolled": false
   },
   "outputs": [
    {
     "name": "stdout",
     "output_type": "stream",
     "text": [
      "SYN\n",
      "default                             0.9993958379274827   76.132   24      \n"
     ]
    },
    {
     "name": "stderr",
     "output_type": "stream",
     "text": [
      "100%|██████████████████████████████████████████████████████████████████████████████████████████████████████████████████████| 10/10 [10:21<00:00, 62.10s/it]\n"
     ]
    },
    {
     "name": "stdout",
     "output_type": "stream",
     "text": [
      "HTTP\n",
      "default                             0.991847328641079    56.955   24      \n"
     ]
    },
    {
     "name": "stderr",
     "output_type": "stream",
     "text": [
      "100%|██████████████████████████████████████████████████████████████████████████████████████████████████████████████████████| 10/10 [03:30<00:00, 21.05s/it]\n"
     ]
    },
    {
     "name": "stdout",
     "output_type": "stream",
     "text": [
      "ACK\n",
      "default                             0.9996159754224268   23.124   24      \n"
     ]
    },
    {
     "name": "stderr",
     "output_type": "stream",
     "text": [
      "100%|██████████████████████████████████████████████████████████████████████████████████████████████████████████████████████| 10/10 [02:45<00:00, 16.57s/it]\n"
     ]
    },
    {
     "name": "stdout",
     "output_type": "stream",
     "text": [
      "UDP\n",
      "default                             1.0                  65.998   24      \n"
     ]
    },
    {
     "name": "stderr",
     "output_type": "stream",
     "text": [
      "100%|██████████████████████████████████████████████████████████████████████████████████████████████████████████████████████| 10/10 [14:54<00:00, 89.50s/it]\n"
     ]
    },
    {
     "name": "stdout",
     "output_type": "stream",
     "text": [
      "ARP\n",
      "default                             0.9709090156303699   107.595  24      \n"
     ]
    },
    {
     "name": "stderr",
     "output_type": "stream",
     "text": [
      "100%|██████████████████████████████████████████████████████████████████████████████████████████████████████████████████████| 10/10 [06:59<00:00, 41.91s/it]\n"
     ]
    },
    {
     "name": "stdout",
     "output_type": "stream",
     "text": [
      "SP\n",
      "default                             0.9997736319386202   13.506   24      \n"
     ]
    },
    {
     "name": "stderr",
     "output_type": "stream",
     "text": [
      "100%|██████████████████████████████████████████████████████████████████████████████████████████████████████████████████████| 10/10 [00:59<00:00,  5.91s/it]\n"
     ]
    },
    {
     "name": "stdout",
     "output_type": "stream",
     "text": [
      "BF\n",
      "default                             0.9812343828749093   23.654   24      \n"
     ]
    },
    {
     "name": "stderr",
     "output_type": "stream",
     "text": [
      "100%|██████████████████████████████████████████████████████████████████████████████████████████████████████████████████████| 10/10 [09:47<00:00, 58.75s/it]\n"
     ]
    },
    {
     "name": "stdout",
     "output_type": "stream",
     "text": [
      "OS\n",
      "default                             0.9632804223772053   71.309   24      \n"
     ]
    },
    {
     "name": "stderr",
     "output_type": "stream",
     "text": [
      "100%|██████████████████████████████████████████████████████████████████████████████████████████████████████████████████████| 10/10 [02:34<00:00, 15.50s/it]\n"
     ]
    },
    {
     "name": "stdout",
     "output_type": "stream",
     "text": [
      "SCHD\n",
      "default                             0.9994632280232235   24.859   24      \n"
     ]
    },
    {
     "name": "stderr",
     "output_type": "stream",
     "text": [
      "100%|██████████████████████████████████████████████████████████████████████████████████████████████████████████████████████| 10/10 [01:55<00:00, 11.52s/it]\n"
     ]
    },
    {
     "name": "stdout",
     "output_type": "stream",
     "text": [
      "MHDis\n",
      "default                             0.9846632412684879   20.63    24      \n"
     ]
    },
    {
     "name": "stderr",
     "output_type": "stream",
     "text": [
      "100%|██████████████████████████████████████████████████████████████████████████████████████████████████████████████████████| 10/10 [01:40<00:00, 10.03s/it]"
     ]
    },
    {
     "name": "stdout",
     "output_type": "stream",
     "text": [
      "    algorithm      leaf_size    n_neighbors  weights          F1    Std    Time    No  Attack\n",
      "--  -----------  -----------  -------------  ---------  --------  -----  ------  ----  --------\n",
      " 0  kd_tree               27             11  distance   0.999849      0  71.841     8  SYN\n",
      " 1  ball_tree             40              2  distance   1             0  22.803     4  HTTP\n",
      " 2  auto                  13              1  distance   1             0  14.424     3  ACK\n",
      " 3  ball_tree             45              9  uniform    1             0  79.638     5  UDP\n",
      " 4  kd_tree               10              2  distance   1             0  33.847     1  ARP\n",
      " 5  auto                  33              1  distance   1             0   4.55      0  SP\n",
      " 6  auto                  10              9  distance   1             0  16.7       2  BF\n",
      " 7  brute                  7             10  distance   1             0  16.87      0  OS\n",
      " 8  kd_tree               21              1  distance   1             0   8.476     6  SCHD\n",
      " 9  ball_tree             46              1  uniform    1             0   8.787     2  MHDis\n"
     ]
    },
    {
     "name": "stderr",
     "output_type": "stream",
     "text": [
      "\n"
     ]
    }
   ],
   "source": [
    "lines=[['algorithm', 'leaf_size', 'n_neighbors', 'weights', \"F1\",\"Std\",\"Time\",\"No\",\"Attack\"]]\n",
    "\n",
    "\n",
    "for j in file_list:\n",
    "    print(j)\n",
    "    \n",
    "    \n",
    "    df=pd.read_csv(file_list[j][0],usecols=feature_list[j]) \n",
    "    X_train = df.iloc[:,0:-1]\n",
    "    df['Label'] = df['Label'].astype('category')\n",
    "    y_train=df['Label'].cat.codes  \n",
    "\n",
    "\n",
    "    df=pd.read_csv(file_list[j][1],usecols=feature_list[j]) \n",
    "    X_test = df.iloc[:,0:-1]\n",
    "    df['Label'] = df['Label'].astype('category')\n",
    "    y_test=df['Label'].cat.codes  \n",
    "    \n",
    "    \n",
    "    \n",
    "    X= np.concatenate([X_train, X_test])\n",
    "    test_fold = [-1 for _ in range(X_train.shape[0])] + [0 for _ in range(X_test.shape[0])]\n",
    "    y = np.concatenate([y_train, y_test])\n",
    "    ps = PredefinedSplit(test_fold)\n",
    "    \n",
    "    \n",
    "\n",
    "    # use a full grid over all parameters\n",
    "    param_grid = {\"n_neighbors\" : sp_randint(1,64) ,  \n",
    "                 \"leaf_size\": sp_randint(1,50) , \n",
    "                  \"algorithm\" : [\"auto\", \"ball_tree\", \"kd_tree\", \"brute\"],\n",
    "                  \"weights\" : [\"uniform\", \"distance\"]}\n",
    "    second=time()\n",
    "    f1=[]\n",
    "    clf=KNeighborsClassifier()\n",
    "    for ii in range(25):\n",
    "        clf.fit(X_train, y_train)\n",
    "        predict =clf.predict(X_test)\n",
    "        f1.append(sklearn.metrics.f1_score(y_test, predict,average= \"macro\") )\n",
    "    f1=sum(f1)/len(f1)   \n",
    "    #if f1>0.76:\n",
    "    print('%-35s %-20s %-8s %-8s' % (\"default\",f1,round(time()-second,3),ii))\n",
    "\n",
    "\n",
    "    \n",
    "    ######################################################################################################################\n",
    "    for i in tqdm(range(10)):\n",
    "        second=time()\n",
    "        a,b,clf=run_random_search(KNeighborsClassifier(),param_grid,X,y)\n",
    "        f1=[]\n",
    "        for ii in range(5):\n",
    "            clf.fit(X_train, y_train)\n",
    "            predict =clf.predict(X_test)\n",
    "            f1.append(sklearn.metrics.f1_score(y_test, predict,average= \"macro\") )\n",
    "        f1_result=sum(f1)/len(f1)   \n",
    "        f1=np.array(f1)\n",
    "        stndtd=f1.std()\n",
    "        temp=list(a.values())\n",
    "        #print('%-90s %-20s %-8s %-8s' % (a,f1_result,round(time()-second,3),i))\n",
    "        temp=temp+[f1_result,stndtd,round(time()-second,3),i,j]\n",
    "        lines.append(temp)\n",
    "\n",
    "        #if f1>0.76:\n",
    "results = pd.DataFrame (lines[1:], columns = lines[0])\n",
    "results.to_csv(\"knn_HPO.csv\",index=False)\n",
    "\n",
    "final_parametres=[['algorithm', 'leaf_size', 'n_neighbors', 'weights', \"F1\",\"Std\",\"Time\",\"No\",\"Attack\"]]\n",
    "\n",
    "for i in results[\"Attack\"].unique():\n",
    "    df=results[results[\"Attack\"]==i]\n",
    "    m=df[\"F1\"].max()\n",
    "    df=df[df[\"F1\"]==m]\n",
    "    m=df[\"n_neighbors\"].min()\n",
    "    df=df[df[\"n_neighbors\"]==m]  \n",
    "    final_parametres.append(list(df.values)[0])\n",
    "results = pd.DataFrame (final_parametres[1:], columns=  final_parametres[0])\n",
    "print (tabulate(results, headers=list(results.columns)))\n",
    "    \n",
    "    \n",
    "    \n",
    "    \n",
    "    "
   ]
  },
  {
   "cell_type": "markdown",
   "metadata": {},
   "source": [
    "# GaussianNB"
   ]
  },
  {
   "cell_type": "code",
   "execution_count": null,
   "metadata": {},
   "outputs": [],
   "source": [
    "from sklearn.naive_bayes import GaussianNB"
   ]
  },
  {
   "cell_type": "code",
   "execution_count": 12,
   "metadata": {},
   "outputs": [
    {
     "name": "stdout",
     "output_type": "stream",
     "text": [
      "SYN\n",
      "default                             0.9933067878021322   0.044    0       \n"
     ]
    },
    {
     "name": "stderr",
     "output_type": "stream",
     "text": [
      "100%|██████████████████████████████████████████████████████████████████████████████████████████████████████████████████████| 10/10 [00:08<00:00,  1.12it/s]\n"
     ]
    },
    {
     "name": "stdout",
     "output_type": "stream",
     "text": [
      "HTTP\n",
      "default                             0.6315732269934049   0.047    0       \n"
     ]
    },
    {
     "name": "stderr",
     "output_type": "stream",
     "text": [
      "100%|██████████████████████████████████████████████████████████████████████████████████████████████████████████████████████| 10/10 [00:06<00:00,  1.52it/s]\n"
     ]
    },
    {
     "name": "stdout",
     "output_type": "stream",
     "text": [
      "ACK\n",
      "default                             0.9105941815426182   0.015    0       \n"
     ]
    },
    {
     "name": "stderr",
     "output_type": "stream",
     "text": [
      "100%|██████████████████████████████████████████████████████████████████████████████████████████████████████████████████████| 10/10 [00:03<00:00,  3.32it/s]\n"
     ]
    },
    {
     "name": "stdout",
     "output_type": "stream",
     "text": [
      "UDP\n",
      "default                             0.6722846029846343   0.049    0       \n"
     ]
    },
    {
     "name": "stderr",
     "output_type": "stream",
     "text": [
      "100%|██████████████████████████████████████████████████████████████████████████████████████████████████████████████████████| 10/10 [00:06<00:00,  1.44it/s]\n"
     ]
    },
    {
     "name": "stdout",
     "output_type": "stream",
     "text": [
      "ARP\n",
      "default                             0.4514887351176544   0.094    0       \n"
     ]
    },
    {
     "name": "stderr",
     "output_type": "stream",
     "text": [
      "100%|██████████████████████████████████████████████████████████████████████████████████████████████████████████████████████| 10/10 [00:15<00:00,  1.53s/it]\n"
     ]
    },
    {
     "name": "stdout",
     "output_type": "stream",
     "text": [
      "SP\n",
      "default                             0.9766465329616252   0.005    0       \n"
     ]
    },
    {
     "name": "stderr",
     "output_type": "stream",
     "text": [
      "100%|██████████████████████████████████████████████████████████████████████████████████████████████████████████████████████| 10/10 [00:02<00:00,  5.00it/s]\n"
     ]
    },
    {
     "name": "stdout",
     "output_type": "stream",
     "text": [
      "BF\n",
      "default                             0.6242090786136683   0.018    0       \n"
     ]
    },
    {
     "name": "stderr",
     "output_type": "stream",
     "text": [
      "100%|██████████████████████████████████████████████████████████████████████████████████████████████████████████████████████| 10/10 [00:03<00:00,  2.59it/s]\n"
     ]
    },
    {
     "name": "stdout",
     "output_type": "stream",
     "text": [
      "OS\n",
      "default                             0.791791151796171    0.041    0       \n"
     ]
    },
    {
     "name": "stderr",
     "output_type": "stream",
     "text": [
      "100%|██████████████████████████████████████████████████████████████████████████████████████████████████████████████████████| 10/10 [00:07<00:00,  1.39it/s]\n"
     ]
    },
    {
     "name": "stdout",
     "output_type": "stream",
     "text": [
      "SCHD\n",
      "default                             0.866209454746268    0.031    0       \n"
     ]
    },
    {
     "name": "stderr",
     "output_type": "stream",
     "text": [
      "100%|██████████████████████████████████████████████████████████████████████████████████████████████████████████████████████| 10/10 [00:05<00:00,  1.81it/s]\n"
     ]
    },
    {
     "name": "stdout",
     "output_type": "stream",
     "text": [
      "MHDis\n",
      "default                             0.7956485114074345   0.014    0       \n"
     ]
    },
    {
     "name": "stderr",
     "output_type": "stream",
     "text": [
      "100%|██████████████████████████████████████████████████████████████████████████████████████████████████████████████████████| 10/10 [00:03<00:00,  2.88it/s]"
     ]
    },
    {
     "name": "stdout",
     "output_type": "stream",
     "text": [
      "      var_smoothing        F1          Std    Time    No  Attack\n",
      "--  ---------------  --------  -----------  ------  ----  --------\n",
      " 0      4.32876e-09  0.992101  0             0.824     0  SYN\n",
      " 1      8.11131e-09  0.991096  0             0.772     1  SYN\n",
      " 2      6.57933e-09  0.991498  0             0.916     2  SYN\n",
      " 3      3.51119e-09  0.992402  0             0.76      3  SYN\n",
      " 4      3.51119e-09  0.992402  0             0.883     4  SYN\n",
      " 5      5.3367e-09   0.991749  1.11022e-16   0.92      5  SYN\n",
      " 6      2.31013e-09  0.992854  0             0.94      6  SYN\n",
      " 7      2.84804e-07  0.975805  0             0.991     7  SYN\n",
      " 8      1e-08        0.990694  0             0.944     8  SYN\n",
      " 9      1.23285e-09  0.993206  1.11022e-16   0.959     9  SYN\n",
      "10      1.87382e-09  0.631096  0             0.659     0  HTTP\n",
      "11      1e-08        0.628884  0             0.752     1  HTTP\n",
      "12      1.87382e-09  0.631096  0             0.689     2  HTTP\n",
      "13      2.84804e-09  0.630567  0             0.619     3  HTTP\n",
      "14      1.23285e-08  0.628675  0             0.646     4  HTTP\n",
      "15      1e-09        0.631573  0             0.652     5  HTTP\n",
      "16      1.87382e-09  0.631096  0             0.591     6  HTTP\n",
      "17      3.51119e-09  0.630303  0             0.706     7  HTTP\n",
      "18      1e-07        0.619598  0             0.642     8  HTTP\n",
      "19      1e-09        0.631573  0             0.631     9  HTTP\n",
      "20      2.84804e-07  1         0             0.302     0  ACK\n",
      "21      3.51119e-06  1         0             0.286     1  ACK\n",
      "22      1.51991e-07  1         0             0.284     2  ACK\n",
      "23      4.32876e-05  0.999616  0             0.279     3  ACK\n",
      "24      5.3367e-07   1         0             0.302     4  ACK\n",
      "25      2.84804e-07  1         0             0.304     5  ACK\n",
      "26      1.87382e-07  1         0             0.312     6  ACK\n",
      "27      1.51991e-05  1         0             0.324     7  ACK\n",
      "28      4.32876e-06  1         0             0.308     8  ACK\n",
      "29      1.23285e-06  1         0             0.291     9  ACK\n",
      "30      2.84804e-09  0.671851  0             0.807     0  UDP\n",
      "31      1.87382e-09  0.672068  0             0.812     1  UDP\n",
      "32      2.31013e-07  0.662324  0             0.777     2  UDP\n",
      "33      2.31013e-09  0.67196   0             0.66      3  UDP\n",
      "34      1.87382e-09  0.672068  0             0.649     4  UDP\n",
      "35      2.31013e-09  0.67196   0             0.625     5  UDP\n",
      "36      1.23285e-09  0.67223   0             0.631     6  UDP\n",
      "37      5.3367e-08   0.668975  0             0.613     7  UDP\n",
      "38      1.51991e-08  0.670441  0             0.682     8  UDP\n",
      "39      2.31013e-07  0.662324  0             0.654     9  UDP\n",
      "40      0.00351119   0.485773  5.55112e-17   1.642     0  ARP\n",
      "41      4.32876e-07  0.488715  0             1.712     1  ARP\n",
      "42      1.51991e-08  0.497795  0             1.589     2  ARP\n",
      "43      0.00231013   0.484341  0             1.322     3  ARP\n",
      "44      3.51119e-08  0.490205  0             1.634     4  ARP\n",
      "45      1.51991e-08  0.497795  0             1.732     5  ARP\n",
      "46      3.51119e-08  0.490205  0             1.716     6  ARP\n",
      "47      1e-08        0.494591  0             1.441     7  ARP\n",
      "48      0.00432876   0.486812  5.55112e-17   1.275     8  ARP\n",
      "49      1.23285e-08  0.499829  0             1.23      9  ARP\n",
      "50      1.51991e-08  0.950036  0             0.205     0  SP\n",
      "51      2.84804e-09  0.972051  0             0.192     1  SP\n",
      "52      1e-09        0.976647  1.11022e-16   0.207     2  SP\n",
      "53      6.57933e-09  0.959651  0             0.206     3  SP\n",
      "54      6.57933e-07  0.912999  1.11022e-16   0.188     4  SP\n",
      "55      1e-09        0.976647  1.11022e-16   0.209     5  SP\n",
      "56      1.51991e-08  0.950036  0             0.193     6  SP\n",
      "57      1.51991e-09  0.975806  1.11022e-16   0.189     7  SP\n",
      "58      1e-09        0.976647  1.11022e-16   0.21      8  SP\n",
      "59      1e-09        0.976647  1.11022e-16   0.191     9  SP\n",
      "60      0.0657933    0.675154  0             0.383     0  BF\n",
      "61      0.0053367    0.684046  0             0.36      1  BF\n",
      "62      0.053367     0.716004  0             0.409     2  BF\n",
      "63      0.0284804    0.702414  0             0.39      3  BF\n",
      "64      0.0432876    0.709288  0             0.384     4  BF\n",
      "65      0.00187382   0.677732  0             0.358     5  BF\n",
      "66      0.0432876    0.709288  0             0.384     6  BF\n",
      "67      0.0284804    0.702414  0             0.387     7  BF\n",
      "68      0.0432876    0.709288  0             0.386     8  BF\n",
      "69      0.187382     0.692624  0             0.387     9  BF\n",
      "70      1.23285e-09  0.790488  0             0.633     0  OS\n",
      "71      5.3367e-09   0.786261  0             0.647     1  OS\n",
      "72      1e-09        0.791791  0             0.67      2  OS\n",
      "73      1.23285e-09  0.790488  0             0.646     3  OS\n",
      "74      1.87382e-09  0.789378  0             0.681     4  OS\n",
      "75      1e-08        0.784449  0             0.67      5  OS\n",
      "76      1e-09        0.791791  0             0.674     6  OS\n",
      "77      1e-05        0.710176  0             0.783     7  OS\n",
      "78      4.32876e-09  0.786808  0             0.868     8  OS\n",
      "79      1e-09        0.791791  0             0.943     9  OS\n",
      "80      1.23285e-09  0.848746  0             0.523     0  SCHD\n",
      "81      1.23285e-09  0.848746  0             0.496     1  SCHD\n",
      "82      0.00432876   0.935426  0             0.522     2  SCHD\n",
      "83      8.11131e-08  0.729398  0             0.525     3  SCHD\n",
      "84      5.3367e-09   0.753034  0             0.591     4  SCHD\n",
      "85      6.57933e-09  0.741105  0             0.536     5  SCHD\n",
      "86      1.51991e-09  0.834737  0             0.513     6  SCHD\n",
      "87      0.00432876   0.935426  0             0.642     7  SCHD\n",
      "88      4.32876e-09  0.767108  0             0.569     8  SCHD\n",
      "89      1.87382e-09  0.824156  1.11022e-16   0.57      9  SCHD\n",
      "90      1e-09        0.795649  0             0.347     0  MHDis\n",
      "91      1e-09        0.795649  0             0.352     1  MHDis\n",
      "92      6.57933e-09  0.727761  0             0.336     2  MHDis\n",
      "93      2.84804e-09  0.75749   0             0.326     3  MHDis\n",
      "94      1e-07        0.648142  0             0.312     4  MHDis\n",
      "95      1.51991e-09  0.775654  0             0.292     5  MHDis\n",
      "96      1.87382e-07  0.634353  0             0.366     6  MHDis\n",
      "97      1e-09        0.795649  0             0.371     7  MHDis\n",
      "98      2.84804e-09  0.75749   0             0.385     8  MHDis\n",
      "99      1.87382e-07  0.634353  0             0.375     9  MHDis\n"
     ]
    },
    {
     "name": "stderr",
     "output_type": "stream",
     "text": [
      "\n"
     ]
    }
   ],
   "source": [
    "lines=[['var_smoothing', \"F1\",\"Std\",\"Time\",\"No\",\"Attack\"]]\n",
    "for j in file_list:\n",
    "    print(j)\n",
    "    \n",
    "    df=pd.read_csv(file_list[j][0],usecols=feature_list[j]) \n",
    "    X_train = df.iloc[:,0:-1]\n",
    "    df['Label'] = df['Label'].astype('category')\n",
    "    y_train=df['Label'].cat.codes  \n",
    "\n",
    "\n",
    "    df=pd.read_csv(file_list[j][1],usecols=feature_list[j]) \n",
    "    X_test = df.iloc[:,0:-1]\n",
    "    df['Label'] = df['Label'].astype('category')\n",
    "    y_test=df['Label'].cat.codes  \n",
    "    \n",
    "    X= np.concatenate([X_train, X_test])\n",
    "    test_fold = [-1 for _ in range(X_train.shape[0])] + [0 for _ in range(X_test.shape[0])]\n",
    "    y = np.concatenate([y_train, y_test])\n",
    "    ps = PredefinedSplit(test_fold)\n",
    "    \n",
    "    second=time()\n",
    "\n",
    "    param_grid = {\n",
    "        'var_smoothing': np.logspace(0,-9, num=100),\n",
    "    }\n",
    "\n",
    " \n",
    "    second=time()\n",
    "    f1=[]\n",
    "    clf=GaussianNB()\n",
    "    for ii in range(1):\n",
    "        clf.fit(X_train, y_train)\n",
    "        predict =clf.predict(X_test)\n",
    "        f1.append(sklearn.metrics.f1_score(y_test, predict,average= \"macro\") )\n",
    "    f1=sum(f1)/len(f1)   \n",
    "    #if f1>0.76:\n",
    "    print('%-35s %-20s %-8s %-8s' % (\"default\",f1,round(time()-second,3),ii))\n",
    "    ######################################################################################################################\n",
    "    for i in tqdm(range(10)):\n",
    "        second=time()\n",
    "        a,b,clf=run_random_search(GaussianNB(),param_grid,X,y)\n",
    "        f1=[]\n",
    "        for ii in range(5):\n",
    "            clf.fit(X_train, y_train)\n",
    "            predict =clf.predict(X_test)\n",
    "            f1.append(sklearn.metrics.f1_score(y_test, predict,average= \"macro\") )\n",
    "        f1_result=sum(f1)/len(f1)   \n",
    "        f1=np.array(f1)\n",
    "        stndtd=f1.std()\n",
    "        temp=list(a.values())\n",
    "        #print('%-90s %-20s %-8s %-8s' % (a,f1_result,round(time()-second,3),i))\n",
    "        temp=temp+[f1_result,stndtd,round(time()-second,3),i,j]\n",
    "        lines.append(temp)\n",
    "\n",
    "\n",
    "results = pd.DataFrame (lines[1:], columns = lines[0])\n",
    "results.to_csv(\"NB_HPO.csv\",index=False)\n",
    "print (tabulate(results, headers=list(results.columns)))\n",
    "    \n"
   ]
  },
  {
   "cell_type": "code",
   "execution_count": null,
   "metadata": {},
   "outputs": [],
   "source": []
  },
  {
   "cell_type": "code",
   "execution_count": 13,
   "metadata": {},
   "outputs": [
    {
     "name": "stdout",
     "output_type": "stream",
     "text": [
      "      var_smoothing        F1          Std    Time    No  Attack\n",
      "--  ---------------  --------  -----------  ------  ----  --------\n",
      " 0      1.23285e-09  0.993206  1.11022e-16   0.959     9  SYN\n",
      " 1      1e-09        0.631573  0             0.652     5  HTTP\n",
      " 2      2.84804e-07  1         0             0.302     0  ACK\n",
      " 3      1.23285e-09  0.67223   0             0.631     6  UDP\n",
      " 4      1.23285e-08  0.499829  0             1.23      9  ARP\n",
      " 5      1e-09        0.976647  1.11022e-16   0.207     2  SP\n",
      " 6      0.053367     0.716004  0             0.409     2  BF\n",
      " 7      1e-09        0.791791  0             0.67      2  OS\n",
      " 8      0.00432876   0.935426  0             0.522     2  SCHD\n",
      " 9      1e-09        0.795649  0             0.347     0  MHDis\n"
     ]
    }
   ],
   "source": [
    "\n",
    "final_parametres=[[\"var_smoothing\",\"F1\",\"Std\",\"Time\",\"No\",\"Attack\"]]\n",
    "for i in results[\"Attack\"].unique():\n",
    "    df=results[results[\"Attack\"]==i]\n",
    "    m=df[\"F1\"].max()\n",
    "    df=df[df[\"F1\"]==m]\n",
    "    final_parametres.append(list(df.values)[0])\n",
    "results = pd.DataFrame (final_parametres[1:], columns=  final_parametres[0])\n",
    "print (tabulate(results, headers=list(results.columns)))\n",
    "    "
   ]
  },
  {
   "cell_type": "markdown",
   "metadata": {},
   "source": [
    "# LR"
   ]
  },
  {
   "cell_type": "code",
   "execution_count": 14,
   "metadata": {},
   "outputs": [
    {
     "name": "stdout",
     "output_type": "stream",
     "text": [
      "SYN\n",
      "default                             0.9988924618182504   0.294    0       \n"
     ]
    },
    {
     "name": "stderr",
     "output_type": "stream",
     "text": [
      "100%|██████████████████████████████████████████████████████████████████████████████████████████████████████████████████████| 10/10 [00:34<00:00,  3.41s/it]\n"
     ]
    },
    {
     "name": "stdout",
     "output_type": "stream",
     "text": [
      "HTTP\n",
      "default                             1.0                  0.453    0       \n"
     ]
    },
    {
     "name": "stderr",
     "output_type": "stream",
     "text": [
      "100%|██████████████████████████████████████████████████████████████████████████████████████████████████████████████████████| 10/10 [01:34<00:00,  9.48s/it]\n"
     ]
    },
    {
     "name": "stdout",
     "output_type": "stream",
     "text": [
      "ACK\n",
      "default                             1.0                  0.104    0       \n"
     ]
    },
    {
     "name": "stderr",
     "output_type": "stream",
     "text": [
      "100%|██████████████████████████████████████████████████████████████████████████████████████████████████████████████████████| 10/10 [02:54<00:00, 17.47s/it]\n"
     ]
    },
    {
     "name": "stdout",
     "output_type": "stream",
     "text": [
      "UDP\n",
      "default                             0.9988991362384406   0.572    0       \n"
     ]
    },
    {
     "name": "stderr",
     "output_type": "stream",
     "text": [
      "100%|█████████████████████████████████████████████████████████████████████████████████████████████████████████████████████| 10/10 [20:24<00:00, 122.49s/it]\n"
     ]
    },
    {
     "name": "stdout",
     "output_type": "stream",
     "text": [
      "ARP\n",
      "default                             0.5361275690828007   0.367    0       \n"
     ]
    },
    {
     "name": "stderr",
     "output_type": "stream",
     "text": [
      "100%|█████████████████████████████████████████████████████████████████████████████████████████████████████████████████████| 10/10 [42:08<00:00, 252.86s/it]\n"
     ]
    },
    {
     "name": "stdout",
     "output_type": "stream",
     "text": [
      "SP\n",
      "default                             0.9995471041131181   0.074    0       \n"
     ]
    },
    {
     "name": "stderr",
     "output_type": "stream",
     "text": [
      "100%|██████████████████████████████████████████████████████████████████████████████████████████████████████████████████████| 10/10 [05:08<00:00, 30.80s/it]\n"
     ]
    },
    {
     "name": "stdout",
     "output_type": "stream",
     "text": [
      "BF\n",
      "default                             0.9510509885451623   0.216    0       \n"
     ]
    },
    {
     "name": "stderr",
     "output_type": "stream",
     "text": [
      "100%|██████████████████████████████████████████████████████████████████████████████████████████████████████████████████████| 10/10 [00:27<00:00,  2.75s/it]\n"
     ]
    },
    {
     "name": "stdout",
     "output_type": "stream",
     "text": [
      "OS\n",
      "default                             0.714739951530469    0.291    0       \n"
     ]
    },
    {
     "name": "stderr",
     "output_type": "stream",
     "text": [
      "100%|██████████████████████████████████████████████████████████████████████████████████████████████████████████████████████| 10/10 [04:57<00:00, 29.71s/it]\n"
     ]
    },
    {
     "name": "stdout",
     "output_type": "stream",
     "text": [
      "SCHD\n",
      "default                             1.0                  0.383    0       \n"
     ]
    },
    {
     "name": "stderr",
     "output_type": "stream",
     "text": [
      "100%|██████████████████████████████████████████████████████████████████████████████████████████████████████████████████████| 10/10 [00:25<00:00,  2.51s/it]\n"
     ]
    },
    {
     "name": "stdout",
     "output_type": "stream",
     "text": [
      "MHDis\n",
      "default                             1.0                  0.524    0       \n"
     ]
    },
    {
     "name": "stderr",
     "output_type": "stream",
     "text": [
      "100%|██████████████████████████████████████████████████████████████████████████████████████████████████████████████████████| 10/10 [00:23<00:00,  2.31s/it]"
     ]
    },
    {
     "name": "stdout",
     "output_type": "stream",
     "text": [
      "               C  penalty    Solver           F1          Std     Time    No  Attack\n",
      "--  ------------  ---------  ---------  --------  -----------  -------  ----  --------\n",
      " 0   0.000226652  none       lbfgs      0.998892  1.11022e-16    3.965     0  SYN\n",
      " 1  59.8441       l1         liblinear  0.999708  2.01389e-05    1.851     1  SYN\n",
      " 2   0.00752025   none       lbfgs      0.998892  1.11022e-16    4.067     2  SYN\n",
      " 3   0.0373914    l1         liblinear  0.998188  0.000335314    1.763     3  SYN\n",
      " 4  54.4615       none       lbfgs      0.998892  1.11022e-16    4.474     4  SYN\n",
      " 5   0.126728     l2         lbfgs      0.998892  1.11022e-16    4.02      5  SYN\n",
      " 6  68.3723       l1         liblinear  0.999607  4.93285e-05    1.772     6  SYN\n",
      " 7   0.00140945   none       lbfgs      0.998892  1.11022e-16    4.539     7  SYN\n",
      " 8   0.33933      none       lbfgs      0.998892  1.11022e-16    3.577     8  SYN\n",
      " 9   0.281124     none       lbfgs      0.998892  1.11022e-16    4.034     9  SYN\n",
      "10   0.0463841    l2         lbfgs      1         0              4.209     0  HTTP\n",
      "11   0.00117918   none       lbfgs      0.998047  0              3.36      1  HTTP\n",
      "12   0.737957     l2         lbfgs      0.999675  0              5.067     2  HTTP\n",
      "13   1.95841      l2         lbfgs      0.999024  0              4.595     3  HTTP\n",
      "14   1.73635      l1         liblinear  0.998696  0.000413239    2.39      4  HTTP\n",
      "15   0.000270992  none       lbfgs      0.998047  0              3.391     5  HTTP\n",
      "16   1.35236      l1         liblinear  0.998107  0.000700367   34.873     6  HTTP\n",
      "17   1.60283      l1         liblinear  0.9985    0.000531105   32.153     7  HTTP\n",
      "18   0.040872     l1         liblinear  0.998696  0              1.404     8  HTTP\n",
      "19   1.74826e-05  none       lbfgs      0.998047  0              3.32      9  HTTP\n",
      "20   0.204882     l2         lbfgs      1         0             21.964     0  ACK\n",
      "21   0.42337      l1         liblinear  0.999616  0              9.163     1  ACK\n",
      "22   0.0179769    l2         liblinear  1         0             24.452     2  ACK\n",
      "23  12.1991       none       lbfgs      1         0              1.72      3  ACK\n",
      "24  16.7415       none       lbfgs      1         0              2.006     4  ACK\n",
      "25   0.156995     l2         newton-cg  0.999808  0             13.937     5  ACK\n",
      "26   0.0189367    none       lbfgs      1         0              1.75      6  ACK\n",
      "27   0.750419     l2         liblinear  1         0              1.165     7  ACK\n",
      "28   3.19707      l2         liblinear  1         0             49.466     8  ACK\n",
      "29   3.9576       l2         liblinear  1         0             48.984     9  ACK\n",
      "30  74.8807       none       lbfgs      1         0             63.765     0  UDP\n",
      "31   0.000352415  none       lbfgs      1         0             35.533     1  UDP\n",
      "32   0.0339645    l1         liblinear  0.99691   6.61666e-05   64.536     2  UDP\n",
      "33   0.0074006    l2         newton-cg  0.378109  0            296.453     3  UDP\n",
      "34   0.0365998    none       lbfgs      1         0             62.684     4  UDP\n",
      "35   0.00169156   l2         newton-cg  0.378109  0            297.579     5  UDP\n",
      "36   0.0614206    none       newton-cg  0.378109  0            236.22      6  UDP\n",
      "37  19.4827       none       lbfgs      1         0             33.513     7  UDP\n",
      "38   0.596203     none       lbfgs      1         0             99.346     8  UDP\n",
      "39   0.888459     none       lbfgs      1         0             35.219     9  UDP\n",
      "40   0.37313      l1         liblinear  0.807702  0.00264673   536.398     0  ARP\n",
      "41   3.58523e-05  l2         newton-cg  0.791983  0             57.986     1  ARP\n",
      "42   0.661343     l1         liblinear  0.805889  0.0044485    295.116     2  ARP\n",
      "43   0.00824878   l1         liblinear  0.803143  0.00728071   497.941     3  ARP\n",
      "44   7.80105e-05  l2         newton-cg  0.792699  0             64.904     4  ARP\n",
      "45   0.179854     l2         newton-cg  0.79386   0             72.883     5  ARP\n",
      "46   0.292296     none       newton-cg  0.792132  0             55.322     6  ARP\n",
      "47   0.466495     l1         liblinear  0.805713  0.0027821    397.244     7  ARP\n",
      "48  74.5065       l1         liblinear  0.811504  0.000597357  484.786     8  ARP\n",
      "49   3.11042      l2         newton-cg  0.797229  0             66.004     9  ARP\n",
      "50   1.35396      l2         lbfgs      0.999547  0              0.664     0  SP\n",
      "51   2.45721      none       lbfgs      1         0             18.726     1  SP\n",
      "52   0.0026871    none       lbfgs      1         0             56.143     2  SP\n",
      "53  22.5862       l2         lbfgs      1         0             20.027     3  SP\n",
      "54   0.000172447  l1         liblinear  0.99752   1.11022e-16   39.382     4  SP\n",
      "55   0.000913561  l2         liblinear  0.999547  0             19.281     5  SP\n",
      "56   0.000432776  none       lbfgs      1         0             57.484     6  SP\n",
      "57   3.03101e-05  none       lbfgs      1         0             74.049     7  SP\n",
      "58   0.790173     none       lbfgs      1         0              0.784     8  SP\n",
      "59   1.7065       l2         lbfgs      0.999774  0             21.471     9  SP\n",
      "60  27.4817       l1         liblinear  0.999589  0.000502913    2.777     0  BF\n",
      "61  56.5507       l1         liblinear  0.999589  0.000502913    2.478     1  BF\n",
      "62  90.6797       l2         liblinear  0.988749  1.11022e-16    2.494     2  BF\n",
      "63   0.112243     l1         liblinear  0.99337   1.11022e-16    1.752     3  BF\n",
      "64  49.8974       l1         liblinear  0.999589  0.000502913    2.28      4  BF\n",
      "65   0.0315598    l2         liblinear  0.984573  1.11022e-16    2.866     5  BF\n",
      "66   4.66338      none       lbfgs      0.950471  1.11022e-16    2.166     6  BF\n",
      "67   1.56905      l1         liblinear  0.999485  0              4.822     7  BF\n",
      "68   0.234004     l2         liblinear  0.987203  1.11022e-16    3.246     8  BF\n",
      "69   0.0567434    l1         liblinear  0.99031   0              2.622     9  BF\n",
      "70  29.4052       l1         liblinear  1         0             24.126     0  OS\n",
      "71  72.3286       none       lbfgs      0.839049  0              2.984     1  OS\n",
      "72   0.000154661  l2         newton-cg  1         0             71.954     2  OS\n",
      "73   1.11472e-05  l2         lbfgs      0.922014  0             27.253     3  OS\n",
      "74   0.00147313   l1         liblinear  0.998688  0             19.941     4  OS\n",
      "75   0.897775     l2         lbfgs      0.858781  0              3.144     5  OS\n",
      "76   0.000993053  l2         newton-cg  1         0             51.291     6  OS\n",
      "77  17.3249       l1         liblinear  1         0             34.634     7  OS\n",
      "78   0.0100476    l2         lbfgs      0.994725  0             33.158     8  OS\n",
      "79   0.77286      l1         liblinear  1         0             28.577     9  OS\n",
      "80   0.820152     none       lbfgs      1         0              2.125     0  SCHD\n",
      "81   3.94094      none       newton-cg  0.488091  0              1.433     1  SCHD\n",
      "82   3.81804      none       lbfgs      1         0              3.032     2  SCHD\n",
      "83   7.82737e-05  none       lbfgs      1         0              2.381     3  SCHD\n",
      "84   3.27254      none       lbfgs      1         0              2.709     4  SCHD\n",
      "85  19.9032       l2         lbfgs      1         0              4.018     5  SCHD\n",
      "86   3.42044e-05  l2         lbfgs      0.991015  0              1.782     6  SCHD\n",
      "87  71.1797       l2         lbfgs      1         0              3.387     7  SCHD\n",
      "88   0.000159303  l2         liblinear  0.990495  0              1.115     8  SCHD\n",
      "89   0.0253807    l2         lbfgs      0.997327  1.11022e-16    3.093     9  SCHD\n",
      "90   0.000453162  none       lbfgs      1         0              2.118     0  MHDis\n",
      "91   2.55879e-05  l2         liblinear  0.973465  0              1.473     1  MHDis\n",
      "92  19.4944       none       lbfgs      1         0              2.961     2  MHDis\n",
      "93   0.00643234   none       lbfgs      1         0              2.413     3  MHDis\n",
      "94   0.00178308   l2         lbfgs      0.998787  0              2.652     4  MHDis\n",
      "95  12.7576       none       lbfgs      1         0              2.633     5  MHDis\n",
      "96  20.0028       l2         lbfgs      1         0              2.931     6  MHDis\n",
      "97   0.150955     l2         lbfgs      0.998787  0              2.978     7  MHDis\n",
      "98   8.20066      none       lbfgs      1         0              1.682     8  MHDis\n",
      "99   0.0317035    l2         liblinear  0.973465  0              1.226     9  MHDis\n",
      "               C  penalty    Solver           F1          Std     Time    No  Attack\n",
      "--  ------------  ---------  ---------  --------  -----------  -------  ----  --------\n",
      " 0  59.8441       l1         liblinear  0.999708  2.01389e-05    1.851     1  SYN\n",
      " 1   0.0463841    l2         lbfgs      1         0              4.209     0  HTTP\n",
      " 2   0.204882     l2         lbfgs      1         0             21.964     0  ACK\n",
      " 3  74.8807       none       lbfgs      1         0             63.765     0  UDP\n",
      " 4  74.5065       l1         liblinear  0.811504  0.000597357  484.786     8  ARP\n",
      " 5   2.45721      none       lbfgs      1         0             18.726     1  SP\n",
      " 6  27.4817       l1         liblinear  0.999589  0.000502913    2.777     0  BF\n",
      " 7  29.4052       l1         liblinear  1         0             24.126     0  OS\n",
      " 8   0.820152     none       lbfgs      1         0              2.125     0  SCHD\n",
      " 9   0.000453162  none       lbfgs      1         0              2.118     0  MHDis\n"
     ]
    },
    {
     "name": "stderr",
     "output_type": "stream",
     "text": [
      "\n"
     ]
    }
   ],
   "source": [
    "from scipy.stats import loguniform\n",
    "from sklearn.linear_model import LogisticRegression\n",
    "lines=[[\"C\",'penalty','Solver',  \"F1\",\"Std\",\"Time\",\"No\",\"Attack\"]]\n",
    "for j in file_list:\n",
    "    print(j)\n",
    "    \n",
    "    df=pd.read_csv(file_list[j][0],usecols=feature_list[j]) \n",
    "    X_train = df.iloc[:,0:-1]\n",
    "    df['Label'] = df['Label'].astype('category')\n",
    "    y_train=df['Label'].cat.codes  \n",
    "\n",
    "\n",
    "    df=pd.read_csv(file_list[j][1],usecols=feature_list[j]) \n",
    "    X_test = df.iloc[:,0:-1]\n",
    "    df['Label'] = df['Label'].astype('category')\n",
    "    y_test=df['Label'].cat.codes  \n",
    "    \n",
    "    X= np.concatenate([X_train, X_test])\n",
    "    test_fold = [-1 for _ in range(X_train.shape[0])] + [0 for _ in range(X_test.shape[0])]\n",
    "    y = np.concatenate([y_train, y_test])\n",
    "    ps = PredefinedSplit(test_fold)\n",
    "    \n",
    "    second=time()\n",
    "\n",
    "    param_grid = {\n",
    "     'solver': ['newton-cg', 'lbfgs', 'liblinear'],\n",
    "    'penalty' : ['none', 'l1', 'l2', 'elasticnet'],\n",
    "    'C' : loguniform(1e-5, 100)\n",
    "        }\n",
    "    \n",
    "\n",
    " \n",
    "    second=time()\n",
    "    f1=[]\n",
    "    clf=LogisticRegression()\n",
    "    for ii in range(1):\n",
    "        clf.fit(X_train, y_train)\n",
    "        predict =clf.predict(X_test)\n",
    "        f1.append(sklearn.metrics.f1_score(y_test, predict,average= \"macro\") )\n",
    "    f1=sum(f1)/len(f1)   \n",
    "    #if f1>0.76:\n",
    "    print('%-35s %-20s %-8s %-8s' % (\"default\",f1,round(time()-second,3),ii))\n",
    "    ######################################################################################################################\n",
    "    for i in tqdm(range(10)):\n",
    "        second=time()\n",
    "        a,b,clf=run_random_search(LogisticRegression(),param_grid,X,y)\n",
    "        f1=[]\n",
    "        for ii in range(5):\n",
    "            clf.fit(X_train, y_train)\n",
    "            predict =clf.predict(X_test)\n",
    "            f1.append(sklearn.metrics.f1_score(y_test, predict,average= \"macro\") )\n",
    "        f1_result=sum(f1)/len(f1)   \n",
    "        f1=np.array(f1)\n",
    "        stndtd=f1.std()\n",
    "        temp=list(a.values())\n",
    "        #print('%-90s %-20s %-8s %-8s' % (a,f1_result,round(time()-second,3),i))\n",
    "        temp=temp+[f1_result,stndtd,round(time()-second,3),i,j]\n",
    "        lines.append(temp)\n",
    "\n",
    "\n",
    "results = pd.DataFrame (lines[1:], columns = lines[0])\n",
    "results.to_csv(\"LR_HPO.csv\",index=False)\n",
    "print (tabulate(results, headers=list(results.columns)))\n",
    "    \n",
    "final_parametres=[[\"C\",'penalty','Solver',  \"F1\",\"Std\",\"Time\",\"No\",\"Attack\"]]\n",
    "for i in results[\"Attack\"].unique():\n",
    "    df=results[results[\"Attack\"]==i]\n",
    "    m=df[\"F1\"].max()\n",
    "    df=df[df[\"F1\"]==m]\n",
    "    final_parametres.append(list(df.values)[0])\n",
    "results = pd.DataFrame (final_parametres[1:], columns=  final_parametres[0])\n",
    "print (tabulate(results, headers=list(results.columns)))\n",
    "    "
   ]
  },
  {
   "cell_type": "markdown",
   "metadata": {},
   "source": [
    "# MLP"
   ]
  },
  {
   "cell_type": "code",
   "execution_count": 8,
   "metadata": {},
   "outputs": [],
   "source": [
    "import scipy.stats\n",
    "from sklearn.datasets import fetch_openml\n",
    "from sklearn.neural_network import MLPClassifier\n",
    "from sklearn.model_selection import RandomizedSearchCV\n",
    "\n",
    "\n",
    "param_dist = [\n",
    "    {'hidden_layer_sizes': (scipy.stats.randint(low=2**5, high=2**11+1).rvs(), )}\n",
    "    for _ in range(100)] + [\n",
    "    {'hidden_layer_sizes': (\n",
    "            scipy.stats.randint(low=2 ** 5, high=2 ** 11 + 1).rvs(),\n",
    "            scipy.stats.randint(low=2 ** 5, high=2 ** 11 + 1).rvs(),\n",
    "    )} for i in range(100)\n",
    "]\n",
    "\n",
    "layers=[]\n",
    "\n",
    "for i in param_dist:\n",
    "    layers.append(i['hidden_layer_sizes'])\n",
    "\n",
    "\n",
    "\n",
    "param_grid =  {\n",
    "    'hidden_layer_sizes': layers,\n",
    "    'solver': ['sgd', 'adam', 'lbfgs'],\n",
    "    'activation': ['relu', 'tanh'],\n",
    "    'alpha': [0.0001,0.001,0.01,0.1, 0.05],\n",
    "    'learning_rate': ['constant','adaptive']\n",
    "}\n"
   ]
  },
  {
   "cell_type": "code",
   "execution_count": 9,
   "metadata": {},
   "outputs": [
    {
     "name": "stdout",
     "output_type": "stream",
     "text": [
      "SYN\n",
      "default                             0.9992447910957365   4.668    0       \n"
     ]
    },
    {
     "name": "stderr",
     "output_type": "stream",
     "text": [
      "100%|███████████████████████████████████████████| 1/1 [32:10<00:00, 1930.51s/it]"
     ]
    },
    {
     "name": "stdout",
     "output_type": "stream",
     "text": [
      "{'solver': 'adam', 'learning_rate': 'adaptive', 'hidden_layer_sizes': (1184, 433), 'alpha': 0.05, 'activation': 'relu'} 0.9971302541324346   1930.511 0       \n",
      "HTTP\n"
     ]
    },
    {
     "name": "stderr",
     "output_type": "stream",
     "text": [
      "\n"
     ]
    },
    {
     "name": "stdout",
     "output_type": "stream",
     "text": [
      "default                             0.9916266889370977   2.903    0       \n"
     ]
    },
    {
     "name": "stderr",
     "output_type": "stream",
     "text": [
      "100%|████████████████████████████████████████████| 1/1 [07:44<00:00, 464.25s/it]"
     ]
    },
    {
     "name": "stdout",
     "output_type": "stream",
     "text": [
      "{'solver': 'adam', 'learning_rate': 'adaptive', 'hidden_layer_sizes': (439,), 'alpha': 0.0001, 'activation': 'relu'} 0.9960702057738502   464.244  0       \n",
      "ACK\n"
     ]
    },
    {
     "name": "stderr",
     "output_type": "stream",
     "text": [
      "\n"
     ]
    },
    {
     "name": "stdout",
     "output_type": "stream",
     "text": [
      "default                             1.0                  1.926    0       \n"
     ]
    },
    {
     "name": "stderr",
     "output_type": "stream",
     "text": [
      "100%|███████████████████████████████████████████| 1/1 [22:44<00:00, 1364.70s/it]"
     ]
    },
    {
     "name": "stdout",
     "output_type": "stream",
     "text": [
      "{'solver': 'lbfgs', 'learning_rate': 'adaptive', 'hidden_layer_sizes': (1193, 630), 'alpha': 0.05, 'activation': 'tanh'} 1.0                  1364.698 0       \n",
      "UDP\n"
     ]
    },
    {
     "name": "stderr",
     "output_type": "stream",
     "text": [
      "\n"
     ]
    },
    {
     "name": "stdout",
     "output_type": "stream",
     "text": [
      "default                             1.0                  10.476   0       \n"
     ]
    },
    {
     "name": "stderr",
     "output_type": "stream",
     "text": [
      "100%|███████████████████████████████████████████| 1/1 [41:33<00:00, 2493.75s/it]"
     ]
    },
    {
     "name": "stdout",
     "output_type": "stream",
     "text": [
      "{'solver': 'adam', 'learning_rate': 'adaptive', 'hidden_layer_sizes': (1391, 1912), 'alpha': 0.0001, 'activation': 'relu'} 0.9994232269430599   2493.751 0       \n",
      "ARP\n"
     ]
    },
    {
     "name": "stderr",
     "output_type": "stream",
     "text": [
      "\n"
     ]
    },
    {
     "name": "stdout",
     "output_type": "stream",
     "text": [
      "default                             0.714835629094226    7.86     0       \n"
     ]
    },
    {
     "name": "stderr",
     "output_type": "stream",
     "text": [
      "100%|████████████████████████████████████████████| 1/1 [13:16<00:00, 796.35s/it]"
     ]
    },
    {
     "name": "stdout",
     "output_type": "stream",
     "text": [
      "{'solver': 'adam', 'learning_rate': 'constant', 'hidden_layer_sizes': (1015,), 'alpha': 0.1, 'activation': 'relu'} 0.7976277234692284   796.353  0       \n",
      "SP\n"
     ]
    },
    {
     "name": "stderr",
     "output_type": "stream",
     "text": [
      "\n"
     ]
    },
    {
     "name": "stdout",
     "output_type": "stream",
     "text": [
      "default                             0.9997736319386206   1.423    0       \n"
     ]
    },
    {
     "name": "stderr",
     "output_type": "stream",
     "text": [
      "100%|████████████████████████████████████████████| 1/1 [01:46<00:00, 106.93s/it]"
     ]
    },
    {
     "name": "stdout",
     "output_type": "stream",
     "text": [
      "{'solver': 'adam', 'learning_rate': 'constant', 'hidden_layer_sizes': (851, 318), 'alpha': 0.0001, 'activation': 'relu'} 1.0                  106.928  0       \n",
      "BF\n"
     ]
    },
    {
     "name": "stderr",
     "output_type": "stream",
     "text": [
      "\n"
     ]
    },
    {
     "name": "stdout",
     "output_type": "stream",
     "text": [
      "default                             0.8524523699842554   2.962    0       \n"
     ]
    },
    {
     "name": "stderr",
     "output_type": "stream",
     "text": [
      "100%|███████████████████████████████████████████| 1/1 [16:47<00:00, 1007.98s/it]"
     ]
    },
    {
     "name": "stdout",
     "output_type": "stream",
     "text": [
      "{'solver': 'adam', 'learning_rate': 'adaptive', 'hidden_layer_sizes': (1129, 732), 'alpha': 0.001, 'activation': 'relu'} 0.9678714296312099   1007.974 0       \n",
      "OS\n"
     ]
    },
    {
     "name": "stderr",
     "output_type": "stream",
     "text": [
      "\n"
     ]
    },
    {
     "name": "stdout",
     "output_type": "stream",
     "text": [
      "default                             1.0                  3.231    0       \n"
     ]
    },
    {
     "name": "stderr",
     "output_type": "stream",
     "text": [
      "100%|███████████████████████████████████████████| 1/1 [26:28<00:00, 1588.01s/it]"
     ]
    },
    {
     "name": "stdout",
     "output_type": "stream",
     "text": [
      "{'solver': 'lbfgs', 'learning_rate': 'constant', 'hidden_layer_sizes': (851, 318), 'alpha': 0.01, 'activation': 'tanh'} 0.485319097306479    1588.009 0       \n",
      "SCHD\n"
     ]
    },
    {
     "name": "stderr",
     "output_type": "stream",
     "text": [
      "\n"
     ]
    },
    {
     "name": "stdout",
     "output_type": "stream",
     "text": [
      "default                             0.9994632280232231   2.671    0       \n"
     ]
    },
    {
     "name": "stderr",
     "output_type": "stream",
     "text": [
      "100%|███████████████████████████████████████████| 1/1 [19:57<00:00, 1197.30s/it]"
     ]
    },
    {
     "name": "stdout",
     "output_type": "stream",
     "text": [
      "{'solver': 'lbfgs', 'learning_rate': 'adaptive', 'hidden_layer_sizes': (310, 1663), 'alpha': 0.1, 'activation': 'tanh'} 1.0                  1197.298 0       \n",
      "MHDis\n"
     ]
    },
    {
     "name": "stderr",
     "output_type": "stream",
     "text": [
      "\n"
     ]
    },
    {
     "name": "stdout",
     "output_type": "stream",
     "text": [
      "default                             1.0                  1.55     0       \n"
     ]
    },
    {
     "name": "stderr",
     "output_type": "stream",
     "text": [
      "100%|███████████████████████████████████████████| 1/1 [26:55<00:00, 1615.16s/it]"
     ]
    },
    {
     "name": "stdout",
     "output_type": "stream",
     "text": [
      "{'solver': 'adam', 'learning_rate': 'constant', 'hidden_layer_sizes': (1568, 1928), 'alpha': 0.01, 'activation': 'tanh'} 0.9987873502938804   1615.159 0       \n",
      "    solver    learning_rate    hidden_layer_sizes      alpha  activation          F1    Std      Time    No  Attack\n",
      "--  --------  ---------------  --------------------  -------  ------------  --------  -----  --------  ----  --------\n",
      " 0  adam      adaptive         (1184, 433)            0.05    relu          0.99713       0  1930.51      0  SYN\n",
      " 1  adam      adaptive         (439,)                 0.0001  relu          0.99607       0   464.244     0  HTTP\n",
      " 2  lbfgs     adaptive         (1193, 630)            0.05    tanh          1             0  1364.7       0  ACK\n",
      " 3  adam      adaptive         (1391, 1912)           0.0001  relu          0.999423      0  2493.75      0  UDP\n",
      " 4  adam      constant         (1015,)                0.1     relu          0.797628      0   796.353     0  ARP\n",
      " 5  adam      constant         (851, 318)             0.0001  relu          1             0   106.928     0  SP\n",
      " 6  adam      adaptive         (1129, 732)            0.001   relu          0.967871      0  1007.97      0  BF\n",
      " 7  lbfgs     constant         (851, 318)             0.01    tanh          0.485319      0  1588.01      0  OS\n",
      " 8  lbfgs     adaptive         (310, 1663)            0.1     tanh          1             0  1197.3       0  SCHD\n",
      " 9  adam      constant         (1568, 1928)           0.01    tanh          0.998787      0  1615.16      0  MHDis\n"
     ]
    },
    {
     "name": "stderr",
     "output_type": "stream",
     "text": [
      "\n"
     ]
    }
   ],
   "source": [
    "# MLP\n",
    "\n",
    "import scipy.stats\n",
    "from sklearn.datasets import fetch_openml\n",
    "from sklearn.neural_network import MLPClassifier\n",
    "from sklearn.model_selection import RandomizedSearchCV\n",
    "\n",
    "\n",
    "param_dist = [\n",
    "    {'hidden_layer_sizes': (scipy.stats.randint(low=2**5, high=2**11+1).rvs(), )}\n",
    "    for _ in range(100)] + [\n",
    "    {'hidden_layer_sizes': (\n",
    "            scipy.stats.randint(low=2 ** 5, high=2 ** 11 + 1).rvs(),\n",
    "            scipy.stats.randint(low=2 ** 5, high=2 ** 11 + 1).rvs(),\n",
    "    )} for i in range(100)\n",
    "]\n",
    "\n",
    "layers=[]\n",
    "\n",
    "for i in param_dist:\n",
    "    layers.append(i['hidden_layer_sizes'])\n",
    "\n",
    "\n",
    "\n",
    "param_grid =  {\n",
    "    'hidden_layer_sizes': layers,\n",
    "    'solver': ['sgd', 'adam', 'lbfgs'],\n",
    "    'activation': ['relu', 'tanh'],\n",
    "    'alpha': [0.0001,0.001,0.01,0.1, 0.05],\n",
    "    'learning_rate': ['constant','adaptive']\n",
    "}\n",
    "\n",
    "\n",
    "\n",
    "\n",
    "lines=[['solver', 'learning_rate','hidden_layer_sizes','alpha','activation', \"F1\",\"Std\",\"Time\",\"No\",\"Attack\"]]\n",
    "\n",
    "\n",
    "for j in file_list:\n",
    "    print(j)\n",
    "    \n",
    "    \n",
    "    df=pd.read_csv(file_list[j][0],usecols=feature_list[j]) \n",
    "    X_train = df.iloc[:,0:-1]\n",
    "    df['Label'] = df['Label'].astype('category')\n",
    "    y_train=df['Label'].cat.codes  \n",
    "\n",
    "\n",
    "    df=pd.read_csv(file_list[j][1],usecols=feature_list[j]) \n",
    "    X_test = df.iloc[:,0:-1]\n",
    "    df['Label'] = df['Label'].astype('category')\n",
    "    y_test=df['Label'].cat.codes  \n",
    "    \n",
    "    X= np.concatenate([X_train, X_test])\n",
    "    test_fold = [-1 for _ in range(X_train.shape[0])] + [0 for _ in range(X_test.shape[0])]\n",
    "    y = np.concatenate([y_train, y_test])\n",
    "    ps = PredefinedSplit(test_fold)\n",
    "    \n",
    "\n",
    "    param_grid =  {\n",
    "        'hidden_layer_sizes': layers,\n",
    "        'solver': ['sgd', 'adam', 'lbfgs'],\n",
    "        'activation': ['relu', 'tanh'],\n",
    "        'alpha': [0.0001,0.001,0.01,0.1, 0.05],\n",
    "        'learning_rate': ['constant','adaptive']\n",
    "    }\n",
    "\n",
    "\n",
    "\n",
    "    second=time()\n",
    "    f1=[]\n",
    "    clf=MLPClassifier()\n",
    "    for ii in range(1):\n",
    "        clf.fit(X_train, y_train)\n",
    "        predict =clf.predict(X_test)\n",
    "        f1.append(sklearn.metrics.f1_score(y_test, predict,average= \"macro\") )\n",
    "    f1=sum(f1)/len(f1)   \n",
    "    #if f1>0.76:\n",
    "    print('%-35s %-20s %-8s %-8s' % (\"default\",f1,round(time()-second,3),ii))\n",
    "\n",
    "\n",
    "    \n",
    "    ######################################################################################################################\n",
    "    for i in tqdm(range(1)):\n",
    "        second=time()\n",
    "        a,b,clf=run_random_search(MLPClassifier(),param_grid,X,y)\n",
    "        f1=[]\n",
    "        for ii in range(1):\n",
    "            clf.fit(X_train, y_train)\n",
    "            predict =clf.predict(X_test)\n",
    "            f1.append(sklearn.metrics.f1_score(y_test, predict,average= \"macro\") )\n",
    "        f1_result=sum(f1)/len(f1)   \n",
    "        f1=np.array(f1)\n",
    "        stndtd=f1.std()\n",
    "        temp=list(a.values())\n",
    "        print('%-90s %-20s %-8s %-8s' % (a,f1_result,round(time()-second,3),i))\n",
    "        temp=temp+[f1_result,stndtd,round(time()-second,3),i,j]\n",
    "        lines.append(temp)\n",
    "\n",
    "        #if f1>0.76:\n",
    "\n",
    "results = pd.DataFrame (lines[1:], columns = lines[0])\n",
    "results.to_csv(\"ann_HPO.csv\",index=False)\n",
    "\n",
    "\n",
    "print (tabulate(results, headers=list(results.columns)))\n",
    "    \n",
    "    "
   ]
  },
  {
   "cell_type": "markdown",
   "metadata": {},
   "source": [
    "-------------"
   ]
  },
  {
   "cell_type": "markdown",
   "metadata": {},
   "source": [
    "# RandomizedSearchCV  SVM"
   ]
  },
  {
   "cell_type": "code",
   "execution_count": 10,
   "metadata": {},
   "outputs": [
    {
     "name": "stdout",
     "output_type": "stream",
     "text": [
      "SYN\n",
      "default                             0.9258933118713963   14.975   0       \n"
     ]
    },
    {
     "name": "stderr",
     "output_type": "stream",
     "text": [
      "100%|████████████████████████████████████████████| 1/1 [08:57<00:00, 537.67s/it]"
     ]
    },
    {
     "name": "stdout",
     "output_type": "stream",
     "text": [
      "{'gamma': 1, 'C': 10}                                                                      0.9998489480892209   537.668  0       \n",
      "HTTP\n"
     ]
    },
    {
     "name": "stderr",
     "output_type": "stream",
     "text": [
      "\n"
     ]
    },
    {
     "name": "stdout",
     "output_type": "stream",
     "text": [
      "default                             0.4897829026250669   3.253    0       \n"
     ]
    },
    {
     "name": "stderr",
     "output_type": "stream",
     "text": [
      "100%|████████████████████████████████████████████| 1/1 [10:42<00:00, 642.06s/it]"
     ]
    },
    {
     "name": "stdout",
     "output_type": "stream",
     "text": [
      "{'gamma': 1, 'C': 1}                                                                       1.0                  642.06   0       \n",
      "ACK\n"
     ]
    },
    {
     "name": "stderr",
     "output_type": "stream",
     "text": [
      "\n"
     ]
    },
    {
     "name": "stdout",
     "output_type": "stream",
     "text": [
      "default                             0.9957476254353852   0.247    0       \n"
     ]
    },
    {
     "name": "stderr",
     "output_type": "stream",
     "text": [
      "100%|████████████████████████████████████████████| 1/1 [03:27<00:00, 207.41s/it]"
     ]
    },
    {
     "name": "stdout",
     "output_type": "stream",
     "text": [
      "{'gamma': 1, 'C': 10}                                                                      1.0                  207.411  0       \n",
      "UDP\n"
     ]
    },
    {
     "name": "stderr",
     "output_type": "stream",
     "text": [
      "\n"
     ]
    },
    {
     "name": "stdout",
     "output_type": "stream",
     "text": [
      "default                             0.37810945273631835  33.608   0       \n"
     ]
    },
    {
     "name": "stderr",
     "output_type": "stream",
     "text": [
      "100%|█████████████████████████████████████████████| 1/1 [00:59<00:00, 59.59s/it]"
     ]
    },
    {
     "name": "stdout",
     "output_type": "stream",
     "text": [
      "{'gamma': 0.1, 'C': 10}                                                                    1.0                  59.592   0       \n",
      "ARP\n"
     ]
    },
    {
     "name": "stderr",
     "output_type": "stream",
     "text": [
      "\n"
     ]
    },
    {
     "name": "stdout",
     "output_type": "stream",
     "text": [
      "default                             0.4286040797668705   38.138   0       \n"
     ]
    },
    {
     "name": "stderr",
     "output_type": "stream",
     "text": [
      "100%|███████████████████████████████████████████| 1/1 [25:29<00:00, 1529.95s/it]"
     ]
    },
    {
     "name": "stdout",
     "output_type": "stream",
     "text": [
      "{'gamma': 0.01, 'C': 1}                                                                    1.0                  1529.95  0       \n",
      "SP\n"
     ]
    },
    {
     "name": "stderr",
     "output_type": "stream",
     "text": [
      "\n"
     ]
    },
    {
     "name": "stdout",
     "output_type": "stream",
     "text": [
      "default                             0.9067126722391889   1.384    0       \n"
     ]
    },
    {
     "name": "stderr",
     "output_type": "stream",
     "text": [
      "100%|████████████████████████████████████████████| 1/1 [01:58<00:00, 118.96s/it]"
     ]
    },
    {
     "name": "stdout",
     "output_type": "stream",
     "text": [
      "{'gamma': 1, 'C': 1}                                                                       1.0                  118.961  0       \n",
      "BF\n"
     ]
    },
    {
     "name": "stderr",
     "output_type": "stream",
     "text": [
      "\n"
     ]
    },
    {
     "name": "stdout",
     "output_type": "stream",
     "text": [
      "default                             0.7108853067229578   1.155    0       \n"
     ]
    },
    {
     "name": "stderr",
     "output_type": "stream",
     "text": [
      "100%|████████████████████████████████████████████| 1/1 [01:41<00:00, 101.16s/it]"
     ]
    },
    {
     "name": "stdout",
     "output_type": "stream",
     "text": [
      "{'gamma': 0.01, 'C': 10}                                                                   1.0                  101.159  0       \n",
      "OS\n"
     ]
    },
    {
     "name": "stderr",
     "output_type": "stream",
     "text": [
      "\n"
     ]
    },
    {
     "name": "stdout",
     "output_type": "stream",
     "text": [
      "default                             0.485319097306479    1.633    0       \n"
     ]
    },
    {
     "name": "stderr",
     "output_type": "stream",
     "text": [
      "100%|████████████████████████████████████████████| 1/1 [05:03<00:00, 303.61s/it]"
     ]
    },
    {
     "name": "stdout",
     "output_type": "stream",
     "text": [
      "{'gamma': 0.01, 'C': 10}                                                                   1.0                  303.606  0       \n",
      "SCHD\n"
     ]
    },
    {
     "name": "stderr",
     "output_type": "stream",
     "text": [
      "\n"
     ]
    },
    {
     "name": "stdout",
     "output_type": "stream",
     "text": [
      "default                             0.48809058961343227  1.043    0       \n"
     ]
    },
    {
     "name": "stderr",
     "output_type": "stream",
     "text": [
      "100%|█████████████████████████████████████████████| 1/1 [01:32<00:00, 92.68s/it]"
     ]
    },
    {
     "name": "stdout",
     "output_type": "stream",
     "text": [
      "{'gamma': 1, 'C': 10}                                                                      1.0                  92.677   0       \n",
      "MHDis\n"
     ]
    },
    {
     "name": "stderr",
     "output_type": "stream",
     "text": [
      "\n"
     ]
    },
    {
     "name": "stdout",
     "output_type": "stream",
     "text": [
      "default                             0.49480455220188024  0.422    0       \n"
     ]
    },
    {
     "name": "stderr",
     "output_type": "stream",
     "text": [
      "100%|████████████████████████████████████████████| 1/1 [02:28<00:00, 148.37s/it]"
     ]
    },
    {
     "name": "stdout",
     "output_type": "stream",
     "text": [
      "{'gamma': 0.1, 'C': 1}                                                                     1.0                  148.366  0       \n",
      "      gamma    C        F1    Std      Time    No  Attack\n",
      "--  -------  ---  --------  -----  --------  ----  --------\n",
      " 0     1      10  0.999849      0   537.668     0  SYN\n",
      " 1     1       1  1             0   642.06      0  HTTP\n",
      " 2     1      10  1             0   207.411     0  ACK\n",
      " 3     0.1    10  1             0    59.592     0  UDP\n",
      " 4     0.01    1  1             0  1529.95      0  ARP\n",
      " 5     1       1  1             0   118.961     0  SP\n",
      " 6     0.01   10  1             0   101.159     0  BF\n",
      " 7     0.01   10  1             0   303.606     0  OS\n",
      " 8     1      10  1             0    92.677     0  SCHD\n",
      " 9     0.1     1  1             0   148.366     0  MHDis\n"
     ]
    },
    {
     "name": "stderr",
     "output_type": "stream",
     "text": [
      "\n"
     ]
    }
   ],
   "source": [
    "lines=[[ 'gamma','C', \"F1\",\"Std\",\"Time\",\"No\",\"Attack\"]]\n",
    "\n",
    "\n",
    "for j in file_list:\n",
    "    print(j)\n",
    "    \n",
    "    \n",
    "    df=pd.read_csv(file_list[j][0],usecols=feature_list[j]) \n",
    "    X_train = df.iloc[:,0:-1]\n",
    "    df['Label'] = df['Label'].astype('category')\n",
    "    y_train=df['Label'].cat.codes  \n",
    "\n",
    "\n",
    "    df=pd.read_csv(file_list[j][1],usecols=feature_list[j]) \n",
    "    X_test = df.iloc[:,0:-1]\n",
    "    df['Label'] = df['Label'].astype('category')\n",
    "    y_test=df['Label'].cat.codes  \n",
    "    \n",
    "    X= np.concatenate([X_train, X_test])\n",
    "    test_fold = [-1 for _ in range(X_train.shape[0])] + [0 for _ in range(X_test.shape[0])]\n",
    "    y = np.concatenate([y_train, y_test])\n",
    "    ps = PredefinedSplit(test_fold)\n",
    "    \n",
    "\n",
    "\n",
    "    param_grid =  {'C': [0.001, 0.01, 0.1, 1, 10], 'gamma' : [0.001, 0.01, 0.1, 1]}  \n",
    "\n",
    "    second=time()\n",
    "    f1=[]\n",
    "    clf=svm.SVC()\n",
    "    for ii in range(1):\n",
    "        clf.fit(X_train, y_train)\n",
    "        predict =clf.predict(X_test)\n",
    "        f1.append(sklearn.metrics.f1_score(y_test, predict,average= \"macro\") )\n",
    "    f1=sum(f1)/len(f1)   \n",
    "    #if f1>0.76:\n",
    "    print('%-35s %-20s %-8s %-8s' % (\"default\",f1,round(time()-second,3),ii))\n",
    "\n",
    "\n",
    "    \n",
    "    ######################################################################################################################\n",
    "    for i in tqdm(range(1)):\n",
    "        second=time()\n",
    "        a,b,clf=run_random_search(svm.SVC(),param_grid,X,y)\n",
    "        f1=[]\n",
    "        for ii in range(1):\n",
    "            clf.fit(X_train, y_train)\n",
    "            predict =clf.predict(X_test)\n",
    "            f1.append(sklearn.metrics.f1_score(y_test, predict,average= \"macro\") )\n",
    "        f1_result=sum(f1)/len(f1)   \n",
    "        f1=np.array(f1)\n",
    "        stndtd=f1.std()\n",
    "        temp=list(a.values())\n",
    "        print('%-90s %-20s %-8s %-8s' % (a,f1_result,round(time()-second,3),i))\n",
    "        temp=temp+[f1_result,stndtd,round(time()-second,3),i,j]\n",
    "        lines.append(temp)\n",
    "\n",
    "        #if f1>0.76:\n",
    "\n",
    "results = pd.DataFrame (lines[1:], columns = lines[0])\n",
    "results.to_csv(\"svm_HPO.csv\",index=False)\n",
    "\n",
    "\n",
    "print (tabulate(results, headers=list(results.columns)))\n",
    "    \n",
    "    "
   ]
  },
  {
   "cell_type": "code",
   "execution_count": null,
   "metadata": {},
   "outputs": [],
   "source": []
  },
  {
   "cell_type": "code",
   "execution_count": null,
   "metadata": {},
   "outputs": [],
   "source": [
    "import xgboost"
   ]
  },
  {
   "cell_type": "code",
   "execution_count": null,
   "metadata": {},
   "outputs": [],
   "source": []
  }
 ],
 "metadata": {
  "kernelspec": {
   "display_name": "Python 3 (ipykernel)",
   "language": "python",
   "name": "python3"
  },
  "language_info": {
   "codemirror_mode": {
    "name": "ipython",
    "version": 3
   },
   "file_extension": ".py",
   "mimetype": "text/x-python",
   "name": "python",
   "nbconvert_exporter": "python",
   "pygments_lexer": "ipython3",
   "version": "3.10.8"
  }
 },
 "nbformat": 4,
 "nbformat_minor": 2
}
