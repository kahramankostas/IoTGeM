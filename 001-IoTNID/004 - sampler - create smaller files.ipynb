{
 "cells": [
  {
   "cell_type": "code",
   "execution_count": 5,
   "id": "314abd6a",
   "metadata": {},
   "outputs": [
    {
     "data": {
      "text/plain": [
       "['./SW\\\\DoS-SYN-1.csv',\n",
       " './SW\\\\DoS-SYN-2.csv',\n",
       " './SW\\\\DoS-SYN-3.csv',\n",
       " './SW\\\\DoS-SYN-4.csv',\n",
       " './SW\\\\DoS-SYN-5.csv',\n",
       " './SW\\\\DoS-SYN-6.csv',\n",
       " './SW\\\\MB-ACK-1.csv',\n",
       " './SW\\\\MB-ACK-2.csv',\n",
       " './SW\\\\MB-ACK-3.csv',\n",
       " './SW\\\\MB-ACK-4.csv',\n",
       " './SW\\\\MB-BF-1.csv',\n",
       " './SW\\\\MB-BF-2.csv',\n",
       " './SW\\\\MB-BF-3.csv',\n",
       " './SW\\\\MB-BF-4.csv',\n",
       " './SW\\\\MB-BF-5.csv',\n",
       " './SW\\\\MB-HDis-1.csv',\n",
       " './SW\\\\MB-HDis-2.csv',\n",
       " './SW\\\\MB-HDis-3.csv',\n",
       " './SW\\\\MB-HDis-4.csv',\n",
       " './SW\\\\MB-HDis-5.csv',\n",
       " './SW\\\\MB-HTTP-1.csv',\n",
       " './SW\\\\MB-HTTP-2.csv',\n",
       " './SW\\\\MB-HTTP-3.csv',\n",
       " './SW\\\\MB-HTTP-4.csv',\n",
       " './SW\\\\MB-UDP-1.csv',\n",
       " './SW\\\\MB-UDP-2.csv',\n",
       " './SW\\\\MB-UDP-3.csv',\n",
       " './SW\\\\MB-UDP-4.csv',\n",
       " './SW\\\\MitM-ARP-1.csv',\n",
       " './SW\\\\MitM-ARP-2.csv',\n",
       " './SW\\\\MitM-ARP-3.csv',\n",
       " './SW\\\\MitM-ARP-4.csv',\n",
       " './SW\\\\MitM-ARP-5.csv',\n",
       " './SW\\\\MitM-ARP-6.csv',\n",
       " './SW\\\\Scan-HDis-1.csv',\n",
       " './SW\\\\Scan-HDis-2.csv',\n",
       " './SW\\\\Scan-HDis-3.csv',\n",
       " './SW\\\\Scan-HDis-4.csv',\n",
       " './SW\\\\Scan-HDis-5.csv',\n",
       " './SW\\\\Scan-HDis-6.csv',\n",
       " './SW\\\\Scan-OS-1.csv',\n",
       " './SW\\\\Scan-OS-2.csv',\n",
       " './SW\\\\Scan-OS-3.csv',\n",
       " './SW\\\\Scan-OS-4.csv',\n",
       " './SW\\\\Scan-OS-5.csv',\n",
       " './SW\\\\Scan-OS-6.csv',\n",
       " './SW\\\\Scan-Port-1.csv',\n",
       " './SW\\\\Scan-Port-2.csv',\n",
       " './SW\\\\Scan-Port-3.csv',\n",
       " './SW\\\\Scan-Port-4.csv',\n",
       " './SW\\\\Scan-Port-5.csv',\n",
       " './SW\\\\Scan-Port-6.csv',\n",
       " './SW\\\\SPScan-Port-1.csv',\n",
       " './SW\\\\SPScan-Port-2.csv',\n",
       " './SW\\\\SPScan-Port-3.csv',\n",
       " './SW\\\\SPScan-Port-4.csv',\n",
       " './SW\\\\SPScan-Port-5.csv',\n",
       " './SW\\\\SPScan-Port-6.csv']"
      ]
     },
     "execution_count": 5,
     "metadata": {},
     "output_type": "execute_result"
    }
   ],
   "source": [
    "import os\n",
    "import pandas as pd\n",
    "from tqdm import tqdm\n",
    "import warnings\n",
    "warnings.filterwarnings(\"ignore\")\n",
    "def folder(f_name): #this function creates a folder named \"attacks\" in the program directory.\n",
    "    try:\n",
    "        if not os.path.exists(f_name):\n",
    "            os.makedirs(f_name)\n",
    "    except OSError:\n",
    "        print (\"The folder could not be created!\")\n",
    "\n",
    "def find_the_way(path,file_format,con=\"\"):\n",
    "    files_add = []\n",
    "    # r=root, d=directories, f = files\n",
    "    for r, d, f in os.walk(path):\n",
    "        for file in f:\n",
    "            if file_format in file:\n",
    "                if con in file:\n",
    "                    files_add.append(os.path.join(r, file))  \n",
    "            \n",
    "    return files_add\n",
    "path=\"./SW\"\n",
    "folder(\"SM\")\n",
    "\n",
    "name_list=find_the_way(path,\".csv\")\n",
    "name_list"
   ]
  },
  {
   "cell_type": "code",
   "execution_count": 6,
   "id": "573fd5e1",
   "metadata": {},
   "outputs": [],
   "source": [
    "floods=['./SW\\\\DoS-SYN-1.csv',\n",
    " './SW\\\\DoS-SYN-2.csv',\n",
    " './SW\\\\DoS-SYN-3.csv',\n",
    " './SW\\\\DoS-SYN-4.csv',\n",
    " './SW\\\\DoS-SYN-5.csv',\n",
    " './SW\\\\DoS-SYN-6.csv',\n",
    " './SW\\\\MB-ACK-1.csv',\n",
    " './SW\\\\MB-ACK-2.csv',\n",
    " './SW\\\\MB-ACK-3.csv',\n",
    " './SW\\\\MB-ACK-4.csv',\n",
    " './SW\\\\MB-HTTP-1.csv',\n",
    " './SW\\\\MB-HTTP-2.csv',\n",
    " './SW\\\\MB-HTTP-3.csv',\n",
    " './SW\\\\MB-HTTP-4.csv',\n",
    " './SW\\\\MB-UDP-1.csv',\n",
    " './SW\\\\MB-UDP-2.csv',\n",
    " './SW\\\\MB-UDP-3.csv',\n",
    " './SW\\\\MB-UDP-4.csv',\n",
    " './SW\\\\MitM-ARP-1.csv',\n",
    " './SW\\\\MitM-ARP-2.csv',\n",
    " './SW\\\\MitM-ARP-3.csv',\n",
    " './SW\\\\MitM-ARP-4.csv',\n",
    " './SW\\\\MitM-ARP-5.csv',\n",
    " './SW\\\\MitM-ARP-6.csv']"
   ]
  },
  {
   "cell_type": "code",
   "execution_count": 7,
   "id": "a12c7550",
   "metadata": {},
   "outputs": [],
   "source": [
    "scans=[ './SW\\\\MB-BF-1.csv',\n",
    " './SW\\\\MB-BF-2.csv',\n",
    " './SW\\\\MB-BF-3.csv',\n",
    " './SW\\\\MB-BF-4.csv',\n",
    " './SW\\\\MB-BF-5.csv',\n",
    " './SW\\\\MB-HDis-1.csv',\n",
    " './SW\\\\MB-HDis-2.csv',\n",
    " './SW\\\\MB-HDis-3.csv',\n",
    " './SW\\\\MB-HDis-4.csv',\n",
    " './SW\\\\MB-HDis-5.csv', './SW\\\\Scan-HDis-1.csv',\n",
    " './SW\\\\Scan-HDis-2.csv',\n",
    " './SW\\\\Scan-HDis-3.csv',\n",
    " './SW\\\\Scan-HDis-4.csv',\n",
    " './SW\\\\Scan-HDis-5.csv',\n",
    " './SW\\\\Scan-HDis-6.csv',\n",
    " './SW\\\\Scan-OS-1.csv',\n",
    " './SW\\\\Scan-OS-2.csv',\n",
    " './SW\\\\Scan-OS-3.csv',\n",
    " './SW\\\\Scan-OS-4.csv',\n",
    " './SW\\\\Scan-OS-5.csv',\n",
    " './SW\\\\Scan-OS-6.csv',\n",
    " './SW\\\\Scan-Port-1.csv',\n",
    " './SW\\\\Scan-Port-2.csv',\n",
    " './SW\\\\Scan-Port-3.csv',\n",
    " './SW\\\\Scan-Port-4.csv',\n",
    " './SW\\\\Scan-Port-5.csv',\n",
    " './SW\\\\Scan-Port-6.csv',\n",
    " './SW\\\\SPScan-Port-1.csv',\n",
    " './SW\\\\SPScan-Port-2.csv',\n",
    " './SW\\\\SPScan-Port-3.csv',\n",
    " './SW\\\\SPScan-Port-4.csv',\n",
    " './SW\\\\SPScan-Port-5.csv',\n",
    " './SW\\\\SPScan-Port-6.csv']"
   ]
  },
  {
   "cell_type": "code",
   "execution_count": 8,
   "id": "f62c958c",
   "metadata": {},
   "outputs": [
    {
     "name": "stderr",
     "output_type": "stream",
     "text": [
      "  5%|████▎                                                                              | 3/58 [00:02<00:47,  1.15it/s]"
     ]
    },
    {
     "name": "stdout",
     "output_type": "stream",
     "text": [
      "error about ./SW\\DoS-SYN-4.csv\n",
      "Label\n",
      "0    5869\n",
      "1    4692\n",
      "dtype: int64\n"
     ]
    },
    {
     "name": "stderr",
     "output_type": "stream",
     "text": [
      "\r",
      "  7%|█████▋                                                                             | 4/58 [00:03<00:43,  1.25it/s]"
     ]
    },
    {
     "name": "stdout",
     "output_type": "stream",
     "text": [
      "error about ./SW\\DoS-SYN-5.csv\n",
      "Label\n",
      "0    5818\n",
      "1    5548\n",
      "dtype: int64\n"
     ]
    },
    {
     "name": "stderr",
     "output_type": "stream",
     "text": [
      "\r",
      "  9%|███████▏                                                                           | 5/58 [00:04<00:39,  1.33it/s]"
     ]
    },
    {
     "name": "stdout",
     "output_type": "stream",
     "text": [
      "error about ./SW\\DoS-SYN-6.csv\n",
      "Label\n",
      "0    6615\n",
      "1    6303\n",
      "dtype: int64\n"
     ]
    },
    {
     "name": "stderr",
     "output_type": "stream",
     "text": [
      " 34%|████████████████████████████▎                                                     | 20/58 [00:25<00:49,  1.30s/it]"
     ]
    },
    {
     "name": "stdout",
     "output_type": "stream",
     "text": [
      "error about ./SW\\MB-HTTP-1.csv\n",
      "Label\n",
      "0    13000\n",
      "1      764\n",
      "dtype: int64\n"
     ]
    },
    {
     "name": "stderr",
     "output_type": "stream",
     "text": [
      " 38%|███████████████████████████████                                                   | 22/58 [00:27<00:48,  1.34s/it]"
     ]
    },
    {
     "name": "stdout",
     "output_type": "stream",
     "text": [
      "error about ./SW\\MB-HTTP-3.csv\n",
      "Label\n",
      "0    13000\n",
      "1      764\n",
      "dtype: int64\n"
     ]
    },
    {
     "name": "stderr",
     "output_type": "stream",
     "text": [
      " 53%|███████████████████████████████████████████▊                                      | 31/58 [00:48<00:50,  1.88s/it]"
     ]
    },
    {
     "name": "stdout",
     "output_type": "stream",
     "text": [
      "error about ./SW\\MitM-ARP-4.csv\n",
      "Label\n",
      "0     6703\n",
      "1    13211\n",
      "dtype: int64\n"
     ]
    },
    {
     "name": "stderr",
     "output_type": "stream",
     "text": [
      "100%|██████████████████████████████████████████████████████████████████████████████████| 58/58 [01:09<00:00,  1.20s/it]\n"
     ]
    }
   ],
   "source": [
    "for i in tqdm(name_list):\n",
    "    new_name=i.replace(\"./SW\",\"./SM\")\n",
    "    if i in floods:\n",
    "        main=pd.read_csv(i)#,usecols=[\"Label\"]\n",
    "        try: df=main.sample(n=20000)\n",
    "        except:\n",
    "            print(f\"error about {i}\")\n",
    "            print(main.groupby(\"Label\").size())\n",
    "    else:\n",
    "        main=pd.read_csv(i)#,usecols=[\"Label\"])\n",
    "        df1=main[main[\"Label\"]==0]\n",
    "        df2=main[main[\"Label\"]==1]\n",
    "        if len(df1)>10000:\n",
    "            df1=df1.sample(n=10000,  random_state=42)\n",
    "        if len(df2)>10000:\n",
    "            df2=df2.sample(n=10000,  random_state=42) \n",
    "        frames = [df1, df2]\n",
    "        df = pd.concat(frames)\n",
    "    df.to_csv(new_name,index=None)\n",
    "        "
   ]
  },
  {
   "cell_type": "code",
   "execution_count": null,
   "id": "2cd2a85f",
   "metadata": {},
   "outputs": [],
   "source": []
  }
 ],
 "metadata": {
  "kernelspec": {
   "display_name": "Python 3 (ipykernel)",
   "language": "python",
   "name": "python3"
  },
  "language_info": {
   "codemirror_mode": {
    "name": "ipython",
    "version": 3
   },
   "file_extension": ".py",
   "mimetype": "text/x-python",
   "name": "python",
   "nbconvert_exporter": "python",
   "pygments_lexer": "ipython3",
   "version": "3.10.8"
  }
 },
 "nbformat": 4,
 "nbformat_minor": 5
}
