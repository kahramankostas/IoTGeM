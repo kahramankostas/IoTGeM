{
 "cells": [
  {
   "cell_type": "code",
   "execution_count": 1,
   "metadata": {},
   "outputs": [],
   "source": [
    "%matplotlib inline\n",
    "from scipy.stats import randint as sp_randint\n",
    "from scipy.stats import uniform\n",
    "from scipy.stats import uniform as sp_randFloat\n",
    "from sklearn import svm\n",
    "from tqdm import tqdm\n",
    "from sklearn.ensemble import GradientBoostingClassifier\n",
    "from sklearn.naive_bayes import CategoricalNB\n",
    "from sklearn.model_selection import GridSearchCV\n",
    "from sklearn.ensemble import RandomForestClassifier\n",
    "from sklearn.model_selection import GridSearchCV\n",
    "from sklearn.model_selection import RandomizedSearchCV\n",
    "from sklearn.model_selection import train_test_split\n",
    "from sklearn.neighbors import KNeighborsClassifier\n",
    "from sklearn.tree import DecisionTreeClassifier\n",
    "from time import time\n",
    "from tabulate import tabulate\n",
    "import numpy as np\n",
    "import pandas as pd\n",
    "import sklearn\n",
    "import warnings\n",
    "warnings.filterwarnings('ignore')\n",
    "import os"
   ]
  },
  {
   "cell_type": "code",
   "execution_count": 2,
   "metadata": {},
   "outputs": [],
   "source": [
    "from scipy.stats import randint as sp_randInt\n",
    "\n",
    "from sklearn.model_selection import GridSearchCV, PredefinedSplit\n",
    "from sklearn.metrics import make_scorer\n",
    "from scipy import sparse"
   ]
  },
  {
   "cell_type": "code",
   "execution_count": 3,
   "metadata": {},
   "outputs": [],
   "source": [
    "import json\n",
    "with open('GA_output_ET.json', 'r') as fp:\n",
    "    feature_list = json.load(fp)"
   ]
  },
  {
   "cell_type": "code",
   "execution_count": 4,
   "metadata": {},
   "outputs": [
    {
     "data": {
      "text/plain": [
       "{'SYN': ['IP_flags',\n",
       "  'IP_DF',\n",
       "  'TCP_dataofs',\n",
       "  'TCP_SYN',\n",
       "  'TCP_ACK',\n",
       "  'sport_class',\n",
       "  'dst_port_diversity',\n",
       "  'src_IP_diversity',\n",
       "  'IP_add_count',\n",
       "  'pck_size_mean_WE',\n",
       "  'pck_size_sum_of_EW',\n",
       "  'ts_mean_WE',\n",
       "  'ts_std_WE',\n",
       "  'ts_sum_of_EW',\n",
       "  'TCP_window_std_WE',\n",
       "  'pck_size_mean_2',\n",
       "  'TCP_ACK_sum',\n",
       "  'TCP_ACK_ratio',\n",
       "  'TCP_SYN_SR',\n",
       "  'TCP_ACK_SR',\n",
       "  'pck_size_mean_6',\n",
       "  'ts_std_6',\n",
       "  'ts_mean_9',\n",
       "  'ts_std_9',\n",
       "  'Label'],\n",
       " 'HTTP': ['ts',\n",
       "  'TCP_flags',\n",
       "  'dport_class',\n",
       "  'pck_size_sum_of_EW',\n",
       "  'ts_sum_of_EW',\n",
       "  'entropy_mean_WE',\n",
       "  'TCP_window_mean_2',\n",
       "  'sport_sum',\n",
       "  'TCP_ACK_sum',\n",
       "  'sum',\n",
       "  'TCP_PSH_SR',\n",
       "  'TCP_ACK_SR',\n",
       "  'ts_std_6',\n",
       "  'TCP_window_mean_6',\n",
       "  'Label'],\n",
       " 'ACK': ['TCP_window_sum_of_EW',\n",
       "  'payload_bytes_mean_WE',\n",
       "  'sport_sum',\n",
       "  'TCP_ACK_sum',\n",
       "  'TCP_ACK_ratio',\n",
       "  'ts_mean_6',\n",
       "  'Label'],\n",
       " 'UDP': ['IP_flags',\n",
       "  'IP_DF',\n",
       "  'TCP_dataofs',\n",
       "  'TCP_flags',\n",
       "  'TCP_ACK',\n",
       "  'TCP_window',\n",
       "  'TCP_options',\n",
       "  'sport_class',\n",
       "  'Protocol',\n",
       "  'TCP_window_std_WE',\n",
       "  'TCP_window_sum_of_EW',\n",
       "  'payload_bytes_mean_WE',\n",
       "  'entropy_diff',\n",
       "  'ts_std_2',\n",
       "  'TCP_window_mean_2',\n",
       "  'payload_bytes_mean_2',\n",
       "  'entropy_std_2',\n",
       "  'TCP_PSH_sum',\n",
       "  'sum',\n",
       "  'TCP_window_mean_6',\n",
       "  'ts_std_9',\n",
       "  'payload_bytes_mean_9',\n",
       "  'entropy_std_9',\n",
       "  'Label'],\n",
       " 'ARP': ['Ether_type',\n",
       "  'IP_version',\n",
       "  'IP_frag',\n",
       "  'IP_ttl',\n",
       "  'IP_proto',\n",
       "  'IP_options',\n",
       "  'ICMP_type',\n",
       "  'TCP_ACK',\n",
       "  'TCP_URG',\n",
       "  'TCP_ECE',\n",
       "  'TCP_urgptr',\n",
       "  'TCP_options',\n",
       "  'UDP_len',\n",
       "  'DNS_rd',\n",
       "  'DNS_ra',\n",
       "  'DNS_ancount',\n",
       "  'DNS_nscount',\n",
       "  'sport_class',\n",
       "  'dport_class',\n",
       "  'payload_bytes',\n",
       "  'entropy',\n",
       "  'dst_IP_diversity',\n",
       "  'src_IP_diversity',\n",
       "  'pck_size_diff',\n",
       "  'pck_size_std_WE',\n",
       "  'pck_size_sum_of_EW',\n",
       "  'ts_diff',\n",
       "  'ts_sum_of_EW',\n",
       "  'TCP_window_mean_WE',\n",
       "  'TCP_window_std_WE',\n",
       "  'TCP_window_sum_of_EW',\n",
       "  'entropy_diff',\n",
       "  'entropy_mean_WE',\n",
       "  'entropy_sum_of_EW',\n",
       "  'pck_size_mean_2',\n",
       "  'pck_size_std_2',\n",
       "  'ts_mean_2',\n",
       "  'payload_bytes_mean_2',\n",
       "  'entropy_mean_2',\n",
       "  'TCP_SYN_sum',\n",
       "  'TCP_RST_ratio',\n",
       "  'TCP_URG_ratio',\n",
       "  'TCP_ECE_ratio',\n",
       "  'TCP_CWR_ratio',\n",
       "  'TCP_RST_SR',\n",
       "  'TCP_PSH_SR',\n",
       "  'pck_size_mean_6',\n",
       "  'pck_size_std_6',\n",
       "  'TCP_window_std_6',\n",
       "  'payload_bytes_std_6',\n",
       "  'entropy_mean_6',\n",
       "  'entropy_std_6',\n",
       "  'pck_size_mean_9',\n",
       "  'payload_bytes_std_9',\n",
       "  'entropy_std_9',\n",
       "  'Label'],\n",
       " 'SP': ['IP_flags',\n",
       "  'TCP_flags',\n",
       "  'TCP_SYN',\n",
       "  'TCP_ACK',\n",
       "  'dst_IP_diversity',\n",
       "  'TCP_window_sum_of_EW',\n",
       "  'entropy_sum_of_EW',\n",
       "  'TCP_ACK_sum',\n",
       "  'TCP_SYN_ratio',\n",
       "  'TCP_ACK_ratio',\n",
       "  'TCP_SYN_SR',\n",
       "  'TCP_ACK_SR',\n",
       "  'Label'],\n",
       " 'BF': ['entropy_mean_WE',\n",
       "  'pck_size_mean_2',\n",
       "  'pck_size_std_2',\n",
       "  'TCP_window_mean_2',\n",
       "  'TCP_window_std_2',\n",
       "  'payload_bytes_mean_2',\n",
       "  'payload_bytes_std_2',\n",
       "  'sport_sum',\n",
       "  'TCP_SYN_sum',\n",
       "  'TCP_FIN_SR',\n",
       "  'TCP_window_std_6',\n",
       "  'payload_bytes_mean_6',\n",
       "  'TCP_window_mean_9',\n",
       "  'TCP_window_std_9',\n",
       "  'payload_bytes_mean_9',\n",
       "  'payload_bytes_std_9',\n",
       "  'entropy_mean_9',\n",
       "  'Label'],\n",
       " 'OS': ['ts',\n",
       "  'TCP_FIN',\n",
       "  'TCP_CWR',\n",
       "  'TCP_window',\n",
       "  'TCP_urgptr',\n",
       "  'entropy',\n",
       "  'Protocol',\n",
       "  'pck_size_mean_WE',\n",
       "  'pck_size_sum_of_EW',\n",
       "  'ts_diff',\n",
       "  'ts_std_WE',\n",
       "  'ts_sum_of_EW',\n",
       "  'TCP_window_mean_WE',\n",
       "  'payload_bytes_diff',\n",
       "  'payload_bytes_std_WE',\n",
       "  'payload_bytes_sum_of_EW',\n",
       "  'entropy_std_WE',\n",
       "  'pck_size_mean_2',\n",
       "  'pck_size_std_2',\n",
       "  'ts_mean_2',\n",
       "  'payload_bytes_std_2',\n",
       "  'sport_sum',\n",
       "  'TCP_SYN_sum',\n",
       "  'TCP_RST_sum',\n",
       "  'TCP_PSH_sum',\n",
       "  'TCP_ACK_sum',\n",
       "  'TCP_SYN_ratio',\n",
       "  'TCP_ACK_ratio',\n",
       "  'TCP_URG_ratio',\n",
       "  'TCP_ECE_ratio',\n",
       "  'TCP_CWR_ratio',\n",
       "  'TCP_PSH_SR',\n",
       "  'TCP_CWR_SR',\n",
       "  'pck_size_mean_6',\n",
       "  'ts_std_6',\n",
       "  'entropy_mean_6',\n",
       "  'pck_size_mean_9',\n",
       "  'pck_size_std_9',\n",
       "  'ts_mean_9',\n",
       "  'ts_std_9',\n",
       "  'payload_bytes_mean_9',\n",
       "  'entropy_mean_9',\n",
       "  'Label'],\n",
       " 'SCHD': ['ts',\n",
       "  'Ether_type',\n",
       "  'IP_version',\n",
       "  'IP_flags',\n",
       "  'IP_DF',\n",
       "  'IP_ttl',\n",
       "  'IP_proto',\n",
       "  'TCP_flags',\n",
       "  'TCP_ACK',\n",
       "  'TCP_options',\n",
       "  'sport_class',\n",
       "  'dport_class',\n",
       "  'Protocol',\n",
       "  'pck_size_mean_WE',\n",
       "  'pck_size_std_WE',\n",
       "  'pck_size_sum_of_EW',\n",
       "  'ts_std_WE',\n",
       "  'TCP_window_mean_WE',\n",
       "  'TCP_window_sum_of_EW',\n",
       "  'payload_bytes_mean_WE',\n",
       "  'payload_bytes_std_WE',\n",
       "  'entropy_mean_WE',\n",
       "  'entropy_std_WE',\n",
       "  'entropy_sum_of_EW',\n",
       "  'pck_size_mean_2',\n",
       "  'TCP_ACK_SR',\n",
       "  'pck_size_mean_6',\n",
       "  'ts_mean_6',\n",
       "  'ts_std_6',\n",
       "  'ts_mean_9',\n",
       "  'ts_std_9',\n",
       "  'Label'],\n",
       " 'MHDis': ['ts',\n",
       "  'Ether_type',\n",
       "  'IP_version',\n",
       "  'IP_DF',\n",
       "  'IP_ttl',\n",
       "  'TCP_dataofs',\n",
       "  'sport_class',\n",
       "  'Protocol',\n",
       "  'pck_size_mean_WE',\n",
       "  'pck_size_std_WE',\n",
       "  'ts_mean_WE',\n",
       "  'ts_std_WE',\n",
       "  'TCP_window_sum_of_EW',\n",
       "  'pck_size_mean_2',\n",
       "  'TCP_ACK_sum',\n",
       "  'sum',\n",
       "  'pck_size_mean_6',\n",
       "  'ts_mean_6',\n",
       "  'pck_size_mean_9',\n",
       "  'ts_mean_9',\n",
       "  'Label']}"
      ]
     },
     "execution_count": 4,
     "metadata": {},
     "output_type": "execute_result"
    }
   ],
   "source": [
    "feature_list"
   ]
  },
  {
   "cell_type": "code",
   "execution_count": 5,
   "metadata": {},
   "outputs": [],
   "source": [
    "file_list={\"SYN\":['./INPUT/SM/DoS-SYN-1.csv','./INPUT/SM/DoS-SYN-2.csv'],\n",
    "\"HTTP\":['./INPUT/SM/MB-HTTP-4.csv','./INPUT/SM/MB-HTTP-1.csv'],\n",
    "\"ACK\":['./INPUT/SM/MB-ACK-4.csv','./INPUT/SM/MB-ACK-1.csv'],\n",
    "\"UDP\":['./INPUT/SM/MB-UDP-4.csv','./INPUT/SM/MB-UDP-1.csv'],\n",
    "\"ARP\":['./INPUT/SM/MitM-ARP-6.csv','./INPUT/SM/MitM-ARP-4.csv'],\n",
    "\"SP\":['./INPUT/SM/Scan-Port-3.csv','./INPUT/SM/Scan-Port-4.csv'],\n",
    "\"BF\":['./INPUT/SM/MB-BF-5.csv','./INPUT/SM/MB-BF-3.csv'],\n",
    "\"OS\":['./INPUT/SM/Scan-OS-3.csv','./INPUT/SM/Scan-OS-6.csv'],\n",
    "\"SCHD\":['./INPUT/SM/Scan-HDis-3.csv','./INPUT/SM/Scan-HDis-4.csv'],\n",
    "\"MHDis\":['./INPUT/SM/MB-HDis-3.csv','./INPUT/SM/MB-HDis-2.csv']}"
   ]
  },
  {
   "cell_type": "code",
   "execution_count": 6,
   "metadata": {},
   "outputs": [],
   "source": [
    "def run_random_search(model, params, x_train, y_train):\n",
    "    #grid = GridSearchCV(model, params, cv = ps, n_jobs = -1, scoring = score, verbose = 0, refit = False)\n",
    "    grid =RandomizedSearchCV(model, param_grid, cv=ps,scoring = 'f1_macro')\n",
    "    grid.fit(x_train, y_train)\n",
    "    return (grid.best_params_, round(grid.best_score_,8),grid.best_estimator_)"
   ]
  },
  {
   "cell_type": "code",
   "execution_count": 7,
   "metadata": {},
   "outputs": [],
   "source": [
    "def find_the_way(path,file_format,con=\"\"):\n",
    "    files_add = []\n",
    "    # r=root, d=directories, f = files\n",
    "    for r, d, f in os.walk(path):\n",
    "        for file in f:\n",
    "            if file_format in file:\n",
    "                if con in file:\n",
    "                    files_add.append(os.path.join(r, file))  \n",
    "            \n",
    "    return files_add"
   ]
  },
  {
   "cell_type": "code",
   "execution_count": null,
   "metadata": {},
   "outputs": [],
   "source": []
  },
  {
   "cell_type": "markdown",
   "metadata": {},
   "source": [
    "# RandomizedSearchCV  DT"
   ]
  },
  {
   "cell_type": "code",
   "execution_count": 8,
   "metadata": {
    "scrolled": false
   },
   "outputs": [
    {
     "name": "stdout",
     "output_type": "stream",
     "text": [
      "SYN\n",
      "HYPERPARAMETERS                     F1 Score             Time     No      \n",
      "default                             0.9998489480892206   0.487    24      \n"
     ]
    },
    {
     "name": "stderr",
     "output_type": "stream",
     "text": [
      "100%|██████████████████████████████████████████████████████████████████████████████████| 50/50 [00:33<00:00,  1.49it/s]\n"
     ]
    },
    {
     "name": "stdout",
     "output_type": "stream",
     "text": [
      "HTTP\n",
      "HYPERPARAMETERS                     F1 Score             Time     No      \n",
      "default                             1.0                  1.967    24      \n"
     ]
    },
    {
     "name": "stderr",
     "output_type": "stream",
     "text": [
      "100%|██████████████████████████████████████████████████████████████████████████████████| 50/50 [01:04<00:00,  1.28s/it]\n"
     ]
    },
    {
     "name": "stdout",
     "output_type": "stream",
     "text": [
      "ACK\n",
      "HYPERPARAMETERS                     F1 Score             Time     No      \n",
      "default                             1.0                  1.115    24      \n"
     ]
    },
    {
     "name": "stderr",
     "output_type": "stream",
     "text": [
      "100%|██████████████████████████████████████████████████████████████████████████████████| 50/50 [00:31<00:00,  1.58it/s]\n"
     ]
    },
    {
     "name": "stdout",
     "output_type": "stream",
     "text": [
      "UDP\n",
      "HYPERPARAMETERS                     F1 Score             Time     No      \n",
      "default                             1.0                  1.641    24      \n"
     ]
    },
    {
     "name": "stderr",
     "output_type": "stream",
     "text": [
      "100%|██████████████████████████████████████████████████████████████████████████████████| 50/50 [01:01<00:00,  1.23s/it]\n"
     ]
    },
    {
     "name": "stdout",
     "output_type": "stream",
     "text": [
      "ARP\n",
      "HYPERPARAMETERS                     F1 Score             Time     No      \n",
      "default                             1.0                  16.843   24      \n"
     ]
    },
    {
     "name": "stderr",
     "output_type": "stream",
     "text": [
      "100%|██████████████████████████████████████████████████████████████████████████████████| 50/50 [06:54<00:00,  8.29s/it]\n"
     ]
    },
    {
     "name": "stdout",
     "output_type": "stream",
     "text": [
      "SP\n",
      "HYPERPARAMETERS                     F1 Score             Time     No      \n",
      "default                             1.0                  0.59     24      \n"
     ]
    },
    {
     "name": "stderr",
     "output_type": "stream",
     "text": [
      "100%|██████████████████████████████████████████████████████████████████████████████████| 50/50 [00:20<00:00,  2.42it/s]\n"
     ]
    },
    {
     "name": "stdout",
     "output_type": "stream",
     "text": [
      "BF\n",
      "HYPERPARAMETERS                     F1 Score             Time     No      \n",
      "default                             1.0                  1.287    24      \n"
     ]
    },
    {
     "name": "stderr",
     "output_type": "stream",
     "text": [
      "100%|██████████████████████████████████████████████████████████████████████████████████| 50/50 [00:39<00:00,  1.27it/s]\n"
     ]
    },
    {
     "name": "stdout",
     "output_type": "stream",
     "text": [
      "OS\n",
      "HYPERPARAMETERS                     F1 Score             Time     No      \n",
      "default                             1.0                  1.465    24      \n"
     ]
    },
    {
     "name": "stderr",
     "output_type": "stream",
     "text": [
      "100%|██████████████████████████████████████████████████████████████████████████████████| 50/50 [00:43<00:00,  1.15it/s]\n"
     ]
    },
    {
     "name": "stdout",
     "output_type": "stream",
     "text": [
      "SCHD\n",
      "HYPERPARAMETERS                     F1 Score             Time     No      \n",
      "default                             1.0                  1.058    24      \n"
     ]
    },
    {
     "name": "stderr",
     "output_type": "stream",
     "text": [
      "100%|██████████████████████████████████████████████████████████████████████████████████| 50/50 [00:32<00:00,  1.55it/s]\n"
     ]
    },
    {
     "name": "stdout",
     "output_type": "stream",
     "text": [
      "MHDis\n",
      "HYPERPARAMETERS                     F1 Score             Time     No      \n",
      "default                             1.0                  0.698    24      \n"
     ]
    },
    {
     "name": "stderr",
     "output_type": "stream",
     "text": [
      "100%|██████████████████████████████████████████████████████████████████████████████████| 50/50 [00:23<00:00,  2.09it/s]"
     ]
    },
    {
     "name": "stdout",
     "output_type": "stream",
     "text": [
      "    criterion      max_depth    max_features    min_samples_split        F1    Std    Time    No  Attack\n",
      "--  -----------  -----------  --------------  -------------------  --------  -----  ------  ----  --------\n",
      " 0  entropy                9              25                    2  0.999849      0   0.926    38  SYN\n",
      " 1  gini                   5              11                    4  1             0   1.38     28  HTTP\n",
      " 2  entropy                4               3                    4  1             0   0.617    26  ACK\n",
      " 3  entropy                5              18                    4  1             0   1.44     37  UDP\n",
      " 4  entropy               12              60                    2  1             0   9.692    12  ARP\n",
      " 5  entropy                5              10                    3  1             0   0.445    36  SP\n",
      " 6  entropy                4              19                    4  1             0   0.951    17  BF\n",
      " 7  entropy                2              28                    3  1             0   0.912    46  OS\n",
      " 8  gini                   4              18                    4  1             0   0.684    23  SCHD\n",
      " 9  entropy                8              18                    9  1             0   0.607     0  MHDis\n"
     ]
    },
    {
     "name": "stderr",
     "output_type": "stream",
     "text": [
      "\n"
     ]
    }
   ],
   "source": [
    "lines=[['criterion', 'max_depth', 'max_features', 'min_samples_split', \"F1\",\"Std\",\"Time\",\"No\",\"Attack\"]]\n",
    "\n",
    "for j in file_list:\n",
    "    print(j)\n",
    "    df=pd.read_csv(file_list[j][0],usecols=feature_list[j]) \n",
    "    X_train = df.iloc[:,0:-1]\n",
    "    df['Label'] = df['Label'].astype('category')\n",
    "    y_train=df['Label'].cat.codes  \n",
    "\n",
    "\n",
    "    df=pd.read_csv(file_list[j][0],usecols=feature_list[j]) \n",
    "    X_test = df.iloc[:,0:-1]\n",
    "    df['Label'] = df['Label'].astype('category')\n",
    "    y_test=df['Label'].cat.codes  \n",
    "    \n",
    "    \n",
    "    \n",
    "    X= np.concatenate([X_train, X_test])\n",
    "    test_fold = [-1 for _ in range(X_train.shape[0])] + [0 for _ in range(X_test.shape[0])]\n",
    "    y = np.concatenate([y_train, y_test])\n",
    "    ps = PredefinedSplit(test_fold)\n",
    "    \n",
    "    \n",
    "    print ('%-35s %-20s %-8s %-8s' % (\"HYPERPARAMETERS\",\"F1 Score\", \"Time\", \"No\"))\n",
    "\n",
    "    nfolds=10\n",
    "    param_grid = { 'criterion':['gini','entropy'],\n",
    "                      \"max_depth\":np.linspace(1, 32, 32, endpoint=True).astype(int),\n",
    "                     \"min_samples_split\": sp_randint(2,10),#uniform(0.1,1 ),\n",
    "                        # \"min_samples_leafs\" : np.linspace(0.1, 0.5, 5, endpoint=True)\n",
    "                        \"max_features\" : sp_randint(1,X_train.shape[1])}\n",
    "\n",
    "    second=time()\n",
    "    f1=[]\n",
    "    clf=DecisionTreeClassifier()\n",
    "    for ii in range(25):\n",
    "        clf.fit(X_train, y_train)\n",
    "        predict =clf.predict(X_test)\n",
    "        f1.append(sklearn.metrics.f1_score(y_test, predict,average= \"macro\") )\n",
    "    f1=sum(f1)/len(f1)   \n",
    "    #if f1>0.76:\n",
    "    print('%-35s %-20s %-8s %-8s' % (\"default\",f1,round(time()-second,3),ii))\n",
    "    ######################################################################################################################\n",
    "    for i in tqdm(range(50)):\n",
    "        second=time()\n",
    "        a,b,clf=run_random_search(DecisionTreeClassifier(),param_grid,X,y)\n",
    "        f1=[]\n",
    "        for ii in range(10):\n",
    "            clf.fit(X_train, y_train)\n",
    "            predict =clf.predict(X_test)\n",
    "            f1.append(sklearn.metrics.f1_score(y_test, predict,average= \"macro\") )\n",
    "        f1_result=sum(f1)/len(f1)   \n",
    "        f1=np.array(f1)\n",
    "        stndtd=f1.std()\n",
    "        temp=list(a.values())\n",
    "        #print('%-90s %-20s %-8s %-8s' % (a,f1_result,round(time()-second,3),i))\n",
    "        temp=temp+[f1_result,stndtd,round(time()-second,3),i,j]\n",
    "        lines.append(temp)\n",
    "\n",
    "        #if f1>0.76:\n",
    "results = pd.DataFrame (lines[1:], columns = lines[0])\n",
    "results.to_csv(\"DT_HPO.csv\",index=False)\n",
    "\n",
    "final_parametres=[['criterion', 'max_depth', 'max_features', 'min_samples_split', \"F1\",\"Std\",\"Time\",\"No\",\"Attack\"]]\n",
    "for i in results[\"Attack\"].unique():\n",
    "    df=results[results[\"Attack\"]==i]\n",
    "    m=df[\"F1\"].max()\n",
    "    df=df[df[\"F1\"]==m]\n",
    "    m=df[\"max_depth\"].min()\n",
    "    df=df[df[\"max_depth\"]==m]  \n",
    "    final_parametres.append(list(df.values)[0])\n",
    "results = pd.DataFrame (final_parametres[1:], columns=  final_parametres[0])\n",
    "print (tabulate(results, headers=list(results.columns)))\n",
    "    \n",
    "    "
   ]
  },
  {
   "cell_type": "markdown",
   "metadata": {},
   "source": [
    "# RandomizedSearchCV RF"
   ]
  },
  {
   "cell_type": "code",
   "execution_count": 9,
   "metadata": {},
   "outputs": [
    {
     "name": "stdout",
     "output_type": "stream",
     "text": [
      "SYN\n",
      "HYPERPARAMETERS                     F1 Score             Time     No      \n",
      "default                             0.9998489480892209   0.999    0       \n"
     ]
    },
    {
     "name": "stderr",
     "output_type": "stream",
     "text": [
      "100%|██████████████████████████████████████████████████████████████████████████████████| 10/10 [03:09<00:00, 18.98s/it]\n"
     ]
    },
    {
     "name": "stdout",
     "output_type": "stream",
     "text": [
      "HTTP\n",
      "HYPERPARAMETERS                     F1 Score             Time     No      \n",
      "default                             1.0                  1.421    0       \n"
     ]
    },
    {
     "name": "stderr",
     "output_type": "stream",
     "text": [
      "100%|██████████████████████████████████████████████████████████████████████████████████| 10/10 [05:17<00:00, 31.72s/it]\n"
     ]
    },
    {
     "name": "stdout",
     "output_type": "stream",
     "text": [
      "ACK\n",
      "HYPERPARAMETERS                     F1 Score             Time     No      \n",
      "default                             1.0                  0.892    0       \n"
     ]
    },
    {
     "name": "stderr",
     "output_type": "stream",
     "text": [
      "100%|██████████████████████████████████████████████████████████████████████████████████| 10/10 [05:42<00:00, 34.29s/it]\n"
     ]
    },
    {
     "name": "stdout",
     "output_type": "stream",
     "text": [
      "UDP\n",
      "HYPERPARAMETERS                     F1 Score             Time     No      \n",
      "default                             1.0                  1.34     0       \n"
     ]
    },
    {
     "name": "stderr",
     "output_type": "stream",
     "text": [
      "100%|██████████████████████████████████████████████████████████████████████████████████| 10/10 [05:04<00:00, 30.42s/it]\n"
     ]
    },
    {
     "name": "stdout",
     "output_type": "stream",
     "text": [
      "ARP\n",
      "HYPERPARAMETERS                     F1 Score             Time     No      \n",
      "default                             1.0                  4.296    0       \n"
     ]
    },
    {
     "name": "stderr",
     "output_type": "stream",
     "text": [
      "100%|██████████████████████████████████████████████████████████████████████████████████| 10/10 [15:00<00:00, 90.08s/it]\n"
     ]
    },
    {
     "name": "stdout",
     "output_type": "stream",
     "text": [
      "SP\n",
      "HYPERPARAMETERS                     F1 Score             Time     No      \n",
      "default                             1.0                  0.565    0       \n"
     ]
    },
    {
     "name": "stderr",
     "output_type": "stream",
     "text": [
      "100%|██████████████████████████████████████████████████████████████████████████████████| 10/10 [02:33<00:00, 15.38s/it]\n"
     ]
    },
    {
     "name": "stdout",
     "output_type": "stream",
     "text": [
      "BF\n",
      "HYPERPARAMETERS                     F1 Score             Time     No      \n",
      "default                             1.0                  0.796    0       \n"
     ]
    },
    {
     "name": "stderr",
     "output_type": "stream",
     "text": [
      "100%|██████████████████████████████████████████████████████████████████████████████████| 10/10 [03:22<00:00, 20.26s/it]\n"
     ]
    },
    {
     "name": "stdout",
     "output_type": "stream",
     "text": [
      "OS\n",
      "HYPERPARAMETERS                     F1 Score             Time     No      \n",
      "default                             1.0                  0.999    0       \n"
     ]
    },
    {
     "name": "stderr",
     "output_type": "stream",
     "text": [
      "100%|██████████████████████████████████████████████████████████████████████████████████| 10/10 [02:55<00:00, 17.56s/it]\n"
     ]
    },
    {
     "name": "stdout",
     "output_type": "stream",
     "text": [
      "SCHD\n",
      "HYPERPARAMETERS                     F1 Score             Time     No      \n",
      "default                             1.0                  0.644    0       \n"
     ]
    },
    {
     "name": "stderr",
     "output_type": "stream",
     "text": [
      "100%|██████████████████████████████████████████████████████████████████████████████████| 10/10 [02:09<00:00, 12.90s/it]\n"
     ]
    },
    {
     "name": "stdout",
     "output_type": "stream",
     "text": [
      "MHDis\n",
      "HYPERPARAMETERS                     F1 Score             Time     No      \n",
      "default                             1.0                  0.453    0       \n"
     ]
    },
    {
     "name": "stderr",
     "output_type": "stream",
     "text": [
      "100%|██████████████████████████████████████████████████████████████████████████████████| 10/10 [02:15<00:00, 13.53s/it]"
     ]
    },
    {
     "name": "stdout",
     "output_type": "stream",
     "text": [
      "    bootst    criter      max_depth    max_features    min_samp_split    n_estimators        F1    Std    Time    No  Attack\n",
      "--  --------  --------  -----------  --------------  ----------------  --------------  --------  -----  ------  ----  --------\n",
      " 0  False     entropy             7               8                 3              35  0.999849      0  17.214     7  SYN\n",
      " 1  False     gini               10               5                 6             114  1             0  40.993     1  HTTP\n",
      " 2  True      entropy             7               8                 5             155  1             0  40.807     2  ACK\n",
      " 3  False     entropy             4              10                 8             192  1             0  51.821     2  UDP\n",
      " 4  True      entropy            20               3                 2             132  1             0  76.439     9  ARP\n",
      " 5  False     entropy             7               3                 4              66  1             0  13.872     2  SP\n",
      " 6  True      entropy             8               7                 9             192  1             0  26.111     2  BF\n",
      " 7  True      entropy             5               7                 8              29  1             0   8.291     6  OS\n",
      " 8  False     entropy             7               6                 9             104  1             0  14.159     5  SCHD\n",
      " 9  True      entropy             7               6                 5              73  1             0  11.673     0  MHDis\n"
     ]
    },
    {
     "name": "stderr",
     "output_type": "stream",
     "text": [
      "\n"
     ]
    }
   ],
   "source": [
    "lines=[['bootst', 'criter', 'max_depth', 'max_features',\"min_samp_split\",\"n_estimators\", \"F1\",\"Std\",\"Time\",\"No\",\"Attack\"]]\n",
    "\n",
    "\n",
    "\n",
    "for j in file_list:\n",
    "    print(j)\n",
    "    \n",
    "    \n",
    "    df=pd.read_csv(file_list[j][0],usecols=feature_list[j]) \n",
    "    X_train = df.iloc[:,0:-1]\n",
    "    df['Label'] = df['Label'].astype('category')\n",
    "    y_train=df['Label'].cat.codes  \n",
    "\n",
    "\n",
    "    df=pd.read_csv(file_list[j][0],usecols=feature_list[j]) \n",
    "    X_test = df.iloc[:,0:-1]\n",
    "    df['Label'] = df['Label'].astype('category')\n",
    "    y_test=df['Label'].cat.codes  \n",
    "    \n",
    "    \n",
    "    \n",
    "    X= np.concatenate([X_train, X_test])\n",
    "    test_fold = [-1 for _ in range(X_train.shape[0])] + [0 for _ in range(X_test.shape[0])]\n",
    "    y = np.concatenate([y_train, y_test])\n",
    "    ps = PredefinedSplit(test_fold)\n",
    "    \n",
    "    \n",
    "    \n",
    "    \n",
    "    \n",
    "    print ('%-35s %-20s %-8s %-8s' % (\"HYPERPARAMETERS\",\"F1 Score\", \"Time\", \"No\"))\n",
    "\n",
    "\n",
    "\n",
    "    # use a full grid over all parameters\n",
    "    param_grid = {\"max_depth\":np.linspace(1, 32, 32, endpoint=True).astype(int),\n",
    "                  \"n_estimators\" : sp_randint(1, 200),\n",
    "                  \"max_features\": sp_randint(1, 11),\n",
    "                  \"min_samples_split\":sp_randint(2, 11),\n",
    "                  \"bootstrap\": [True, False],\n",
    "                  \"criterion\": [\"gini\", \"entropy\"]}\n",
    "    second=time()\n",
    "    f1=[]\n",
    "    clf=RandomForestClassifier()\n",
    "    for ii in range(1):\n",
    "        clf.fit(X_train, y_train)\n",
    "        predict =clf.predict(X_test)\n",
    "        f1.append(sklearn.metrics.f1_score(y_test, predict,average= \"macro\") )\n",
    "    f1=sum(f1)/len(f1)   \n",
    "    #if f1>0.76:\n",
    "    print('%-35s %-20s %-8s %-8s' % (\"default\",f1,round(time()-second,3),ii))\n",
    "\n",
    "\n",
    "    \n",
    "    ######################################################################################################################\n",
    "    for i in tqdm(range(10)):\n",
    "        second=time()\n",
    "        a,b,clf=run_random_search(RandomForestClassifier(),param_grid,X,y)\n",
    "        f1=[]\n",
    "        for ii in range(5):\n",
    "            clf.fit(X_train, y_train)\n",
    "            predict =clf.predict(X_test)\n",
    "            f1.append(sklearn.metrics.f1_score(y_test, predict,average= \"macro\") )\n",
    "        f1_result=sum(f1)/len(f1)   \n",
    "        f1=np.array(f1)\n",
    "        stndtd=f1.std()\n",
    "        temp=list(a.values())\n",
    "        #print('%-90s %-20s %-8s %-8s' % (a,f1_result,round(time()-second,3),i))\n",
    "        temp=temp+[f1_result,stndtd,round(time()-second,3),i,j]\n",
    "        lines.append(temp)\n",
    "\n",
    "        #if f1>0.76:\n",
    "results = pd.DataFrame (lines[1:], columns = lines[0])\n",
    "results.to_csv(\"RF_HPO.csv\",index=False)\n",
    "\n",
    "final_parametres=[['bootst', 'criter', 'max_depth', 'max_features',\"min_samp_split\",\"n_estimators\", \"F1\",\"Std\",\"Time\",\"No\",\"Attack\"]]\n",
    "\n",
    "for i in results[\"Attack\"].unique():\n",
    "    df=results[results[\"Attack\"]==i]\n",
    "    m=df[\"F1\"].max()\n",
    "    df=df[df[\"F1\"]==m]\n",
    "    m=df[\"max_depth\"].min()\n",
    "    df=df[df[\"max_depth\"]==m]  \n",
    "    final_parametres.append(list(df.values)[0])\n",
    "results = pd.DataFrame (final_parametres[1:], columns=  final_parametres[0])\n",
    "print (tabulate(results, headers=list(results.columns)))\n",
    "    \n",
    "    \n",
    "    \n",
    "    \n",
    "    \n",
    "    \n",
    "    \n",
    "    \n",
    "    \n",
    "    \n",
    "    \n",
    "    \n",
    "    \n",
    "    \n",
    "    "
   ]
  },
  {
   "cell_type": "markdown",
   "metadata": {},
   "source": [
    "# RandomizedSearchCV  KNeighborsClassifier"
   ]
  },
  {
   "cell_type": "code",
   "execution_count": 11,
   "metadata": {
    "scrolled": true
   },
   "outputs": [
    {
     "name": "stdout",
     "output_type": "stream",
     "text": [
      "SYN\n",
      "default                             0.9991944774663929   94.734   24      \n"
     ]
    },
    {
     "name": "stderr",
     "output_type": "stream",
     "text": [
      "100%|██████████████████████████████████████████████████████████████████████████████████| 10/10 [11:05<00:00, 66.59s/it]\n"
     ]
    },
    {
     "name": "stdout",
     "output_type": "stream",
     "text": [
      "HTTP\n",
      "default                             0.9934973725158257   19.98    24      \n"
     ]
    },
    {
     "name": "stderr",
     "output_type": "stream",
     "text": [
      "100%|██████████████████████████████████████████████████████████████████████████████████| 10/10 [03:25<00:00, 20.53s/it]\n"
     ]
    },
    {
     "name": "stdout",
     "output_type": "stream",
     "text": [
      "ACK\n",
      "default                             0.9063155626124317   16.543   24      \n"
     ]
    },
    {
     "name": "stderr",
     "output_type": "stream",
     "text": [
      "100%|██████████████████████████████████████████████████████████████████████████████████| 10/10 [03:50<00:00, 23.07s/it]\n"
     ]
    },
    {
     "name": "stdout",
     "output_type": "stream",
     "text": [
      "UDP\n",
      "default                             0.9993183899076652   93.328   24      \n"
     ]
    },
    {
     "name": "stderr",
     "output_type": "stream",
     "text": [
      "100%|██████████████████████████████████████████████████████████████████████████████████| 10/10 [11:14<00:00, 67.42s/it]\n"
     ]
    },
    {
     "name": "stdout",
     "output_type": "stream",
     "text": [
      "ARP\n",
      "default                             0.9043444735759144   139.333  24      \n"
     ]
    },
    {
     "name": "stderr",
     "output_type": "stream",
     "text": [
      "100%|██████████████████████████████████████████████████████████████████████████████████| 10/10 [10:33<00:00, 63.35s/it]\n"
     ]
    },
    {
     "name": "stdout",
     "output_type": "stream",
     "text": [
      "SP\n",
      "default                             0.9990948470209343   15.445   24      \n"
     ]
    },
    {
     "name": "stderr",
     "output_type": "stream",
     "text": [
      "100%|██████████████████████████████████████████████████████████████████████████████████| 10/10 [01:45<00:00, 10.59s/it]\n"
     ]
    },
    {
     "name": "stdout",
     "output_type": "stream",
     "text": [
      "BF\n",
      "default                             0.9473237870171439   31.745   24      \n"
     ]
    },
    {
     "name": "stderr",
     "output_type": "stream",
     "text": [
      "100%|██████████████████████████████████████████████████████████████████████████████████| 10/10 [02:31<00:00, 15.11s/it]\n"
     ]
    },
    {
     "name": "stdout",
     "output_type": "stream",
     "text": [
      "OS\n",
      "default                             0.9978071816012176   38.597   24      \n"
     ]
    },
    {
     "name": "stderr",
     "output_type": "stream",
     "text": [
      "100%|██████████████████████████████████████████████████████████████████████████████████| 10/10 [03:00<00:00, 18.09s/it]\n"
     ]
    },
    {
     "name": "stdout",
     "output_type": "stream",
     "text": [
      "SCHD\n",
      "default                             0.9978591636694685   29.902   24      \n"
     ]
    },
    {
     "name": "stderr",
     "output_type": "stream",
     "text": [
      "100%|██████████████████████████████████████████████████████████████████████████████████| 10/10 [03:02<00:00, 18.22s/it]\n"
     ]
    },
    {
     "name": "stdout",
     "output_type": "stream",
     "text": [
      "MHDis\n",
      "default                             0.96912274523627     29.221   24      \n"
     ]
    },
    {
     "name": "stderr",
     "output_type": "stream",
     "text": [
      "100%|██████████████████████████████████████████████████████████████████████████████████| 10/10 [01:49<00:00, 10.99s/it]"
     ]
    },
    {
     "name": "stdout",
     "output_type": "stream",
     "text": [
      "    algorithm      leaf_size    n_neighbors  weights          F1    Std    Time    No  Attack\n",
      "--  -----------  -----------  -------------  ---------  --------  -----  ------  ----  --------\n",
      " 0  brute                 43              3  distance   0.999849      0  57.434     2  SYN\n",
      " 1  auto                  31              3  distance   1             0  23.404     7  HTTP\n",
      " 2  ball_tree              2              3  distance   1             0  28.837     5  ACK\n",
      " 3  ball_tree              1              2  uniform    1             0  52.51      3  UDP\n",
      " 4  kd_tree               22              5  distance   1             0  67.274     0  ARP\n",
      " 5  auto                   2              1  uniform    1             0  12.807     8  SP\n",
      " 6  kd_tree                2              1  distance   1             0  11.143     4  BF\n",
      " 7  kd_tree               38              1  distance   1             0  10.644     2  OS\n",
      " 8  kd_tree               11              2  uniform    1             0  11.404     9  SCHD\n",
      " 9  ball_tree              2              1  distance   1             0   8.925     7  MHDis\n"
     ]
    },
    {
     "name": "stderr",
     "output_type": "stream",
     "text": [
      "\n"
     ]
    }
   ],
   "source": [
    "lines=[['algorithm', 'leaf_size', 'n_neighbors', 'weights', \"F1\",\"Std\",\"Time\",\"No\",\"Attack\"]]\n",
    "\n",
    "\n",
    "for j in file_list:\n",
    "    print(j)\n",
    "    \n",
    "    \n",
    "    df=pd.read_csv(file_list[j][0],usecols=feature_list[j]) \n",
    "    X_train = df.iloc[:,0:-1]\n",
    "    df['Label'] = df['Label'].astype('category')\n",
    "    y_train=df['Label'].cat.codes  \n",
    "\n",
    "\n",
    "    df=pd.read_csv(file_list[j][0],usecols=feature_list[j]) \n",
    "    X_test = df.iloc[:,0:-1]\n",
    "    df['Label'] = df['Label'].astype('category')\n",
    "    y_test=df['Label'].cat.codes  \n",
    "    \n",
    "    \n",
    "    \n",
    "    X= np.concatenate([X_train, X_test])\n",
    "    test_fold = [-1 for _ in range(X_train.shape[0])] + [0 for _ in range(X_test.shape[0])]\n",
    "    y = np.concatenate([y_train, y_test])\n",
    "    ps = PredefinedSplit(test_fold)\n",
    "    \n",
    "    \n",
    "\n",
    "    # use a full grid over all parameters\n",
    "    param_grid = {\"n_neighbors\" : sp_randint(1,64) ,  \n",
    "                 \"leaf_size\": sp_randint(1,50) , \n",
    "                  \"algorithm\" : [\"auto\", \"ball_tree\", \"kd_tree\", \"brute\"],\n",
    "                  \"weights\" : [\"uniform\", \"distance\"]}\n",
    "    second=time()\n",
    "    f1=[]\n",
    "    clf=KNeighborsClassifier()\n",
    "    for ii in range(25):\n",
    "        clf.fit(X_train, y_train)\n",
    "        predict =clf.predict(X_test)\n",
    "        f1.append(sklearn.metrics.f1_score(y_test, predict,average= \"macro\") )\n",
    "    f1=sum(f1)/len(f1)   \n",
    "    #if f1>0.76:\n",
    "    print('%-35s %-20s %-8s %-8s' % (\"default\",f1,round(time()-second,3),ii))\n",
    "\n",
    "\n",
    "    \n",
    "    ######################################################################################################################\n",
    "    for i in tqdm(range(10)):\n",
    "        second=time()\n",
    "        a,b,clf=run_random_search(KNeighborsClassifier(),param_grid,X,y)\n",
    "        f1=[]\n",
    "        for ii in range(5):\n",
    "            clf.fit(X_train, y_train)\n",
    "            predict =clf.predict(X_test)\n",
    "            f1.append(sklearn.metrics.f1_score(y_test, predict,average= \"macro\") )\n",
    "        f1_result=sum(f1)/len(f1)   \n",
    "        f1=np.array(f1)\n",
    "        stndtd=f1.std()\n",
    "        temp=list(a.values())\n",
    "        #print('%-90s %-20s %-8s %-8s' % (a,f1_result,round(time()-second,3),i))\n",
    "        temp=temp+[f1_result,stndtd,round(time()-second,3),i,j]\n",
    "        lines.append(temp)\n",
    "\n",
    "        #if f1>0.76:\n",
    "results = pd.DataFrame (lines[1:], columns = lines[0])\n",
    "results.to_csv(\"knn_HPO.csv\",index=False)\n",
    "\n",
    "final_parametres=[['algorithm', 'leaf_size', 'n_neighbors', 'weights', \"F1\",\"Std\",\"Time\",\"No\",\"Attack\"]]\n",
    "\n",
    "for i in results[\"Attack\"].unique():\n",
    "    df=results[results[\"Attack\"]==i]\n",
    "    m=df[\"F1\"].max()\n",
    "    df=df[df[\"F1\"]==m]\n",
    "    m=df[\"n_neighbors\"].min()\n",
    "    df=df[df[\"n_neighbors\"]==m]  \n",
    "    final_parametres.append(list(df.values)[0])\n",
    "results = pd.DataFrame (final_parametres[1:], columns=  final_parametres[0])\n",
    "print (tabulate(results, headers=list(results.columns)))\n",
    "    \n",
    "    \n",
    "    \n",
    "    \n",
    "    "
   ]
  },
  {
   "cell_type": "code",
   "execution_count": 12,
   "metadata": {},
   "outputs": [],
   "source": [
    "from sklearn.naive_bayes import GaussianNB"
   ]
  },
  {
   "cell_type": "code",
   "execution_count": 13,
   "metadata": {},
   "outputs": [
    {
     "name": "stdout",
     "output_type": "stream",
     "text": [
      "SYN\n",
      "default                             0.9903309606417221   0.05     0       \n"
     ]
    },
    {
     "name": "stderr",
     "output_type": "stream",
     "text": [
      "100%|██████████████████████████████████████████████████████████████████████████████████| 10/10 [00:06<00:00,  1.48it/s]\n"
     ]
    },
    {
     "name": "stdout",
     "output_type": "stream",
     "text": [
      "HTTP\n",
      "default                             0.632531783845639    0.02     0       \n"
     ]
    },
    {
     "name": "stderr",
     "output_type": "stream",
     "text": [
      "100%|██████████████████████████████████████████████████████████████████████████████████| 10/10 [00:04<00:00,  2.34it/s]\n"
     ]
    },
    {
     "name": "stdout",
     "output_type": "stream",
     "text": [
      "ACK\n",
      "default                             0.680330164197769    0.015    0       \n"
     ]
    },
    {
     "name": "stderr",
     "output_type": "stream",
     "text": [
      "100%|██████████████████████████████████████████████████████████████████████████████████| 10/10 [00:02<00:00,  3.77it/s]\n"
     ]
    },
    {
     "name": "stdout",
     "output_type": "stream",
     "text": [
      "UDP\n",
      "default                             0.6722304348843706   0.032    0       \n"
     ]
    },
    {
     "name": "stderr",
     "output_type": "stream",
     "text": [
      "100%|██████████████████████████████████████████████████████████████████████████████████| 10/10 [00:06<00:00,  1.51it/s]\n"
     ]
    },
    {
     "name": "stdout",
     "output_type": "stream",
     "text": [
      "ARP\n",
      "default                             0.6103489159543802   0.06     0       \n"
     ]
    },
    {
     "name": "stderr",
     "output_type": "stream",
     "text": [
      "100%|██████████████████████████████████████████████████████████████████████████████████| 10/10 [00:11<00:00,  1.19s/it]\n"
     ]
    },
    {
     "name": "stdout",
     "output_type": "stream",
     "text": [
      "SP\n",
      "default                             0.9823433217171802   0.005    0       \n"
     ]
    },
    {
     "name": "stderr",
     "output_type": "stream",
     "text": [
      "100%|██████████████████████████████████████████████████████████████████████████████████| 10/10 [00:01<00:00,  5.92it/s]\n"
     ]
    },
    {
     "name": "stdout",
     "output_type": "stream",
     "text": [
      "BF\n",
      "default                             0.7469928555168697   0.02     0       \n"
     ]
    },
    {
     "name": "stderr",
     "output_type": "stream",
     "text": [
      "100%|██████████████████████████████████████████████████████████████████████████████████| 10/10 [00:03<00:00,  2.87it/s]\n"
     ]
    },
    {
     "name": "stdout",
     "output_type": "stream",
     "text": [
      "OS\n",
      "default                             1.0                  0.044    0       \n"
     ]
    },
    {
     "name": "stderr",
     "output_type": "stream",
     "text": [
      "100%|██████████████████████████████████████████████████████████████████████████████████| 10/10 [00:05<00:00,  1.70it/s]\n"
     ]
    },
    {
     "name": "stdout",
     "output_type": "stream",
     "text": [
      "SCHD\n",
      "default                             0.9304361169451092   0.029    0       \n"
     ]
    },
    {
     "name": "stderr",
     "output_type": "stream",
     "text": [
      "100%|██████████████████████████████████████████████████████████████████████████████████| 10/10 [00:03<00:00,  2.98it/s]\n"
     ]
    },
    {
     "name": "stdout",
     "output_type": "stream",
     "text": [
      "MHDis\n",
      "default                             0.7116504442546024   0.019    0       \n"
     ]
    },
    {
     "name": "stderr",
     "output_type": "stream",
     "text": [
      "100%|██████████████████████████████████████████████████████████████████████████████████| 10/10 [00:02<00:00,  3.61it/s]"
     ]
    },
    {
     "name": "stdout",
     "output_type": "stream",
     "text": [
      "      var_smoothing        F1          Std    Time    No  Attack\n",
      "--  ---------------  --------  -----------  ------  ----  --------\n",
      " 0      2.31013e-09  0.990131  0             0.961     0  SYN\n",
      " 1      1.51991e-09  0.990181  1.11022e-16   0.935     1  SYN\n",
      " 2      6.57933e-09  0.988825  1.11022e-16   0.715     2  SYN\n",
      " 3      2.84804e-09  0.98988   0             0.616     3  SYN\n",
      " 4      1.23285e-09  0.990332  0             0.596     4  SYN\n",
      " 5      1e-08        0.988172  0             0.587     5  SYN\n",
      " 6      2.84804e-09  0.98988   0             0.604     6  SYN\n",
      " 7      2.31013e-07  0.975586  0             0.58      7  SYN\n",
      " 8      1.51991e-08  0.98752   0             0.561     8  SYN\n",
      " 9      4.32876e-09  0.989328  1.11022e-16   0.59      9  SYN\n",
      "10      1.23285e-09  0.632425  0             0.446     0  HTTP\n",
      "11      5.3367e-06   0.568824  0             0.437     1  HTTP\n",
      "12      5.3367e-09   0.630514  0             0.43      2  HTTP\n",
      "13      1.51991e-09  0.631945  0             0.4       3  HTTP\n",
      "14      1.23285e-09  0.632425  0             0.424     4  HTTP\n",
      "15      1e-09        0.632532  0             0.428     5  HTTP\n",
      "16      1.87382e-09  0.631839  0             0.448     6  HTTP\n",
      "17      3.51119e-09  0.63099   0             0.399     7  HTTP\n",
      "18      2.84804e-08  0.627373  0             0.417     8  HTTP\n",
      "19      1e-08        0.629619  0             0.437     9  HTTP\n",
      "20      0.187382     0.865152  0             0.258     0  ACK\n",
      "21      0.351119     0.895649  0             0.25      1  ACK\n",
      "22      0.231013     0.874439  0             0.284     2  ACK\n",
      "23      0.0351119    0.829903  0             0.254     3  ACK\n",
      "24      0.231013     0.874439  0             0.266     4  ACK\n",
      "25      0.53367      0.890271  0             0.254     5  ACK\n",
      "26      0.00151991   0.810697  0             0.268     6  ACK\n",
      "27      0.432876     0.898893  0             0.261     7  ACK\n",
      "28      2.31013e-05  0.790292  0             0.271     8  ACK\n",
      "29      1            0.850652  1.11022e-16   0.27      9  ACK\n",
      "30      2.84804e-08  0.670007  0             0.685     0  UDP\n",
      "31      1.23285e-09  0.67223   0             0.72      1  UDP\n",
      "32      1.87382e-08  0.670278  0             0.626     2  UDP\n",
      "33      1.23285e-09  0.67223   0             0.643     3  UDP\n",
      "34      6.57933e-09  0.671092  0             0.65      4  UDP\n",
      "35      1.51991e-09  0.672122  0             0.644     5  UDP\n",
      "36      2.84804e-08  0.670007  0             0.695     6  UDP\n",
      "37      1e-09        0.67223   0             0.645     7  UDP\n",
      "38      1.87382e-09  0.67196   0             0.625     8  UDP\n",
      "39      3.51119e-08  0.669899  0             0.674     9  UDP\n",
      "40      3.51119e-08  0.510259  0             1.184     0  ARP\n",
      "41      3.51119e-08  0.510259  0             1.265     1  ARP\n",
      "42      5.3367e-09   0.522512  0             1.104     2  ARP\n",
      "43      5.3367e-09   0.522512  0             1.113     3  ARP\n",
      "44      6.57933e-08  0.507172  0             1.115     4  ARP\n",
      "45      4.32876e-09  0.524594  0             1.124     5  ARP\n",
      "46      8.11131e-08  0.506227  0             1.128     6  ARP\n",
      "47      1e-09        0.610349  0             1.2       7  ARP\n",
      "48      4.32876e-07  0.499095  0             1.305     8  ARP\n",
      "49      1.23285e-09  0.581935  0             1.352     9  ARP\n",
      "50      1e-09        0.982343  0             0.145     0  SP\n",
      "51      1.23285e-09  0.979778  0             0.17      1  SP\n",
      "52      1.23285e-07  0.923798  0             0.16      2  SP\n",
      "53      1.51991e-09  0.979139  0             0.165     3  SP\n",
      "54      3.51119e-09  0.973244  1.11022e-16   0.16      4  SP\n",
      "55      1.87382e-09  0.975337  0             0.179     5  SP\n",
      "56      1.23285e-09  0.979778  0             0.159     6  SP\n",
      "57      2.84804e-08  0.944328  1.11022e-16   0.16      7  SP\n",
      "58      4.32876e-09  0.972619  1.11022e-16   0.185     8  SP\n",
      "59      1e-09        0.982343  0             0.18      9  SP\n",
      "60      1.87382e-08  0.722785  0             0.303     0  BF\n",
      "61      1e-07        0.775546  0             0.299     1  BF\n",
      "62      1e-06        0.733901  0             0.31      2  BF\n",
      "63      1.23285e-07  0.769586  0             0.32      3  BF\n",
      "64      1.23285e-07  0.769586  0             0.37      4  BF\n",
      "65      8.11131e-08  0.770909  0             0.355     5  BF\n",
      "66      1e-07        0.775546  0             0.38      6  BF\n",
      "67      1e-07        0.775546  0             0.366     7  BF\n",
      "68      8.11131e-08  0.770909  0             0.345     8  BF\n",
      "69      1.51991e-07  0.757845  0             0.418     9  BF\n",
      "70      3.51119e-09  0.999125  0             0.694     0  OS\n",
      "71      1.23285e-08  0.997817  1.11022e-16   0.642     1  OS\n",
      "72      2.31013e-09  0.999562  1.11022e-16   0.668     2  OS\n",
      "73      1.51991e-09  1         0             0.695     3  OS\n",
      "74      1e-07        0.865572  1.11022e-16   0.678     4  OS\n",
      "75      3.51119e-09  0.999125  0             0.52      5  OS\n",
      "76      3.51119e-08  0.991795  0             0.48      6  OS\n",
      "77      1.51991e-09  1         0             0.518     7  OS\n",
      "78      1.23285e-09  1         0             0.479     8  OS\n",
      "79      5.3367e-09   0.999125  0             0.51      9  OS\n",
      "80      1.23285e-09  0.927165  0             0.327     0  SCHD\n",
      "81      1.87382e-09  0.921543  0             0.333     1  SCHD\n",
      "82      1e-09        0.930436  0             0.33      2  SCHD\n",
      "83      1.23285e-09  0.927165  0             0.318     3  SCHD\n",
      "84      1e-09        0.930436  0             0.339     4  SCHD\n",
      "85      2.31013e-09  0.918779  0             0.324     5  SCHD\n",
      "86      1.51991e-09  0.924739  0             0.33      6  SCHD\n",
      "87      1.87382e-09  0.921543  0             0.36      7  SCHD\n",
      "88      8.11131e-09  0.82287   0             0.323     8  SCHD\n",
      "89      1.51991e-09  0.924739  0             0.349     9  SCHD\n",
      "90      1.51991e-08  0.632607  0             0.306     0  MHDis\n",
      "91      2.84804e-07  0.57286   0             0.265     1  MHDis\n",
      "92      2.31013e-08  0.624103  0             0.29      2  MHDis\n",
      "93      1e-09        0.71165   0             0.26      3  MHDis\n",
      "94      1.23285e-09  0.704368  0             0.271     4  MHDis\n",
      "95      4.32876e-09  0.662742  0             0.267     5  MHDis\n",
      "96      2.31013e-09  0.685047  0             0.249     6  MHDis\n",
      "97      5.3367e-09   0.655925  0             0.268     7  MHDis\n",
      "98      1.87382e-09  0.691565  0             0.307     8  MHDis\n",
      "99      1.51991e-07  0.588133  0             0.275     9  MHDis\n"
     ]
    },
    {
     "name": "stderr",
     "output_type": "stream",
     "text": [
      "\n"
     ]
    }
   ],
   "source": [
    "lines=[['var_smoothing', \"F1\",\"Std\",\"Time\",\"No\",\"Attack\"]]\n",
    "for j in file_list:\n",
    "    print(j)\n",
    "    \n",
    "    df=pd.read_csv(file_list[j][0],usecols=feature_list[j]) \n",
    "    X_train = df.iloc[:,0:-1]\n",
    "    df['Label'] = df['Label'].astype('category')\n",
    "    y_train=df['Label'].cat.codes  \n",
    "\n",
    "\n",
    "    df=pd.read_csv(file_list[j][0],usecols=feature_list[j]) \n",
    "    X_test = df.iloc[:,0:-1]\n",
    "    df['Label'] = df['Label'].astype('category')\n",
    "    y_test=df['Label'].cat.codes  \n",
    "    \n",
    "    X= np.concatenate([X_train, X_test])\n",
    "    test_fold = [-1 for _ in range(X_train.shape[0])] + [0 for _ in range(X_test.shape[0])]\n",
    "    y = np.concatenate([y_train, y_test])\n",
    "    ps = PredefinedSplit(test_fold)\n",
    "    \n",
    "    second=time()\n",
    "\n",
    "    param_grid = {\n",
    "        'var_smoothing': np.logspace(0,-9, num=100),\n",
    "    }\n",
    "\n",
    " \n",
    "    second=time()\n",
    "    f1=[]\n",
    "    clf=GaussianNB()\n",
    "    for ii in range(1):\n",
    "        clf.fit(X_train, y_train)\n",
    "        predict =clf.predict(X_test)\n",
    "        f1.append(sklearn.metrics.f1_score(y_test, predict,average= \"macro\") )\n",
    "    f1=sum(f1)/len(f1)   \n",
    "    #if f1>0.76:\n",
    "    print('%-35s %-20s %-8s %-8s' % (\"default\",f1,round(time()-second,3),ii))\n",
    "    ######################################################################################################################\n",
    "    for i in tqdm(range(10)):\n",
    "        second=time()\n",
    "        a,b,clf=run_random_search(GaussianNB(),param_grid,X,y)\n",
    "        f1=[]\n",
    "        for ii in range(5):\n",
    "            clf.fit(X_train, y_train)\n",
    "            predict =clf.predict(X_test)\n",
    "            f1.append(sklearn.metrics.f1_score(y_test, predict,average= \"macro\") )\n",
    "        f1_result=sum(f1)/len(f1)   \n",
    "        f1=np.array(f1)\n",
    "        stndtd=f1.std()\n",
    "        temp=list(a.values())\n",
    "        #print('%-90s %-20s %-8s %-8s' % (a,f1_result,round(time()-second,3),i))\n",
    "        temp=temp+[f1_result,stndtd,round(time()-second,3),i,j]\n",
    "        lines.append(temp)\n",
    "\n",
    "\n",
    "results = pd.DataFrame (lines[1:], columns = lines[0])\n",
    "results.to_csv(\"NB_HPO.csv\",index=False)\n",
    "print (tabulate(results, headers=list(results.columns)))\n",
    "    \n"
   ]
  },
  {
   "cell_type": "code",
   "execution_count": 14,
   "metadata": {},
   "outputs": [
    {
     "name": "stdout",
     "output_type": "stream",
     "text": [
      "      var_smoothing        F1    Std    Time    No  Attack\n",
      "--  ---------------  --------  -----  ------  ----  --------\n",
      " 0      1.23285e-09  0.990332      0   0.596     4  SYN\n",
      " 1      1e-09        0.632532      0   0.428     5  HTTP\n",
      " 2      0.432876     0.898893      0   0.261     7  ACK\n",
      " 3      1.23285e-09  0.67223       0   0.72      1  UDP\n",
      " 4      1e-09        0.610349      0   1.2       7  ARP\n",
      " 5      1e-09        0.982343      0   0.145     0  SP\n",
      " 6      1e-07        0.775546      0   0.299     1  BF\n",
      " 7      1.51991e-09  1             0   0.695     3  OS\n",
      " 8      1e-09        0.930436      0   0.33      2  SCHD\n",
      " 9      1e-09        0.71165       0   0.26      3  MHDis\n"
     ]
    }
   ],
   "source": [
    "\n",
    "final_parametres=[[\"var_smoothing\",\"F1\",\"Std\",\"Time\",\"No\",\"Attack\"]]\n",
    "for i in results[\"Attack\"].unique():\n",
    "    df=results[results[\"Attack\"]==i]\n",
    "    m=df[\"F1\"].max()\n",
    "    df=df[df[\"F1\"]==m]\n",
    "    final_parametres.append(list(df.values)[0])\n",
    "results = pd.DataFrame (final_parametres[1:], columns=  final_parametres[0])\n",
    "print (tabulate(results, headers=list(results.columns)))\n",
    "    "
   ]
  },
  {
   "cell_type": "markdown",
   "metadata": {},
   "source": [
    "# LR"
   ]
  },
  {
   "cell_type": "code",
   "execution_count": 15,
   "metadata": {},
   "outputs": [
    {
     "name": "stdout",
     "output_type": "stream",
     "text": [
      "SYN\n",
      "default                             0.9977348992015422   0.502    0       \n"
     ]
    },
    {
     "name": "stderr",
     "output_type": "stream",
     "text": [
      "100%|██████████████████████████████████████████████████████████████████████████████████| 10/10 [00:37<00:00,  3.77s/it]\n"
     ]
    },
    {
     "name": "stdout",
     "output_type": "stream",
     "text": [
      "HTTP\n",
      "default                             0.9987025785149208   0.407    0       \n"
     ]
    },
    {
     "name": "stderr",
     "output_type": "stream",
     "text": [
      "100%|██████████████████████████████████████████████████████████████████████████████████| 10/10 [01:43<00:00, 10.39s/it]\n"
     ]
    },
    {
     "name": "stdout",
     "output_type": "stream",
     "text": [
      "ACK\n",
      "default                             1.0                  0.545    0       \n"
     ]
    },
    {
     "name": "stderr",
     "output_type": "stream",
     "text": [
      "100%|██████████████████████████████████████████████████████████████████████████████████| 10/10 [13:17<00:00, 79.73s/it]\n"
     ]
    },
    {
     "name": "stdout",
     "output_type": "stream",
     "text": [
      "UDP\n",
      "default                             0.9990563386680571   0.38     0       \n"
     ]
    },
    {
     "name": "stderr",
     "output_type": "stream",
     "text": [
      "100%|██████████████████████████████████████████████████████████████████████████████████| 10/10 [05:23<00:00, 32.34s/it]\n"
     ]
    },
    {
     "name": "stdout",
     "output_type": "stream",
     "text": [
      "ARP\n",
      "default                             0.646237159932464    0.579    0       \n"
     ]
    },
    {
     "name": "stderr",
     "output_type": "stream",
     "text": [
      "100%|█████████████████████████████████████████████████████████████████████████████████| 10/10 [47:52<00:00, 287.29s/it]\n"
     ]
    },
    {
     "name": "stdout",
     "output_type": "stream",
     "text": [
      "SP\n",
      "default                             0.9981884164524724   0.256    0       \n"
     ]
    },
    {
     "name": "stderr",
     "output_type": "stream",
     "text": [
      "100%|██████████████████████████████████████████████████████████████████████████████████| 10/10 [00:20<00:00,  2.06s/it]\n"
     ]
    },
    {
     "name": "stdout",
     "output_type": "stream",
     "text": [
      "BF\n",
      "default                             0.757767640641773    0.239    0       \n"
     ]
    },
    {
     "name": "stderr",
     "output_type": "stream",
     "text": [
      "100%|██████████████████████████████████████████████████████████████████████████████████| 10/10 [00:48<00:00,  4.82s/it]\n"
     ]
    },
    {
     "name": "stdout",
     "output_type": "stream",
     "text": [
      "OS\n",
      "default                             1.0                  0.518    0       \n"
     ]
    },
    {
     "name": "stderr",
     "output_type": "stream",
     "text": [
      "100%|██████████████████████████████████████████████████████████████████████████████████| 10/10 [02:57<00:00, 17.75s/it]\n"
     ]
    },
    {
     "name": "stdout",
     "output_type": "stream",
     "text": [
      "SCHD\n",
      "default                             0.9962644097356761   0.25     0       \n"
     ]
    },
    {
     "name": "stderr",
     "output_type": "stream",
     "text": [
      "100%|██████████████████████████████████████████████████████████████████████████████████| 10/10 [00:28<00:00,  2.89s/it]\n"
     ]
    },
    {
     "name": "stdout",
     "output_type": "stream",
     "text": [
      "MHDis\n",
      "default                             1.0                  0.278    0       \n"
     ]
    },
    {
     "name": "stderr",
     "output_type": "stream",
     "text": [
      "100%|██████████████████████████████████████████████████████████████████████████████████| 10/10 [05:38<00:00, 33.90s/it]"
     ]
    },
    {
     "name": "stdout",
     "output_type": "stream",
     "text": [
      "               C  penalty    Solver           F1          Std     Time    No  Attack\n",
      "--  ------------  ---------  ---------  --------  -----------  -------  ----  --------\n",
      " 0   0.602325     l1         liblinear  0.999648  1.11022e-16    2.433     0  SYN\n",
      " 1  73.4794       l2         lbfgs      0.998037  0              5.87      1  SYN\n",
      " 2   0.00201112   l1         liblinear  0.995281  0.000955693    1.886     2  SYN\n",
      " 3   0.331891     l1         liblinear  0.999648  2.36511e-09    3.349     3  SYN\n",
      " 4   0.042147     l1         liblinear  0.99851   0.000359536    3.074     4  SYN\n",
      " 5   0.0846503    l1         liblinear  0.999537  2.01368e-05    2.579     5  SYN\n",
      " 6   0.591983     l2         lbfgs      0.997735  1.11022e-16    5.46      6  SYN\n",
      " 7   0.659214     l2         lbfgs      0.998138  1.11022e-16    5.62      7  SYN\n",
      " 8   7.8055       l2         lbfgs      0.997685  0              4.512     8  SYN\n",
      " 9   0.0669816    l1         liblinear  0.999517  2.46615e-05    2.903     9  SYN\n",
      "10  79.1689       l2         lbfgs      1         0              3.725     0  HTTP\n",
      "11  17.1471       l1         liblinear  0.998042  0.000292906   68.11      1  HTTP\n",
      "12   0.517692     none       lbfgs      1         0              4.366     2  HTTP\n",
      "13   0.102347     none       lbfgs      1         0              4.951     3  HTTP\n",
      "14   4.49275      l2         lbfgs      1         0              4.443     4  HTTP\n",
      "15   3.55302      none       lbfgs      1         0              3.802     5  HTTP\n",
      "16   0.0382215    none       lbfgs      1         0              4.99      6  HTTP\n",
      "17   0.00264151   l2         liblinear  0.958233  0              1.735     7  HTTP\n",
      "18   3.97704      l2         lbfgs      1         0              3.928     8  HTTP\n",
      "19   0.0007392    l2         lbfgs      0.997717  0              3.78      9  HTTP\n",
      "20  12.8184       l1         liblinear  0.999616  0            134.999     0  ACK\n",
      "21  66.1891       l1         liblinear  0.999616  0            169.886     1  ACK\n",
      "22  17.2601       none       lbfgs      0.983932  0             69.665     2  ACK\n",
      "23   1.41533      l2         liblinear  0.981603  0             50.628     3  ACK\n",
      "24   0.228934     none       lbfgs      0.983932  0             26.523     4  ACK\n",
      "25   0.469497     l1         liblinear  0.999616  0             80.027     5  ACK\n",
      "26   0.325627     l1         liblinear  0.999616  0             57.077     6  ACK\n",
      "27   0.0551052    none       lbfgs      0.983932  0             82.825     7  ACK\n",
      "28   0.00394767   l1         liblinear  0.990224  0.000431056   87.961     8  ACK\n",
      "29   0.00232865   l1         liblinear  0.989927  0.000326038   37.688     9  ACK\n",
      "30   0.275089     none       lbfgs      1         0             36.152     0  UDP\n",
      "31  52.3877       l1         liblinear  0.998407  0.000107849    1.561     1  UDP\n",
      "32   2.55642e-05  none       lbfgs      1         0              3.945     2  UDP\n",
      "33   5.19363      l2         lbfgs      0.999476  0              2.739     3  UDP\n",
      "34   0.000117674  none       lbfgs      1         0              3.027     4  UDP\n",
      "35   0.0151613    l2         lbfgs      0.994819  0             68.202     5  UDP\n",
      "36   4.02052      l1         liblinear  0.998428  0.000217218    1.081     6  UDP\n",
      "37  42.9399       none       lbfgs      1         0             68.499     7  UDP\n",
      "38  50.4588       l2         lbfgs      1         0             36.259     8  UDP\n",
      "39   0.0104472    none       lbfgs      1         0            101.932     9  UDP\n",
      "40   5.15251      l1         liblinear  0.8257    0.00184286   369.056     0  ARP\n",
      "41   2.92346e-05  none       newton-cg  0.804517  0             59.038     1  ARP\n",
      "42   0.0571061    l1         liblinear  0.826793  0.00124531   328.651     2  ARP\n",
      "43  13.4981       l1         liblinear  0.828585  0.00224721   476.507     3  ARP\n",
      "44   0.188469     l1         liblinear  0.825917  0.00143299   436.125     4  ARP\n",
      "45   0.104789     l1         liblinear  0.826849  0.00176522   259.579     5  ARP\n",
      "46   0.0962302    l1         liblinear  0.828047  0.00249253   356.587     6  ARP\n",
      "47   0.326263     l1         liblinear  0.826353  0.00139728   393.99      7  ARP\n",
      "48   0.0524497    l2         newton-cg  0.808407  0            102.161     8  ARP\n",
      "49   0.316502     l2         newton-cg  0.805788  0             91.134     9  ARP\n",
      "50   1.94584      none       lbfgs      0.999095  1.11022e-16    2.725     0  SP\n",
      "51   7.37003      l2         lbfgs      0.998869  0              1.897     1  SP\n",
      "52   0.000155921  none       lbfgs      0.999095  1.11022e-16    2.363     2  SP\n",
      "53  30.9247       l2         lbfgs      0.999095  1.11022e-16    1.896     3  SP\n",
      "54  32.5237       l2         lbfgs      0.999095  1.11022e-16    1.879     4  SP\n",
      "55   1.85994      none       lbfgs      0.999095  1.11022e-16    2.06      5  SP\n",
      "56   0.0263672    none       lbfgs      0.999095  1.11022e-16    2.133     6  SP\n",
      "57   1.04143      none       lbfgs      0.999095  1.11022e-16    1.196     7  SP\n",
      "58   0.0040585    l2         lbfgs      0.975194  0              1.433     8  SP\n",
      "59  57.8813       none       lbfgs      0.999095  1.11022e-16    2.976     9  SP\n",
      "60   0.420241     l1         liblinear  0.999692  0.00061537     3.38      0  BF\n",
      "61   0.0215786    l1         liblinear  0.990399  1.11022e-16    3.151     1  BF\n",
      "62   0.528511     none       newton-cg  0.923532  1.11022e-16    8.358     2  BF\n",
      "63  30.1669       l2         newton-cg  0.921863  0             10.87      3  BF\n",
      "64   0.233083     l2         lbfgs      0.757768  0              2.548     4  BF\n",
      "65   1.95128      l2         newton-cg  0.927641  1.11022e-16    9.859     5  BF\n",
      "66   2.87076      l1         liblinear  1         0              3.382     6  BF\n",
      "67   0.00197482   l1         liblinear  0.961952  0.000563825    2.156     7  BF\n",
      "68   0.00469076   l1         liblinear  0.980815  0.000411577    2.073     8  BF\n",
      "69   2.82858      l2         lbfgs      0.758132  0              2.431     9  BF\n",
      "70   0.0564484    l2         liblinear  1         0              1.691     0  OS\n",
      "71   0.00496556   none       lbfgs      1         0              4.974     1  OS\n",
      "72  58.1014       l2         liblinear  1         0              3.196     2  OS\n",
      "73   0.000993999  none       lbfgs      1         0             26.11      3  OS\n",
      "74   0.000866984  l2         newton-cg  1         0              5.053     4  OS\n",
      "75   0.0938283    l2         liblinear  1         0             26.286     5  OS\n",
      "76   3.93675e-05  l2         newton-cg  1         0             12.906     6  OS\n",
      "77   0.0871298    l2         newton-cg  1         0             46.908     7  OS\n",
      "78   0.426335     l2         newton-cg  1         0              4.714     8  OS\n",
      "79   0.602025     l2         lbfgs      1         0             45.627     9  OS\n",
      "80   1.52913      none       lbfgs      1         0              2.73      0  SCHD\n",
      "81   5.74738      none       lbfgs      1         0              2.592     1  SCHD\n",
      "82   0.000749741  none       lbfgs      1         0              3.526     2  SCHD\n",
      "83   1.78346      l2         lbfgs      0.996795  0              3.838     3  SCHD\n",
      "84   2.73993      none       lbfgs      1         0              2.741     4  SCHD\n",
      "85   0.00191434   none       lbfgs      1         0              2.602     5  SCHD\n",
      "86   0.000232777  none       lbfgs      1         0              2.545     6  SCHD\n",
      "87  51.4991       none       lbfgs      1         0              3.475     7  SCHD\n",
      "88  21.3347       l1         liblinear  0.996055  0.0011876      1.69      8  SCHD\n",
      "89   1.10083e-05  none       lbfgs      1         0              3.085     9  SCHD\n",
      "90   0.000436482  none       lbfgs      1         0              3.12      0  MHDis\n",
      "91   0.121202     l2         lbfgs      0.998787  0             48.89      1  MHDis\n",
      "92   6.86613      l1         liblinear  0.995669  0.0020733    104.429     2  MHDis\n",
      "93   0.00459857   none       lbfgs      1         0             26.842     3  MHDis\n",
      "94   0.058521     none       lbfgs      1         0             48.687     4  MHDis\n",
      "95   0.0193602    none       lbfgs      1         0             27.423     5  MHDis\n",
      "96   0.00418353   none       lbfgs      1         0              2.282     6  MHDis\n",
      "97   8.15832e-05  none       lbfgs      1         0              1.984     7  MHDis\n",
      "98   0.00155749   none       lbfgs      1         0             73.376     8  MHDis\n",
      "99   1.72382e-05  none       lbfgs      1         0              1.917     9  MHDis\n"
     ]
    },
    {
     "name": "stderr",
     "output_type": "stream",
     "text": [
      "\n"
     ]
    }
   ],
   "source": [
    "from scipy.stats import loguniform\n",
    "from sklearn.linear_model import LogisticRegression\n",
    "lines=[[\"C\",'penalty','Solver',  \"F1\",\"Std\",\"Time\",\"No\",\"Attack\"]]\n",
    "for j in file_list:\n",
    "    print(j)\n",
    "    \n",
    "    df=pd.read_csv(file_list[j][0],usecols=feature_list[j]) \n",
    "    X_train = df.iloc[:,0:-1]\n",
    "    df['Label'] = df['Label'].astype('category')\n",
    "    y_train=df['Label'].cat.codes  \n",
    "\n",
    "\n",
    "    df=pd.read_csv(file_list[j][0],usecols=feature_list[j]) \n",
    "    X_test = df.iloc[:,0:-1]\n",
    "    df['Label'] = df['Label'].astype('category')\n",
    "    y_test=df['Label'].cat.codes  \n",
    "    \n",
    "    X= np.concatenate([X_train, X_test])\n",
    "    test_fold = [-1 for _ in range(X_train.shape[0])] + [0 for _ in range(X_test.shape[0])]\n",
    "    y = np.concatenate([y_train, y_test])\n",
    "    ps = PredefinedSplit(test_fold)\n",
    "    \n",
    "    second=time()\n",
    "\n",
    "    param_grid = {\n",
    "     'solver': ['newton-cg', 'lbfgs', 'liblinear'],\n",
    "    'penalty' : ['none', 'l1', 'l2', 'elasticnet'],\n",
    "    'C' : loguniform(1e-5, 100)\n",
    "        }\n",
    "    \n",
    "\n",
    " \n",
    "    second=time()\n",
    "    f1=[]\n",
    "    clf=LogisticRegression()\n",
    "    for ii in range(1):\n",
    "        clf.fit(X_train, y_train)\n",
    "        predict =clf.predict(X_test)\n",
    "        f1.append(sklearn.metrics.f1_score(y_test, predict,average= \"macro\") )\n",
    "    f1=sum(f1)/len(f1)   \n",
    "    #if f1>0.76:\n",
    "    print('%-35s %-20s %-8s %-8s' % (\"default\",f1,round(time()-second,3),ii))\n",
    "    ######################################################################################################################\n",
    "    for i in tqdm(range(10)):\n",
    "        second=time()\n",
    "        a,b,clf=run_random_search(LogisticRegression(),param_grid,X,y)\n",
    "        f1=[]\n",
    "        for ii in range(5):\n",
    "            clf.fit(X_train, y_train)\n",
    "            predict =clf.predict(X_test)\n",
    "            f1.append(sklearn.metrics.f1_score(y_test, predict,average= \"macro\") )\n",
    "        f1_result=sum(f1)/len(f1)   \n",
    "        f1=np.array(f1)\n",
    "        stndtd=f1.std()\n",
    "        temp=list(a.values())\n",
    "        #print('%-90s %-20s %-8s %-8s' % (a,f1_result,round(time()-second,3),i))\n",
    "        temp=temp+[f1_result,stndtd,round(time()-second,3),i,j]\n",
    "        lines.append(temp)\n",
    "\n",
    "\n",
    "results = pd.DataFrame (lines[1:], columns = lines[0])\n",
    "results.to_csv(\"LR_HPO.csv\",index=False)\n",
    "print (tabulate(results, headers=list(results.columns)))\n",
    "    \n"
   ]
  },
  {
   "cell_type": "code",
   "execution_count": 16,
   "metadata": {},
   "outputs": [
    {
     "name": "stdout",
     "output_type": "stream",
     "text": [
      "               C  penalty    Solver           F1          Std     Time    No  Attack\n",
      "--  ------------  ---------  ---------  --------  -----------  -------  ----  --------\n",
      " 0   0.331891     l1         liblinear  0.999648  2.36511e-09    3.349     3  SYN\n",
      " 1  79.1689       l2         lbfgs      1         0              3.725     0  HTTP\n",
      " 2  12.8184       l1         liblinear  0.999616  0            134.999     0  ACK\n",
      " 3   0.275089     none       lbfgs      1         0             36.152     0  UDP\n",
      " 4  13.4981       l1         liblinear  0.828585  0.00224721   476.507     3  ARP\n",
      " 5   1.94584      none       lbfgs      0.999095  1.11022e-16    2.725     0  SP\n",
      " 6   2.87076      l1         liblinear  1         0              3.382     6  BF\n",
      " 7   0.0564484    l2         liblinear  1         0              1.691     0  OS\n",
      " 8   1.52913      none       lbfgs      1         0              2.73      0  SCHD\n",
      " 9   0.000436482  none       lbfgs      1         0              3.12      0  MHDis\n"
     ]
    }
   ],
   "source": [
    "final_parametres=[[\"C\",'penalty','Solver',  \"F1\",\"Std\",\"Time\",\"No\",\"Attack\"]]\n",
    "for i in results[\"Attack\"].unique():\n",
    "    df=results[results[\"Attack\"]==i]\n",
    "    m=df[\"F1\"].max()\n",
    "    df=df[df[\"F1\"]==m]\n",
    "    final_parametres.append(list(df.values)[0])\n",
    "results = pd.DataFrame (final_parametres[1:], columns=  final_parametres[0])\n",
    "print (tabulate(results, headers=list(results.columns)))\n",
    "    "
   ]
  },
  {
   "cell_type": "code",
   "execution_count": null,
   "metadata": {},
   "outputs": [],
   "source": []
  },
  {
   "cell_type": "code",
   "execution_count": null,
   "metadata": {},
   "outputs": [],
   "source": []
  },
  {
   "cell_type": "markdown",
   "metadata": {},
   "source": [
    "# MLP"
   ]
  },
  {
   "cell_type": "code",
   "execution_count": 8,
   "metadata": {},
   "outputs": [],
   "source": [
    "import scipy.stats\n",
    "from sklearn.datasets import fetch_openml\n",
    "from sklearn.neural_network import MLPClassifier\n",
    "from sklearn.model_selection import RandomizedSearchCV\n",
    "\n",
    "\n",
    "param_dist = [\n",
    "    {'hidden_layer_sizes': (scipy.stats.randint(low=2**5, high=2**11+1).rvs(), )}\n",
    "    for _ in range(100)] + [\n",
    "    {'hidden_layer_sizes': (\n",
    "            scipy.stats.randint(low=2 ** 5, high=2 ** 11 + 1).rvs(),\n",
    "            scipy.stats.randint(low=2 ** 5, high=2 ** 11 + 1).rvs(),\n",
    "    )} for i in range(100)\n",
    "]\n",
    "\n",
    "layers=[]\n",
    "\n",
    "for i in param_dist:\n",
    "    layers.append(i['hidden_layer_sizes'])\n",
    "\n",
    "\n",
    "\n",
    "param_grid =  {\n",
    "    'hidden_layer_sizes': layers,\n",
    "    'solver': ['sgd', 'adam', 'lbfgs'],\n",
    "    'activation': ['relu', 'tanh'],\n",
    "    'alpha': [0.0001,0.001,0.01,0.1, 0.05],\n",
    "    'learning_rate': ['constant','adaptive']\n",
    "}\n"
   ]
  },
  {
   "cell_type": "code",
   "execution_count": 9,
   "metadata": {},
   "outputs": [
    {
     "name": "stdout",
     "output_type": "stream",
     "text": [
      "SYN\n",
      "default                             0.9994461615882726   9.114    0       \n"
     ]
    },
    {
     "name": "stderr",
     "output_type": "stream",
     "text": [
      "100%|█████████████████████████████████████████| 1/1 [1:19:38<00:00, 4778.30s/it]"
     ]
    },
    {
     "name": "stdout",
     "output_type": "stream",
     "text": [
      "{'solver': 'adam', 'learning_rate': 'adaptive', 'hidden_layer_sizes': (1885, 1004), 'alpha': 0.01, 'activation': 'relu'} 0.9993958379274824   4778.3   0       \n",
      "HTTP\n"
     ]
    },
    {
     "name": "stderr",
     "output_type": "stream",
     "text": [
      "\n"
     ]
    },
    {
     "name": "stdout",
     "output_type": "stream",
     "text": [
      "default                             0.9983694657282158   5.787    0       \n"
     ]
    },
    {
     "name": "stderr",
     "output_type": "stream",
     "text": [
      "100%|███████████████████████████████████████████| 1/1 [35:47<00:00, 2147.56s/it]"
     ]
    },
    {
     "name": "stdout",
     "output_type": "stream",
     "text": [
      "{'solver': 'adam', 'learning_rate': 'constant', 'hidden_layer_sizes': (1832, 332), 'alpha': 0.05, 'activation': 'relu'} 0.9944361458468798   2147.559 0       \n",
      "ACK\n"
     ]
    },
    {
     "name": "stderr",
     "output_type": "stream",
     "text": [
      "\n"
     ]
    },
    {
     "name": "stdout",
     "output_type": "stream",
     "text": [
      "default                             0.9998081777489431   8.092    0       \n"
     ]
    },
    {
     "name": "stderr",
     "output_type": "stream",
     "text": [
      "100%|███████████████████████████████████████████| 1/1 [39:17<00:00, 2357.18s/it]"
     ]
    },
    {
     "name": "stdout",
     "output_type": "stream",
     "text": [
      "{'solver': 'lbfgs', 'learning_rate': 'adaptive', 'hidden_layer_sizes': (131, 377), 'alpha': 0.0001, 'activation': 'tanh'} 1.0                  2357.171 0       \n",
      "UDP\n"
     ]
    },
    {
     "name": "stderr",
     "output_type": "stream",
     "text": [
      "\n"
     ]
    },
    {
     "name": "stdout",
     "output_type": "stream",
     "text": [
      "default                             1.0                  3.178    0       \n"
     ]
    },
    {
     "name": "stderr",
     "output_type": "stream",
     "text": [
      "100%|████████████████████████████████████████████| 1/1 [06:40<00:00, 400.48s/it]"
     ]
    },
    {
     "name": "stdout",
     "output_type": "stream",
     "text": [
      "{'solver': 'adam', 'learning_rate': 'adaptive', 'hidden_layer_sizes': (930, 745), 'alpha': 0.001, 'activation': 'tanh'} 1.0                  400.477  0       \n",
      "ARP\n"
     ]
    },
    {
     "name": "stderr",
     "output_type": "stream",
     "text": [
      "\n"
     ]
    },
    {
     "name": "stdout",
     "output_type": "stream",
     "text": [
      "default                             0.5971443062241459   8.503    0       \n"
     ]
    },
    {
     "name": "stderr",
     "output_type": "stream",
     "text": [
      "100%|███████████████████████████████████████████| 1/1 [29:29<00:00, 1769.98s/it]"
     ]
    },
    {
     "name": "stdout",
     "output_type": "stream",
     "text": [
      "{'solver': 'sgd', 'learning_rate': 'constant', 'hidden_layer_sizes': (911, 400), 'alpha': 0.0001, 'activation': 'tanh'} 0.5615423489626903   1769.983 0       \n",
      "SP\n"
     ]
    },
    {
     "name": "stderr",
     "output_type": "stream",
     "text": [
      "\n"
     ]
    },
    {
     "name": "stdout",
     "output_type": "stream",
     "text": [
      "default                             0.47069071048542777  1.254    0       \n"
     ]
    },
    {
     "name": "stderr",
     "output_type": "stream",
     "text": [
      "100%|████████████████████████████████████████████| 1/1 [14:32<00:00, 872.72s/it]"
     ]
    },
    {
     "name": "stdout",
     "output_type": "stream",
     "text": [
      "{'solver': 'sgd', 'learning_rate': 'adaptive', 'hidden_layer_sizes': (49, 1934), 'alpha': 0.05, 'activation': 'tanh'} 0.4707654646455136   872.722  0       \n",
      "BF\n"
     ]
    },
    {
     "name": "stderr",
     "output_type": "stream",
     "text": [
      "\n"
     ]
    },
    {
     "name": "stdout",
     "output_type": "stream",
     "text": [
      "default                             0.953626149459518    3.736    0       \n"
     ]
    },
    {
     "name": "stderr",
     "output_type": "stream",
     "text": [
      "100%|███████████████████████████████████████████| 1/1 [43:42<00:00, 2622.18s/it]"
     ]
    },
    {
     "name": "stdout",
     "output_type": "stream",
     "text": [
      "{'solver': 'adam', 'learning_rate': 'constant', 'hidden_layer_sizes': (1843, 1696), 'alpha': 0.05, 'activation': 'relu'} 0.976648422235333    2622.177 0       \n",
      "OS\n"
     ]
    },
    {
     "name": "stderr",
     "output_type": "stream",
     "text": [
      "\n"
     ]
    },
    {
     "name": "stdout",
     "output_type": "stream",
     "text": [
      "default                             0.9969442978028458   1.768    0       \n"
     ]
    },
    {
     "name": "stderr",
     "output_type": "stream",
     "text": [
      "100%|████████████████████████████████████████████| 1/1 [11:44<00:00, 704.22s/it]"
     ]
    },
    {
     "name": "stdout",
     "output_type": "stream",
     "text": [
      "{'solver': 'adam', 'learning_rate': 'adaptive', 'hidden_layer_sizes': (696,), 'alpha': 0.0001, 'activation': 'relu'} 1.0                  704.217  0       \n",
      "SCHD\n"
     ]
    },
    {
     "name": "stderr",
     "output_type": "stream",
     "text": [
      "\n"
     ]
    },
    {
     "name": "stdout",
     "output_type": "stream",
     "text": [
      "default                             0.9941524069241122   2.649    0       \n"
     ]
    },
    {
     "name": "stderr",
     "output_type": "stream",
     "text": [
      "100%|████████████████████████████████████████████| 1/1 [15:11<00:00, 911.76s/it]"
     ]
    },
    {
     "name": "stdout",
     "output_type": "stream",
     "text": [
      "{'solver': 'adam', 'learning_rate': 'constant', 'hidden_layer_sizes': (59,), 'alpha': 0.0001, 'activation': 'relu'} 0.9952063707856353   911.754  0       \n",
      "MHDis\n"
     ]
    },
    {
     "name": "stderr",
     "output_type": "stream",
     "text": [
      "\n"
     ]
    },
    {
     "name": "stdout",
     "output_type": "stream",
     "text": [
      "default                             0.9904541255754638   1.003    0       \n"
     ]
    },
    {
     "name": "stderr",
     "output_type": "stream",
     "text": [
      "100%|████████████████████████████████████████████| 1/1 [09:29<00:00, 569.91s/it]"
     ]
    },
    {
     "name": "stdout",
     "output_type": "stream",
     "text": [
      "{'solver': 'lbfgs', 'learning_rate': 'adaptive', 'hidden_layer_sizes': (100, 1368), 'alpha': 0.1, 'activation': 'tanh'} 1.0                  569.912  0       \n",
      "    hidden_layer_sizes    solver    activation      alpha  learning_rate          F1    Std      Time    No  Attack\n",
      "--  --------------------  --------  ------------  -------  ---------------  --------  -----  --------  ----  --------\n",
      " 0  adam                  adaptive  (1885, 1004)   0.01    relu             0.999396      0  4778.3       0  SYN\n",
      " 1  adam                  constant  (1832, 332)    0.05    relu             0.994436      0  2147.56      0  HTTP\n",
      " 2  lbfgs                 adaptive  (131, 377)     0.0001  tanh             1             0  2357.17      0  ACK\n",
      " 3  adam                  adaptive  (930, 745)     0.001   tanh             1             0   400.477     0  UDP\n",
      " 4  sgd                   constant  (911, 400)     0.0001  tanh             0.561542      0  1769.98      0  ARP\n",
      " 5  sgd                   adaptive  (49, 1934)     0.05    tanh             0.470765      0   872.722     0  SP\n",
      " 6  adam                  constant  (1843, 1696)   0.05    relu             0.976648      0  2622.18      0  BF\n",
      " 7  adam                  adaptive  (696,)         0.0001  relu             1             0   704.217     0  OS\n",
      " 8  adam                  constant  (59,)          0.0001  relu             0.995206      0   911.754     0  SCHD\n",
      " 9  lbfgs                 adaptive  (100, 1368)    0.1     tanh             1             0   569.912     0  MHDis\n"
     ]
    },
    {
     "name": "stderr",
     "output_type": "stream",
     "text": [
      "\n"
     ]
    }
   ],
   "source": [
    "# MLP\n",
    "\n",
    "import scipy.stats\n",
    "from sklearn.datasets import fetch_openml\n",
    "from sklearn.neural_network import MLPClassifier\n",
    "from sklearn.model_selection import RandomizedSearchCV\n",
    "\n",
    "\n",
    "param_dist = [\n",
    "    {'hidden_layer_sizes': (scipy.stats.randint(low=2**5, high=2**11+1).rvs(), )}\n",
    "    for _ in range(100)] + [\n",
    "    {'hidden_layer_sizes': (\n",
    "            scipy.stats.randint(low=2 ** 5, high=2 ** 11 + 1).rvs(),\n",
    "            scipy.stats.randint(low=2 ** 5, high=2 ** 11 + 1).rvs(),\n",
    "    )} for i in range(100)\n",
    "]\n",
    "\n",
    "layers=[]\n",
    "\n",
    "for i in param_dist:\n",
    "    layers.append(i['hidden_layer_sizes'])\n",
    "\n",
    "\n",
    "\n",
    "param_grid =  {\n",
    "    'hidden_layer_sizes': layers,\n",
    "    'solver': ['sgd', 'adam', 'lbfgs'],\n",
    "    'activation': ['relu', 'tanh'],\n",
    "    'alpha': [0.0001,0.001,0.01,0.1, 0.05],\n",
    "    'learning_rate': ['constant','adaptive']\n",
    "}\n",
    "\n",
    "\n",
    "\n",
    "\n",
    "lines=[['hidden_layer_sizes', 'solver','activation','alpha','learning_rate', \"F1\",\"Std\",\"Time\",\"No\",\"Attack\"]]\n",
    "\n",
    "\n",
    "for j in file_list:\n",
    "    print(j)\n",
    "    \n",
    "    \n",
    "    df=pd.read_csv(file_list[j][0],usecols=feature_list[j]) \n",
    "    X_train = df.iloc[:,0:-1]\n",
    "    df['Label'] = df['Label'].astype('category')\n",
    "    y_train=df['Label'].cat.codes  \n",
    "\n",
    "\n",
    "    df=pd.read_csv(file_list[j][0],usecols=feature_list[j]) \n",
    "    X_test = df.iloc[:,0:-1]\n",
    "    df['Label'] = df['Label'].astype('category')\n",
    "    y_test=df['Label'].cat.codes  \n",
    "    \n",
    "    X= np.concatenate([X_train, X_test])\n",
    "    test_fold = [-1 for _ in range(X_train.shape[0])] + [0 for _ in range(X_test.shape[0])]\n",
    "    y = np.concatenate([y_train, y_test])\n",
    "    ps = PredefinedSplit(test_fold)\n",
    "    \n",
    "\n",
    "    param_grid =  {\n",
    "        'hidden_layer_sizes': layers,\n",
    "        'solver': ['sgd', 'adam', 'lbfgs'],\n",
    "        'activation': ['relu', 'tanh'],\n",
    "        'alpha': [0.0001,0.001,0.01,0.1, 0.05],\n",
    "        'learning_rate': ['constant','adaptive']\n",
    "    }\n",
    "\n",
    "\n",
    "\n",
    "    second=time()\n",
    "    f1=[]\n",
    "    clf=MLPClassifier()\n",
    "    for ii in range(1):\n",
    "        clf.fit(X_train, y_train)\n",
    "        predict =clf.predict(X_test)\n",
    "        f1.append(sklearn.metrics.f1_score(y_test, predict,average= \"macro\") )\n",
    "    f1=sum(f1)/len(f1)   \n",
    "    #if f1>0.76:\n",
    "    print('%-35s %-20s %-8s %-8s' % (\"default\",f1,round(time()-second,3),ii))\n",
    "\n",
    "\n",
    "    \n",
    "    ######################################################################################################################\n",
    "    for i in tqdm(range(1)):\n",
    "        second=time()\n",
    "        a,b,clf=run_random_search(MLPClassifier(),param_grid,X,y)\n",
    "        f1=[]\n",
    "        for ii in range(1):\n",
    "            clf.fit(X_train, y_train)\n",
    "            predict =clf.predict(X_test)\n",
    "            f1.append(sklearn.metrics.f1_score(y_test, predict,average= \"macro\") )\n",
    "        f1_result=sum(f1)/len(f1)   \n",
    "        f1=np.array(f1)\n",
    "        stndtd=f1.std()\n",
    "        temp=list(a.values())\n",
    "        print('%-90s %-20s %-8s %-8s' % (a,f1_result,round(time()-second,3),i))\n",
    "        temp=temp+[f1_result,stndtd,round(time()-second,3),i,j]\n",
    "        lines.append(temp)\n",
    "\n",
    "        #if f1>0.76:\n",
    "\n",
    "results = pd.DataFrame (lines[1:], columns = lines[0])\n",
    "results.to_csv(\"ann_HPO.csv\",index=False)\n",
    "\n",
    "\n",
    "print (tabulate(results, headers=list(results.columns)))\n",
    "    \n",
    "    "
   ]
  },
  {
   "cell_type": "markdown",
   "metadata": {},
   "source": [
    "-------------"
   ]
  },
  {
   "cell_type": "markdown",
   "metadata": {},
   "source": [
    "# RandomizedSearchCV  SVM"
   ]
  },
  {
   "cell_type": "code",
   "execution_count": 10,
   "metadata": {},
   "outputs": [
    {
     "name": "stdout",
     "output_type": "stream",
     "text": [
      "SYN\n",
      "default                             0.9866339437470528   11.917   0       \n"
     ]
    },
    {
     "name": "stderr",
     "output_type": "stream",
     "text": [
      "100%|████████████████████████████████████████████| 1/1 [13:31<00:00, 811.90s/it]"
     ]
    },
    {
     "name": "stdout",
     "output_type": "stream",
     "text": [
      "{'gamma': 1, 'C': 1}                                                                       1.0                  811.898  0       \n",
      "HTTP\n"
     ]
    },
    {
     "name": "stderr",
     "output_type": "stream",
     "text": [
      "\n"
     ]
    },
    {
     "name": "stdout",
     "output_type": "stream",
     "text": [
      "default                             0.4897829026250669   3.039    0       \n"
     ]
    },
    {
     "name": "stderr",
     "output_type": "stream",
     "text": [
      "100%|████████████████████████████████████████████| 1/1 [12:15<00:00, 735.99s/it]"
     ]
    },
    {
     "name": "stdout",
     "output_type": "stream",
     "text": [
      "{'gamma': 1, 'C': 10}                                                                      1.0                  735.99   0       \n",
      "ACK\n"
     ]
    },
    {
     "name": "stderr",
     "output_type": "stream",
     "text": [
      "\n"
     ]
    },
    {
     "name": "stdout",
     "output_type": "stream",
     "text": [
      "default                             0.895685739047717    2.41     0       \n"
     ]
    },
    {
     "name": "stderr",
     "output_type": "stream",
     "text": [
      "100%|████████████████████████████████████████████| 1/1 [06:25<00:00, 385.28s/it]"
     ]
    },
    {
     "name": "stdout",
     "output_type": "stream",
     "text": [
      "{'gamma': 1, 'C': 10}                                                                      1.0                  385.279  0       \n",
      "UDP\n"
     ]
    },
    {
     "name": "stderr",
     "output_type": "stream",
     "text": [
      "\n"
     ]
    },
    {
     "name": "stdout",
     "output_type": "stream",
     "text": [
      "default                             0.37810945273631835  33.929   0       \n"
     ]
    },
    {
     "name": "stderr",
     "output_type": "stream",
     "text": [
      "100%|████████████████████████████████████████████| 1/1 [05:38<00:00, 338.71s/it]"
     ]
    },
    {
     "name": "stdout",
     "output_type": "stream",
     "text": [
      "{'gamma': 0.1, 'C': 10}                                                                    1.0                  338.714  0       \n",
      "ARP\n"
     ]
    },
    {
     "name": "stderr",
     "output_type": "stream",
     "text": [
      "\n"
     ]
    },
    {
     "name": "stdout",
     "output_type": "stream",
     "text": [
      "default                             0.4286040797668705   35.123   0       \n"
     ]
    },
    {
     "name": "stderr",
     "output_type": "stream",
     "text": [
      "100%|███████████████████████████████████████████| 1/1 [24:04<00:00, 1444.65s/it]"
     ]
    },
    {
     "name": "stdout",
     "output_type": "stream",
     "text": [
      "{'gamma': 0.1, 'C': 1}                                                                     1.0                  1444.647 0       \n",
      "SP\n"
     ]
    },
    {
     "name": "stderr",
     "output_type": "stream",
     "text": [
      "\n"
     ]
    },
    {
     "name": "stdout",
     "output_type": "stream",
     "text": [
      "default                             0.4707654646455136   2.487    0       \n"
     ]
    },
    {
     "name": "stderr",
     "output_type": "stream",
     "text": [
      "100%|████████████████████████████████████████████| 1/1 [03:15<00:00, 195.88s/it]"
     ]
    },
    {
     "name": "stdout",
     "output_type": "stream",
     "text": [
      "{'gamma': 1, 'C': 1}                                                                       1.0                  195.879  0       \n",
      "BF\n"
     ]
    },
    {
     "name": "stderr",
     "output_type": "stream",
     "text": [
      "\n"
     ]
    },
    {
     "name": "stdout",
     "output_type": "stream",
     "text": [
      "default                             0.7462043765687905   0.904    0       \n"
     ]
    },
    {
     "name": "stderr",
     "output_type": "stream",
     "text": [
      "100%|█████████████████████████████████████████████| 1/1 [01:02<00:00, 62.15s/it]"
     ]
    },
    {
     "name": "stdout",
     "output_type": "stream",
     "text": [
      "{'gamma': 0.01, 'C': 10}                                                                   1.0                  62.145   0       \n",
      "OS\n"
     ]
    },
    {
     "name": "stderr",
     "output_type": "stream",
     "text": [
      "\n"
     ]
    },
    {
     "name": "stdout",
     "output_type": "stream",
     "text": [
      "default                             0.485319097306479    1.497    0       \n"
     ]
    },
    {
     "name": "stderr",
     "output_type": "stream",
     "text": [
      "100%|████████████████████████████████████████████| 1/1 [04:23<00:00, 263.46s/it]"
     ]
    },
    {
     "name": "stdout",
     "output_type": "stream",
     "text": [
      "{'gamma': 0.1, 'C': 10}                                                                    1.0                  263.464  0       \n",
      "SCHD\n"
     ]
    },
    {
     "name": "stderr",
     "output_type": "stream",
     "text": [
      "\n"
     ]
    },
    {
     "name": "stdout",
     "output_type": "stream",
     "text": [
      "default                             0.48809058961343227  1.241    0       \n"
     ]
    },
    {
     "name": "stderr",
     "output_type": "stream",
     "text": [
      "100%|████████████████████████████████████████████| 1/1 [01:45<00:00, 105.35s/it]"
     ]
    },
    {
     "name": "stdout",
     "output_type": "stream",
     "text": [
      "{'gamma': 1, 'C': 10}                                                                      0.9973265487625729   105.352  0       \n",
      "MHDis\n"
     ]
    },
    {
     "name": "stderr",
     "output_type": "stream",
     "text": [
      "\n"
     ]
    },
    {
     "name": "stdout",
     "output_type": "stream",
     "text": [
      "default                             0.49480455220188024  0.423    0       \n"
     ]
    },
    {
     "name": "stderr",
     "output_type": "stream",
     "text": [
      "100%|████████████████████████████████████████████| 1/1 [02:03<00:00, 123.63s/it]"
     ]
    },
    {
     "name": "stdout",
     "output_type": "stream",
     "text": [
      "{'gamma': 0.1, 'C': 10}                                                                    1.0                  123.626  0       \n",
      "       C    gamma        F1    Std      Time    No  Attack\n",
      "--  ----  -------  --------  -----  --------  ----  --------\n",
      " 0  1           1  1             0   811.898     0  SYN\n",
      " 1  1          10  1             0   735.99      0  HTTP\n",
      " 2  1          10  1             0   385.279     0  ACK\n",
      " 3  0.1        10  1             0   338.714     0  UDP\n",
      " 4  0.1         1  1             0  1444.65      0  ARP\n",
      " 5  1           1  1             0   195.879     0  SP\n",
      " 6  0.01       10  1             0    62.145     0  BF\n",
      " 7  0.1        10  1             0   263.464     0  OS\n",
      " 8  1          10  0.997327      0   105.352     0  SCHD\n",
      " 9  0.1        10  1             0   123.626     0  MHDis\n"
     ]
    },
    {
     "name": "stderr",
     "output_type": "stream",
     "text": [
      "\n"
     ]
    }
   ],
   "source": [
    "lines=[['C', 'gamma', \"F1\",\"Std\",\"Time\",\"No\",\"Attack\"]]\n",
    "\n",
    "\n",
    "for j in file_list:\n",
    "    print(j)\n",
    "    \n",
    "    \n",
    "    df=pd.read_csv(file_list[j][0],usecols=feature_list[j]) \n",
    "    X_train = df.iloc[:,0:-1]\n",
    "    df['Label'] = df['Label'].astype('category')\n",
    "    y_train=df['Label'].cat.codes  \n",
    "\n",
    "\n",
    "    df=pd.read_csv(file_list[j][0],usecols=feature_list[j]) \n",
    "    X_test = df.iloc[:,0:-1]\n",
    "    df['Label'] = df['Label'].astype('category')\n",
    "    y_test=df['Label'].cat.codes  \n",
    "    \n",
    "    X= np.concatenate([X_train, X_test])\n",
    "    test_fold = [-1 for _ in range(X_train.shape[0])] + [0 for _ in range(X_test.shape[0])]\n",
    "    y = np.concatenate([y_train, y_test])\n",
    "    ps = PredefinedSplit(test_fold)\n",
    "    \n",
    "\n",
    "\n",
    "    param_grid =  {'C': [0.001, 0.01, 0.1, 1, 10], 'gamma' : [0.001, 0.01, 0.1, 1]}  \n",
    "\n",
    "    second=time()\n",
    "    f1=[]\n",
    "    clf=svm.SVC()\n",
    "    for ii in range(1):\n",
    "        clf.fit(X_train, y_train)\n",
    "        predict =clf.predict(X_test)\n",
    "        f1.append(sklearn.metrics.f1_score(y_test, predict,average= \"macro\") )\n",
    "    f1=sum(f1)/len(f1)   \n",
    "    #if f1>0.76:\n",
    "    print('%-35s %-20s %-8s %-8s' % (\"default\",f1,round(time()-second,3),ii))\n",
    "\n",
    "\n",
    "    \n",
    "    ######################################################################################################################\n",
    "    for i in tqdm(range(1)):\n",
    "        second=time()\n",
    "        a,b,clf=run_random_search(svm.SVC(),param_grid,X,y)\n",
    "        f1=[]\n",
    "        for ii in range(1):\n",
    "            clf.fit(X_train, y_train)\n",
    "            predict =clf.predict(X_test)\n",
    "            f1.append(sklearn.metrics.f1_score(y_test, predict,average= \"macro\") )\n",
    "        f1_result=sum(f1)/len(f1)   \n",
    "        f1=np.array(f1)\n",
    "        stndtd=f1.std()\n",
    "        temp=list(a.values())\n",
    "        print('%-90s %-20s %-8s %-8s' % (a,f1_result,round(time()-second,3),i))\n",
    "        temp=temp+[f1_result,stndtd,round(time()-second,3),i,j]\n",
    "        lines.append(temp)\n",
    "\n",
    "        #if f1>0.76:\n",
    "\n",
    "results = pd.DataFrame (lines[1:], columns = lines[0])\n",
    "results.to_csv(\"svm_HPO.csv\",index=False)\n",
    "\n",
    "\n",
    "print (tabulate(results, headers=list(results.columns)))\n",
    "    \n",
    "    "
   ]
  },
  {
   "cell_type": "code",
   "execution_count": null,
   "metadata": {},
   "outputs": [],
   "source": []
  },
  {
   "cell_type": "code",
   "execution_count": null,
   "metadata": {},
   "outputs": [],
   "source": []
  },
  {
   "cell_type": "code",
   "execution_count": null,
   "metadata": {},
   "outputs": [],
   "source": []
  }
 ],
 "metadata": {
  "kernelspec": {
   "display_name": "Python 3 (ipykernel)",
   "language": "python",
   "name": "python3"
  },
  "language_info": {
   "codemirror_mode": {
    "name": "ipython",
    "version": 3
   },
   "file_extension": ".py",
   "mimetype": "text/x-python",
   "name": "python",
   "nbconvert_exporter": "python",
   "pygments_lexer": "ipython3",
   "version": "3.10.8"
  }
 },
 "nbformat": 4,
 "nbformat_minor": 2
}
