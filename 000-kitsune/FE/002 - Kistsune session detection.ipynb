{
 "cells": [
  {
   "cell_type": "code",
   "execution_count": 1,
   "metadata": {},
   "outputs": [],
   "source": [
    "import pandas as pd\n",
    "import zipfile\n",
    "import os\n",
    "from tqdm import tqdm\n",
    "import shutil\n",
    "import math\n",
    "import numpy as np"
   ]
  },
  {
   "cell_type": "code",
   "execution_count": 2,
   "metadata": {},
   "outputs": [],
   "source": [
    "def folder(f_name): #this function creates a folder named \"attacks\" in the program directory.\n",
    "    try:\n",
    "        if not os.path.exists(f_name):\n",
    "            os.makedirs(f_name)\n",
    "    except OSError:\n",
    "        print (\"The folder could not be created!\")"
   ]
  },
  {
   "cell_type": "code",
   "execution_count": 3,
   "metadata": {
    "scrolled": false
   },
   "outputs": [],
   "source": [
    "def find_the_way(path,file_format):\n",
    "    files_add = []\n",
    "    # r=root, d=directories, f = files\n",
    "    for r, d, f in os.walk(path):\n",
    "        for file in f:\n",
    "            if file_format in file:\n",
    "                files_add.append(os.path.join(r, file))  \n",
    "    return files_add\n"
   ]
  },
  {
   "cell_type": "code",
   "execution_count": 4,
   "metadata": {},
   "outputs": [],
   "source": [
    "def folder(f_name): #this function creates a folder.\n",
    "    try:\n",
    "        if not os.path.exists(f_name):\n",
    "            os.makedirs(f_name)\n",
    "    except OSError:\n",
    "        print (\"The folder could not be created!\")"
   ]
  },
  {
   "cell_type": "code",
   "execution_count": 5,
   "metadata": {},
   "outputs": [
    {
     "data": {
      "text/plain": [
       "['./FE\\\\Active Wiretap_FE.csv',\n",
       " './FE\\\\ARP MitM_FE.csv',\n",
       " './FE\\\\Fuzzing_FE.csv',\n",
       " './FE\\\\Mirai_FE.csv',\n",
       " './FE\\\\OS Scan_FE.csv',\n",
       " './FE\\\\SSDP Flood_FE.csv',\n",
       " './FE\\\\SSL Renegotiation_FE.csv',\n",
       " './FE\\\\SYN DoS_FE.csv',\n",
       " './FE\\\\Video Injection_FE.csv']"
      ]
     },
     "execution_count": 5,
     "metadata": {},
     "output_type": "execute_result"
    }
   ],
   "source": [
    "files_add=find_the_way('./FE','FE.csv')\n",
    "files_add"
   ]
  },
  {
   "cell_type": "code",
   "execution_count": 6,
   "metadata": {},
   "outputs": [],
   "source": [
    "folder(\"stats\")\n",
    "folder(\"train-test\")\n"
   ]
  },
  {
   "cell_type": "code",
   "execution_count": 7,
   "metadata": {},
   "outputs": [],
   "source": [
    "n=[\"WS_src\",\"WS_dst\",\"Label\"]"
   ]
  },
  {
   "cell_type": "code",
   "execution_count": 8,
   "metadata": {
    "scrolled": false
   },
   "outputs": [
    {
     "name": "stdout",
     "output_type": "stream",
     "text": [
      "Active Wiretap_FE.csv\n",
      "ARP MitM_FE.csv\n",
      "Fuzzing_FE.csv\n",
      "Mirai_FE.csv\n",
      "OS Scan_FE.csv\n",
      "SSDP Flood_FE.csv\n",
      "SSL Renegotiation_FE.csv\n",
      "SYN DoS_FE.csv\n",
      "Video Injection_FE.csv\n"
     ]
    }
   ],
   "source": [
    "for j in files_add:\n",
    "    print(j[5:])\n",
    "    temp=[[\"ID\",\"0\",\"1\"]]\n",
    "    df=pd.read_csv(j,usecols=n)\n",
    "    df[\"ID\"] = df[\"WS_src\"]+\"=>\"+df[\"WS_dst\"]\n",
    "    IDS=sorted(list(df[df.columns[-1]].unique()))\n",
    "    for i in IDS:\n",
    "        smaller = df[df[\"ID\"]==i]\n",
    "        a=smaller.groupby(\"Label\").size()\n",
    "        a=a.to_dict()\n",
    "        try:\n",
    "            l0=a[0]\n",
    "        except:\n",
    "            l0=0\n",
    "        try:\n",
    "            l1=a[1]\n",
    "        except:\n",
    "            l1=0\n",
    "        temp.append([i,l0,l1]) \n",
    "    results = pd.DataFrame (temp[1:], columns = temp[0])\n",
    "    results[\"0 percentage\"]=results[\"0\"]/(results[\"0\"].sum()/100)\n",
    "    results[\"1 percentage\"]=results[\"1\"]/(results[\"1\"].sum()/100)\n",
    "    \n",
    "    results.to_csv(f\"./stats/{j[5:]}\",index=False)\n"
   ]
  },
  {
   "cell_type": "code",
   "execution_count": 9,
   "metadata": {},
   "outputs": [],
   "source": [
    "attacks={\"Active Wiretap_FE.csv\":{\"train\":[\"192.168.2.13=>192.168.100.5\"],\"test\":[\"192.168.2.15=>192.168.100.5\"]},\n",
    "\"ARP MitM_FE.csv\":{\"train\":[\"192.168.2.13=>192.168.100.5\"],\"test\":[\"192.168.2.15=>192.168.100.5\"]},\n",
    "\"Fuzzing_FE.csv\":{\"train\":[\"192.168.2.13=>192.168.100.5\"],\"test\":[\"192.168.2.15=>192.168.100.5\"]},\n",
    "\"Mirai_FE.csv\":{\"train\":[\"Shenzhen_98:ee:fd=>Broadcast\"],\"test\":[\"!\"]},\n",
    "\"OS Scan_FE.csv\":{\"train\":[\"192.168.2.15=>192.168.100.5\"],\"test\":[\"192.168.2.13=>192.168.100.5\"]},\n",
    "\"SSDP Flood_FE.csv\":{\"train\":[\"192.168.3.11=>192.168.100.5\"],\"test\":[\"192.168.3.13=>192.168.100.5\"]},\n",
    "\"SSL Renegotiation_FE.csv\":{\"train\":[\"192.168.3.13=>192.168.100.5\"],\"test\":[\"192.168.3.12=>192.168.100.5\"]},\n",
    "\"SYN DoS_FE.csv\":{\"train\":[\"192.168.3.14=>192.168.100.5\"],\"test\":[\"!\"]},\n",
    "\"Video Injection_FE.csv\":{\"train\":[\"192.168.2.13=>192.168.100.5\"],\"test\":[\"192.168.2.11=>192.168.100.5\"]}}"
   ]
  },
  {
   "cell_type": "code",
   "execution_count": 11,
   "metadata": {},
   "outputs": [
    {
     "name": "stdout",
     "output_type": "stream",
     "text": [
      "Active Wiretap_FE.csv\n",
      "192.168.2.13=>192.168.100.5\n",
      "192.168.2.15=>192.168.100.5\n",
      "ARP MitM_FE.csv\n",
      "192.168.2.13=>192.168.100.5\n",
      "192.168.2.15=>192.168.100.5\n",
      "Fuzzing_FE.csv\n",
      "192.168.2.13=>192.168.100.5\n",
      "192.168.2.15=>192.168.100.5\n",
      "Mirai_FE.csv\n",
      "Shenzhen_98:ee:fd=>Broadcast\n",
      "OS Scan_FE.csv\n",
      "192.168.2.15=>192.168.100.5\n",
      "192.168.2.13=>192.168.100.5\n",
      "SSDP Flood_FE.csv\n",
      "192.168.3.11=>192.168.100.5\n",
      "192.168.3.13=>192.168.100.5\n",
      "SSL Renegotiation_FE.csv\n",
      "192.168.3.13=>192.168.100.5\n",
      "192.168.3.12=>192.168.100.5\n",
      "SYN DoS_FE.csv\n",
      "192.168.3.14=>192.168.100.5\n",
      "Video Injection_FE.csv\n",
      "192.168.2.13=>192.168.100.5\n",
      "192.168.2.11=>192.168.100.5\n"
     ]
    }
   ],
   "source": [
    "for attack in attacks:\n",
    "    name=f\"./FE/{attack}\"\n",
    "    print(attack)\n",
    "    df=pd.read_csv(name)\n",
    "    df[\"ID\"] = df[\"WS_src\"]+\"=>\"+df[\"WS_dst\"]\n",
    "    for i in attacks[attack]:\n",
    "        for ii in attacks[attack][i]:\n",
    "            if ii!=\"!\":\n",
    "                smaller = df[df[\"ID\"]==ii]\n",
    "                last_name=f'./train-test/{attack[:-4]}_{i}.csv'\n",
    "                del smaller[\"ID\"]\n",
    "                smaller.to_csv(last_name,index=None)\n",
    "            else:\n",
    "                smaller = df[df[\"ID\"]!= attacks[attack][\"train\"][0]]\n",
    "                last_name=f'./train-test/{attack[:-4]}_{i}.csv'\n",
    "                del smaller[\"ID\"]\n",
    "                smaller.to_csv(last_name,index=None)\n"
   ]
  },
  {
   "cell_type": "code",
   "execution_count": 12,
   "metadata": {},
   "outputs": [
    {
     "data": {
      "text/plain": [
       "['ts',\n",
       " 'Ether_dst',\n",
       " 'Ether_src',\n",
       " 'IP_src',\n",
       " 'IP_dst',\n",
       " 'pck_size',\n",
       " 'Ether_type',\n",
       " 'LLC_dsap',\n",
       " 'LLC_ssap',\n",
       " 'LLC_ctrl',\n",
       " 'EAPOL_version',\n",
       " 'EAPOL_type',\n",
       " 'EAPOL_len',\n",
       " 'IP_version',\n",
       " 'IP_ihl',\n",
       " 'IP_tos',\n",
       " 'IP_len',\n",
       " 'IP_flags',\n",
       " 'IP_Z',\n",
       " 'IP_MF',\n",
       " 'IP_id',\n",
       " 'IP_chksum',\n",
       " 'IP_DF',\n",
       " 'IP_frag',\n",
       " 'IP_ttl',\n",
       " 'IP_proto',\n",
       " 'IP_options',\n",
       " 'IP_add_count',\n",
       " 'ICMP_type',\n",
       " 'ICMP_code',\n",
       " 'ICMP_chksum',\n",
       " 'ICMP_id',\n",
       " 'ICMP_seq',\n",
       " 'ICMP_ts_ori',\n",
       " 'ICMP_ts_rx',\n",
       " 'ICMP_ts_tx',\n",
       " 'ICMP_ptr',\n",
       " 'ICMP_reserved',\n",
       " 'ICMP_length',\n",
       " 'ICMP_nexthopmtu',\n",
       " 'ICMP_unused',\n",
       " 'TCP_seq',\n",
       " 'TCP_ack',\n",
       " 'TCP_dataofs',\n",
       " 'TCP_reserved',\n",
       " 'TCP_flags',\n",
       " 'TCP_FIN',\n",
       " 'TCP_SYN',\n",
       " 'TCP_RST',\n",
       " 'TCP_PSH',\n",
       " 'TCP_ACK',\n",
       " 'TCP_URG',\n",
       " 'TCP_ECE',\n",
       " 'TCP_CWR',\n",
       " 'TCP_window',\n",
       " 'TCP_chksum',\n",
       " 'TCP_urgptr',\n",
       " 'TCP_options',\n",
       " 'UDP_len',\n",
       " 'UDP_chksum',\n",
       " 'DHCP_options',\n",
       " 'BOOTP_op',\n",
       " 'BOOTP_htype',\n",
       " 'BOOTP_hlen',\n",
       " 'BOOTP_hops',\n",
       " 'BOOTP_xid',\n",
       " 'BOOTP_secs',\n",
       " 'BOOTP_flags',\n",
       " 'BOOTP_sname',\n",
       " 'BOOTP_file',\n",
       " 'BOOTP_options',\n",
       " 'DNS_length',\n",
       " 'DNS_id',\n",
       " 'DNS_qr',\n",
       " 'DNS_opcode',\n",
       " 'DNS_aa',\n",
       " 'DNS_tc',\n",
       " 'DNS_rd',\n",
       " 'DNS_ra',\n",
       " 'DNS_z',\n",
       " 'DNS_ad',\n",
       " 'DNS_cd',\n",
       " 'DNS_rcode',\n",
       " 'DNS_qdcount',\n",
       " 'DNS_ancount',\n",
       " 'DNS_nscount',\n",
       " 'DNS_arcount',\n",
       " 'sport_class',\n",
       " 'dport_class',\n",
       " 'sport23',\n",
       " 'dport23',\n",
       " 'sport_bare',\n",
       " 'dport_bare',\n",
       " 'TCP_sport',\n",
       " 'TCP_dport',\n",
       " 'UDP_sport',\n",
       " 'UDP_dport',\n",
       " 'payload_bytes',\n",
       " 'entropy',\n",
       " 'WS_src',\n",
       " 'WS_dst',\n",
       " 'Protocol',\n",
       " 'dst_IP_diversity',\n",
       " 'dst_port_diversity',\n",
       " 'src_IP_diversity',\n",
       " 'Label',\n",
       " 'ID']"
      ]
     },
     "execution_count": 12,
     "metadata": {},
     "output_type": "execute_result"
    }
   ],
   "source": [
    "list(df.columns)"
   ]
  }
 ],
 "metadata": {
  "colab": {
   "collapsed_sections": [],
   "name": "(105) feature exracto_colab.ipynb",
   "provenance": []
  },
  "kernelspec": {
   "display_name": "Python 3 (ipykernel)",
   "language": "python",
   "name": "python3"
  },
  "language_info": {
   "codemirror_mode": {
    "name": "ipython",
    "version": 3
   },
   "file_extension": ".py",
   "mimetype": "text/x-python",
   "name": "python",
   "nbconvert_exporter": "python",
   "pygments_lexer": "ipython3",
   "version": "3.10.8"
  }
 },
 "nbformat": 4,
 "nbformat_minor": 1
}
