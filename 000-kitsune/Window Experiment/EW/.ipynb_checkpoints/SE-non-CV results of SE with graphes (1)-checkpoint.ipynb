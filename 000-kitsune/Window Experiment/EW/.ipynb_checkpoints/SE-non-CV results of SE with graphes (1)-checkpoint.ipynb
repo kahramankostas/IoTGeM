{
 "cells": [
  {
   "cell_type": "code",
   "execution_count": 1,
   "metadata": {},
   "outputs": [],
   "source": [
    "import warnings\n",
    "warnings.filterwarnings(\"ignore\")"
   ]
  },
  {
   "cell_type": "code",
   "execution_count": 2,
   "metadata": {},
   "outputs": [],
   "source": [
    "import os\n",
    "import time\n",
    "import sklearn\n",
    "import random\n",
    "import numpy as np\n",
    "import pandas as pd\n",
    "from tqdm import tqdm\n",
    "from tabulate import tabulate\n",
    "\n",
    "import pandas as pd\n",
    "import seaborn as sns\n",
    "import matplotlib.pyplot as plt\n",
    "%matplotlib inline\n",
    "\n",
    "from sklearn.tree import DecisionTreeClassifier\n",
    "\n",
    "evaluate={'Acc':\"Accuracy\", 'b_Acc':\"Balanced Accuracy\", 'F1':\"F1 Score\", 'kap':\"Kappa\", 'ROC':\"Roc\"}"
   ]
  },
  {
   "cell_type": "code",
   "execution_count": 3,
   "metadata": {},
   "outputs": [],
   "source": [
    "from sklearn.svm import SVC\n",
    "from xgboost import XGBClassifier\n",
    "from sklearn.naive_bayes import BernoulliNB\n",
    "from sklearn.neighbors import KNeighborsClassifier\n",
    "from sklearn.linear_model import LogisticRegression\n",
    "from sklearn.tree import DecisionTreeClassifier\n",
    "from sklearn.metrics import accuracy_score\n"
   ]
  },
  {
   "cell_type": "code",
   "execution_count": 4,
   "metadata": {},
   "outputs": [],
   "source": [
    "def GA(train,test,cols,gen_number=25,outputcsv=\"GA_output.csv\"):\n",
    "    #defining various steps required for the genetic algorithm\n",
    "    # GA adapted from https://datascienceplus.com/genetic-algorithm-in-machine-learning-using-python/\n",
    "    def initilization_of_population(size,n_feat):\n",
    "        population = []\n",
    "        for i in range(size):\n",
    "            chromosome = np.ones(n_feat,dtype=np.bool)\n",
    "            chromosome[:int(0.3*n_feat)]=False\n",
    "            np.random.shuffle(chromosome)\n",
    "            population.append(chromosome)\n",
    "        return population\n",
    "\n",
    "    def fitness_score(population):\n",
    "        scores = []\n",
    "        for chromosome in population:\n",
    "            logmodel.fit(X_train.iloc[:,chromosome],y_train)\n",
    "            predictions = logmodel.predict(X_test.iloc[:,chromosome])\n",
    "            scores.append(sklearn.metrics.f1_score(y_test,predictions,average= \"macro\"))\n",
    "        scores, population = np.array(scores), np.array(population) \n",
    "        inds = np.argsort(scores)\n",
    "        return list(scores[inds][::-1]), list(population[inds,:][::-1])\n",
    "\n",
    "    def selection(pop_after_fit,n_parents):\n",
    "        population_nextgen = []\n",
    "        for i in range(n_parents):\n",
    "            population_nextgen.append(pop_after_fit[i])\n",
    "        return population_nextgen\n",
    "\n",
    "    def crossover(pop_after_sel):\n",
    "        population_nextgen=pop_after_sel\n",
    "        for i in range(len(pop_after_sel)):\n",
    "            child=pop_after_sel[i]\n",
    "            child[3:7]=pop_after_sel[(i+1)%len(pop_after_sel)][3:7]\n",
    "            population_nextgen.append(child)\n",
    "        return population_nextgen\n",
    "\n",
    "    def mutation(pop_after_cross,mutation_rate):\n",
    "        population_nextgen = []\n",
    "        for i in range(0,len(pop_after_cross)):\n",
    "            chromosome = pop_after_cross[i]\n",
    "            for j in range(len(chromosome)):\n",
    "                if random.random() < mutation_rate:\n",
    "                    chromosome[j]= not chromosome[j]\n",
    "            population_nextgen.append(chromosome)\n",
    "        #print(population_nextgen)\n",
    "        return population_nextgen\n",
    "\n",
    "    def generations(size,n_feat,n_parents,mutation_rate,n_gen,X_train,\n",
    "                                       X_test, y_train, y_test):\n",
    "\n",
    "        best_chromo= []\n",
    "        best_score= []\n",
    "        population_nextgen=initilization_of_population(size,n_feat)\n",
    "        for i in range(n_gen):\n",
    "            second=time.time()\n",
    "            scores, pop_after_fit = fitness_score(population_nextgen)\n",
    "            #print(scores[:2])\n",
    "            zaman=time.time()-second\n",
    "\n",
    "            ths.write(f\"{np.mean(scores)},{np.mean(scores)},{zaman}\\n\")\n",
    "            \n",
    "\n",
    "\n",
    "            pop_after_sel = selection(pop_after_fit,n_parents)\n",
    "            pop_after_cross = crossover(pop_after_sel)\n",
    "            population_nextgen = mutation(pop_after_cross,mutation_rate)\n",
    "            best_chromo.append(pop_after_fit[0])\n",
    "            best_score.append(scores[0])\n",
    "        return best_chromo,best_score\n",
    "    \n",
    "    \n",
    "\n",
    "\n",
    "\n",
    "    df = pd.read_csv(train,usecols=cols)#,header=None )\n",
    "    df=df.fillna(0)\n",
    "    #df = df.sample(n = 10000)\n",
    "    X_train =df[df.columns[0:-1]]\n",
    "    #X_train=np.array(X_train)\n",
    "    df[df.columns[-1]] = df[df.columns[-1]].astype('category')\n",
    "    y_train=df[df.columns[-1]].cat.codes  \n",
    "    df = pd.read_csv(test,usecols=cols)#,header=None )\n",
    "    df=df.fillna(0)\n",
    "    #df = df.sample(n = 10000)\n",
    "    X_test =df[df.columns[0:-1]]\n",
    "    #X_test=np.array(X_test)\n",
    "    df[df.columns[-1]] = df[df.columns[-1]].astype('category')\n",
    "    y_test=df[df.columns[-1]].cat.codes  \n",
    "\n",
    "    \n",
    "    ths = open(f\"./{outputcsv}\", \"w\")\n",
    "    ths.write(\"MEAN,STD,TIME\\n\")\n",
    "    logmodel=DecisionTreeClassifier()\n",
    "    #print ('%-30s %-30s %-30s' % (\"MEAN\",\"STD\",\"TIME\"))\n",
    "    chromo,score=generations(size=200,n_feat=X_train.shape[1],n_parents=120,mutation_rate=0.005,\n",
    "                         n_gen=gen_number,X_train=X_train,X_test=X_test,y_train=y_train,y_test=y_test)\n",
    "    #logmodel.fit(X_train.iloc[:,chromo[-1]],y_train)\n",
    "    #predictions = logmodel.predict(X_test.iloc[:,chromo[-1]])\n",
    "    #print(\"F1 Score score after genetic algorithm is= \"+str(sklearn.metrics.f1_score(y_test,predictions,average= \"macro\")))\n",
    "    ths.close()\n",
    "    sonuç=[]\n",
    "    for k,j in enumerate(chromo):\n",
    "        temp=X_train.iloc[:,j]\n",
    "        temp=list(temp.columns)\n",
    "        temp.append(\"Label\")\n",
    "        sonuç.append(temp)\n",
    "    \n",
    "    np.save(outputcsv.replace(\"csv\",\"npy\"), sonuç)\n",
    "    gf = pd.read_csv(outputcsv)\n",
    "    gf=gf[\"MEAN\"].values\n",
    "    gf=np.argmax(gf) \n",
    "    return sonuç[gf],gf"
   ]
  },
  {
   "cell_type": "code",
   "execution_count": null,
   "metadata": {},
   "outputs": [],
   "source": []
  },
  {
   "cell_type": "code",
   "execution_count": 5,
   "metadata": {},
   "outputs": [],
   "source": [
    "def folder(f_name): #this function creates a folder named \"attacks\" in the program directory.\n",
    "    try:\n",
    "        if not os.path.exists(f_name):\n",
    "            os.makedirs(f_name)\n",
    "    except OSError:\n",
    "        print (\"The folder could not be created!\")"
   ]
  },
  {
   "cell_type": "code",
   "execution_count": 6,
   "metadata": {},
   "outputs": [],
   "source": [
    "def find_the_way(path,file_format,con=\"\"):\n",
    "    files_add = []\n",
    "    # r=root, d=directories, f = files\n",
    "    for r, d, f in os.walk(path):\n",
    "        for file in f:\n",
    "            if file_format in file:\n",
    "                if con in file:\n",
    "                    files_add.append(os.path.join(r, file))  \n",
    "            \n",
    "    return files_add"
   ]
  },
  {
   "cell_type": "code",
   "execution_count": 7,
   "metadata": {},
   "outputs": [],
   "source": [
    "ml_list={\"DT\":DecisionTreeClassifier()}#,\"SVC\":SVC()}}"
   ]
  },
  {
   "cell_type": "code",
   "execution_count": 8,
   "metadata": {},
   "outputs": [],
   "source": [
    "def target_name(name):\n",
    "    df = pd.read_csv(name,usecols=[\"Label\"])\n",
    "    target_names=sorted(list(df[\"Label\"].unique()))\n",
    "    return target_names"
   ]
  },
  {
   "cell_type": "code",
   "execution_count": 9,
   "metadata": {},
   "outputs": [],
   "source": [
    "folder(\"results\")\n",
    "folder(\"pdfs\")"
   ]
  },
  {
   "cell_type": "markdown",
   "metadata": {},
   "source": [
    "## Calculation of evaluations"
   ]
  },
  {
   "cell_type": "code",
   "execution_count": 10,
   "metadata": {},
   "outputs": [],
   "source": [
    "def score(train_time,test_time,predict,y_test,class_based_results,repeat,cv,dname,ml,sw):\n",
    "    train_time=train_time[0]\n",
    "    test_time=test_time[0]\n",
    "    rc=sklearn.metrics.recall_score(y_test, predict,average= \"macro\")\n",
    "    pr=sklearn.metrics.precision_score(y_test, predict,average= \"macro\")\n",
    "    f_1=sklearn.metrics.f1_score(y_test, predict,average= \"macro\")     \n",
    "    accuracy=sklearn.metrics.accuracy_score(y_test, predict)\n",
    "    accuracy_b=sklearn.metrics.balanced_accuracy_score( y_test,predict)\n",
    "    kappa=sklearn.metrics.cohen_kappa_score(y_test, predict,labels=None, weights=None, sample_weight=None)\n",
    "    try:\n",
    "        roc=sklearn.metrics.roc_auc_score(y_test, predict)\n",
    "    except:roc=0\n",
    "    report = sklearn.metrics.classification_report(y_test, predict, target_names=target_names,output_dict=True)\n",
    "    cr = pd.DataFrame(report).transpose()\n",
    "    line=[dname,sw,repeat,cv,ml,accuracy,accuracy_b,pr,rc,f_1,kappa,roc,train_time,test_time]\n",
    "\n",
    "    if class_based_results.empty:\n",
    "        class_based_results =cr\n",
    "    else:\n",
    "        class_based_results = class_based_results.add(cr, fill_value=0)\n",
    "    return class_based_results,line"
   ]
  },
  {
   "cell_type": "code",
   "execution_count": 11,
   "metadata": {},
   "outputs": [],
   "source": [
    "def ML_CV(loop1,loop2,output_csv,cols,dname,sw):\n",
    "    fold=5\n",
    "    repetition=10\n",
    "\n",
    "    for ii in ml_list:\n",
    "        class_based_results=pd.DataFrame()#\"\" #pd.DataFrame(0, index=np.arange((len(target_names)+3)), columns=[\"f1-score\",\"precision\",\"recall\",\"support\"])\n",
    "        cm=pd.DataFrame()\n",
    "        cv=0\n",
    "        lines=[[\"Dataset\",\"SW\",\"T\",\"CV\",\"ML\",\"Acc\",\"b_Acc\",\"Prec\",\"Rec\",\"F1\",\"kap\",\"ROC\",\"tra-T\",\"test-T\"]]\n",
    "        for i in range(repetition):\n",
    "\n",
    "            #rnd = random()\n",
    "            \n",
    "            #kfold = sklearn.model_selection.KFold(n_splits=fold, shuffle=True, random_state=int(rnd*100))  \n",
    "            cv=0\n",
    "            df = pd.read_csv(loop1,usecols=cols)#,header=None )\n",
    "            df=df.fillna(0)\n",
    "            X_train =df[df.columns[0:-1]]\n",
    "            X_train=np.array(X_train)\n",
    "            df[df.columns[-1]] = df[df.columns[-1]].astype('category')\n",
    "            y_train=df[df.columns[-1]].cat.codes  \n",
    "\n",
    "\n",
    "            df = pd.read_csv(loop2,usecols=cols)#,header=None )\n",
    "            df=df.fillna(0)\n",
    "            X_test =df[df.columns[0:-1]]\n",
    "            X_test=np.array(X_test)\n",
    "            df[df.columns[-1]] = df[df.columns[-1]].astype('category')\n",
    "            y_test=df[df.columns[-1]].cat.codes  \n",
    "\n",
    "\n",
    "\n",
    "\n",
    "            #dname=loop1  [6:-13]  \n",
    "            results_y=[]\n",
    "            cv+=1\n",
    "            results_y.append(y_test)\n",
    "\n",
    "\n",
    "            precision=[]\n",
    "            recall=[]\n",
    "            f1=[]\n",
    "            accuracy=[]\n",
    "            train_time=[]\n",
    "            test_time=[]\n",
    "            total_time=[]\n",
    "            kappa=[]\n",
    "            accuracy_b=[]\n",
    "\n",
    "                #machine learning algorithm is applied in this section\n",
    "            clf = ml_list[ii]#choose algorithm from ml_list dictionary\n",
    "            second=time.time()\n",
    "            clf.fit(X_train, y_train)\n",
    "            train_time.append(float((time.time()-second)) )\n",
    "            second=time.time()\n",
    "            predict =clf.predict(X_test)\n",
    "            test_time.append(float((time.time()-second)) )\n",
    "\n",
    "            altime=0\n",
    "            class_based_results,line=score(train_time,test_time,predict,y_test,class_based_results,cv,i,dname,ii,sw)\n",
    "            lines.append(line)\n",
    "\n",
    "        results = pd.DataFrame (lines[1:], columns = lines[0])\n",
    "        results.to_csv(output_csv.replace(\"ML\",ii),index=False)\n",
    "        results=results.round(3)\n",
    "        #print (tabulate(results, headers=list(results.columns)))\n",
    "        #print()"
   ]
  },
  {
   "cell_type": "code",
   "execution_count": 12,
   "metadata": {},
   "outputs": [],
   "source": [
    "features=['ts', 'pck_size', 'payload_bytes','entropy','pck_size_diff','pck_size_mean','pck_size_std',\n",
    "'ts_diff', 'ts_mean', 'ts_std','TCP_window_diff','TCP_window_mean','TCP_window_std',\n",
    "'payload_bytes_diff' ,'payload_bytes_mean','payload_bytes_std',\n",
    "'entropy_diff','entropy_mean','entropy_std',\"Label\"]"
   ]
  },
  {
   "cell_type": "code",
   "execution_count": 13,
   "metadata": {},
   "outputs": [],
   "source": [
    "attack_dict={'Active Wiretap':\"AWT\",\n",
    " 'ARP MitM':\"ARPMitM\",\n",
    " 'Fuzzing':\"Fuzzing\",\n",
    " 'Mirai':\"Mirai\",\n",
    " 'OS Scan':\"OS_Scan\",\n",
    " 'SSDP Flood':\"SSDP_F\",\n",
    " 'SSL Renegotiation':\"SSL_Ren\",\n",
    " 'SYN DoS':\"SYN_F\",\n",
    " 'Video Injection':\"Vid_Inj\"}"
   ]
  },
  {
   "cell_type": "markdown",
   "metadata": {},
   "source": [
    "# ONLY MiTM"
   ]
  },
  {
   "cell_type": "code",
   "execution_count": 49,
   "metadata": {},
   "outputs": [],
   "source": [
    "MiTM=[\"AWT\",\"ARPMitM\",\"Vid_Inj\"]"
   ]
  },
  {
   "cell_type": "code",
   "execution_count": 19,
   "metadata": {},
   "outputs": [
    {
     "name": "stdout",
     "output_type": "stream",
     "text": [
      "Active Wiretap\n",
      "ARP MitM\n",
      "Fuzzing\n",
      "Mirai\n",
      "OS Scan\n",
      "SSDP Flood\n",
      "SSL Renegotiation\n",
      "SYN DoS\n",
      "Video Injection\n"
     ]
    }
   ],
   "source": [
    "file_list=find_the_way(\"EW\",\"train\")\n",
    "for ii in (file_list):\n",
    "    temp=ii.split(\"_\")[2]\n",
    "    output_csv=f\"./results/ML_{temp}.csv\"\n",
    "    target_names=[\"attack\",\"benign\"]\n",
    "    dname=attack_dict[temp]  \n",
    "    print(temp)"
   ]
  },
  {
   "cell_type": "code",
   "execution_count": 18,
   "metadata": {},
   "outputs": [
    {
     "data": {
      "text/plain": [
       "'Video Injection'"
      ]
     },
     "execution_count": 18,
     "metadata": {},
     "output_type": "execute_result"
    }
   ],
   "source": [
    "temp"
   ]
  },
  {
   "cell_type": "code",
   "execution_count": null,
   "metadata": {
    "scrolled": false
   },
   "outputs": [
    {
     "name": "stderr",
     "output_type": "stream",
     "text": [
      "  0%|                                                                                           | 0/19 [00:00<?, ?it/s]"
     ]
    }
   ],
   "source": [
    "\n",
    "file_list=find_the_way(\"EW\",f\"last_{i}_\",\"train\")\n",
    "for ii in (file_list):\n",
    "    temp=ii.split(\"_\")[2]\n",
    "    output_csv=f\"./results/ML_{i}_{temp}.csv\"\n",
    "    target_names=[\"attack\",\"benign\"]\n",
    "    dname=attack_dict[temp]  \n",
    "    feature,_=GA(ii,ii.replace(\"train\",\"test\"),features,gen_number=25,outputcsv=f\"{ii}_{dname}_GA_output.csv\")\n",
    "    print(f\"{dname} : {feature}\")\n",
    "    if dname in MiTM:\n",
    "        ML_CV(ii,ii.replace(\"train\",\"test\"),output_csv,feature,dname,i)   \n",
    "\n",
    "name_list=find_the_way('./results/','.csv')\n",
    "lines=[[\"SW\",\"Dataset\",\"Acc\",\"b_Acc\",\"Prec\",\"Rec\",\"F1\",\"kap\",\"ROC\",\"tra-T\",\"test-T\"]]\n",
    "cols=['Acc', 'b_Acc', 'Prec', 'Rec', 'F1','kap', 'ROC', 'tra-T', 'test-T']\n",
    "for p in name_list:\n",
    "    df = pd.read_csv(p,usecols=cols) \n",
    "    temp=pd.DataFrame(df.mean())\n",
    "    a=list(temp.values.flatten())\n",
    "    add_data=p[:-4].split(\"_\")[1:]\n",
    "    add_data=[int(add_data[0]),add_data[1]]\n",
    "    add_data=add_data+a\n",
    "    lines.append(add_data)\n",
    "results = pd.DataFrame (lines[1:], columns = lines[0])\n",
    "results=results.sort_values('SW')\n",
    "\n",
    "print (tabulate(results, headers=list(results.columns)))\n",
    "my_xticks=list(range(2,21))\n",
    "for j in ['F1']:#['Acc', 'b_Acc',  'F1', 'kap', 'ROC']:\n",
    "    plt.figure(figsize=(10,5))\n",
    "    graph_name=f\"{ff}_all_Kitsune Dataset Attacks\"\n",
    "    plt.title(graph_name)\n",
    "    plt.ylabel(evaluate[j])\n",
    "    plt.xlabel(\"Sliding Window Size\")\n",
    "    for p in results[\"Dataset\"].unique():\n",
    "        df=results[results[\"Dataset\"]==p]\n",
    "\n",
    "\n",
    "        plt.plot(my_xticks,df[j], linestyle='-', marker='o',label= p)\n",
    "\n",
    "\n",
    "    plt.legend(numpoints=1)\n",
    "    plt.xticks(rotation=90) \n",
    "    graph_name=f\"./pdfs/{ff}_all_Kitsune Dataset-{j} Attack-mitm.pdf\"\n",
    "    plt.savefig(graph_name,bbox_inches='tight',format=\"pdf\")#, dpi=400)\n",
    "    plt.show()\n",
    "my_xticks=list(range(2,21))\n",
    "for j in ['F1']:#['Acc', 'b_Acc',  'F1', 'kap', 'ROC']:\n",
    "    fig, axes = plt.subplots(nrows=1, ncols=3, figsize=(15, 3))\n",
    "    for pp,p in enumerate(results[\"Dataset\"].unique()):\n",
    "        df=results[results[\"Dataset\"]==p]\n",
    "        axes[pp%3].plot(my_xticks,df[j], linestyle='-', marker='o',label= p)\n",
    "        axes[pp%3].title.set_text(f'{p} Attack Sliding Window Results')\n",
    "        axes[pp%3].legend()\n",
    "    fig.tight_layout()\n",
    "    graph_name=f\"./pdfs/{ff}_ind_Kitsune Dataset-{j} Attack_mitm.pdf\"\n",
    "    fig.savefig(graph_name,bbox_inches='tight',format=\"pdf\")#, dpi=400)\n",
    "    plt.show()"
   ]
  },
  {
   "cell_type": "code",
   "execution_count": null,
   "metadata": {},
   "outputs": [],
   "source": []
  },
  {
   "cell_type": "code",
   "execution_count": null,
   "metadata": {},
   "outputs": [],
   "source": []
  },
  {
   "cell_type": "code",
   "execution_count": null,
   "metadata": {},
   "outputs": [],
   "source": []
  },
  {
   "cell_type": "code",
   "execution_count": null,
   "metadata": {},
   "outputs": [],
   "source": []
  },
  {
   "cell_type": "code",
   "execution_count": null,
   "metadata": {},
   "outputs": [],
   "source": []
  },
  {
   "cell_type": "markdown",
   "metadata": {},
   "source": [
    "# ALL ATTACKS"
   ]
  },
  {
   "cell_type": "code",
   "execution_count": 29,
   "metadata": {},
   "outputs": [
    {
     "name": "stderr",
     "output_type": "stream",
     "text": [
      " 32%|██████████████████████████▏                                                        | 6/19 [04:14<09:12, 42.48s/it]\n"
     ]
    },
    {
     "ename": "ParserError",
     "evalue": "Error tokenizing data. C error: Calling read(nbytes) on source failed. Try engine='python'.",
     "output_type": "error",
     "traceback": [
      "\u001b[1;31m---------------------------------------------------------------------------\u001b[0m",
      "\u001b[1;31mParserError\u001b[0m                               Traceback (most recent call last)",
      "Cell \u001b[1;32mIn[29], line 10\u001b[0m\n\u001b[0;32m      8\u001b[0m         target_names\u001b[38;5;241m=\u001b[39m[\u001b[38;5;124m\"\u001b[39m\u001b[38;5;124mattack\u001b[39m\u001b[38;5;124m\"\u001b[39m,\u001b[38;5;124m\"\u001b[39m\u001b[38;5;124mbenign\u001b[39m\u001b[38;5;124m\"\u001b[39m]\n\u001b[0;32m      9\u001b[0m         dname\u001b[38;5;241m=\u001b[39mattack_dict[temp]  \n\u001b[1;32m---> 10\u001b[0m         \u001b[43mML_CV\u001b[49m\u001b[43m(\u001b[49m\u001b[43mii\u001b[49m\u001b[43m,\u001b[49m\u001b[43mii\u001b[49m\u001b[38;5;241;43m.\u001b[39;49m\u001b[43mreplace\u001b[49m\u001b[43m(\u001b[49m\u001b[38;5;124;43m\"\u001b[39;49m\u001b[38;5;124;43mtrain\u001b[39;49m\u001b[38;5;124;43m\"\u001b[39;49m\u001b[43m,\u001b[49m\u001b[38;5;124;43m\"\u001b[39;49m\u001b[38;5;124;43mtest\u001b[39;49m\u001b[38;5;124;43m\"\u001b[39;49m\u001b[43m)\u001b[49m\u001b[43m,\u001b[49m\u001b[43moutput_csv\u001b[49m\u001b[43m,\u001b[49m\u001b[43mfeature\u001b[49m\u001b[43m,\u001b[49m\u001b[43mdname\u001b[49m\u001b[43m,\u001b[49m\u001b[43mi\u001b[49m\u001b[43m)\u001b[49m   \n\u001b[0;32m     12\u001b[0m name_list\u001b[38;5;241m=\u001b[39mfind_the_way(\u001b[38;5;124m'\u001b[39m\u001b[38;5;124m./results/\u001b[39m\u001b[38;5;124m'\u001b[39m,\u001b[38;5;124m'\u001b[39m\u001b[38;5;124m.csv\u001b[39m\u001b[38;5;124m'\u001b[39m)\n\u001b[0;32m     13\u001b[0m lines\u001b[38;5;241m=\u001b[39m[[\u001b[38;5;124m\"\u001b[39m\u001b[38;5;124mSW\u001b[39m\u001b[38;5;124m\"\u001b[39m,\u001b[38;5;124m\"\u001b[39m\u001b[38;5;124mDataset\u001b[39m\u001b[38;5;124m\"\u001b[39m,\u001b[38;5;124m\"\u001b[39m\u001b[38;5;124mAcc\u001b[39m\u001b[38;5;124m\"\u001b[39m,\u001b[38;5;124m\"\u001b[39m\u001b[38;5;124mb_Acc\u001b[39m\u001b[38;5;124m\"\u001b[39m,\u001b[38;5;124m\"\u001b[39m\u001b[38;5;124mPrec\u001b[39m\u001b[38;5;124m\"\u001b[39m,\u001b[38;5;124m\"\u001b[39m\u001b[38;5;124mRec\u001b[39m\u001b[38;5;124m\"\u001b[39m,\u001b[38;5;124m\"\u001b[39m\u001b[38;5;124mF1\u001b[39m\u001b[38;5;124m\"\u001b[39m,\u001b[38;5;124m\"\u001b[39m\u001b[38;5;124mkap\u001b[39m\u001b[38;5;124m\"\u001b[39m,\u001b[38;5;124m\"\u001b[39m\u001b[38;5;124mROC\u001b[39m\u001b[38;5;124m\"\u001b[39m,\u001b[38;5;124m\"\u001b[39m\u001b[38;5;124mtra-T\u001b[39m\u001b[38;5;124m\"\u001b[39m,\u001b[38;5;124m\"\u001b[39m\u001b[38;5;124mtest-T\u001b[39m\u001b[38;5;124m\"\u001b[39m]]\n",
      "Cell \u001b[1;32mIn[24], line 16\u001b[0m, in \u001b[0;36mML_CV\u001b[1;34m(loop1, loop2, output_csv, cols, dname, sw)\u001b[0m\n\u001b[0;32m     10\u001b[0m \u001b[38;5;28;01mfor\u001b[39;00m i \u001b[38;5;129;01min\u001b[39;00m \u001b[38;5;28mrange\u001b[39m(repetition):\n\u001b[0;32m     11\u001b[0m \n\u001b[0;32m     12\u001b[0m     \u001b[38;5;66;03m#rnd = random()\u001b[39;00m\n\u001b[0;32m     13\u001b[0m     \n\u001b[0;32m     14\u001b[0m     \u001b[38;5;66;03m#kfold = sklearn.model_selection.KFold(n_splits=fold, shuffle=True, random_state=int(rnd*100))  \u001b[39;00m\n\u001b[0;32m     15\u001b[0m     cv\u001b[38;5;241m=\u001b[39m\u001b[38;5;241m0\u001b[39m\n\u001b[1;32m---> 16\u001b[0m     df \u001b[38;5;241m=\u001b[39m \u001b[43mpd\u001b[49m\u001b[38;5;241;43m.\u001b[39;49m\u001b[43mread_csv\u001b[49m\u001b[43m(\u001b[49m\u001b[43mloop1\u001b[49m\u001b[43m,\u001b[49m\u001b[43musecols\u001b[49m\u001b[38;5;241;43m=\u001b[39;49m\u001b[43mcols\u001b[49m\u001b[43m)\u001b[49m\u001b[38;5;66;03m#,header=None )\u001b[39;00m\n\u001b[0;32m     17\u001b[0m     df\u001b[38;5;241m=\u001b[39mdf\u001b[38;5;241m.\u001b[39mfillna(\u001b[38;5;241m0\u001b[39m)\n\u001b[0;32m     18\u001b[0m     X_train \u001b[38;5;241m=\u001b[39mdf[df\u001b[38;5;241m.\u001b[39mcolumns[\u001b[38;5;241m0\u001b[39m:\u001b[38;5;241m-\u001b[39m\u001b[38;5;241m1\u001b[39m]]\n",
      "File \u001b[1;32m~\\AppData\\Local\\Programs\\Python\\Python310\\lib\\site-packages\\pandas\\util\\_decorators.py:211\u001b[0m, in \u001b[0;36mdeprecate_kwarg.<locals>._deprecate_kwarg.<locals>.wrapper\u001b[1;34m(*args, **kwargs)\u001b[0m\n\u001b[0;32m    209\u001b[0m     \u001b[38;5;28;01melse\u001b[39;00m:\n\u001b[0;32m    210\u001b[0m         kwargs[new_arg_name] \u001b[38;5;241m=\u001b[39m new_arg_value\n\u001b[1;32m--> 211\u001b[0m \u001b[38;5;28;01mreturn\u001b[39;00m func(\u001b[38;5;241m*\u001b[39margs, \u001b[38;5;241m*\u001b[39m\u001b[38;5;241m*\u001b[39mkwargs)\n",
      "File \u001b[1;32m~\\AppData\\Local\\Programs\\Python\\Python310\\lib\\site-packages\\pandas\\util\\_decorators.py:331\u001b[0m, in \u001b[0;36mdeprecate_nonkeyword_arguments.<locals>.decorate.<locals>.wrapper\u001b[1;34m(*args, **kwargs)\u001b[0m\n\u001b[0;32m    325\u001b[0m \u001b[38;5;28;01mif\u001b[39;00m \u001b[38;5;28mlen\u001b[39m(args) \u001b[38;5;241m>\u001b[39m num_allow_args:\n\u001b[0;32m    326\u001b[0m     warnings\u001b[38;5;241m.\u001b[39mwarn(\n\u001b[0;32m    327\u001b[0m         msg\u001b[38;5;241m.\u001b[39mformat(arguments\u001b[38;5;241m=\u001b[39m_format_argument_list(allow_args)),\n\u001b[0;32m    328\u001b[0m         \u001b[38;5;167;01mFutureWarning\u001b[39;00m,\n\u001b[0;32m    329\u001b[0m         stacklevel\u001b[38;5;241m=\u001b[39mfind_stack_level(),\n\u001b[0;32m    330\u001b[0m     )\n\u001b[1;32m--> 331\u001b[0m \u001b[38;5;28;01mreturn\u001b[39;00m func(\u001b[38;5;241m*\u001b[39margs, \u001b[38;5;241m*\u001b[39m\u001b[38;5;241m*\u001b[39mkwargs)\n",
      "File \u001b[1;32m~\\AppData\\Local\\Programs\\Python\\Python310\\lib\\site-packages\\pandas\\io\\parsers\\readers.py:950\u001b[0m, in \u001b[0;36mread_csv\u001b[1;34m(filepath_or_buffer, sep, delimiter, header, names, index_col, usecols, squeeze, prefix, mangle_dupe_cols, dtype, engine, converters, true_values, false_values, skipinitialspace, skiprows, skipfooter, nrows, na_values, keep_default_na, na_filter, verbose, skip_blank_lines, parse_dates, infer_datetime_format, keep_date_col, date_parser, dayfirst, cache_dates, iterator, chunksize, compression, thousands, decimal, lineterminator, quotechar, quoting, doublequote, escapechar, comment, encoding, encoding_errors, dialect, error_bad_lines, warn_bad_lines, on_bad_lines, delim_whitespace, low_memory, memory_map, float_precision, storage_options)\u001b[0m\n\u001b[0;32m    935\u001b[0m kwds_defaults \u001b[38;5;241m=\u001b[39m _refine_defaults_read(\n\u001b[0;32m    936\u001b[0m     dialect,\n\u001b[0;32m    937\u001b[0m     delimiter,\n\u001b[1;32m   (...)\u001b[0m\n\u001b[0;32m    946\u001b[0m     defaults\u001b[38;5;241m=\u001b[39m{\u001b[38;5;124m\"\u001b[39m\u001b[38;5;124mdelimiter\u001b[39m\u001b[38;5;124m\"\u001b[39m: \u001b[38;5;124m\"\u001b[39m\u001b[38;5;124m,\u001b[39m\u001b[38;5;124m\"\u001b[39m},\n\u001b[0;32m    947\u001b[0m )\n\u001b[0;32m    948\u001b[0m kwds\u001b[38;5;241m.\u001b[39mupdate(kwds_defaults)\n\u001b[1;32m--> 950\u001b[0m \u001b[38;5;28;01mreturn\u001b[39;00m \u001b[43m_read\u001b[49m\u001b[43m(\u001b[49m\u001b[43mfilepath_or_buffer\u001b[49m\u001b[43m,\u001b[49m\u001b[43m \u001b[49m\u001b[43mkwds\u001b[49m\u001b[43m)\u001b[49m\n",
      "File \u001b[1;32m~\\AppData\\Local\\Programs\\Python\\Python310\\lib\\site-packages\\pandas\\io\\parsers\\readers.py:611\u001b[0m, in \u001b[0;36m_read\u001b[1;34m(filepath_or_buffer, kwds)\u001b[0m\n\u001b[0;32m    608\u001b[0m     \u001b[38;5;28;01mreturn\u001b[39;00m parser\n\u001b[0;32m    610\u001b[0m \u001b[38;5;28;01mwith\u001b[39;00m parser:\n\u001b[1;32m--> 611\u001b[0m     \u001b[38;5;28;01mreturn\u001b[39;00m \u001b[43mparser\u001b[49m\u001b[38;5;241;43m.\u001b[39;49m\u001b[43mread\u001b[49m\u001b[43m(\u001b[49m\u001b[43mnrows\u001b[49m\u001b[43m)\u001b[49m\n",
      "File \u001b[1;32m~\\AppData\\Local\\Programs\\Python\\Python310\\lib\\site-packages\\pandas\\io\\parsers\\readers.py:1778\u001b[0m, in \u001b[0;36mTextFileReader.read\u001b[1;34m(self, nrows)\u001b[0m\n\u001b[0;32m   1771\u001b[0m nrows \u001b[38;5;241m=\u001b[39m validate_integer(\u001b[38;5;124m\"\u001b[39m\u001b[38;5;124mnrows\u001b[39m\u001b[38;5;124m\"\u001b[39m, nrows)\n\u001b[0;32m   1772\u001b[0m \u001b[38;5;28;01mtry\u001b[39;00m:\n\u001b[0;32m   1773\u001b[0m     \u001b[38;5;66;03m# error: \"ParserBase\" has no attribute \"read\"\u001b[39;00m\n\u001b[0;32m   1774\u001b[0m     (\n\u001b[0;32m   1775\u001b[0m         index,\n\u001b[0;32m   1776\u001b[0m         columns,\n\u001b[0;32m   1777\u001b[0m         col_dict,\n\u001b[1;32m-> 1778\u001b[0m     ) \u001b[38;5;241m=\u001b[39m \u001b[38;5;28;43mself\u001b[39;49m\u001b[38;5;241;43m.\u001b[39;49m\u001b[43m_engine\u001b[49m\u001b[38;5;241;43m.\u001b[39;49m\u001b[43mread\u001b[49m\u001b[43m(\u001b[49m\u001b[43m  \u001b[49m\u001b[38;5;66;43;03m# type: ignore[attr-defined]\u001b[39;49;00m\n\u001b[0;32m   1779\u001b[0m \u001b[43m        \u001b[49m\u001b[43mnrows\u001b[49m\n\u001b[0;32m   1780\u001b[0m \u001b[43m    \u001b[49m\u001b[43m)\u001b[49m\n\u001b[0;32m   1781\u001b[0m \u001b[38;5;28;01mexcept\u001b[39;00m \u001b[38;5;167;01mException\u001b[39;00m:\n\u001b[0;32m   1782\u001b[0m     \u001b[38;5;28mself\u001b[39m\u001b[38;5;241m.\u001b[39mclose()\n",
      "File \u001b[1;32m~\\AppData\\Local\\Programs\\Python\\Python310\\lib\\site-packages\\pandas\\io\\parsers\\c_parser_wrapper.py:230\u001b[0m, in \u001b[0;36mCParserWrapper.read\u001b[1;34m(self, nrows)\u001b[0m\n\u001b[0;32m    228\u001b[0m \u001b[38;5;28;01mtry\u001b[39;00m:\n\u001b[0;32m    229\u001b[0m     \u001b[38;5;28;01mif\u001b[39;00m \u001b[38;5;28mself\u001b[39m\u001b[38;5;241m.\u001b[39mlow_memory:\n\u001b[1;32m--> 230\u001b[0m         chunks \u001b[38;5;241m=\u001b[39m \u001b[38;5;28;43mself\u001b[39;49m\u001b[38;5;241;43m.\u001b[39;49m\u001b[43m_reader\u001b[49m\u001b[38;5;241;43m.\u001b[39;49m\u001b[43mread_low_memory\u001b[49m\u001b[43m(\u001b[49m\u001b[43mnrows\u001b[49m\u001b[43m)\u001b[49m\n\u001b[0;32m    231\u001b[0m         \u001b[38;5;66;03m# destructive to chunks\u001b[39;00m\n\u001b[0;32m    232\u001b[0m         data \u001b[38;5;241m=\u001b[39m _concatenate_chunks(chunks)\n",
      "File \u001b[1;32m~\\AppData\\Local\\Programs\\Python\\Python310\\lib\\site-packages\\pandas\\_libs\\parsers.pyx:808\u001b[0m, in \u001b[0;36mpandas._libs.parsers.TextReader.read_low_memory\u001b[1;34m()\u001b[0m\n",
      "File \u001b[1;32m~\\AppData\\Local\\Programs\\Python\\Python310\\lib\\site-packages\\pandas\\_libs\\parsers.pyx:866\u001b[0m, in \u001b[0;36mpandas._libs.parsers.TextReader._read_rows\u001b[1;34m()\u001b[0m\n",
      "File \u001b[1;32m~\\AppData\\Local\\Programs\\Python\\Python310\\lib\\site-packages\\pandas\\_libs\\parsers.pyx:852\u001b[0m, in \u001b[0;36mpandas._libs.parsers.TextReader._tokenize_rows\u001b[1;34m()\u001b[0m\n",
      "File \u001b[1;32m~\\AppData\\Local\\Programs\\Python\\Python310\\lib\\site-packages\\pandas\\_libs\\parsers.pyx:1973\u001b[0m, in \u001b[0;36mpandas._libs.parsers.raise_parser_error\u001b[1;34m()\u001b[0m\n",
      "\u001b[1;31mParserError\u001b[0m: Error tokenizing data. C error: Calling read(nbytes) on source failed. Try engine='python'."
     ]
    }
   ],
   "source": [
    "for ff,feature in enumerate(features):\n",
    "    #feature.append(\"Label\")\n",
    "    for i in tqdm(range(2,21)):\n",
    "        file_list=find_the_way(\"SW\",f\"last_{i}_\",\"train\")\n",
    "        for ii in (file_list):\n",
    "            temp=ii.split(\"_\")[2]\n",
    "            output_csv=f\"./results/ML_{i}_{temp}.csv\"\n",
    "            target_names=[\"attack\",\"benign\"]\n",
    "            dname=attack_dict[temp]  \n",
    "            ML_CV(ii,ii.replace(\"train\",\"test\"),output_csv,feature,dname,i)   \n",
    "\n",
    "    name_list=find_the_way('./results/','.csv')\n",
    "    lines=[[\"SW\",\"Dataset\",\"Acc\",\"b_Acc\",\"Prec\",\"Rec\",\"F1\",\"kap\",\"ROC\",\"tra-T\",\"test-T\"]]\n",
    "    cols=['Acc', 'b_Acc', 'Prec', 'Rec', 'F1','kap', 'ROC', 'tra-T', 'test-T']\n",
    "    for p in name_list:\n",
    "        df = pd.read_csv(p,usecols=cols) \n",
    "        temp=pd.DataFrame(df.mean())\n",
    "        a=list(temp.values.flatten())\n",
    "        add_data=p[:-4].split(\"_\")[1:]\n",
    "        add_data=[int(add_data[0]),add_data[1]]\n",
    "        add_data=add_data+a\n",
    "        lines.append(add_data)\n",
    "    results = pd.DataFrame (lines[1:], columns = lines[0])\n",
    "    results=results.sort_values('SW')\n",
    "    \n",
    "    print (tabulate(results, headers=list(results.columns)))\n",
    "    my_xticks=list(range(2,21))\n",
    "    for j in ['F1']:#['Acc', 'b_Acc',  'F1', 'kap', 'ROC']:\n",
    "        plt.figure(figsize=(10,5))\n",
    "        graph_name=f\"{ff}_all_Kitsune Dataset Attacks\"\n",
    "        plt.title(graph_name)\n",
    "        plt.ylabel(evaluate[j])\n",
    "        plt.xlabel(\"Sliding Window Size\")\n",
    "        for p in results[\"Dataset\"].unique():\n",
    "\n",
    "            df=results[results[\"Dataset\"]==p]\n",
    "\n",
    "\n",
    "            plt.plot(my_xticks,df[j], linestyle='-', marker='o',label= p)\n",
    "\n",
    "\n",
    "        plt.legend(numpoints=1)\n",
    "        plt.xticks(rotation=90) \n",
    "        graph_name=f\"./pdfs/{ff}_all_Kitsune Dataset-{j} Attack.pdf\"\n",
    "        plt.savefig(graph_name,bbox_inches='tight',format=\"pdf\")#, dpi=400)\n",
    "        plt.show()\n",
    "    my_xticks=list(range(2,21))\n",
    "    for j in ['F1']:#['Acc', 'b_Acc',  'F1', 'kap', 'ROC']:\n",
    "        fig, axes = plt.subplots(nrows=3, ncols=3, figsize=(15, 10))\n",
    "        for pp,p in enumerate(results[\"Dataset\"].unique()):\n",
    "            df=results[results[\"Dataset\"]==p]\n",
    "            axes[pp//3,pp%3].plot(my_xticks,df[j], linestyle='-', marker='o',label= p)\n",
    "            axes[pp//3,pp%3].title.set_text(f'{p} Attack Sliding Window Results')\n",
    "            axes[pp//3,pp%3].legend()\n",
    "        fig.tight_layout()\n",
    "        graph_name=f\"./pdfs/{ff}_ind_Kitsune Dataset-{j} Attack.pdf\"\n",
    "        fig.savefig(graph_name,bbox_inches='tight',format=\"pdf\")#, dpi=400)\n",
    "        plt.show()"
   ]
  },
  {
   "cell_type": "code",
   "execution_count": null,
   "metadata": {},
   "outputs": [],
   "source": [
    "mavi\n",
    "turuncu\n",
    "koyu yesil\n",
    "kirmizi\n",
    "mor\n",
    "kahve\n",
    "pembe\n",
    "gri\n",
    "acik yesil\n"
   ]
  },
  {
   "cell_type": "code",
   "execution_count": null,
   "metadata": {},
   "outputs": [],
   "source": []
  },
  {
   "cell_type": "code",
   "execution_count": null,
   "metadata": {},
   "outputs": [],
   "source": []
  }
 ],
 "metadata": {
  "kernelspec": {
   "display_name": "Python 3 (ipykernel)",
   "language": "python",
   "name": "python3"
  },
  "language_info": {
   "codemirror_mode": {
    "name": "ipython",
    "version": 3
   },
   "file_extension": ".py",
   "mimetype": "text/x-python",
   "name": "python",
   "nbconvert_exporter": "python",
   "pygments_lexer": "ipython3",
   "version": "3.10.8"
  }
 },
 "nbformat": 4,
 "nbformat_minor": 2
}
