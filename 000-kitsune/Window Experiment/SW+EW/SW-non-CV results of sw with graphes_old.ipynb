{
 "cells": [
  {
   "cell_type": "code",
   "execution_count": 1,
   "metadata": {},
   "outputs": [],
   "source": [
    "import warnings\n",
    "warnings.filterwarnings(\"ignore\")"
   ]
  },
  {
   "cell_type": "code",
   "execution_count": 2,
   "metadata": {},
   "outputs": [],
   "source": [
    "import os\n",
    "import time\n",
    "import sklearn\n",
    "import random\n",
    "import numpy as np\n",
    "import pandas as pd\n",
    "from tqdm import tqdm\n",
    "from tabulate import tabulate\n",
    "\n",
    "import pandas as pd\n",
    "import seaborn as sns\n",
    "import matplotlib.pyplot as plt\n",
    "%matplotlib inline\n",
    "\n",
    "from sklearn.tree import DecisionTreeClassifier\n",
    "\n",
    "evaluate={'Acc':\"Accuracy\", 'b_Acc':\"Balanced Accuracy\", 'F1':\"F1 Score\", 'kap':\"Kappa\", 'ROC':\"Roc\"}"
   ]
  },
  {
   "cell_type": "code",
   "execution_count": 3,
   "metadata": {},
   "outputs": [],
   "source": [
    "from sklearn.svm import SVC\n",
    "from xgboost import XGBClassifier\n",
    "from sklearn.naive_bayes import BernoulliNB\n",
    "from sklearn.neighbors import KNeighborsClassifier\n",
    "from sklearn.linear_model import LogisticRegression\n",
    "from sklearn.tree import DecisionTreeClassifier\n",
    "from sklearn.metrics import accuracy_score\n"
   ]
  },
  {
   "cell_type": "code",
   "execution_count": 4,
   "metadata": {},
   "outputs": [],
   "source": [
    "def GA(train,test,cols,gen_number=25,outputcsv=\"GA_output.csv\"):\n",
    "    #defining various steps required for the genetic algorithm\n",
    "    # GA adapted from https://datascienceplus.com/genetic-algorithm-in-machine-learning-using-python/\n",
    "    def initilization_of_population(size,n_feat):\n",
    "        population = []\n",
    "        for i in range(size):\n",
    "            chromosome = np.ones(n_feat,dtype=np.bool)\n",
    "            chromosome[:int(0.3*n_feat)]=False\n",
    "            np.random.shuffle(chromosome)\n",
    "            population.append(chromosome)\n",
    "        return population\n",
    "\n",
    "    def fitness_score(population):\n",
    "        scores = []\n",
    "        for chromosome in population:\n",
    "            logmodel.fit(X_train.iloc[:,chromosome],y_train)\n",
    "            predictions = logmodel.predict(X_test.iloc[:,chromosome])\n",
    "            scores.append(sklearn.metrics.f1_score(y_test,predictions,average= \"macro\"))\n",
    "        scores, population = np.array(scores), np.array(population) \n",
    "        inds = np.argsort(scores)\n",
    "        return list(scores[inds][::-1]), list(population[inds,:][::-1])\n",
    "\n",
    "    def selection(pop_after_fit,n_parents):\n",
    "        population_nextgen = []\n",
    "        for i in range(n_parents):\n",
    "            population_nextgen.append(pop_after_fit[i])\n",
    "        return population_nextgen\n",
    "\n",
    "    def crossover(pop_after_sel):\n",
    "        population_nextgen=pop_after_sel\n",
    "        for i in range(len(pop_after_sel)):\n",
    "            child=pop_after_sel[i]\n",
    "            child[3:7]=pop_after_sel[(i+1)%len(pop_after_sel)][3:7]\n",
    "            population_nextgen.append(child)\n",
    "        return population_nextgen\n",
    "\n",
    "    def mutation(pop_after_cross,mutation_rate):\n",
    "        population_nextgen = []\n",
    "        for i in range(0,len(pop_after_cross)):\n",
    "            chromosome = pop_after_cross[i]\n",
    "            for j in range(len(chromosome)):\n",
    "                if random.random() < mutation_rate:\n",
    "                    chromosome[j]= not chromosome[j]\n",
    "            population_nextgen.append(chromosome)\n",
    "        #print(population_nextgen)\n",
    "        return population_nextgen\n",
    "\n",
    "    def generations(size,n_feat,n_parents,mutation_rate,n_gen,X_train,\n",
    "                                       X_test, y_train, y_test):\n",
    "\n",
    "        best_chromo= []\n",
    "        best_score= []\n",
    "        population_nextgen=initilization_of_population(size,n_feat)\n",
    "        for i in range(n_gen):\n",
    "            second=time.time()\n",
    "            scores, pop_after_fit = fitness_score(population_nextgen)\n",
    "            #print(scores[:2])\n",
    "            zaman=time.time()-second\n",
    "\n",
    "            ths.write(f\"{np.mean(scores)},{np.mean(scores)},{zaman}\\n\")\n",
    "            \n",
    "\n",
    "\n",
    "            pop_after_sel = selection(pop_after_fit,n_parents)\n",
    "            pop_after_cross = crossover(pop_after_sel)\n",
    "            population_nextgen = mutation(pop_after_cross,mutation_rate)\n",
    "            best_chromo.append(pop_after_fit[0])\n",
    "            best_score.append(scores[0])\n",
    "        return best_chromo,best_score\n",
    "    \n",
    "    \n",
    "\n",
    "\n",
    "\n",
    "    df = pd.read_csv(train,usecols=cols)#,header=None )\n",
    "    df=df.fillna(0)\n",
    "    #df = df.sample(n = 10000)\n",
    "    X_train =df[df.columns[0:-1]]\n",
    "    #X_train=np.array(X_train)\n",
    "    df[df.columns[-1]] = df[df.columns[-1]].astype('category')\n",
    "    y_train=df[df.columns[-1]].cat.codes  \n",
    "    df = pd.read_csv(test,usecols=cols)#,header=None )\n",
    "    df=df.fillna(0)\n",
    "    #df = df.sample(n = 10000)\n",
    "    X_test =df[df.columns[0:-1]]\n",
    "    #X_test=np.array(X_test)\n",
    "    df[df.columns[-1]] = df[df.columns[-1]].astype('category')\n",
    "    y_test=df[df.columns[-1]].cat.codes  \n",
    "\n",
    "    \n",
    "    ths = open(f\"./{outputcsv}\", \"w\")\n",
    "    ths.write(\"MEAN,STD,TIME\\n\")\n",
    "    logmodel=DecisionTreeClassifier()\n",
    "    #print ('%-30s %-30s %-30s' % (\"MEAN\",\"STD\",\"TIME\"))\n",
    "    chromo,score=generations(size=200,n_feat=X_train.shape[1],n_parents=120,mutation_rate=0.005,\n",
    "                         n_gen=gen_number,X_train=X_train,X_test=X_test,y_train=y_train,y_test=y_test)\n",
    "    #logmodel.fit(X_train.iloc[:,chromo[-1]],y_train)\n",
    "    #predictions = logmodel.predict(X_test.iloc[:,chromo[-1]])\n",
    "    #print(\"F1 Score score after genetic algorithm is= \"+str(sklearn.metrics.f1_score(y_test,predictions,average= \"macro\")))\n",
    "    ths.close()\n",
    "    sonuç=[]\n",
    "    for k,j in enumerate(chromo):\n",
    "        temp=X_train.iloc[:,j]\n",
    "        temp=list(temp.columns)\n",
    "        temp.append(\"Label\")\n",
    "        sonuç.append(temp)\n",
    "    \n",
    "    np.save(outputcsv.replace(\"csv\",\"npy\"), sonuç)\n",
    "    gf = pd.read_csv(outputcsv)\n",
    "    gf=gf[\"MEAN\"].values\n",
    "    gf=np.argmax(gf) \n",
    "    return sonuç[gf],gf"
   ]
  },
  {
   "cell_type": "code",
   "execution_count": null,
   "metadata": {},
   "outputs": [],
   "source": []
  },
  {
   "cell_type": "code",
   "execution_count": 5,
   "metadata": {},
   "outputs": [],
   "source": [
    "def folder(f_name): #this function creates a folder named \"attacks\" in the program directory.\n",
    "    try:\n",
    "        if not os.path.exists(f_name):\n",
    "            os.makedirs(f_name)\n",
    "    except OSError:\n",
    "        print (\"The folder could not be created!\")"
   ]
  },
  {
   "cell_type": "code",
   "execution_count": 6,
   "metadata": {},
   "outputs": [],
   "source": [
    "def find_the_way(path,file_format,con=\"\"):\n",
    "    files_add = []\n",
    "    # r=root, d=directories, f = files\n",
    "    for r, d, f in os.walk(path):\n",
    "        for file in f:\n",
    "            if file_format in file:\n",
    "                if con in file:\n",
    "                    files_add.append(os.path.join(r, file))  \n",
    "            \n",
    "    return files_add"
   ]
  },
  {
   "cell_type": "code",
   "execution_count": 7,
   "metadata": {},
   "outputs": [],
   "source": [
    "ml_list={\"DT\":DecisionTreeClassifier()}#,\"SVC\":SVC()}}"
   ]
  },
  {
   "cell_type": "code",
   "execution_count": 8,
   "metadata": {},
   "outputs": [],
   "source": [
    "def target_name(name):\n",
    "    df = pd.read_csv(name,usecols=[\"Label\"])\n",
    "    target_names=sorted(list(df[\"Label\"].unique()))\n",
    "    return target_names"
   ]
  },
  {
   "cell_type": "code",
   "execution_count": 9,
   "metadata": {},
   "outputs": [],
   "source": [
    "folder(\"results\")\n",
    "folder(\"pdfs\")"
   ]
  },
  {
   "cell_type": "markdown",
   "metadata": {},
   "source": [
    "## Calculation of evaluations"
   ]
  },
  {
   "cell_type": "code",
   "execution_count": 10,
   "metadata": {},
   "outputs": [],
   "source": [
    "def score(train_time,test_time,predict,y_test,class_based_results,repeat,cv,dname,ml,sw):\n",
    "    train_time=train_time[0]\n",
    "    test_time=test_time[0]\n",
    "    rc=sklearn.metrics.recall_score(y_test, predict,average= \"macro\")\n",
    "    pr=sklearn.metrics.precision_score(y_test, predict,average= \"macro\")\n",
    "    f_1=sklearn.metrics.f1_score(y_test, predict,average= \"macro\")     \n",
    "    accuracy=sklearn.metrics.accuracy_score(y_test, predict)\n",
    "    accuracy_b=sklearn.metrics.balanced_accuracy_score( y_test,predict)\n",
    "    kappa=sklearn.metrics.cohen_kappa_score(y_test, predict,labels=None, weights=None, sample_weight=None)\n",
    "    try:\n",
    "        roc=sklearn.metrics.roc_auc_score(y_test, predict)\n",
    "    except:roc=0\n",
    "    report = sklearn.metrics.classification_report(y_test, predict, target_names=target_names,output_dict=True)\n",
    "    cr = pd.DataFrame(report).transpose()\n",
    "    line=[dname,sw,repeat,cv,ml,accuracy,accuracy_b,pr,rc,f_1,kappa,roc,train_time,test_time]\n",
    "\n",
    "    if class_based_results.empty:\n",
    "        class_based_results =cr\n",
    "    else:\n",
    "        class_based_results = class_based_results.add(cr, fill_value=0)\n",
    "    return class_based_results,line"
   ]
  },
  {
   "cell_type": "code",
   "execution_count": 11,
   "metadata": {},
   "outputs": [],
   "source": [
    "def ML_CV(loop1,loop2,output_csv,cols,dname,sw):\n",
    "    fold=5\n",
    "    repetition=10\n",
    "\n",
    "    for ii in ml_list:\n",
    "        class_based_results=pd.DataFrame()#\"\" #pd.DataFrame(0, index=np.arange((len(target_names)+3)), columns=[\"f1-score\",\"precision\",\"recall\",\"support\"])\n",
    "        cm=pd.DataFrame()\n",
    "        cv=0\n",
    "        lines=[[\"Dataset\",\"SW\",\"T\",\"CV\",\"ML\",\"Acc\",\"b_Acc\",\"Prec\",\"Rec\",\"F1\",\"kap\",\"ROC\",\"tra-T\",\"test-T\"]]\n",
    "        for i in range(repetition):\n",
    "\n",
    "            #rnd = random()\n",
    "            \n",
    "            #kfold = sklearn.model_selection.KFold(n_splits=fold, shuffle=True, random_state=int(rnd*100))  \n",
    "            cv=0\n",
    "            df = pd.read_csv(loop1,usecols=cols)#,header=None )\n",
    "            df=df.fillna(0)\n",
    "            X_train =df[df.columns[0:-1]]\n",
    "            X_train=np.array(X_train)\n",
    "            df[df.columns[-1]] = df[df.columns[-1]].astype('category')\n",
    "            y_train=df[df.columns[-1]].cat.codes  \n",
    "\n",
    "\n",
    "            df = pd.read_csv(loop2,usecols=cols)#,header=None )\n",
    "            df=df.fillna(0)\n",
    "            X_test =df[df.columns[0:-1]]\n",
    "            X_test=np.array(X_test)\n",
    "            df[df.columns[-1]] = df[df.columns[-1]].astype('category')\n",
    "            y_test=df[df.columns[-1]].cat.codes  \n",
    "\n",
    "\n",
    "\n",
    "\n",
    "            #dname=loop1  [6:-13]  \n",
    "            results_y=[]\n",
    "            cv+=1\n",
    "            results_y.append(y_test)\n",
    "\n",
    "\n",
    "            precision=[]\n",
    "            recall=[]\n",
    "            f1=[]\n",
    "            accuracy=[]\n",
    "            train_time=[]\n",
    "            test_time=[]\n",
    "            total_time=[]\n",
    "            kappa=[]\n",
    "            accuracy_b=[]\n",
    "\n",
    "                #machine learning algorithm is applied in this section\n",
    "            clf = ml_list[ii]#choose algorithm from ml_list dictionary\n",
    "            second=time.time()\n",
    "            clf.fit(X_train, y_train)\n",
    "            train_time.append(float((time.time()-second)) )\n",
    "            second=time.time()\n",
    "            predict =clf.predict(X_test)\n",
    "            test_time.append(float((time.time()-second)) )\n",
    "\n",
    "            altime=0\n",
    "            class_based_results,line=score(train_time,test_time,predict,y_test,class_based_results,cv,i,dname,ii,sw)\n",
    "            lines.append(line)\n",
    "\n",
    "        results = pd.DataFrame (lines[1:], columns = lines[0])\n",
    "        results.to_csv(output_csv.replace(\"ML\",ii),index=False)\n",
    "        results=results.round(3)\n",
    "        #print (tabulate(results, headers=list(results.columns)))\n",
    "        #print()"
   ]
  },
  {
   "cell_type": "code",
   "execution_count": 12,
   "metadata": {},
   "outputs": [],
   "source": [
    "attack_dict={'Active Wiretap':\"AWT\",\n",
    " 'ARP MitM':\"ARPMitM\",\n",
    " 'Fuzzing':\"Fuzzing\",\n",
    " 'Mirai':\"Mirai\",\n",
    " 'OS Scan':\"OS_Scan\",\n",
    " 'SSDP Flood':\"SSDP_F\",\n",
    " 'SSL Renegotiation':\"SSL_Ren\",\n",
    " 'SYN DoS':\"SYN_F\",\n",
    " 'Video Injection':\"Vid_Inj\"}"
   ]
  },
  {
   "cell_type": "code",
   "execution_count": 13,
   "metadata": {},
   "outputs": [],
   "source": [
    "features=['ts', 'pck_size', 'payload_bytes','entropy','TCP_window','pck_size_diff','pck_size_mean','pck_size_std',\n",
    "'ts_diff', 'ts_mean', 'ts_std','TCP_window_diff','TCP_window_mean','TCP_window_std',\n",
    "'payload_bytes_diff' ,'payload_bytes_mean','payload_bytes_std',\n",
    "'entropy_diff','entropy_mean','entropy_std','pck_size_diff_EW','pck_size_mean_EW','pck_size_std_EW',\n",
    "'ts_diff_EW', 'ts_mean_EW', 'ts_std_EW','TCP_window_diff_EW','TCP_window_mean_EW','TCP_window_std_EW',\n",
    "'payload_bytes_diff' ,'payload_bytes_mean_EW','payload_bytes_std_EW',\n",
    "'entropy_diff_EW','entropy_mean_EW','entropy_std_EW','ts_sum_of_EW', 'pck_size_sum_of_EW', 'payload_bytes_sum_of_EW','entropy_sum_of_EW','TCP_window_sum_of_EW',\"Label\"]"
   ]
  },
  {
   "cell_type": "code",
   "execution_count": 14,
   "metadata": {},
   "outputs": [
    {
     "data": {
      "text/plain": [
       "41"
      ]
     },
     "execution_count": 14,
     "metadata": {},
     "output_type": "execute_result"
    }
   ],
   "source": [
    "len(features)"
   ]
  },
  {
   "cell_type": "code",
   "execution_count": null,
   "metadata": {},
   "outputs": [],
   "source": []
  },
  {
   "cell_type": "markdown",
   "metadata": {},
   "source": [
    "# ONLY MiTM"
   ]
  },
  {
   "cell_type": "code",
   "execution_count": 15,
   "metadata": {},
   "outputs": [],
   "source": [
    "MiTM=[\"AWT\",\"ARPMitM\",\"Vid_Inj\"]"
   ]
  },
  {
   "cell_type": "code",
   "execution_count": 17,
   "metadata": {
    "scrolled": true
   },
   "outputs": [
    {
     "name": "stderr",
     "output_type": "stream",
     "text": [
      "\r",
      "  0%|                                                                                           | 0/19 [00:00<?, ?it/s]"
     ]
    },
    {
     "name": "stdout",
     "output_type": "stream",
     "text": [
      "############################################# 2 #############################################\n",
      "\n",
      "AWT : ['ts', 'pck_size', 'TCP_window', 'payload_bytes', 'entropy', 'pck_size_mean', 'pck_size_std', 'ts_diff', 'TCP_window_mean', 'payload_bytes_mean', 'payload_bytes_std', 'entropy_diff', 'entropy_mean', 'pck_size_diff_EW', 'pck_size_sum_of_EW', 'ts_diff_EW', 'ts_mean_EW', 'ts_std_EW', 'ts_sum_of_EW', 'TCP_window_sum_of_EW', 'payload_bytes_sum_of_EW', 'entropy_diff_EW', 'entropy_mean_EW', 'Label']\n",
      "\n",
      "\n",
      "ARPMitM : ['pck_size', 'TCP_window', 'entropy', 'pck_size_diff', 'pck_size_mean', 'ts_diff', 'ts_mean', 'ts_std', 'TCP_window_diff', 'TCP_window_mean', 'TCP_window_std', 'payload_bytes_diff', 'payload_bytes_std', 'pck_size_diff_EW', 'ts_diff_EW', 'ts_sum_of_EW', 'TCP_window_sum_of_EW', 'entropy_diff_EW', 'Label']\n",
      "\n",
      "\n",
      "Vid_Inj : ['ts', 'pck_size', 'TCP_window', 'payload_bytes', 'entropy', 'pck_size_diff', 'pck_size_mean', 'ts_diff', 'ts_mean', 'TCP_window_diff', 'TCP_window_mean', 'TCP_window_std', 'payload_bytes_mean', 'entropy_diff', 'entropy_mean', 'entropy_std', 'pck_size_mean_EW', 'TCP_window_diff_EW', 'TCP_window_mean_EW', 'TCP_window_sum_of_EW', 'payload_bytes_sum_of_EW', 'entropy_diff_EW', 'Label']\n",
      "\n",
      "\n"
     ]
    },
    {
     "name": "stderr",
     "output_type": "stream",
     "text": [
      "\r",
      "  5%|████                                                                        | 1/19 [2:09:45<38:55:37, 7785.40s/it]"
     ]
    },
    {
     "name": "stdout",
     "output_type": "stream",
     "text": [
      "############################################# 3 #############################################\n",
      "\n",
      "AWT : ['ts', 'pck_size', 'TCP_window', 'payload_bytes', 'pck_size_diff', 'pck_size_std', 'ts_std', 'TCP_window_diff', 'TCP_window_mean', 'payload_bytes_mean', 'payload_bytes_std', 'entropy_diff', 'entropy_mean', 'entropy_std', 'pck_size_diff_EW', 'pck_size_sum_of_EW', 'ts_diff_EW', 'ts_std_EW', 'ts_sum_of_EW', 'TCP_window_mean_EW', 'TCP_window_sum_of_EW', 'payload_bytes_sum_of_EW', 'entropy_diff_EW', 'entropy_mean_EW', 'entropy_std_EW', 'Label']\n",
      "\n",
      "\n",
      "ARPMitM : ['ts', 'pck_size', 'payload_bytes', 'pck_size_diff', 'pck_size_mean', 'ts_diff', 'ts_mean', 'TCP_window_diff', 'TCP_window_mean', 'payload_bytes_diff', 'payload_bytes_std', 'entropy_std', 'ts_diff_EW', 'ts_mean_EW', 'ts_sum_of_EW', 'TCP_window_diff_EW', 'TCP_window_sum_of_EW', 'entropy_diff_EW', 'Label']\n",
      "\n",
      "\n",
      "Vid_Inj : ['ts', 'pck_size', 'TCP_window', 'ts_diff', 'TCP_window_diff', 'TCP_window_std', 'payload_bytes_diff', 'payload_bytes_mean', 'entropy_diff', 'pck_size_diff_EW', 'pck_size_std_EW', 'pck_size_sum_of_EW', 'ts_sum_of_EW', 'TCP_window_diff_EW', 'TCP_window_std_EW', 'TCP_window_sum_of_EW', 'payload_bytes_std_EW', 'payload_bytes_sum_of_EW', 'entropy_diff_EW', 'entropy_mean_EW', 'entropy_sum_of_EW', 'Label']\n",
      "\n",
      "\n"
     ]
    },
    {
     "name": "stderr",
     "output_type": "stream",
     "text": [
      "\r",
      " 11%|████████                                                                    | 2/19 [4:32:44<38:58:04, 8252.02s/it]"
     ]
    },
    {
     "name": "stdout",
     "output_type": "stream",
     "text": [
      "############################################# 4 #############################################\n",
      "\n",
      "AWT : ['ts', 'pck_size', 'TCP_window', 'entropy', 'pck_size_std', 'ts_diff', 'ts_mean', 'ts_std', 'TCP_window_mean', 'TCP_window_std', 'payload_bytes_diff', 'payload_bytes_mean', 'entropy_mean', 'entropy_std', 'pck_size_diff_EW', 'pck_size_sum_of_EW', 'ts_std_EW', 'ts_sum_of_EW', 'TCP_window_diff_EW', 'TCP_window_mean_EW', 'TCP_window_sum_of_EW', 'payload_bytes_std_EW', 'payload_bytes_sum_of_EW', 'entropy_sum_of_EW', 'Label']\n",
      "\n",
      "\n",
      "ARPMitM : ['pck_size', 'TCP_window', 'pck_size_diff', 'ts_std', 'TCP_window_diff', 'TCP_window_mean', 'TCP_window_std', 'payload_bytes_diff', 'payload_bytes_mean', 'entropy_diff', 'entropy_std', 'pck_size_diff_EW', 'pck_size_std_EW', 'ts_diff_EW', 'ts_mean_EW', 'ts_sum_of_EW', 'TCP_window_sum_of_EW', 'Label']\n",
      "\n",
      "\n",
      "Vid_Inj : ['TCP_window', 'payload_bytes', 'entropy', 'pck_size_diff', 'pck_size_std', 'ts_mean', 'ts_std', 'TCP_window_diff', 'TCP_window_mean', 'TCP_window_std', 'payload_bytes_diff', 'payload_bytes_mean', 'payload_bytes_std', 'entropy_mean', 'entropy_std', 'pck_size_mean_EW', 'pck_size_std_EW', 'pck_size_sum_of_EW', 'ts_diff_EW', 'ts_sum_of_EW', 'TCP_window_diff_EW', 'TCP_window_std_EW', 'entropy_diff_EW', 'entropy_mean_EW', 'Label']\n",
      "\n",
      "\n"
     ]
    },
    {
     "name": "stderr",
     "output_type": "stream",
     "text": [
      "\r",
      " 16%|████████████                                                                | 3/19 [6:33:50<34:40:29, 7801.83s/it]"
     ]
    },
    {
     "name": "stdout",
     "output_type": "stream",
     "text": [
      "############################################# 5 #############################################\n",
      "\n",
      "AWT : ['entropy', 'pck_size_diff', 'pck_size_mean', 'pck_size_std', 'ts_diff', 'ts_mean', 'TCP_window_mean', 'payload_bytes_diff', 'payload_bytes_std', 'entropy_diff', 'entropy_mean', 'entropy_std', 'pck_size_diff_EW', 'pck_size_sum_of_EW', 'ts_diff_EW', 'ts_mean_EW', 'ts_std_EW', 'ts_sum_of_EW', 'TCP_window_mean_EW', 'TCP_window_std_EW', 'TCP_window_sum_of_EW', 'entropy_std_EW', 'Label']\n",
      "\n",
      "\n",
      "ARPMitM : ['ts', 'pck_size', 'payload_bytes', 'ts_mean', 'ts_std', 'TCP_window_diff', 'TCP_window_mean', 'TCP_window_std', 'payload_bytes_diff', 'entropy_diff', 'entropy_mean', 'pck_size_diff_EW', 'ts_mean_EW', 'ts_std_EW', 'ts_sum_of_EW', 'TCP_window_diff_EW', 'TCP_window_sum_of_EW', 'entropy_diff_EW', 'Label']\n",
      "\n",
      "\n",
      "Vid_Inj : ['entropy', 'pck_size_diff', 'pck_size_mean', 'pck_size_std', 'ts_diff', 'ts_mean', 'ts_std', 'TCP_window_diff', 'TCP_window_mean', 'TCP_window_std', 'payload_bytes_diff', 'payload_bytes_std', 'entropy_diff', 'pck_size_diff_EW', 'ts_diff_EW', 'ts_sum_of_EW', 'TCP_window_diff_EW', 'TCP_window_std_EW', 'entropy_sum_of_EW', 'Label']\n",
      "\n",
      "\n"
     ]
    },
    {
     "name": "stderr",
     "output_type": "stream",
     "text": [
      "\r",
      " 21%|████████████████                                                            | 4/19 [8:36:40<31:47:49, 7631.30s/it]"
     ]
    },
    {
     "name": "stdout",
     "output_type": "stream",
     "text": [
      "############################################# 6 #############################################\n",
      "\n",
      "AWT : ['pck_size', 'TCP_window', 'payload_bytes', 'entropy', 'pck_size_mean', 'ts_diff', 'ts_std', 'TCP_window_diff', 'TCP_window_mean', 'TCP_window_std', 'payload_bytes_diff', 'payload_bytes_std', 'entropy_diff', 'entropy_mean', 'ts_mean_EW', 'ts_std_EW', 'ts_sum_of_EW', 'TCP_window_diff_EW', 'TCP_window_sum_of_EW', 'payload_bytes_std_EW', 'payload_bytes_sum_of_EW', 'entropy_diff_EW', 'entropy_sum_of_EW', 'Label']\n",
      "\n",
      "\n",
      "ARPMitM : ['ts', 'pck_size_diff', 'pck_size_mean', 'ts_diff', 'ts_std', 'TCP_window_mean', 'payload_bytes_mean', 'payload_bytes_std', 'entropy_std', 'pck_size_diff_EW', 'ts_diff_EW', 'ts_mean_EW', 'ts_sum_of_EW', 'TCP_window_diff_EW', 'TCP_window_mean_EW', 'TCP_window_std_EW', 'entropy_diff_EW', 'entropy_mean_EW', 'Label']\n",
      "\n",
      "\n",
      "Vid_Inj : ['ts', 'pck_size', 'entropy', 'pck_size_mean', 'pck_size_std', 'ts_diff', 'TCP_window_std', 'payload_bytes_diff', 'entropy_diff', 'entropy_mean', 'entropy_std', 'pck_size_diff_EW', 'ts_sum_of_EW', 'TCP_window_diff_EW', 'TCP_window_mean_EW', 'TCP_window_std_EW', 'TCP_window_sum_of_EW', 'entropy_diff_EW', 'Label']\n",
      "\n",
      "\n"
     ]
    },
    {
     "name": "stderr",
     "output_type": "stream",
     "text": [
      "\r",
      " 26%|███████████████████▋                                                       | 5/19 [10:39:27<29:18:24, 7536.04s/it]"
     ]
    },
    {
     "name": "stdout",
     "output_type": "stream",
     "text": [
      "############################################# 7 #############################################\n",
      "\n",
      "AWT : ['entropy', 'pck_size_mean', 'pck_size_std', 'ts_diff', 'TCP_window_diff', 'TCP_window_mean', 'TCP_window_std', 'payload_bytes_diff', 'payload_bytes_std', 'entropy_diff', 'entropy_mean', 'pck_size_diff_EW', 'pck_size_sum_of_EW', 'ts_diff_EW', 'ts_mean_EW', 'ts_std_EW', 'ts_sum_of_EW', 'TCP_window_diff_EW', 'TCP_window_sum_of_EW', 'payload_bytes_sum_of_EW', 'entropy_diff_EW', 'entropy_sum_of_EW', 'Label']\n",
      "\n",
      "\n",
      "ARPMitM : ['TCP_window', 'payload_bytes', 'entropy', 'pck_size_diff', 'pck_size_std', 'ts_diff', 'TCP_window_diff', 'payload_bytes_diff', 'payload_bytes_std', 'entropy_mean', 'pck_size_diff_EW', 'ts_diff_EW', 'ts_sum_of_EW', 'TCP_window_diff_EW', 'TCP_window_sum_of_EW', 'entropy_diff_EW', 'entropy_mean_EW', 'Label']\n",
      "\n",
      "\n",
      "Vid_Inj : ['pck_size', 'payload_bytes', 'pck_size_diff', 'pck_size_mean', 'pck_size_std', 'ts_diff', 'ts_std', 'TCP_window_std', 'payload_bytes_diff', 'payload_bytes_mean', 'payload_bytes_std', 'entropy_diff', 'entropy_mean', 'pck_size_std_EW', 'pck_size_sum_of_EW', 'ts_diff_EW', 'TCP_window_std_EW', 'TCP_window_sum_of_EW', 'entropy_diff_EW', 'Label']\n",
      "\n",
      "\n"
     ]
    },
    {
     "name": "stderr",
     "output_type": "stream",
     "text": [
      "\r",
      " 32%|███████████████████████▋                                                   | 6/19 [12:38:16<26:42:50, 7397.77s/it]"
     ]
    },
    {
     "name": "stdout",
     "output_type": "stream",
     "text": [
      "############################################# 8 #############################################\n",
      "\n",
      "AWT : ['ts', 'pck_size', 'payload_bytes', 'entropy', 'pck_size_mean', 'ts_diff', 'ts_mean', 'ts_std', 'TCP_window_diff', 'TCP_window_mean', 'payload_bytes_diff', 'payload_bytes_mean', 'payload_bytes_std', 'entropy_diff', 'entropy_std', 'ts_std_EW', 'ts_sum_of_EW', 'TCP_window_diff_EW', 'TCP_window_std_EW', 'TCP_window_sum_of_EW', 'payload_bytes_mean_EW', 'payload_bytes_sum_of_EW', 'entropy_diff_EW', 'entropy_sum_of_EW', 'Label']\n",
      "\n",
      "\n",
      "ARPMitM : ['pck_size', 'TCP_window', 'payload_bytes', 'entropy', 'ts_diff', 'ts_mean', 'TCP_window_mean', 'TCP_window_std', 'payload_bytes_mean', 'payload_bytes_std', 'entropy_diff', 'entropy_mean', 'entropy_std', 'pck_size_diff_EW', 'pck_size_mean_EW', 'ts_diff_EW', 'ts_mean_EW', 'ts_std_EW', 'ts_sum_of_EW', 'TCP_window_diff_EW', 'TCP_window_mean_EW', 'TCP_window_std_EW', 'entropy_mean_EW', 'Label']\n",
      "\n",
      "\n",
      "Vid_Inj : ['ts', 'pck_size', 'payload_bytes', 'pck_size_diff', 'pck_size_std', 'ts_diff', 'ts_mean', 'TCP_window_diff', 'TCP_window_mean', 'TCP_window_std', 'payload_bytes_diff', 'entropy_diff', 'pck_size_diff_EW', 'pck_size_mean_EW', 'pck_size_std_EW', 'pck_size_sum_of_EW', 'ts_diff_EW', 'ts_std_EW', 'ts_sum_of_EW', 'TCP_window_diff_EW', 'TCP_window_sum_of_EW', 'payload_bytes_mean_EW', 'payload_bytes_std_EW', 'entropy_diff_EW', 'entropy_mean_EW', 'Label']\n",
      "\n",
      "\n"
     ]
    },
    {
     "name": "stderr",
     "output_type": "stream",
     "text": [
      "\r",
      " 37%|███████████████████████████▋                                               | 7/19 [14:49:34<25:10:58, 7554.91s/it]"
     ]
    },
    {
     "name": "stdout",
     "output_type": "stream",
     "text": [
      "############################################# 9 #############################################\n",
      "\n",
      "AWT : ['ts', 'TCP_window', 'payload_bytes', 'pck_size_diff', 'pck_size_mean', 'pck_size_std', 'ts_diff', 'ts_mean', 'ts_std', 'TCP_window_diff', 'TCP_window_mean', 'TCP_window_std', 'payload_bytes_diff', 'entropy_std', 'pck_size_diff_EW', 'pck_size_sum_of_EW', 'ts_diff_EW', 'ts_mean_EW', 'ts_std_EW', 'ts_sum_of_EW', 'TCP_window_sum_of_EW', 'payload_bytes_sum_of_EW', 'entropy_diff_EW', 'entropy_std_EW', 'entropy_sum_of_EW', 'Label']\n",
      "\n",
      "\n",
      "ARPMitM : ['ts', 'TCP_window', 'entropy', 'pck_size_diff', 'pck_size_std', 'ts_diff', 'ts_mean', 'ts_std', 'TCP_window_diff', 'TCP_window_mean', 'TCP_window_std', 'payload_bytes_diff', 'payload_bytes_std', 'pck_size_diff_EW', 'pck_size_mean_EW', 'ts_diff_EW', 'ts_mean_EW', 'ts_std_EW', 'ts_sum_of_EW', 'TCP_window_diff_EW', 'TCP_window_mean_EW', 'TCP_window_std_EW', 'TCP_window_sum_of_EW', 'Label']\n",
      "\n",
      "\n",
      "Vid_Inj : ['pck_size', 'TCP_window', 'pck_size_std', 'ts_diff', 'ts_mean', 'ts_std', 'TCP_window_diff', 'TCP_window_mean', 'TCP_window_std', 'payload_bytes_mean', 'entropy_diff', 'pck_size_sum_of_EW', 'ts_sum_of_EW', 'TCP_window_diff_EW', 'TCP_window_mean_EW', 'TCP_window_std_EW', 'TCP_window_sum_of_EW', 'payload_bytes_sum_of_EW', 'entropy_diff_EW', 'Label']\n",
      "\n",
      "\n"
     ]
    },
    {
     "name": "stderr",
     "output_type": "stream",
     "text": [
      "\r",
      " 42%|███████████████████████████████▌                                           | 8/19 [16:51:32<22:51:12, 7479.28s/it]"
     ]
    },
    {
     "name": "stdout",
     "output_type": "stream",
     "text": [
      "############################################# 10 #############################################\n",
      "\n",
      "AWT : ['ts', 'pck_size', 'TCP_window', 'payload_bytes', 'entropy', 'pck_size_diff', 'ts_diff', 'ts_std', 'TCP_window_mean', 'TCP_window_std', 'payload_bytes_diff', 'payload_bytes_std', 'entropy_diff', 'entropy_mean', 'entropy_std', 'ts_std_EW', 'ts_sum_of_EW', 'TCP_window_diff_EW', 'payload_bytes_sum_of_EW', 'entropy_diff_EW', 'Label']\n",
      "\n",
      "\n",
      "ARPMitM : ['ts', 'entropy', 'pck_size_diff', 'pck_size_mean', 'ts_mean', 'ts_std', 'TCP_window_mean', 'TCP_window_std', 'payload_bytes_diff', 'payload_bytes_mean', 'payload_bytes_std', 'entropy_mean', 'pck_size_std_EW', 'ts_diff_EW', 'ts_mean_EW', 'ts_std_EW', 'ts_sum_of_EW', 'TCP_window_diff_EW', 'TCP_window_mean_EW', 'TCP_window_std_EW', 'entropy_mean_EW', 'Label']\n",
      "\n",
      "\n",
      "Vid_Inj : ['ts', 'pck_size', 'entropy', 'pck_size_diff', 'pck_size_mean', 'ts_diff', 'ts_std', 'TCP_window_diff', 'TCP_window_mean', 'payload_bytes_diff', 'payload_bytes_mean', 'payload_bytes_std', 'entropy_diff', 'entropy_std', 'pck_size_diff_EW', 'pck_size_mean_EW', 'pck_size_sum_of_EW', 'ts_diff_EW', 'ts_std_EW', 'TCP_window_mean_EW', 'TCP_window_std_EW', 'TCP_window_sum_of_EW', 'payload_bytes_std_EW', 'entropy_mean_EW', 'Label']\n",
      "\n",
      "\n"
     ]
    },
    {
     "name": "stderr",
     "output_type": "stream",
     "text": [
      "\r",
      " 47%|███████████████████████████████████▌                                       | 9/19 [18:57:09<20:49:33, 7497.38s/it]"
     ]
    },
    {
     "name": "stdout",
     "output_type": "stream",
     "text": [
      "############################################# 11 #############################################\n",
      "\n",
      "AWT : ['ts', 'pck_size', 'payload_bytes', 'entropy', 'pck_size_diff', 'pck_size_mean', 'pck_size_std', 'ts_mean', 'ts_std', 'TCP_window_diff', 'TCP_window_mean', 'TCP_window_std', 'payload_bytes_diff', 'payload_bytes_mean', 'payload_bytes_std', 'entropy_diff', 'pck_size_diff_EW', 'ts_diff_EW', 'ts_mean_EW', 'ts_std_EW', 'ts_sum_of_EW', 'TCP_window_sum_of_EW', 'payload_bytes_sum_of_EW', 'entropy_sum_of_EW', 'Label']\n",
      "\n",
      "\n",
      "ARPMitM : ['TCP_window', 'pck_size_mean', 'TCP_window_diff', 'TCP_window_mean', 'payload_bytes_diff', 'ts_mean_EW', 'ts_std_EW', 'ts_sum_of_EW', 'TCP_window_diff_EW', 'TCP_window_mean_EW', 'TCP_window_std_EW', 'TCP_window_sum_of_EW', 'entropy_mean_EW', 'Label']\n",
      "\n",
      "\n",
      "Vid_Inj : ['ts', 'pck_size', 'TCP_window', 'payload_bytes', 'pck_size_diff', 'pck_size_std', 'ts_diff', 'ts_mean', 'ts_std', 'TCP_window_diff', 'TCP_window_mean', 'entropy_diff', 'pck_size_diff_EW', 'pck_size_mean_EW', 'pck_size_std_EW', 'ts_sum_of_EW', 'TCP_window_diff_EW', 'TCP_window_mean_EW', 'TCP_window_std_EW', 'TCP_window_sum_of_EW', 'Label']\n",
      "\n",
      "\n"
     ]
    },
    {
     "name": "stderr",
     "output_type": "stream",
     "text": [
      "\r",
      " 53%|██████████████████████████████████████▉                                   | 10/19 [20:54:20<18:22:59, 7353.31s/it]"
     ]
    },
    {
     "name": "stdout",
     "output_type": "stream",
     "text": [
      "############################################# 12 #############################################\n",
      "\n",
      "AWT : ['TCP_window', 'entropy', 'pck_size_diff', 'pck_size_std', 'ts_mean', 'TCP_window_diff', 'TCP_window_mean', 'TCP_window_std', 'payload_bytes_diff', 'payload_bytes_mean', 'pck_size_diff_EW', 'pck_size_sum_of_EW', 'ts_std_EW', 'ts_sum_of_EW', 'TCP_window_diff_EW', 'TCP_window_mean_EW', 'TCP_window_sum_of_EW', 'entropy_diff_EW', 'entropy_std_EW', 'entropy_sum_of_EW', 'Label']\n",
      "\n",
      "\n",
      "ARPMitM : ['pck_size', 'payload_bytes', 'pck_size_mean', 'pck_size_std', 'ts_diff', 'ts_mean', 'ts_std', 'TCP_window_diff', 'TCP_window_mean', 'payload_bytes_diff', 'payload_bytes_mean', 'entropy_diff', 'entropy_mean', 'pck_size_diff_EW', 'pck_size_std_EW', 'ts_sum_of_EW', 'TCP_window_diff_EW', 'entropy_mean_EW', 'Label']\n",
      "\n",
      "\n",
      "Vid_Inj : ['pck_size', 'TCP_window', 'payload_bytes', 'entropy', 'pck_size_mean', 'ts_diff', 'ts_std', 'TCP_window_diff', 'TCP_window_mean', 'payload_bytes_diff', 'payload_bytes_std', 'entropy_diff', 'entropy_std', 'pck_size_diff_EW', 'ts_mean_EW', 'ts_sum_of_EW', 'TCP_window_diff_EW', 'TCP_window_mean_EW', 'entropy_diff_EW', 'entropy_std_EW', 'Label']\n",
      "\n",
      "\n"
     ]
    },
    {
     "name": "stderr",
     "output_type": "stream",
     "text": [
      "\r",
      " 58%|██████████████████████████████████████████▊                               | 11/19 [22:51:35<16:07:28, 7256.06s/it]"
     ]
    },
    {
     "name": "stdout",
     "output_type": "stream",
     "text": [
      "############################################# 13 #############################################\n",
      "\n",
      "AWT : ['pck_size', 'TCP_window', 'payload_bytes', 'entropy', 'pck_size_diff', 'pck_size_mean', 'pck_size_std', 'ts_std', 'TCP_window_diff', 'TCP_window_mean', 'TCP_window_std', 'payload_bytes_mean', 'entropy_diff', 'pck_size_diff_EW', 'ts_std_EW', 'ts_sum_of_EW', 'TCP_window_mean_EW', 'TCP_window_sum_of_EW', 'payload_bytes_sum_of_EW', 'entropy_diff_EW', 'entropy_std_EW', 'entropy_sum_of_EW', 'Label']\n",
      "\n",
      "\n",
      "ARPMitM : ['pck_size', 'payload_bytes', 'pck_size_diff', 'pck_size_std', 'ts_mean', 'ts_std', 'TCP_window_mean', 'TCP_window_std', 'payload_bytes_mean', 'payload_bytes_std', 'entropy_diff', 'entropy_mean', 'entropy_std', 'pck_size_diff_EW', 'ts_diff_EW', 'ts_sum_of_EW', 'TCP_window_diff_EW', 'TCP_window_sum_of_EW', 'Label']\n",
      "\n",
      "\n",
      "Vid_Inj : ['ts', 'TCP_window', 'entropy', 'pck_size_diff', 'pck_size_std', 'ts_diff', 'ts_mean', 'TCP_window_diff', 'TCP_window_std', 'payload_bytes_diff', 'payload_bytes_mean', 'payload_bytes_std', 'entropy_diff', 'entropy_mean', 'entropy_std', 'pck_size_diff_EW', 'pck_size_std_EW', 'ts_sum_of_EW', 'TCP_window_mean_EW', 'TCP_window_std_EW', 'TCP_window_sum_of_EW', 'payload_bytes_std_EW', 'entropy_diff_EW', 'entropy_mean_EW', 'entropy_sum_of_EW', 'Label']\n",
      "\n",
      "\n"
     ]
    },
    {
     "name": "stderr",
     "output_type": "stream",
     "text": [
      "\r",
      " 63%|██████████████████████████████████████████████▋                           | 12/19 [25:00:44<14:24:01, 7405.90s/it]"
     ]
    },
    {
     "name": "stdout",
     "output_type": "stream",
     "text": [
      "############################################# 14 #############################################\n",
      "\n",
      "AWT : ['pck_size', 'TCP_window', 'payload_bytes', 'entropy', 'pck_size_diff', 'pck_size_mean', 'ts_diff', 'ts_mean', 'ts_std', 'TCP_window_diff', 'TCP_window_mean', 'payload_bytes_diff', 'entropy_diff', 'entropy_mean', 'entropy_std', 'pck_size_diff_EW', 'pck_size_mean_EW', 'pck_size_sum_of_EW', 'ts_diff_EW', 'ts_mean_EW', 'ts_std_EW', 'ts_sum_of_EW', 'TCP_window_diff_EW', 'TCP_window_std_EW', 'TCP_window_sum_of_EW', 'payload_bytes_sum_of_EW', 'entropy_diff_EW', 'entropy_std_EW', 'entropy_sum_of_EW', 'Label']\n",
      "\n",
      "\n",
      "ARPMitM : ['TCP_window', 'entropy', 'pck_size_diff', 'pck_size_mean', 'pck_size_std', 'ts_diff', 'ts_std', 'TCP_window_diff', 'TCP_window_std', 'payload_bytes_diff', 'entropy_diff', 'entropy_mean', 'pck_size_diff_EW', 'ts_mean_EW', 'ts_std_EW', 'ts_sum_of_EW', 'TCP_window_diff_EW', 'TCP_window_std_EW', 'TCP_window_sum_of_EW', 'entropy_diff_EW', 'entropy_mean_EW', 'Label']\n",
      "\n",
      "\n",
      "Vid_Inj : ['ts', 'pck_size', 'TCP_window', 'payload_bytes', 'entropy', 'pck_size_diff', 'pck_size_mean', 'pck_size_std', 'ts_diff', 'ts_mean', 'TCP_window_diff', 'TCP_window_mean', 'payload_bytes_diff', 'payload_bytes_mean', 'entropy_std', 'pck_size_mean_EW', 'pck_size_std_EW', 'pck_size_sum_of_EW', 'ts_sum_of_EW', 'TCP_window_diff_EW', 'TCP_window_mean_EW', 'TCP_window_std_EW', 'TCP_window_sum_of_EW', 'payload_bytes_mean_EW', 'payload_bytes_sum_of_EW', 'Label']\n",
      "\n",
      "\n"
     ]
    },
    {
     "name": "stderr",
     "output_type": "stream",
     "text": [
      "\r",
      " 68%|██████████████████████████████████████████████████▋                       | 13/19 [27:09:20<12:29:58, 7499.79s/it]"
     ]
    },
    {
     "name": "stdout",
     "output_type": "stream",
     "text": [
      "############################################# 15 #############################################\n",
      "\n",
      "AWT : ['ts', 'pck_size', 'TCP_window', 'payload_bytes', 'entropy', 'pck_size_std', 'ts_diff', 'ts_mean', 'ts_std', 'TCP_window_diff', 'TCP_window_mean', 'payload_bytes_diff', 'payload_bytes_mean', 'payload_bytes_std', 'entropy_mean', 'pck_size_diff_EW', 'pck_size_sum_of_EW', 'ts_std_EW', 'ts_sum_of_EW', 'TCP_window_mean_EW', 'payload_bytes_mean_EW', 'payload_bytes_std_EW', 'entropy_diff_EW', 'entropy_std_EW', 'entropy_sum_of_EW', 'Label']\n",
      "\n",
      "\n",
      "ARPMitM : ['ts', 'TCP_window', 'ts_diff', 'ts_std', 'TCP_window_diff', 'TCP_window_mean', 'payload_bytes_diff', 'payload_bytes_std', 'entropy_diff', 'entropy_mean', 'pck_size_diff_EW', 'ts_diff_EW', 'ts_mean_EW', 'ts_std_EW', 'ts_sum_of_EW', 'TCP_window_diff_EW', 'TCP_window_mean_EW', 'TCP_window_sum_of_EW', 'entropy_diff_EW', 'Label']\n",
      "\n",
      "\n",
      "Vid_Inj : ['ts', 'pck_size', 'TCP_window', 'entropy', 'pck_size_mean', 'pck_size_std', 'ts_mean', 'TCP_window_diff', 'payload_bytes_mean', 'payload_bytes_std', 'entropy_mean', 'entropy_std', 'pck_size_diff_EW', 'pck_size_std_EW', 'pck_size_sum_of_EW', 'ts_diff_EW', 'ts_sum_of_EW', 'TCP_window_std_EW', 'TCP_window_sum_of_EW', 'payload_bytes_mean_EW', 'payload_bytes_sum_of_EW', 'entropy_std_EW', 'entropy_sum_of_EW', 'Label']\n",
      "\n",
      "\n"
     ]
    },
    {
     "name": "stderr",
     "output_type": "stream",
     "text": [
      "\r",
      " 74%|██████████████████████████████████████████████████████▌                   | 14/19 [29:16:52<10:28:49, 7545.85s/it]"
     ]
    },
    {
     "name": "stdout",
     "output_type": "stream",
     "text": [
      "############################################# 16 #############################################\n",
      "\n",
      "AWT : ['ts', 'pck_size', 'TCP_window', 'payload_bytes', 'entropy', 'pck_size_diff', 'pck_size_mean', 'pck_size_std', 'ts_mean', 'ts_std', 'TCP_window_diff', 'TCP_window_std', 'payload_bytes_diff', 'payload_bytes_mean', 'payload_bytes_std', 'entropy_diff', 'entropy_mean', 'entropy_std', 'pck_size_diff_EW', 'ts_diff_EW', 'ts_mean_EW', 'ts_std_EW', 'ts_sum_of_EW', 'TCP_window_sum_of_EW', 'entropy_diff_EW', 'entropy_sum_of_EW', 'Label']\n",
      "\n",
      "\n",
      "ARPMitM : ['ts', 'pck_size', 'TCP_window', 'payload_bytes', 'entropy', 'pck_size_diff', 'pck_size_mean', 'pck_size_std', 'ts_std', 'TCP_window_diff', 'TCP_window_std', 'payload_bytes_mean', 'payload_bytes_std', 'entropy_diff', 'entropy_mean', 'ts_diff_EW', 'ts_mean_EW', 'ts_sum_of_EW', 'TCP_window_diff_EW', 'TCP_window_sum_of_EW', 'entropy_diff_EW', 'entropy_sum_of_EW', 'Label']\n",
      "\n",
      "\n",
      "Vid_Inj : ['ts', 'TCP_window', 'pck_size_std', 'ts_diff', 'ts_mean', 'ts_std', 'TCP_window_mean', 'TCP_window_std', 'payload_bytes_diff', 'payload_bytes_mean', 'payload_bytes_std', 'ts_diff_EW', 'ts_sum_of_EW', 'TCP_window_mean_EW', 'TCP_window_sum_of_EW', 'entropy_diff_EW', 'Label']\n",
      "\n",
      "\n"
     ]
    },
    {
     "name": "stderr",
     "output_type": "stream",
     "text": [
      "\r",
      " 79%|███████████████████████████████████████████████████████████▏               | 15/19 [31:19:43<8:19:32, 7493.08s/it]"
     ]
    },
    {
     "name": "stdout",
     "output_type": "stream",
     "text": [
      "############################################# 17 #############################################\n",
      "\n",
      "AWT : ['ts', 'pck_size_diff', 'ts_diff', 'ts_mean', 'ts_std', 'TCP_window_std', 'payload_bytes_std', 'entropy_mean', 'pck_size_sum_of_EW', 'ts_mean_EW', 'ts_std_EW', 'ts_sum_of_EW', 'TCP_window_diff_EW', 'TCP_window_std_EW', 'TCP_window_sum_of_EW', 'payload_bytes_sum_of_EW', 'entropy_diff_EW', 'entropy_sum_of_EW', 'Label']\n",
      "\n",
      "\n",
      "ARPMitM : ['ts', 'pck_size', 'TCP_window', 'entropy', 'pck_size_diff', 'pck_size_std', 'ts_diff', 'TCP_window_diff', 'TCP_window_std', 'payload_bytes_diff', 'payload_bytes_std', 'entropy_diff', 'entropy_mean', 'entropy_std', 'pck_size_mean_EW', 'ts_diff_EW', 'ts_mean_EW', 'ts_sum_of_EW', 'TCP_window_diff_EW', 'TCP_window_mean_EW', 'TCP_window_std_EW', 'TCP_window_sum_of_EW', 'entropy_diff_EW', 'Label']\n",
      "\n",
      "\n",
      "Vid_Inj : ['ts', 'payload_bytes', 'entropy', 'ts_diff', 'ts_mean', 'ts_std', 'TCP_window_diff', 'TCP_window_mean', 'TCP_window_std', 'entropy_diff', 'entropy_mean', 'pck_size_diff_EW', 'pck_size_sum_of_EW', 'ts_diff_EW', 'ts_mean_EW', 'ts_sum_of_EW', 'TCP_window_diff_EW', 'TCP_window_mean_EW', 'TCP_window_std_EW', 'entropy_diff_EW', 'entropy_std_EW', 'Label']\n",
      "\n",
      "\n"
     ]
    },
    {
     "name": "stderr",
     "output_type": "stream",
     "text": [
      "\r",
      " 84%|███████████████████████████████████████████████████████████████▏           | 16/19 [33:23:15<6:13:26, 7468.78s/it]"
     ]
    },
    {
     "name": "stdout",
     "output_type": "stream",
     "text": [
      "############################################# 18 #############################################\n",
      "\n",
      "AWT : ['ts', 'pck_size', 'payload_bytes', 'entropy', 'pck_size_diff', 'pck_size_mean', 'ts_diff', 'ts_mean', 'TCP_window_diff', 'TCP_window_mean', 'TCP_window_std', 'entropy_diff', 'entropy_mean', 'ts_std_EW', 'ts_sum_of_EW', 'TCP_window_diff_EW', 'payload_bytes_sum_of_EW', 'entropy_sum_of_EW', 'Label']\n",
      "\n",
      "\n",
      "ARPMitM : ['ts', 'TCP_window', 'pck_size_diff', 'ts_mean', 'TCP_window_mean', 'payload_bytes_diff', 'payload_bytes_mean', 'entropy_diff', 'entropy_std', 'ts_diff_EW', 'ts_sum_of_EW', 'TCP_window_mean_EW', 'entropy_diff_EW', 'Label']\n",
      "\n",
      "\n",
      "Vid_Inj : ['ts', 'pck_size', 'TCP_window', 'entropy', 'pck_size_diff', 'ts_std', 'TCP_window_diff', 'TCP_window_mean', 'TCP_window_std', 'payload_bytes_diff', 'payload_bytes_mean', 'payload_bytes_std', 'entropy_mean', 'entropy_std', 'pck_size_diff_EW', 'pck_size_mean_EW', 'pck_size_std_EW', 'ts_diff_EW', 'ts_std_EW', 'ts_sum_of_EW', 'TCP_window_diff_EW', 'TCP_window_mean_EW', 'TCP_window_std_EW', 'TCP_window_sum_of_EW', 'payload_bytes_mean_EW', 'entropy_mean_EW', 'Label']\n",
      "\n",
      "\n"
     ]
    },
    {
     "name": "stderr",
     "output_type": "stream",
     "text": [
      "\r",
      " 89%|███████████████████████████████████████████████████████████████████        | 17/19 [35:29:37<4:10:05, 7502.65s/it]"
     ]
    },
    {
     "name": "stdout",
     "output_type": "stream",
     "text": [
      "############################################# 19 #############################################\n",
      "\n",
      "AWT : ['ts', 'pck_size', 'payload_bytes', 'entropy', 'pck_size_diff', 'pck_size_mean', 'pck_size_std', 'ts_diff', 'ts_mean', 'ts_std', 'TCP_window_diff', 'pck_size_diff_EW', 'pck_size_sum_of_EW', 'ts_diff_EW', 'ts_mean_EW', 'ts_std_EW', 'ts_sum_of_EW', 'TCP_window_diff_EW', 'TCP_window_mean_EW', 'TCP_window_std_EW', 'payload_bytes_std_EW', 'entropy_sum_of_EW', 'Label']\n",
      "\n",
      "\n",
      "ARPMitM : ['ts', 'TCP_window', 'payload_bytes', 'entropy', 'pck_size_std', 'ts_mean', 'ts_std', 'TCP_window_diff', 'TCP_window_mean', 'TCP_window_std', 'payload_bytes_diff', 'payload_bytes_std', 'entropy_diff', 'ts_diff_EW', 'ts_mean_EW', 'ts_sum_of_EW', 'TCP_window_diff_EW', 'entropy_diff_EW', 'Label']\n",
      "\n",
      "\n",
      "Vid_Inj : ['pck_size', 'entropy', 'pck_size_diff', 'pck_size_mean', 'pck_size_std', 'ts_diff', 'ts_mean', 'TCP_window_mean', 'TCP_window_std', 'payload_bytes_diff', 'payload_bytes_mean', 'payload_bytes_std', 'entropy_diff', 'pck_size_diff_EW', 'pck_size_sum_of_EW', 'ts_diff_EW', 'ts_sum_of_EW', 'TCP_window_diff_EW', 'TCP_window_std_EW', 'entropy_diff_EW', 'Label']\n",
      "\n",
      "\n"
     ]
    },
    {
     "name": "stderr",
     "output_type": "stream",
     "text": [
      "\r",
      " 95%|███████████████████████████████████████████████████████████████████████    | 18/19 [37:33:28<2:04:41, 7481.18s/it]"
     ]
    },
    {
     "name": "stdout",
     "output_type": "stream",
     "text": [
      "############################################# 20 #############################################\n",
      "\n",
      "AWT : ['ts', 'pck_size', 'pck_size_mean', 'pck_size_std', 'ts_diff', 'ts_mean', 'TCP_window_mean', 'payload_bytes_diff', 'payload_bytes_std', 'entropy_diff', 'entropy_mean', 'pck_size_diff_EW', 'pck_size_sum_of_EW', 'ts_diff_EW', 'ts_std_EW', 'ts_sum_of_EW', 'TCP_window_diff_EW', 'TCP_window_mean_EW', 'TCP_window_std_EW', 'TCP_window_sum_of_EW', 'entropy_diff_EW', 'Label']\n",
      "\n",
      "\n",
      "ARPMitM : ['pck_size', 'payload_bytes', 'pck_size_diff', 'pck_size_std', 'ts_diff', 'TCP_window_diff', 'TCP_window_mean', 'TCP_window_std', 'payload_bytes_mean', 'entropy_diff', 'entropy_mean', 'entropy_std', 'pck_size_std_EW', 'ts_mean_EW', 'ts_sum_of_EW', 'TCP_window_diff_EW', 'TCP_window_mean_EW', 'TCP_window_std_EW', 'TCP_window_sum_of_EW', 'entropy_diff_EW', 'entropy_mean_EW', 'Label']\n",
      "\n",
      "\n",
      "Vid_Inj : ['ts', 'pck_size', 'entropy', 'pck_size_diff', 'pck_size_mean', 'pck_size_std', 'ts_diff', 'ts_mean', 'ts_std', 'TCP_window_diff', 'TCP_window_mean', 'payload_bytes_mean', 'entropy_diff', 'entropy_std', 'pck_size_diff_EW', 'pck_size_std_EW', 'ts_diff_EW', 'TCP_window_diff_EW', 'TCP_window_std_EW', 'TCP_window_sum_of_EW', 'payload_bytes_std_EW', 'payload_bytes_sum_of_EW', 'entropy_diff_EW', 'entropy_mean_EW', 'Label']\n",
      "\n",
      "\n"
     ]
    },
    {
     "name": "stderr",
     "output_type": "stream",
     "text": [
      "100%|█████████████████████████████████████████████████████████████████████████████| 19/19 [39:41:26<00:00, 7520.32s/it]\n"
     ]
    }
   ],
   "source": [
    "for i in tqdm(range(2,21)):\n",
    "    print(f\"{45*'#'} {i} {45*'#'}\\n\")\n",
    "    file_list=find_the_way(\"C:/Users/kahraman/Desktop/Kitsune/SWEW/BIR\",f\"last_{i}_\",\"train\")\n",
    "    for ii in (file_list):\n",
    "        temp=ii.split(\"_\")[2]\n",
    "        output_csv=f\"./results/ML_{i}_{temp}.csv\"\n",
    "        target_names=[\"attack\",\"benign\"]\n",
    "        dname=attack_dict[temp]  \n",
    "        if dname in MiTM:\n",
    "            feature,_=GA(ii,ii.replace(\"train\",\"test\"),features,gen_number=25,outputcsv=f\"{i}_{dname}_GA_output.csv\")\n",
    "            #feature=features\n",
    "            print(f\"{dname} : {feature}\\n\\n\")\n",
    "            ML_CV(ii,ii.replace(\"train\",\"test\"),output_csv,feature,dname,i)   \n",
    "\n"
   ]
  },
  {
   "cell_type": "code",
   "execution_count": 17,
   "metadata": {},
   "outputs": [
    {
     "name": "stdout",
     "output_type": "stream",
     "text": [
      "      SW  Dataset               Acc     b_Acc      Prec       Rec        F1       kap       ROC     tra-T      test-T\n",
      "--  ----  ---------------  --------  --------  --------  --------  --------  --------  --------  --------  ----------\n",
      "35     2  Video Injection  0.825355  0.825355  0.838035  0.825355  0.823658   0.65071  0.825355  0.342183  0.00312548\n",
      "34     2  ARP MitM         0.94747   0.94747   0.94767   0.94747   0.947464   0.89494  0.94747   0.189056  0.0031255\n",
      "33     2  Active Wiretap   0.643345  0.643345  0.659657  0.643345  0.633196   0.28669  0.643345  0.396871  0.00312572\n",
      "37     3  ARP MitM         0.93227   0.93227   0.933585  0.93227   0.932217   0.86454  0.93227   0.199994  0.00312591\n",
      "38     3  Video Injection  0.73327   0.73327   0.767176  0.73327   0.724819   0.46654  0.73327   0.423432  0.00156231\n",
      "36     3  Active Wiretap   0.64019   0.64019   0.685359  0.64019   0.608851   0.28038  0.64019   0.498432  0.00468757\n",
      "39     4  Active Wiretap   0.670765  0.670765  0.702577  0.670765  0.65311    0.34153  0.670765  0.403113  0.00156274\n",
      "40     4  ARP MitM         0.86934   0.86934   0.883568  0.86934   0.868028   0.73868  0.86934   0.168745  0.00156264\n",
      "41     4  Video Injection  0.785695  0.785695  0.813294  0.785695  0.779791   0.57139  0.785695  0.357807  0.00156274\n",
      "42     5  Active Wiretap   0.64402   0.64402   0.688889  0.64402   0.617249   0.28804  0.64402   0.423437  0.00312519\n",
      "43     5  ARP MitM         0.917815  0.917815  0.920723  0.917815  0.917672   0.83563  0.917815  0.190617  0.00468884\n",
      "44     5  Video Injection  0.86103   0.86103   0.865369  0.86103   0.860568   0.72206  0.86103   0.215615  0.00625017\n",
      "47     6  Video Injection  0.88788   0.88788   0.888422  0.88788   0.887841   0.77576  0.88788   0.231241  0.00312562\n",
      "46     6  ARP MitM         0.88589   0.88589   0.895497  0.88589   0.885146   0.77178  0.88589   0.25624   0.00312617\n",
      "45     6  Active Wiretap   0.668485  0.668485  0.699703  0.668485  0.653637   0.33697  0.668485  0.340623  0\n",
      "48     7  Active Wiretap   0.67629   0.67629   0.687278  0.67629   0.672083   0.35258  0.67629   0.345305  0.00312204\n",
      "49     7  ARP MitM         0.91829   0.91829   0.921434  0.91829   0.91813    0.83658  0.91829   0.173425  0.00937743\n",
      "50     7  Video Injection  0.836785  0.836785  0.846628  0.836785  0.835545   0.67357  0.836785  0.256242  0.00156298\n",
      "51     8  Active Wiretap   0.63062   0.63062   0.691786  0.63062   0.592647   0.26124  0.63062   0.396861  0.00625072\n",
      "52     8  ARP MitM         0.869865  0.869865  0.884132  0.869865  0.868584   0.73973  0.869865  0.31093   0.00468445\n",
      "53     8  Video Injection  0.802275  0.802275  0.823271  0.802275  0.799006   0.60455  0.802275  0.428115  0.00156219\n",
      "56     9  Video Injection  0.88064   0.88064   0.881811  0.88064   0.880546   0.76128  0.88064   0.220305  0.00312607\n",
      "54     9  Active Wiretap   0.68973   0.68973   0.711459  0.68973   0.681691   0.37946  0.68973   0.482798  0.00468829\n",
      "55     9  ARP MitM         0.897545  0.897545  0.904721  0.897545  0.897036   0.79509  0.897545  0.296867  0.00625257\n",
      " 0    10  Active Wiretap   0.70714   0.70714   0.726892  0.70714   0.70102    0.41428  0.70714   0.315618  0\n",
      " 1    10  ARP MitM         0.86976   0.86976   0.884124  0.86976   0.868486   0.73952  0.86976   0.299999  0.0046895\n",
      " 2    10  Video Injection  0.77819   0.77819   0.783431  0.77819   0.776704   0.55638  0.77819   0.328118  0.00156233\n",
      " 3    11  Active Wiretap   0.68739   0.68739   0.704409  0.68739   0.681021   0.37478  0.68739   0.376555  0.0015631\n",
      " 4    11  ARP MitM         0.927945  0.927945  0.930728  0.927945  0.927764   0.85589  0.927945  0.143746  0.00468969\n",
      " 5    11  Video Injection  0.866835  0.866835  0.870371  0.866835  0.866486   0.73367  0.866835  0.239115  0.00312629\n",
      " 8    12  Video Injection  0.76766   0.76766   0.815832  0.76766   0.751931   0.53532  0.76766   0.235934  0.00156329\n",
      " 6    12  Active Wiretap   0.64974   0.64974   0.704954  0.64974   0.617251   0.29948  0.64974   0.285931  0.00312593\n",
      " 7    12  ARP MitM         0.901065  0.901065  0.907588  0.901065  0.90065    0.80213  0.901065  0.2184    0.00508811\n",
      "10    13  ARP MitM         0.93092   0.93092   0.932365  0.93092   0.930862   0.86184  0.93092   0.206243  0.00156245\n",
      "11    13  Video Injection  0.8114    0.8114    0.815013  0.8114    0.810904   0.6228   0.8114    0.407805  0.00625224\n",
      " 9    13  Active Wiretap   0.637185  0.637185  0.699051  0.637185  0.599742   0.27437  0.637185  0.379681  0.00312555\n",
      "12    14  Active Wiretap   0.647285  0.647285  0.675643  0.647285  0.628409   0.29457  0.647285  0.58749   0.0031265\n",
      "13    14  ARP MitM         0.85302   0.85302   0.872856  0.85302   0.850907   0.70604  0.85302   0.279678  0.00312679\n",
      "14    14  Video Injection  0.744155  0.744155  0.791777  0.744155  0.733252   0.48831  0.744155  0.329683  0.00312705\n",
      "15    15  Active Wiretap   0.644795  0.644795  0.698951  0.644795  0.612753   0.28959  0.644795  0.460929  0\n",
      "17    15  Video Injection  0.451065  0.451065  0.5027    0.451065  0.365534  -0.09787  0.451065  0.398429  0.00156288\n",
      "16    15  ARP MitM         0.874755  0.874755  0.887792  0.874755  0.873593   0.74951  0.874755  0.281246  0.00312531\n",
      "18    16  Active Wiretap   0.682495  0.682495  0.699117  0.682495  0.676424   0.36499  0.682495  0.437489  0.003125\n",
      "20    16  Video Injection  0.88608   0.88608   0.886813  0.88608   0.886026   0.77216  0.88608   0.192181  0.00625188\n",
      "19    16  ARP MitM         0.62322   0.62322   0.652669  0.62322   0.607959   0.24644  0.62322   0.284373  0.00468864\n",
      "21    17  Active Wiretap   0.695045  0.695045  0.723659  0.695045  0.683595   0.39009  0.695045  0.377606  0.0024008\n",
      "22    17  ARP MitM         0.89984   0.89984   0.906288  0.89984   0.899407   0.79968  0.89984   0.334654  0.00625086\n",
      "23    17  Video Injection  0.843045  0.843045  0.859799  0.843045  0.837776   0.68609  0.843045  0.32499   0.0015625\n",
      "25    18  ARP MitM         0.92012   0.92012   0.922982  0.92012   0.919978   0.84024  0.92012   0.185925  0.00312548\n",
      "26    18  Video Injection  0.785425  0.785425  0.81253   0.785425  0.78063    0.57085  0.785425  0.354675  0\n",
      "24    18  Active Wiretap   0.70372   0.70372   0.72105   0.70372   0.697746   0.40744  0.70372   0.306147  0.00312593\n",
      "29    19  Video Injection  0.884955  0.884955  0.885661  0.884955  0.884902   0.76991  0.884955  0.245648  0.00312595\n",
      "27    19  Active Wiretap   0.67064   0.67064   0.701652  0.67064   0.654221   0.34128  0.67064   0.415801  0.00156262\n",
      "28    19  ARP MitM         0.91959   0.91959   0.922507  0.91959   0.919448   0.83918  0.91959   0.204676  0.00468941\n",
      "32    20  Video Injection  0.820985  0.820985  0.83339   0.820985  0.819101   0.64197  0.820985  0.384371  0.00780997\n",
      "31    20  ARP MitM         0.881115  0.881115  0.892567  0.881115  0.880118   0.76223  0.881115  0.287413  0.00156348\n",
      "30    20  Active Wiretap   0.65371   0.65371   0.70725   0.65371   0.625466   0.30742  0.65371   0.424993  0.00468841\n"
     ]
    },
    {
     "data": {
      "image/png": "[encoded data removed]",
      "text/plain": [
       "<Figure size 1000x500 with 1 Axes>"
      ]
     },
     "metadata": {},
     "output_type": "display_data"
    },
    {
     "data": {
      "image/png": "[encoded data removed]",
      "text/plain": [
       "<Figure size 1500x300 with 3 Axes>"
      ]
     },
     "metadata": {},
     "output_type": "display_data"
    }
   ],
   "source": [
    "name_list=find_the_way('./results/','.csv')\n",
    "lines=[[\"SW\",\"Dataset\",\"Acc\",\"b_Acc\",\"Prec\",\"Rec\",\"F1\",\"kap\",\"ROC\",\"tra-T\",\"test-T\"]]\n",
    "cols=['Acc', 'b_Acc', 'Prec', 'Rec', 'F1','kap', 'ROC', 'tra-T', 'test-T']\n",
    "for p in name_list:\n",
    "    df = pd.read_csv(p,usecols=cols) \n",
    "    temp=pd.DataFrame(df.mean())\n",
    "    a=list(temp.values.flatten())\n",
    "    add_data=p[:-4].split(\"_\")[1:]\n",
    "    add_data=[int(add_data[0]),add_data[1]]\n",
    "    add_data=add_data+a\n",
    "    lines.append(add_data)\n",
    "results = pd.DataFrame (lines[1:], columns = lines[0])\n",
    "results=results.sort_values('SW')\n",
    "\n",
    "print (tabulate(results, headers=list(results.columns)))\n",
    "my_xticks=list(range(2,21))\n",
    "for j in ['F1']:#['Acc', 'b_Acc',  'F1', 'kap', 'ROC']:\n",
    "    plt.figure(figsize=(10,5))\n",
    "    graph_name=f\"all_Kitsune Dataset Attacks\"\n",
    "    plt.title(graph_name)\n",
    "    plt.ylabel(evaluate[j])\n",
    "    plt.xlabel(\"Sliding Window Size\")\n",
    "    for p in results[\"Dataset\"].unique():\n",
    "        df=results[results[\"Dataset\"]==p]\n",
    "\n",
    "\n",
    "        plt.plot(my_xticks,df[j], linestyle='-', marker='o',label= p)\n",
    "\n",
    "\n",
    "    plt.legend(numpoints=1)\n",
    "    plt.xticks(rotation=90) \n",
    "    graph_name=f\"./pdfs/all_Kitsune Dataset-{j} Attack-mitm.pdf\"\n",
    "    plt.savefig(graph_name,bbox_inches='tight',format=\"pdf\")#, dpi=400)\n",
    "    plt.show()\n",
    "my_xticks=list(range(2,21))\n",
    "for j in ['F1']:#['Acc', 'b_Acc',  'F1', 'kap', 'ROC']:\n",
    "    fig, axes = plt.subplots(nrows=1, ncols=3, figsize=(15, 3))\n",
    "    for pp,p in enumerate(results[\"Dataset\"].unique()):\n",
    "        df=results[results[\"Dataset\"]==p]\n",
    "        axes[pp%3].plot(my_xticks,df[j], linestyle='-', marker='o',label= p)\n",
    "        axes[pp%3].title.set_text(f'{p} Attack Sliding Window Results')\n",
    "        axes[pp%3].legend()\n",
    "    fig.tight_layout()\n",
    "    graph_name=f\"./pdfs/ind_Kitsune Dataset-{j} Attack_mitm.pdf\"\n",
    "    fig.savefig(graph_name,bbox_inches='tight',format=\"pdf\")#, dpi=400)\n",
    "    plt.show()"
   ]
  },
  {
   "cell_type": "markdown",
   "metadata": {},
   "source": [
    "# ALL ATTACKS"
   ]
  },
  {
   "cell_type": "code",
   "execution_count": null,
   "metadata": {},
   "outputs": [
    {
     "name": "stderr",
     "output_type": "stream",
     "text": [
      "\r",
      "  0%|                                                                                           | 0/19 [00:00<?, ?it/s]"
     ]
    },
    {
     "name": "stdout",
     "output_type": "stream",
     "text": [
      "############################################# 2 #############################################\n",
      "\n",
      "Fuzzing : ['ts', 'payload_bytes', 'pck_size_mean', 'TCP_window_diff', 'payload_bytes_diff', 'payload_bytes_mean', 'payload_bytes_std', 'entropy_std', 'pck_size_diff_EW', 'pck_size_mean_EW', 'ts_diff_EW', 'ts_std_EW', 'ts_sum_of_EW', 'TCP_window_diff_EW', 'TCP_window_std_EW', 'TCP_window_sum_of_EW', 'payload_bytes_std_EW', 'entropy_diff_EW', 'Label']\n",
      "\n",
      "\n",
      "Mirai : ['ts', 'pck_size', 'TCP_window', 'payload_bytes', 'pck_size_mean', 'ts_diff', 'ts_mean', 'ts_std', 'TCP_window_diff', 'TCP_window_mean', 'TCP_window_std', 'payload_bytes_diff', 'payload_bytes_mean', 'pck_size_diff_EW', 'pck_size_mean_EW', 'pck_size_std_EW', 'ts_sum_of_EW', 'TCP_window_diff_EW', 'TCP_window_mean_EW', 'TCP_window_std_EW', 'payload_bytes_mean_EW', 'payload_bytes_std_EW', 'payload_bytes_sum_of_EW', 'entropy_mean_EW', 'entropy_std_EW', 'Label']\n",
      "\n",
      "\n",
      "OS_Scan : ['ts', 'TCP_window', 'payload_bytes', 'entropy', 'ts_mean', 'ts_std', 'TCP_window_mean', 'payload_bytes_diff', 'payload_bytes_mean', 'payload_bytes_std', 'entropy_diff', 'entropy_std', 'pck_size_diff_EW', 'pck_size_sum_of_EW', 'ts_diff_EW', 'ts_std_EW', 'ts_sum_of_EW', 'TCP_window_mean_EW', 'TCP_window_std_EW', 'payload_bytes_mean_EW', 'entropy_diff_EW', 'Label']\n",
      "\n",
      "\n",
      "SSDP_F : ['ts', 'TCP_window', 'payload_bytes', 'pck_size_mean', 'ts_mean', 'TCP_window_diff', 'TCP_window_std', 'payload_bytes_diff', 'payload_bytes_mean', 'entropy_diff', 'entropy_mean', 'entropy_std', 'pck_size_diff_EW', 'ts_sum_of_EW', 'TCP_window_mean_EW', 'payload_bytes_mean_EW', 'entropy_diff_EW', 'entropy_mean_EW', 'entropy_std_EW', 'Label']\n",
      "\n",
      "\n",
      "SSL_Ren : ['ts', 'payload_bytes', 'pck_size_diff', 'pck_size_mean', 'pck_size_std', 'ts_mean', 'TCP_window_mean', 'TCP_window_std', 'payload_bytes_diff', 'payload_bytes_mean', 'entropy_diff', 'entropy_mean', 'entropy_std', 'pck_size_diff_EW', 'pck_size_mean_EW', 'pck_size_std_EW', 'pck_size_sum_of_EW', 'ts_diff_EW', 'TCP_window_diff_EW', 'TCP_window_mean_EW', 'payload_bytes_mean_EW', 'payload_bytes_std_EW', 'Label']\n",
      "\n",
      "\n",
      "SYN_F : ['ts', 'pck_size', 'TCP_window', 'payload_bytes', 'entropy', 'pck_size_diff', 'pck_size_std', 'ts_mean', 'ts_std', 'payload_bytes_diff', 'payload_bytes_mean', 'payload_bytes_std', 'entropy_diff', 'entropy_std', 'pck_size_diff_EW', 'ts_mean_EW', 'ts_std_EW', 'ts_sum_of_EW', 'TCP_window_diff_EW', 'TCP_window_std_EW', 'TCP_window_sum_of_EW', 'entropy_diff_EW', 'entropy_std_EW', 'Label']\n",
      "\n",
      "\n"
     ]
    },
    {
     "name": "stderr",
     "output_type": "stream",
     "text": [
      "\r",
      "  5%|████                                                                        | 1/19 [2:29:39<44:53:52, 8979.60s/it]"
     ]
    },
    {
     "name": "stdout",
     "output_type": "stream",
     "text": [
      "############################################# 3 #############################################\n",
      "\n",
      "Fuzzing : ['pck_size', 'payload_bytes', 'pck_size_diff', 'pck_size_mean', 'pck_size_std', 'ts_mean', 'TCP_window_mean', 'TCP_window_std', 'payload_bytes_diff', 'payload_bytes_std', 'entropy_diff', 'entropy_mean', 'entropy_std', 'pck_size_diff_EW', 'pck_size_mean_EW', 'ts_diff_EW', 'ts_mean_EW', 'ts_std_EW', 'ts_sum_of_EW', 'TCP_window_diff_EW', 'TCP_window_mean_EW', 'TCP_window_std_EW', 'payload_bytes_std_EW', 'entropy_diff_EW', 'Label']\n",
      "\n",
      "\n",
      "Mirai : ['pck_size', 'TCP_window', 'pck_size_mean', 'ts_mean', 'ts_std', 'TCP_window_diff', 'payload_bytes_diff', 'entropy_mean', 'entropy_std', 'pck_size_diff_EW', 'pck_size_std_EW', 'pck_size_sum_of_EW', 'ts_sum_of_EW', 'TCP_window_mean_EW', 'TCP_window_std_EW', 'TCP_window_sum_of_EW', 'payload_bytes_mean_EW', 'entropy_diff_EW', 'entropy_mean_EW', 'entropy_std_EW', 'entropy_sum_of_EW', 'Label']\n",
      "\n",
      "\n",
      "OS_Scan : ['pck_size', 'payload_bytes', 'entropy', 'pck_size_diff', 'ts_mean', 'TCP_window_diff', 'TCP_window_std', 'payload_bytes_diff', 'payload_bytes_std', 'entropy_std', 'pck_size_diff_EW', 'pck_size_mean_EW', 'pck_size_std_EW', 'ts_diff_EW', 'ts_mean_EW', 'ts_sum_of_EW', 'TCP_window_mean_EW', 'payload_bytes_mean_EW', 'payload_bytes_std_EW', 'entropy_diff_EW', 'entropy_mean_EW', 'entropy_std_EW', 'Label']\n",
      "\n",
      "\n",
      "SSDP_F : ['pck_size', 'TCP_window', 'payload_bytes', 'entropy', 'pck_size_diff', 'pck_size_mean', 'pck_size_std', 'ts_diff', 'ts_mean', 'ts_std', 'TCP_window_mean', 'TCP_window_std', 'payload_bytes_diff', 'payload_bytes_mean', 'payload_bytes_std', 'entropy_diff', 'entropy_mean', 'pck_size_mean_EW', 'ts_sum_of_EW', 'TCP_window_diff_EW', 'TCP_window_std_EW', 'payload_bytes_mean_EW', 'entropy_diff_EW', 'entropy_std_EW', 'Label']\n",
      "\n",
      "\n",
      "SSL_Ren : ['ts', 'TCP_window', 'pck_size_diff', 'pck_size_mean', 'ts_diff', 'ts_mean', 'ts_std', 'TCP_window_diff', 'TCP_window_mean', 'payload_bytes_diff', 'payload_bytes_mean', 'entropy_std', 'pck_size_diff_EW', 'pck_size_mean_EW', 'pck_size_std_EW', 'pck_size_sum_of_EW', 'TCP_window_diff_EW', 'TCP_window_mean_EW', 'TCP_window_std_EW', 'payload_bytes_mean_EW', 'payload_bytes_std_EW', 'entropy_diff_EW', 'entropy_std_EW', 'Label']\n",
      "\n",
      "\n",
      "SYN_F : ['payload_bytes', 'pck_size_std', 'ts_mean', 'TCP_window_diff', 'TCP_window_mean', 'payload_bytes_diff', 'payload_bytes_mean', 'payload_bytes_std', 'entropy_diff', 'entropy_mean', 'pck_size_diff_EW', 'pck_size_std_EW', 'ts_mean_EW', 'ts_sum_of_EW', 'TCP_window_diff_EW', 'TCP_window_sum_of_EW', 'entropy_diff_EW', 'Label']\n",
      "\n",
      "\n"
     ]
    },
    {
     "name": "stderr",
     "output_type": "stream",
     "text": [
      "\r",
      " 11%|████████                                                                    | 2/19 [4:58:06<42:12:04, 8936.75s/it]"
     ]
    },
    {
     "name": "stdout",
     "output_type": "stream",
     "text": [
      "############################################# 4 #############################################\n",
      "\n",
      "Fuzzing : ['ts', 'TCP_window', 'payload_bytes', 'entropy', 'pck_size_std', 'ts_diff', 'ts_std', 'TCP_window_diff', 'TCP_window_mean', 'TCP_window_std', 'payload_bytes_diff', 'payload_bytes_mean', 'entropy_mean', 'entropy_std', 'pck_size_diff_EW', 'pck_size_sum_of_EW', 'ts_diff_EW', 'ts_mean_EW', 'ts_std_EW', 'ts_sum_of_EW', 'payload_bytes_std_EW', 'entropy_mean_EW', 'Label']\n",
      "\n",
      "\n",
      "Mirai : ['ts', 'entropy', 'pck_size_diff', 'pck_size_mean', 'ts_diff', 'ts_mean', 'TCP_window_mean', 'TCP_window_std', 'payload_bytes_diff', 'payload_bytes_mean', 'payload_bytes_std', 'entropy_diff', 'entropy_mean', 'entropy_std', 'pck_size_diff_EW', 'pck_size_mean_EW', 'pck_size_std_EW', 'ts_diff_EW', 'ts_mean_EW', 'ts_sum_of_EW', 'TCP_window_mean_EW', 'TCP_window_std_EW', 'payload_bytes_mean_EW', 'payload_bytes_std_EW', 'payload_bytes_sum_of_EW', 'entropy_diff_EW', 'entropy_mean_EW', 'entropy_std_EW', 'Label']\n",
      "\n",
      "\n",
      "OS_Scan : ['ts', 'pck_size', 'TCP_window', 'payload_bytes', 'entropy', 'pck_size_diff', 'pck_size_mean', 'pck_size_std', 'ts_mean', 'TCP_window_diff', 'payload_bytes_diff', 'payload_bytes_std', 'entropy_diff', 'entropy_mean', 'entropy_std', 'pck_size_mean_EW', 'pck_size_std_EW', 'pck_size_sum_of_EW', 'ts_diff_EW', 'ts_mean_EW', 'ts_std_EW', 'ts_sum_of_EW', 'TCP_window_diff_EW', 'TCP_window_mean_EW', 'TCP_window_std_EW', 'payload_bytes_mean_EW', 'payload_bytes_std_EW', 'entropy_std_EW', 'Label']\n",
      "\n",
      "\n",
      "SSDP_F : ['pck_size', 'TCP_window', 'entropy', 'pck_size_mean', 'pck_size_std', 'ts_diff', 'ts_mean', 'ts_std', 'TCP_window_mean', 'TCP_window_std', 'payload_bytes_diff', 'payload_bytes_std', 'entropy_diff', 'entropy_mean', 'entropy_std', 'pck_size_mean_EW', 'pck_size_std_EW', 'ts_diff_EW', 'ts_mean_EW', 'ts_std_EW', 'ts_sum_of_EW', 'TCP_window_std_EW', 'payload_bytes_mean_EW', 'payload_bytes_std_EW', 'entropy_mean_EW', 'entropy_std_EW', 'Label']\n",
      "\n",
      "\n",
      "SSL_Ren : ['pck_size', 'TCP_window', 'payload_bytes', 'entropy', 'pck_size_diff', 'ts_diff', 'ts_mean', 'ts_std', 'TCP_window_diff', 'TCP_window_mean', 'payload_bytes_diff', 'payload_bytes_mean', 'payload_bytes_std', 'entropy_diff', 'entropy_mean', 'ts_diff_EW', 'ts_sum_of_EW', 'TCP_window_diff_EW', 'TCP_window_std_EW', 'TCP_window_sum_of_EW', 'payload_bytes_mean_EW', 'payload_bytes_std_EW', 'payload_bytes_sum_of_EW', 'entropy_diff_EW', 'entropy_mean_EW', 'Label']\n",
      "\n",
      "\n",
      "SYN_F : ['ts', 'pck_size', 'TCP_window', 'payload_bytes', 'entropy', 'pck_size_mean', 'pck_size_std', 'ts_diff', 'ts_mean', 'ts_std', 'TCP_window_diff', 'TCP_window_mean', 'payload_bytes_diff', 'payload_bytes_mean', 'entropy_mean', 'entropy_std', 'pck_size_diff_EW', 'ts_diff_EW', 'ts_mean_EW', 'ts_std_EW', 'ts_sum_of_EW', 'TCP_window_std_EW', 'TCP_window_sum_of_EW', 'payload_bytes_std_EW', 'Label']\n",
      "\n",
      "\n"
     ]
    },
    {
     "name": "stderr",
     "output_type": "stream",
     "text": [
      "\r",
      " 16%|████████████                                                                | 3/19 [7:32:14<40:21:04, 9079.02s/it]"
     ]
    },
    {
     "name": "stdout",
     "output_type": "stream",
     "text": [
      "############################################# 5 #############################################\n",
      "\n",
      "Fuzzing : ['pck_size', 'TCP_window', 'entropy', 'pck_size_diff', 'pck_size_std', 'TCP_window_diff', 'TCP_window_std', 'payload_bytes_diff', 'payload_bytes_std', 'entropy_mean', 'pck_size_diff_EW', 'pck_size_sum_of_EW', 'ts_mean_EW', 'ts_std_EW', 'ts_sum_of_EW', 'payload_bytes_std_EW', 'entropy_mean_EW', 'Label']\n",
      "\n",
      "\n",
      "Mirai : ['ts', 'TCP_window', 'entropy', 'pck_size_diff', 'pck_size_mean', 'pck_size_std', 'ts_diff', 'ts_mean', 'ts_std', 'TCP_window_diff', 'TCP_window_mean', 'payload_bytes_diff', 'payload_bytes_mean', 'payload_bytes_std', 'entropy_std', 'pck_size_diff_EW', 'pck_size_std_EW', 'pck_size_sum_of_EW', 'ts_mean_EW', 'ts_sum_of_EW', 'TCP_window_diff_EW', 'TCP_window_mean_EW', 'TCP_window_std_EW', 'TCP_window_sum_of_EW', 'payload_bytes_mean_EW', 'payload_bytes_std_EW', 'entropy_diff_EW', 'entropy_mean_EW', 'Label']\n",
      "\n",
      "\n",
      "OS_Scan : ['pck_size', 'TCP_window', 'pck_size_std', 'ts_diff', 'ts_mean', 'ts_std', 'TCP_window_std', 'payload_bytes_mean', 'entropy_std', 'ts_diff_EW', 'ts_mean_EW', 'ts_std_EW', 'ts_sum_of_EW', 'TCP_window_diff_EW', 'TCP_window_mean_EW', 'TCP_window_std_EW', 'payload_bytes_mean_EW', 'payload_bytes_std_EW', 'entropy_mean_EW', 'entropy_std_EW', 'Label']\n",
      "\n",
      "\n",
      "SSDP_F : ['TCP_window', 'payload_bytes', 'entropy', 'pck_size_diff', 'pck_size_mean', 'pck_size_std', 'ts_diff', 'ts_mean', 'ts_std', 'TCP_window_diff', 'payload_bytes_std', 'entropy_diff', 'entropy_std', 'pck_size_diff_EW', 'pck_size_std_EW', 'ts_diff_EW', 'ts_mean_EW', 'ts_std_EW', 'ts_sum_of_EW', 'TCP_window_mean_EW', 'payload_bytes_std_EW', 'entropy_diff_EW', 'entropy_mean_EW', 'entropy_std_EW', 'Label']\n",
      "\n",
      "\n",
      "SSL_Ren : ['pck_size', 'payload_bytes', 'pck_size_diff', 'pck_size_mean', 'pck_size_std', 'ts_diff', 'ts_std', 'TCP_window_std', 'payload_bytes_diff', 'entropy_diff', 'entropy_mean', 'entropy_std', 'pck_size_diff_EW', 'pck_size_mean_EW', 'pck_size_std_EW', 'pck_size_sum_of_EW', 'ts_diff_EW', 'TCP_window_diff_EW', 'TCP_window_mean_EW', 'TCP_window_std_EW', 'TCP_window_sum_of_EW', 'entropy_diff_EW', 'entropy_std_EW', 'Label']\n",
      "\n",
      "\n",
      "SYN_F : ['ts', 'TCP_window', 'payload_bytes', 'entropy', 'pck_size_diff', 'pck_size_mean', 'ts_diff', 'ts_mean', 'TCP_window_diff', 'TCP_window_mean', 'payload_bytes_mean', 'payload_bytes_std', 'entropy_std', 'pck_size_std_EW', 'ts_diff_EW', 'ts_mean_EW', 'ts_std_EW', 'ts_sum_of_EW', 'TCP_window_diff_EW', 'TCP_window_mean_EW', 'TCP_window_std_EW', 'TCP_window_sum_of_EW', 'payload_bytes_mean_EW', 'entropy_diff_EW', 'Label']\n",
      "\n",
      "\n"
     ]
    },
    {
     "name": "stderr",
     "output_type": "stream",
     "text": [
      "\r",
      " 21%|████████████████                                                            | 4/19 [9:56:29<37:07:55, 8911.70s/it]"
     ]
    },
    {
     "name": "stdout",
     "output_type": "stream",
     "text": [
      "############################################# 6 #############################################\n",
      "\n"
     ]
    }
   ],
   "source": [
    "for i in tqdm(range(2,21)):\n",
    "    print(f\"{45*'#'} {i} {45*'#'}\\n\")\n",
    "    file_list=find_the_way(\"C:/Users/kahraman/Desktop/Kitsune/SWEW/BIR/\",f\"last_{i}_\",\"train\")\n",
    "    for ii in (file_list):\n",
    "        temp=ii.split(\"_\")[2]\n",
    "        output_csv=f\"./results/ML_{i}_{temp}.csv\"\n",
    "        target_names=[\"attack\",\"benign\"]\n",
    "        dname=attack_dict[temp]  \n",
    "        if dname not in MiTM:\n",
    "            feature,_=GA(ii,ii.replace(\"train\",\"test\"),features,gen_number=25,outputcsv=f\"{i}_{dname}_GA_output.csv\")\n",
    "            #feature=features\n",
    "            print(f\"{dname} : {feature}\\n\\n\")\n",
    "            ML_CV(ii,ii.replace(\"train\",\"test\"),output_csv,feature,dname,i)   \n",
    "\n"
   ]
  },
  {
   "cell_type": "code",
   "execution_count": null,
   "metadata": {},
   "outputs": [],
   "source": [
    "name_list=find_the_way('./results/','.csv')\n",
    "lines=[[\"SW\",\"Dataset\",\"Acc\",\"b_Acc\",\"Prec\",\"Rec\",\"F1\",\"kap\",\"ROC\",\"tra-T\",\"test-T\"]]\n",
    "cols=['Acc', 'b_Acc', 'Prec', 'Rec', 'F1','kap', 'ROC', 'tra-T', 'test-T']\n",
    "for p in name_list:\n",
    "    df = pd.read_csv(p,usecols=cols) \n",
    "    temp=pd.DataFrame(df.mean())\n",
    "    a=list(temp.values.flatten())\n",
    "    add_data=p[:-4].split(\"_\")[1:]\n",
    "    add_data=[int(add_data[0]),add_data[1]]\n",
    "    add_data=add_data+a\n",
    "    lines.append(add_data)\n",
    "results = pd.DataFrame (lines[1:], columns = lines[0])\n",
    "results=results.sort_values('SW')\n",
    "\n",
    "print (tabulate(results, headers=list(results.columns)))\n",
    "my_xticks=list(range(2,21))\n",
    "for j in ['F1']:#['Acc', 'b_Acc',  'F1', 'kap', 'ROC']:\n",
    "    plt.figure(figsize=(10,5))\n",
    "    graph_name=f\"all_Kitsune Dataset Attacks\"\n",
    "    plt.title(graph_name)\n",
    "    plt.ylabel(evaluate[j])\n",
    "    plt.xlabel(\"Sliding Window Size\")\n",
    "    for p in results[\"Dataset\"].unique():\n",
    "        df=results[results[\"Dataset\"]==p]\n",
    "\n",
    "\n",
    "        plt.plot(my_xticks,df[j], linestyle='-', marker='o',label= p)\n",
    "\n",
    "\n",
    "    plt.legend(numpoints=1)\n",
    "    plt.xticks(rotation=90) \n",
    "    graph_name=f\"./pdfs/all_Kitsune Dataset-{j} Attack-not_mitm.pdf\"\n",
    "    plt.savefig(graph_name,bbox_inches='tight',format=\"pdf\")#, dpi=400)\n",
    "    plt.show()\n",
    "my_xticks=list(range(2,21))\n",
    "for j in ['F1']:#['Acc', 'b_Acc',  'F1', 'kap', 'ROC']:\n",
    "    fig, axes = plt.subplots(nrows=1, ncols=3, figsize=(15, 3))\n",
    "    for pp,p in enumerate(results[\"Dataset\"].unique()):\n",
    "        df=results[results[\"Dataset\"]==p]\n",
    "        axes[pp%3].plot(my_xticks,df[j], linestyle='-', marker='o',label= p)\n",
    "        axes[pp%3].title.set_text(f'{p} Attack Sliding Window Results')\n",
    "        axes[pp%3].legend()\n",
    "    fig.tight_layout()\n",
    "    graph_name=f\"./pdfs/ind_Kitsune Dataset-{j} Attack_not_mitm.pdf\"\n",
    "    fig.savefig(graph_name,bbox_inches='tight',format=\"pdf\")#, dpi=400)\n",
    "    plt.show()"
   ]
  },
  {
   "cell_type": "code",
   "execution_count": null,
   "metadata": {},
   "outputs": [],
   "source": []
  },
  {
   "cell_type": "code",
   "execution_count": null,
   "metadata": {},
   "outputs": [],
   "source": [
    "mavi\n",
    "turuncu\n",
    "koyu yesil\n",
    "kirmizi\n",
    "mor\n",
    "kahve\n",
    "pembe\n",
    "gri\n",
    "acik yesil\n"
   ]
  },
  {
   "cell_type": "code",
   "execution_count": null,
   "metadata": {},
   "outputs": [],
   "source": []
  },
  {
   "cell_type": "code",
   "execution_count": null,
   "metadata": {},
   "outputs": [],
   "source": []
  }
 ],
 "metadata": {
  "kernelspec": {
   "display_name": "Python 3 (ipykernel)",
   "language": "python",
   "name": "python3"
  },
  "language_info": {
   "codemirror_mode": {
    "name": "ipython",
    "version": 3
   },
   "file_extension": ".py",
   "mimetype": "text/x-python",
   "name": "python",
   "nbconvert_exporter": "python",
   "pygments_lexer": "ipython3",
   "version": "3.10.8"
  }
 },
 "nbformat": 4,
 "nbformat_minor": 2
}
