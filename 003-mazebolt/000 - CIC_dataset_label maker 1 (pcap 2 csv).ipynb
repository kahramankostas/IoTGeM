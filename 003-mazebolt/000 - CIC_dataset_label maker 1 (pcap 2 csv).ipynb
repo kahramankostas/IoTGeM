{
 "cells": [
  {
   "cell_type": "code",
   "execution_count": 22,
   "metadata": {},
   "outputs": [],
   "source": [
    "import os\n",
    "import pandas as pd"
   ]
  },
  {
   "cell_type": "code",
   "execution_count": 23,
   "metadata": {},
   "outputs": [],
   "source": [
    "def folder(f_name): #this function creates a folder named \"attacks\" in the program directory.\n",
    "    try:\n",
    "        if not os.path.exists(f_name):\n",
    "            os.makedirs(f_name)\n",
    "    except OSError:\n",
    "        print (\"The folder could not be created!\")"
   ]
  },
  {
   "cell_type": "code",
   "execution_count": 24,
   "metadata": {},
   "outputs": [],
   "source": [
    "folder(\"pcaps\")"
   ]
  },
  {
   "cell_type": "code",
   "execution_count": 25,
   "metadata": {},
   "outputs": [],
   "source": [
    "def find_the_way(path,file_format,con=\"\"):\n",
    "    files_add = []\n",
    "    # r=root, d=directories, f = files\n",
    "    for r, d, f in os.walk(path):\n",
    "        for file in f:\n",
    "            if file_format in file:\n",
    "                if con in file:\n",
    "                    files_add.append(os.path.join(r, file))  \n",
    "            \n",
    "    return files_add"
   ]
  },
  {
   "cell_type": "code",
   "execution_count": 26,
   "metadata": {},
   "outputs": [],
   "source": [
    "files_add=find_the_way('./','.pcap')\n",
    "files_add=[ './pcaps\\\\http-flood.pcap']"
   ]
  },
  {
   "cell_type": "code",
   "execution_count": 27,
   "metadata": {},
   "outputs": [
    {
     "name": "stdout",
     "output_type": "stream",
     "text": [
      "./pcaps/http-flood.pcap\n"
     ]
    }
   ],
   "source": [
    "for i in files_add:\n",
    "    temp=i[8:]\n",
    "    temp=temp.replace(\" \",\"_\")\n",
    "    temp=temp.replace(\"\\\\\",\"-\")\n",
    "    temp=f\"./pcaps/{temp}\"\n",
    "    #os.rename(i,temp)\n",
    "    print(temp)"
   ]
  },
  {
   "cell_type": "code",
   "execution_count": 28,
   "metadata": {},
   "outputs": [
    {
     "data": {
      "text/plain": [
       "4"
      ]
     },
     "execution_count": 28,
     "metadata": {},
     "output_type": "execute_result"
    }
   ],
   "source": [
    "files_add=find_the_way('./','.pcap')\n",
    "uzun=len(files_add)\n",
    "uzun"
   ]
  },
  {
   "cell_type": "code",
   "execution_count": 29,
   "metadata": {},
   "outputs": [
    {
     "data": {
      "text/html": [
       "<div>\n",
       "<style scoped>\n",
       "    .dataframe tbody tr th:only-of-type {\n",
       "        vertical-align: middle;\n",
       "    }\n",
       "\n",
       "    .dataframe tbody tr th {\n",
       "        vertical-align: top;\n",
       "    }\n",
       "\n",
       "    .dataframe thead th {\n",
       "        text-align: right;\n",
       "    }\n",
       "</style>\n",
       "<table border=\"1\" class=\"dataframe\">\n",
       "  <thead>\n",
       "    <tr style=\"text-align: right;\">\n",
       "      <th></th>\n",
       "      <th>No</th>\n",
       "      <th>File Name</th>\n",
       "      <th>Category</th>\n",
       "      <th>Sub-category</th>\n",
       "      <th>Rule</th>\n",
       "    </tr>\n",
       "  </thead>\n",
       "  <tbody>\n",
       "    <tr>\n",
       "      <th>0</th>\n",
       "      <td>1</td>\n",
       "      <td>udp_flood.pcap</td>\n",
       "      <td>Flood</td>\n",
       "      <td>UDP</td>\n",
       "      <td>(ip.proto == 17) &amp;&amp; (udp.dstport == 80)</td>\n",
       "    </tr>\n",
       "    <tr>\n",
       "      <th>1</th>\n",
       "      <td>2</td>\n",
       "      <td>SYN.pcap</td>\n",
       "      <td>Flood</td>\n",
       "      <td>SYN</td>\n",
       "      <td>ip.dst==10.128.0.2 &amp;&amp; ip.src==10.0.0.2</td>\n",
       "    </tr>\n",
       "    <tr>\n",
       "      <th>2</th>\n",
       "      <td>3</td>\n",
       "      <td>ACK_v3.pcap</td>\n",
       "      <td>Flood</td>\n",
       "      <td>ACK</td>\n",
       "      <td>tcp.flags.ack == 1</td>\n",
       "    </tr>\n",
       "    <tr>\n",
       "      <th>3</th>\n",
       "      <td>4</td>\n",
       "      <td>http-flood.pcap</td>\n",
       "      <td>Flood</td>\n",
       "      <td>HTTP</td>\n",
       "      <td>ip.src==10.0.0.2 &amp;&amp; ip.dst==10.128.0.2</td>\n",
       "    </tr>\n",
       "  </tbody>\n",
       "</table>\n",
       "</div>"
      ],
      "text/plain": [
       "   No        File Name Category Sub-category  \\\n",
       "0   1   udp_flood.pcap    Flood          UDP   \n",
       "1   2         SYN.pcap    Flood          SYN   \n",
       "2   3      ACK_v3.pcap    Flood          ACK   \n",
       "3   4  http-flood.pcap    Flood         HTTP   \n",
       "\n",
       "                                       Rule  \n",
       "0   (ip.proto == 17) && (udp.dstport == 80)  \n",
       "1    ip.dst==10.128.0.2 && ip.src==10.0.0.2  \n",
       "2                        tcp.flags.ack == 1  \n",
       "3    ip.src==10.0.0.2 && ip.dst==10.128.0.2  "
      ]
     },
     "execution_count": 29,
     "metadata": {},
     "output_type": "execute_result"
    }
   ],
   "source": [
    "df = pd.read_csv( \"dataset_description.csv\")\n",
    "df"
   ]
  },
  {
   "cell_type": "code",
   "execution_count": 30,
   "metadata": {},
   "outputs": [
    {
     "data": {
      "text/plain": [
       "Index(['No', 'File Name', 'Category', 'Sub-category', 'Rule'], dtype='object')"
      ]
     },
     "execution_count": 30,
     "metadata": {},
     "output_type": "execute_result"
    }
   ],
   "source": [
    "df.columns"
   ]
  },
  {
   "cell_type": "code",
   "execution_count": 31,
   "metadata": {},
   "outputs": [],
   "source": [
    "name=df['File Name']\n",
    "rule=df['Rule']\n",
    "cat=df['Category']\n",
    "subcat=df['Sub-category']"
   ]
  },
  {
   "cell_type": "code",
   "execution_count": 32,
   "metadata": {},
   "outputs": [
    {
     "data": {
      "text/plain": [
       "0     udp_flood.pcap\n",
       "1           SYN.pcap\n",
       "2        ACK_v3.pcap\n",
       "3    http-flood.pcap\n",
       "Name: File Name, dtype: object"
      ]
     },
     "execution_count": 32,
     "metadata": {},
     "output_type": "execute_result"
    }
   ],
   "source": [
    "name"
   ]
  },
  {
   "cell_type": "code",
   "execution_count": 33,
   "metadata": {
    "scrolled": false
   },
   "outputs": [
    {
     "name": "stdout",
     "output_type": "stream",
     "text": [
      "tshark -Y \"!( (ip.proto == 17) && (udp.dstport == 80))\" -r ./pcaps/udp_flood.pcap -T fields -e frame.number > ./pcaps/normal_udp_flood.csv \n",
      "\n",
      "tshark -Y \"!(ip.dst==10.128.0.2 && ip.src==10.0.0.2)\" -r ./pcaps/SYN.pcap -T fields -e frame.number > ./pcaps/normal_SYN.csv \n",
      "\n",
      "tshark -Y \"!(tcp.flags.ack == 1)\" -r ./pcaps/ACK_v3.pcap -T fields -e frame.number > ./pcaps/normal_ACK_v3.csv \n",
      "\n",
      "tshark -Y \"!(ip.src==10.0.0.2 && ip.dst==10.128.0.2)\" -r ./pcaps/http-flood.pcap -T fields -e frame.number > ./pcaps/normal_http-flood.csv \n",
      "\n"
     ]
    }
   ],
   "source": [
    "for i in range(len(name)):\n",
    "    add=str(cat[i])+\"@\"+str(subcat[i])+\"_\"\n",
    "    add=add.replace(\" \",\"_\")\n",
    "    command='tshark -Y \\\"'+str(rule[i])+\"\\\" -r ./pcaps/\"+str(name[i])+\" -T fields -e frame.number > ./pcaps/attack_\"+str(name[i])[:-4]+\"csv\"\n",
    "    os.system(command)\n",
    "    command='tshark -Y \\\"!('+str(rule[i])+\")\\\" -r ./pcaps/\"+str(name[i])+\" -T fields -e frame.number > ./pcaps/normal_\"+str(name[i])[:-4]+\"csv\"\n",
    "    os.system(command)\n",
    "    files_add=find_the_way('./','.pcap')\n",
    "    if uzun==len(files_add):    \n",
    "        print(command,\"\\n\")\n",
    "    uzun=len(files_add) \n",
    " \n",
    "    "
   ]
  },
  {
   "cell_type": "markdown",
   "metadata": {},
   "source": [
    "# MERGE CSVS"
   ]
  },
  {
   "cell_type": "code",
   "execution_count": 34,
   "metadata": {},
   "outputs": [],
   "source": [
    "name_list=find_the_way('./pcaps','.csv')\n",
    "\n",
    "for i in name_list:\n",
    "    boyut=os.path.getsize(i)\n",
    "    if boyut==0:\n",
    "        os.remove(i)\n",
    "        \n",
    "    "
   ]
  },
  {
   "cell_type": "code",
   "execution_count": 35,
   "metadata": {},
   "outputs": [],
   "source": [
    "label_files=[]\n",
    "for i in name_list:\n",
    "    temp=i[15:]\n",
    "    if temp not in label_files:\n",
    "        label_files.append(temp)\n",
    "    "
   ]
  },
  {
   "cell_type": "code",
   "execution_count": 36,
   "metadata": {},
   "outputs": [
    {
     "name": "stdout",
     "output_type": "stream",
     "text": [
      "['./pcaps\\\\attack_ACK_v3.csv', './pcaps\\\\normal_ACK_v3.csv']\n",
      "ACK_v3.csv Label\n",
      "0    14754\n",
      "1    14765\n",
      "dtype: int64 \n",
      "\n",
      "\n",
      "\n",
      "['./pcaps\\\\attack_http-flood.csv', './pcaps\\\\normal_http-flood.csv']\n",
      "http-flood.csv Label\n",
      "0    1002\n",
      "1    1429\n",
      "dtype: int64 \n",
      "\n",
      "\n",
      "\n",
      "['./pcaps\\\\attack_SYN.csv', './pcaps\\\\normal_SYN.csv']\n",
      "SYN.csv Label\n",
      "0    3317\n",
      "1    1658\n",
      "dtype: int64 \n",
      "\n",
      "\n",
      "\n",
      "['./pcaps\\\\attack_udp_flood.csv']\n",
      "udp_flood.csv Label\n",
      "1    999\n",
      "dtype: int64 \n",
      "\n",
      "\n",
      "\n"
     ]
    }
   ],
   "source": [
    "for i in label_files:\n",
    "\n",
    "    name=find_the_way('./pcaps',i)\n",
    "    print(name)\n",
    "\n",
    "    dfA = pd.read_csv(name[0], header=None)\n",
    "    dfA=dfA.rename(columns={0: \"PacketNumber\"})\n",
    "    dfA[\"Label\"]=[1] * len(dfA)\n",
    "    \n",
    "    try:\n",
    "        dfN = pd.read_csv(name[1], header=None)\n",
    "        dfN=dfN.rename(columns={0: \"PacketNumber\"})    \n",
    "        dfN[\"Label\"]=[0] * len(dfN) \n",
    "        df = pd.concat([dfA,dfN])\n",
    "        df=df.sort_values('PacketNumber')\n",
    "        df.to_csv(f\"./pcaps/{i}\",  index=False)\n",
    "        print(i,df.groupby(\"Label\").size(),\"\\n\\n\\n\")\n",
    "        os.remove(f\"./pcaps\\\\normal_{i}\")\n",
    "        os.remove(f\"./pcaps\\\\attack_{i}\")\n",
    "    except:\n",
    "        dfA.to_csv(f\"./pcaps/{i}\",  index=False)\n",
    "        print(i,dfA.groupby(\"Label\").size(),\"\\n\\n\\n\")\n",
    "        \n",
    "\n",
    "        \n"
   ]
  },
  {
   "cell_type": "code",
   "execution_count": 37,
   "metadata": {},
   "outputs": [],
   "source": [
    "#!shutdown /s /t 36"
   ]
  },
  {
   "cell_type": "code",
   "execution_count": 106,
   "metadata": {},
   "outputs": [
    {
     "data": {
      "text/html": [
       "<div>\n",
       "<style scoped>\n",
       "    .dataframe tbody tr th:only-of-type {\n",
       "        vertical-align: middle;\n",
       "    }\n",
       "\n",
       "    .dataframe tbody tr th {\n",
       "        vertical-align: top;\n",
       "    }\n",
       "\n",
       "    .dataframe thead th {\n",
       "        text-align: right;\n",
       "    }\n",
       "</style>\n",
       "<table border=\"1\" class=\"dataframe\">\n",
       "  <thead>\n",
       "    <tr style=\"text-align: right;\">\n",
       "      <th></th>\n",
       "      <th>PacketNumber</th>\n",
       "      <th>Label</th>\n",
       "    </tr>\n",
       "  </thead>\n",
       "  <tbody>\n",
       "    <tr>\n",
       "      <th>0</th>\n",
       "      <td>1</td>\n",
       "      <td>1</td>\n",
       "    </tr>\n",
       "    <tr>\n",
       "      <th>0</th>\n",
       "      <td>2</td>\n",
       "      <td>0</td>\n",
       "    </tr>\n",
       "    <tr>\n",
       "      <th>1</th>\n",
       "      <td>3</td>\n",
       "      <td>0</td>\n",
       "    </tr>\n",
       "    <tr>\n",
       "      <th>1</th>\n",
       "      <td>4</td>\n",
       "      <td>1</td>\n",
       "    </tr>\n",
       "    <tr>\n",
       "      <th>2</th>\n",
       "      <td>5</td>\n",
       "      <td>0</td>\n",
       "    </tr>\n",
       "    <tr>\n",
       "      <th>...</th>\n",
       "      <td>...</td>\n",
       "      <td>...</td>\n",
       "    </tr>\n",
       "    <tr>\n",
       "      <th>1657</th>\n",
       "      <td>4971</td>\n",
       "      <td>1</td>\n",
       "    </tr>\n",
       "    <tr>\n",
       "      <th>3313</th>\n",
       "      <td>4972</td>\n",
       "      <td>0</td>\n",
       "    </tr>\n",
       "    <tr>\n",
       "      <th>3314</th>\n",
       "      <td>4973</td>\n",
       "      <td>0</td>\n",
       "    </tr>\n",
       "    <tr>\n",
       "      <th>3315</th>\n",
       "      <td>4974</td>\n",
       "      <td>0</td>\n",
       "    </tr>\n",
       "    <tr>\n",
       "      <th>3316</th>\n",
       "      <td>4975</td>\n",
       "      <td>0</td>\n",
       "    </tr>\n",
       "  </tbody>\n",
       "</table>\n",
       "<p>4975 rows × 2 columns</p>\n",
       "</div>"
      ],
      "text/plain": [
       "      PacketNumber  Label\n",
       "0                1      1\n",
       "0                2      0\n",
       "1                3      0\n",
       "1                4      1\n",
       "2                5      0\n",
       "...            ...    ...\n",
       "1657          4971      1\n",
       "3313          4972      0\n",
       "3314          4973      0\n",
       "3315          4974      0\n",
       "3316          4975      0\n",
       "\n",
       "[4975 rows x 2 columns]"
      ]
     },
     "execution_count": 106,
     "metadata": {},
     "output_type": "execute_result"
    }
   ],
   "source": [
    "df"
   ]
  },
  {
   "cell_type": "code",
   "execution_count": null,
   "metadata": {},
   "outputs": [],
   "source": []
  },
  {
   "cell_type": "code",
   "execution_count": null,
   "metadata": {},
   "outputs": [],
   "source": []
  }
 ],
 "metadata": {
  "kernelspec": {
   "display_name": "Python 3 (ipykernel)",
   "language": "python",
   "name": "python3"
  },
  "language_info": {
   "codemirror_mode": {
    "name": "ipython",
    "version": 3
   },
   "file_extension": ".py",
   "mimetype": "text/x-python",
   "name": "python",
   "nbconvert_exporter": "python",
   "pygments_lexer": "ipython3",
   "version": "3.10.8"
  }
 },
 "nbformat": 4,
 "nbformat_minor": 2
}
