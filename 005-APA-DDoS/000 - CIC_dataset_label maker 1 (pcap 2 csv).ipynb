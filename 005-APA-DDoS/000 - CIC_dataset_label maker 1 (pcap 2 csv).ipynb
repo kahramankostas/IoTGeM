{
 "cells": [
  {
   "cell_type": "code",
   "execution_count": 1,
   "metadata": {},
   "outputs": [],
   "source": [
    "import os\n",
    "import pandas as pd"
   ]
  },
  {
   "cell_type": "code",
   "execution_count": 2,
   "metadata": {},
   "outputs": [],
   "source": [
    "def folder(f_name): #this function creates a folder named \"attacks\" in the program directory.\n",
    "    try:\n",
    "        if not os.path.exists(f_name):\n",
    "            os.makedirs(f_name)\n",
    "    except OSError:\n",
    "        print (\"The folder could not be created!\")"
   ]
  },
  {
   "cell_type": "code",
   "execution_count": 3,
   "metadata": {},
   "outputs": [],
   "source": [
    "folder(\"pcaps\")"
   ]
  },
  {
   "cell_type": "code",
   "execution_count": 4,
   "metadata": {},
   "outputs": [],
   "source": [
    "def find_the_way(path,file_format,con=\"\"):\n",
    "    files_add = []\n",
    "    # r=root, d=directories, f = files\n",
    "    for r, d, f in os.walk(path):\n",
    "        for file in f:\n",
    "            if file_format in file:\n",
    "                if con in file:\n",
    "                    files_add.append(os.path.join(r, file))  \n",
    "            \n",
    "    return files_add"
   ]
  },
  {
   "cell_type": "code",
   "execution_count": 5,
   "metadata": {},
   "outputs": [
    {
     "data": {
      "text/plain": [
       "['./pcaps\\\\ACK.pcap']"
      ]
     },
     "execution_count": 5,
     "metadata": {},
     "output_type": "execute_result"
    }
   ],
   "source": [
    "files_add=find_the_way('./','.pcap')\n",
    "files_add"
   ]
  },
  {
   "cell_type": "code",
   "execution_count": 6,
   "metadata": {},
   "outputs": [
    {
     "name": "stdout",
     "output_type": "stream",
     "text": [
      "./pcaps/ACK.pcap\n"
     ]
    }
   ],
   "source": [
    "for i in files_add:\n",
    "    temp=i[8:]\n",
    "    temp=temp.replace(\" \",\"_\")\n",
    "    temp=temp.replace(\"\\\\\",\"-\")\n",
    "    temp=f\"./pcaps/{temp}\"\n",
    "    #os.rename(i,temp)\n",
    "    print(temp)"
   ]
  },
  {
   "cell_type": "code",
   "execution_count": 7,
   "metadata": {},
   "outputs": [
    {
     "data": {
      "text/plain": [
       "1"
      ]
     },
     "execution_count": 7,
     "metadata": {},
     "output_type": "execute_result"
    }
   ],
   "source": [
    "files_add=find_the_way('./','.pcap')\n",
    "uzun=len(files_add)\n",
    "uzun"
   ]
  },
  {
   "cell_type": "code",
   "execution_count": 8,
   "metadata": {},
   "outputs": [
    {
     "data": {
      "text/html": [
       "<div>\n",
       "<style scoped>\n",
       "    .dataframe tbody tr th:only-of-type {\n",
       "        vertical-align: middle;\n",
       "    }\n",
       "\n",
       "    .dataframe tbody tr th {\n",
       "        vertical-align: top;\n",
       "    }\n",
       "\n",
       "    .dataframe thead th {\n",
       "        text-align: right;\n",
       "    }\n",
       "</style>\n",
       "<table border=\"1\" class=\"dataframe\">\n",
       "  <thead>\n",
       "    <tr style=\"text-align: right;\">\n",
       "      <th></th>\n",
       "      <th>No</th>\n",
       "      <th>File Name</th>\n",
       "      <th>Category</th>\n",
       "      <th>Sub-category</th>\n",
       "      <th>Rule</th>\n",
       "    </tr>\n",
       "  </thead>\n",
       "  <tbody>\n",
       "    <tr>\n",
       "      <th>0</th>\n",
       "      <td>2</td>\n",
       "      <td>ACK.pcap</td>\n",
       "      <td>DDoS</td>\n",
       "      <td>ACK FlooD</td>\n",
       "      <td>ip.dst==192.168.23.2 &amp;&amp; tcp.flags.ack == 1</td>\n",
       "    </tr>\n",
       "  </tbody>\n",
       "</table>\n",
       "</div>"
      ],
      "text/plain": [
       "   No File Name Category Sub-category  \\\n",
       "0   2  ACK.pcap     DDoS    ACK FlooD   \n",
       "\n",
       "                                         Rule  \n",
       "0  ip.dst==192.168.23.2 && tcp.flags.ack == 1  "
      ]
     },
     "execution_count": 8,
     "metadata": {},
     "output_type": "execute_result"
    }
   ],
   "source": [
    "df = pd.read_csv( \"dataset_description.csv\")\n",
    "df"
   ]
  },
  {
   "cell_type": "code",
   "execution_count": 9,
   "metadata": {},
   "outputs": [
    {
     "data": {
      "text/plain": [
       "Index(['No', 'File Name', 'Category', 'Sub-category', 'Rule'], dtype='object')"
      ]
     },
     "execution_count": 9,
     "metadata": {},
     "output_type": "execute_result"
    }
   ],
   "source": [
    "df.columns"
   ]
  },
  {
   "cell_type": "code",
   "execution_count": 10,
   "metadata": {},
   "outputs": [],
   "source": [
    "name=df['File Name']\n",
    "rule=df['Rule']\n",
    "cat=df['Category']\n",
    "subcat=df['Sub-category']"
   ]
  },
  {
   "cell_type": "code",
   "execution_count": 11,
   "metadata": {},
   "outputs": [
    {
     "data": {
      "text/plain": [
       "0    ACK.pcap\n",
       "Name: File Name, dtype: object"
      ]
     },
     "execution_count": 11,
     "metadata": {},
     "output_type": "execute_result"
    }
   ],
   "source": [
    "name"
   ]
  },
  {
   "cell_type": "code",
   "execution_count": 12,
   "metadata": {
    "scrolled": false
   },
   "outputs": [
    {
     "name": "stdout",
     "output_type": "stream",
     "text": [
      "tshark -Y \"!(ip.dst==192.168.23.2 && tcp.flags.ack == 1)\" -r ./pcaps/ACK.pcap -T fields -e frame.number > ./pcaps/normal_ACK.csv \n",
      "\n"
     ]
    }
   ],
   "source": [
    "for i in range(len(name)):\n",
    "    add=str(cat[i])+\"@\"+str(subcat[i])+\"_\"\n",
    "    add=add.replace(\" \",\"_\")\n",
    "    command='tshark -Y \\\"'+str(rule[i])+\"\\\" -r ./pcaps/\"+str(name[i])+\" -T fields -e frame.number > ./pcaps/attack_\"+str(name[i])[:-4]+\"csv\"\n",
    "    os.system(command)\n",
    "    command='tshark -Y \\\"!('+str(rule[i])+\")\\\" -r ./pcaps/\"+str(name[i])+\" -T fields -e frame.number > ./pcaps/normal_\"+str(name[i])[:-4]+\"csv\"\n",
    "    os.system(command)\n",
    "    files_add=find_the_way('./','.pcap')\n",
    "    if uzun==len(files_add):    \n",
    "        print(command,\"\\n\")\n",
    "    uzun=len(files_add) \n",
    " \n",
    "    "
   ]
  },
  {
   "cell_type": "markdown",
   "metadata": {},
   "source": [
    "# MERGE CSVS"
   ]
  },
  {
   "cell_type": "code",
   "execution_count": 13,
   "metadata": {},
   "outputs": [],
   "source": [
    "name_list=find_the_way('./pcaps','.csv')\n",
    "\n",
    "for i in name_list:\n",
    "    boyut=os.path.getsize(i)\n",
    "    if boyut==0:\n",
    "        os.remove(i)\n",
    "        \n",
    "    "
   ]
  },
  {
   "cell_type": "code",
   "execution_count": 14,
   "metadata": {},
   "outputs": [],
   "source": [
    "label_files=[]\n",
    "for i in name_list:\n",
    "    temp=i[15:]\n",
    "    if temp not in label_files:\n",
    "        label_files.append(temp)\n",
    "    "
   ]
  },
  {
   "cell_type": "code",
   "execution_count": 15,
   "metadata": {},
   "outputs": [
    {
     "name": "stdout",
     "output_type": "stream",
     "text": [
      "['./pcaps\\\\attack_ACK.csv', './pcaps\\\\normal_ACK.csv']\n",
      "ACK.csv Label\n",
      "0    1712900\n",
      "1    1724690\n",
      "dtype: int64 \n",
      "\n",
      "\n",
      "\n"
     ]
    }
   ],
   "source": [
    "for i in label_files:\n",
    "\n",
    "    name=find_the_way('./pcaps',i)\n",
    "    print(name)\n",
    "\n",
    "    dfA = pd.read_csv(name[0], header=None)\n",
    "    dfA=dfA.rename(columns={0: \"PacketNumber\"})\n",
    "    dfA[\"Label\"]=[1] * len(dfA)\n",
    "    \n",
    "    try:\n",
    "        dfN = pd.read_csv(name[1], header=None)\n",
    "        dfN=dfN.rename(columns={0: \"PacketNumber\"})    \n",
    "        dfN[\"Label\"]=[0] * len(dfN) \n",
    "        df = pd.concat([dfA,dfN])\n",
    "        df=df.sort_values('PacketNumber')\n",
    "        df.to_csv(f\"./pcaps/{i}\",  index=False)\n",
    "        print(i,df.groupby(\"Label\").size(),\"\\n\\n\\n\")\n",
    "        os.remove(f\"./pcaps\\\\normal_{i}\")\n",
    "        os.remove(f\"./pcaps\\\\attack_{i}\")\n",
    "    except:\n",
    "        dfA.to_csv(f\"./pcaps/{i}\",  index=False)\n",
    "        print(i,dfA.groupby(\"Label\").size(),\"\\n\\n\\n\")\n",
    "        \n",
    "\n",
    "        \n"
   ]
  },
  {
   "cell_type": "code",
   "execution_count": 16,
   "metadata": {},
   "outputs": [],
   "source": [
    "#!shutdown /s /t 36"
   ]
  },
  {
   "cell_type": "code",
   "execution_count": 17,
   "metadata": {},
   "outputs": [
    {
     "data": {
      "text/html": [
       "<div>\n",
       "<style scoped>\n",
       "    .dataframe tbody tr th:only-of-type {\n",
       "        vertical-align: middle;\n",
       "    }\n",
       "\n",
       "    .dataframe tbody tr th {\n",
       "        vertical-align: top;\n",
       "    }\n",
       "\n",
       "    .dataframe thead th {\n",
       "        text-align: right;\n",
       "    }\n",
       "</style>\n",
       "<table border=\"1\" class=\"dataframe\">\n",
       "  <thead>\n",
       "    <tr style=\"text-align: right;\">\n",
       "      <th></th>\n",
       "      <th>PacketNumber</th>\n",
       "      <th>Label</th>\n",
       "    </tr>\n",
       "  </thead>\n",
       "  <tbody>\n",
       "    <tr>\n",
       "      <th>0</th>\n",
       "      <td>1</td>\n",
       "      <td>1</td>\n",
       "    </tr>\n",
       "    <tr>\n",
       "      <th>1</th>\n",
       "      <td>2</td>\n",
       "      <td>1</td>\n",
       "    </tr>\n",
       "    <tr>\n",
       "      <th>2</th>\n",
       "      <td>3</td>\n",
       "      <td>1</td>\n",
       "    </tr>\n",
       "    <tr>\n",
       "      <th>3</th>\n",
       "      <td>4</td>\n",
       "      <td>1</td>\n",
       "    </tr>\n",
       "    <tr>\n",
       "      <th>4</th>\n",
       "      <td>5</td>\n",
       "      <td>1</td>\n",
       "    </tr>\n",
       "    <tr>\n",
       "      <th>...</th>\n",
       "      <td>...</td>\n",
       "      <td>...</td>\n",
       "    </tr>\n",
       "    <tr>\n",
       "      <th>1712898</th>\n",
       "      <td>3437586</td>\n",
       "      <td>0</td>\n",
       "    </tr>\n",
       "    <tr>\n",
       "      <th>1724687</th>\n",
       "      <td>3437587</td>\n",
       "      <td>1</td>\n",
       "    </tr>\n",
       "    <tr>\n",
       "      <th>1724688</th>\n",
       "      <td>3437588</td>\n",
       "      <td>1</td>\n",
       "    </tr>\n",
       "    <tr>\n",
       "      <th>1712899</th>\n",
       "      <td>3437589</td>\n",
       "      <td>0</td>\n",
       "    </tr>\n",
       "    <tr>\n",
       "      <th>1724689</th>\n",
       "      <td>3437590</td>\n",
       "      <td>1</td>\n",
       "    </tr>\n",
       "  </tbody>\n",
       "</table>\n",
       "<p>3437590 rows × 2 columns</p>\n",
       "</div>"
      ],
      "text/plain": [
       "         PacketNumber  Label\n",
       "0                   1      1\n",
       "1                   2      1\n",
       "2                   3      1\n",
       "3                   4      1\n",
       "4                   5      1\n",
       "...               ...    ...\n",
       "1712898       3437586      0\n",
       "1724687       3437587      1\n",
       "1724688       3437588      1\n",
       "1712899       3437589      0\n",
       "1724689       3437590      1\n",
       "\n",
       "[3437590 rows x 2 columns]"
      ]
     },
     "execution_count": 17,
     "metadata": {},
     "output_type": "execute_result"
    }
   ],
   "source": [
    "df"
   ]
  },
  {
   "cell_type": "code",
   "execution_count": null,
   "metadata": {},
   "outputs": [],
   "source": []
  },
  {
   "cell_type": "code",
   "execution_count": null,
   "metadata": {},
   "outputs": [],
   "source": []
  },
  {
   "cell_type": "code",
   "execution_count": null,
   "metadata": {},
   "outputs": [],
   "source": []
  }
 ],
 "metadata": {
  "kernelspec": {
   "display_name": "Python 3 (ipykernel)",
   "language": "python",
   "name": "python3"
  },
  "language_info": {
   "codemirror_mode": {
    "name": "ipython",
    "version": 3
   },
   "file_extension": ".py",
   "mimetype": "text/x-python",
   "name": "python",
   "nbconvert_exporter": "python",
   "pygments_lexer": "ipython3",
   "version": "3.10.8"
  }
 },
 "nbformat": 4,
 "nbformat_minor": 2
}
