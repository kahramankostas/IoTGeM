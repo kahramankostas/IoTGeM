{
 "cells": [
  {
   "cell_type": "markdown",
   "metadata": {},
   "source": [
    "####  It split all pcap files in the folder you specify in windows into smaller files containing packets in the size you assign.\n",
    "#### wireshark and python3 programs must be installed"
   ]
  },
  {
   "cell_type": "code",
   "execution_count": 1,
   "metadata": {},
   "outputs": [],
   "source": [
    "import os"
   ]
  },
  {
   "cell_type": "markdown",
   "metadata": {},
   "source": [
    "## finds pcap files under the specified folder and assigns them to an array (files_add)"
   ]
  },
  {
   "cell_type": "code",
   "execution_count": 2,
   "metadata": {},
   "outputs": [],
   "source": [
    "def find_the_way(path,file_format):\n",
    "    files_add = []\n",
    "    # r=root, d=directories, f = files\n",
    "    for r, d, f in os.walk(path):\n",
    "        for file in f:\n",
    "            if file_format in file:\n",
    "                files_add.append(os.path.join(r, file))  \n",
    "    return files_add"
   ]
  },
  {
   "cell_type": "markdown",
   "metadata": {},
   "source": [
    "## Specify the folder you want processed."
   ]
  },
  {
   "cell_type": "code",
   "execution_count": 3,
   "metadata": {},
   "outputs": [
    {
     "data": {
      "text/plain": [
       "['./DDoS_HTTP\\\\DDoS_HTTP\\\\IoT_Dataset_HTTP_DDoS__00001_20180604190104.pcap',\n",
       " './DDoS_HTTP\\\\DDoS_HTTP\\\\IoT_Dataset_HTTP_DDoS__00002_20180604190817.pcap',\n",
       " './DDoS_HTTP\\\\DDoS_HTTP\\\\IoT_Dataset_HTTP_DDoS__00003_20180604191542.pcap',\n",
       " './DDoS_HTTP\\\\DDoS_HTTP\\\\IoT_Dataset_HTTP_DDoS__00004_20180604192319.pcap',\n",
       " './DDoS_HTTP\\\\DDoS_HTTP\\\\IoT_Dataset_HTTP_DDoS__00005_20180604193113.pcap',\n",
       " './DDoS_HTTP\\\\DDoS_HTTP\\\\IoT_Dataset_HTTP_DDoS__00006_20180604193907.pcap',\n",
       " './DDoS_HTTP\\\\DDoS_HTTP\\\\IoT_Dataset_HTTP_DDoS__00007_20180604194700.pcap',\n",
       " './DDoS_TCP\\\\IoT_Dataset_TCP_DDoS__00001_20180604170103.pcap',\n",
       " './DDoS_TCP\\\\IoT_Dataset_TCP_DDoS__00002_20180604170225.pcap',\n",
       " './DDoS_TCP\\\\IoT_Dataset_TCP_DDoS__00021_20180604171128.pcap',\n",
       " './DDoS_TCP\\\\IoT_Dataset_TCP_DDoS__00022_20180604171151.pcap',\n",
       " './DDoS_TCP\\\\IoT_Dataset_TCP_DDoS__00071_20180604174001.pcap',\n",
       " './DDoS_TCP\\\\IoT_Dataset_TCP_DDoS__00072_20180604174023.pcap',\n",
       " './DDoS_UDP\\\\IoT_Dataset_UDP_DDoS__00001_20180604180103.pcap',\n",
       " './DDoS_UDP\\\\IoT_Dataset_UDP_DDoS__00002_20180604180217.pcap',\n",
       " './DDoS_UDP\\\\IoT_Dataset_UDP_DDoS__00042_20180604181710.pcap',\n",
       " './DDoS_UDP\\\\IoT_Dataset_UDP_DDoS__00043_20180604181759.pcap',\n",
       " './DDoS_UDP\\\\IoT_Dataset_UDP_DDoS__00069_20180604184255.pcap',\n",
       " './DDoS_UDP\\\\IoT_Dataset_UDP_DDoS__00070_20180604184340.pcap',\n",
       " './DoS_HTTP\\\\DoS_HTTP\\\\IoT_Dataset_HTTP_DoS__00001_20180604150105.pcap',\n",
       " './DoS_HTTP\\\\DoS_HTTP\\\\IoT_Dataset_HTTP_DoS__00002_20180604150813.pcap',\n",
       " './DoS_HTTP\\\\DoS_HTTP\\\\IoT_Dataset_HTTP_DoS__00003_20180604151522.pcap',\n",
       " './DoS_HTTP\\\\DoS_HTTP\\\\IoT_Dataset_HTTP_DoS__00004_20180604152246.pcap',\n",
       " './DoS_HTTP\\\\DoS_HTTP\\\\IoT_Dataset_HTTP_DoS__00005_20180604153038.pcap',\n",
       " './DoS_HTTP\\\\DoS_HTTP\\\\IoT_Dataset_HTTP_DoS__00006_20180604153831.pcap',\n",
       " './DoS_HTTP\\\\DoS_HTTP\\\\IoT_Dataset_HTTP_DoS__00007_20180604154625.pcap',\n",
       " './DoS_TCP\\\\IoT_Dataset_TCP_DoS__00001_20180604130103.pcap',\n",
       " './DoS_TCP\\\\IoT_Dataset_TCP_DoS__00002_20180604130235.pcap',\n",
       " './DoS_TCP\\\\IoT_Dataset_TCP_DoS__00030_20180604132942.pcap',\n",
       " './DoS_TCP\\\\IoT_Dataset_TCP_DoS__00031_20180604133037.pcap',\n",
       " './DoS_TCP\\\\IoT_Dataset_TCP_DoS__00044_20180604134256.pcap',\n",
       " './DoS_TCP\\\\IoT_Dataset_TCP_DoS__00045_20180604134349.pcap',\n",
       " './DoS_UDP\\\\IoT_Dataset_UDP_DoS__00001_20180604140103.pcap',\n",
       " './DoS_UDP\\\\IoT_Dataset_UDP_DoS__00002_20180604140231.pcap',\n",
       " './DoS_UDP\\\\IoT_Dataset_UDP_DoS__00044_20180604142505.pcap',\n",
       " './DoS_UDP\\\\IoT_Dataset_UDP_DoS__00045_20180604142542.pcap',\n",
       " './DoS_UDP\\\\IoT_Dataset_UDP_DoS__00075_20180604144249.pcap',\n",
       " './DoS_UDP\\\\IoT_Dataset_UDP_DoS__00076_20180604144324.pcap']"
      ]
     },
     "execution_count": 3,
     "metadata": {},
     "output_type": "execute_result"
    }
   ],
   "source": [
    "files_add=find_the_way('./','.pcap')\n",
    "files_add"
   ]
  },
  {
   "cell_type": "markdown",
   "metadata": {},
   "source": [
    "## List of pcap files to be processed"
   ]
  },
  {
   "cell_type": "code",
   "execution_count": 4,
   "metadata": {},
   "outputs": [
    {
     "name": "stdout",
     "output_type": "stream",
     "text": [
      "['./DDoS_HTTP\\\\DDoS_HTTP\\\\IoT_Dataset_HTTP_DDoS__00001_20180604190104.pcap', './DDoS_HTTP\\\\DDoS_HTTP\\\\IoT_Dataset_HTTP_DDoS__00002_20180604190817.pcap', './DDoS_HTTP\\\\DDoS_HTTP\\\\IoT_Dataset_HTTP_DDoS__00003_20180604191542.pcap', './DDoS_HTTP\\\\DDoS_HTTP\\\\IoT_Dataset_HTTP_DDoS__00004_20180604192319.pcap', './DDoS_HTTP\\\\DDoS_HTTP\\\\IoT_Dataset_HTTP_DDoS__00005_20180604193113.pcap', './DDoS_HTTP\\\\DDoS_HTTP\\\\IoT_Dataset_HTTP_DDoS__00006_20180604193907.pcap', './DDoS_HTTP\\\\DDoS_HTTP\\\\IoT_Dataset_HTTP_DDoS__00007_20180604194700.pcap', './DDoS_TCP\\\\IoT_Dataset_TCP_DDoS__00001_20180604170103.pcap', './DDoS_TCP\\\\IoT_Dataset_TCP_DDoS__00002_20180604170225.pcap', './DDoS_TCP\\\\IoT_Dataset_TCP_DDoS__00021_20180604171128.pcap', './DDoS_TCP\\\\IoT_Dataset_TCP_DDoS__00022_20180604171151.pcap', './DDoS_TCP\\\\IoT_Dataset_TCP_DDoS__00071_20180604174001.pcap', './DDoS_TCP\\\\IoT_Dataset_TCP_DDoS__00072_20180604174023.pcap', './DDoS_UDP\\\\IoT_Dataset_UDP_DDoS__00001_20180604180103.pcap', './DDoS_UDP\\\\IoT_Dataset_UDP_DDoS__00002_20180604180217.pcap', './DDoS_UDP\\\\IoT_Dataset_UDP_DDoS__00042_20180604181710.pcap', './DDoS_UDP\\\\IoT_Dataset_UDP_DDoS__00043_20180604181759.pcap', './DDoS_UDP\\\\IoT_Dataset_UDP_DDoS__00069_20180604184255.pcap', './DDoS_UDP\\\\IoT_Dataset_UDP_DDoS__00070_20180604184340.pcap', './DoS_HTTP\\\\DoS_HTTP\\\\IoT_Dataset_HTTP_DoS__00001_20180604150105.pcap', './DoS_HTTP\\\\DoS_HTTP\\\\IoT_Dataset_HTTP_DoS__00002_20180604150813.pcap', './DoS_HTTP\\\\DoS_HTTP\\\\IoT_Dataset_HTTP_DoS__00003_20180604151522.pcap', './DoS_HTTP\\\\DoS_HTTP\\\\IoT_Dataset_HTTP_DoS__00004_20180604152246.pcap', './DoS_HTTP\\\\DoS_HTTP\\\\IoT_Dataset_HTTP_DoS__00005_20180604153038.pcap', './DoS_HTTP\\\\DoS_HTTP\\\\IoT_Dataset_HTTP_DoS__00006_20180604153831.pcap', './DoS_HTTP\\\\DoS_HTTP\\\\IoT_Dataset_HTTP_DoS__00007_20180604154625.pcap', './DoS_TCP\\\\IoT_Dataset_TCP_DoS__00001_20180604130103.pcap', './DoS_TCP\\\\IoT_Dataset_TCP_DoS__00002_20180604130235.pcap', './DoS_TCP\\\\IoT_Dataset_TCP_DoS__00030_20180604132942.pcap', './DoS_TCP\\\\IoT_Dataset_TCP_DoS__00031_20180604133037.pcap', './DoS_TCP\\\\IoT_Dataset_TCP_DoS__00044_20180604134256.pcap', './DoS_TCP\\\\IoT_Dataset_TCP_DoS__00045_20180604134349.pcap', './DoS_UDP\\\\IoT_Dataset_UDP_DoS__00001_20180604140103.pcap', './DoS_UDP\\\\IoT_Dataset_UDP_DoS__00002_20180604140231.pcap', './DoS_UDP\\\\IoT_Dataset_UDP_DoS__00044_20180604142505.pcap', './DoS_UDP\\\\IoT_Dataset_UDP_DoS__00045_20180604142542.pcap', './DoS_UDP\\\\IoT_Dataset_UDP_DoS__00075_20180604144249.pcap', './DoS_UDP\\\\IoT_Dataset_UDP_DoS__00076_20180604144324.pcap'] \n",
      "\n",
      "\n",
      "\n",
      "The folder contains 38 pcap file in total\n"
     ]
    }
   ],
   "source": [
    "\n",
    "\n",
    "print(files_add,\"\\n\\n\\n\")\n",
    "print(\"The folder contains\", len(files_add), \"pcap file in total\" )"
   ]
  },
  {
   "cell_type": "markdown",
   "metadata": {},
   "source": [
    "## choice of output size  (How many packets will each file contain?)"
   ]
  },
  {
   "cell_type": "code",
   "execution_count": 5,
   "metadata": {},
   "outputs": [],
   "source": [
    "def folder(f_name): #this function creates a folder named \"attacks\" in the program directory.\n",
    "    try:\n",
    "        if not os.path.exists(f_name):\n",
    "            os.makedirs(f_name)\n",
    "    except OSError:\n",
    "        print (\"The folder could not be created!\")"
   ]
  },
  {
   "cell_type": "code",
   "execution_count": 6,
   "metadata": {},
   "outputs": [],
   "source": [
    "piece_size=50000"
   ]
  },
  {
   "cell_type": "markdown",
   "metadata": {},
   "source": [
    "## creates the command and applies it to every file"
   ]
  },
  {
   "cell_type": "code",
   "execution_count": 7,
   "metadata": {},
   "outputs": [
    {
     "name": "stdout",
     "output_type": "stream",
     "text": [
      "1 ./DDoS_HTTP\\DDoS_HTTP\\IoT_Dataset_HTTP_DDoS__00001_20180604190104.pcap Done!\n",
      "2 ./DDoS_HTTP\\DDoS_HTTP\\IoT_Dataset_HTTP_DDoS__00002_20180604190817.pcap Done!\n",
      "3 ./DDoS_HTTP\\DDoS_HTTP\\IoT_Dataset_HTTP_DDoS__00003_20180604191542.pcap Done!\n",
      "4 ./DDoS_HTTP\\DDoS_HTTP\\IoT_Dataset_HTTP_DDoS__00004_20180604192319.pcap Done!\n",
      "5 ./DDoS_HTTP\\DDoS_HTTP\\IoT_Dataset_HTTP_DDoS__00005_20180604193113.pcap Done!\n",
      "6 ./DDoS_HTTP\\DDoS_HTTP\\IoT_Dataset_HTTP_DDoS__00006_20180604193907.pcap Done!\n",
      "7 ./DDoS_HTTP\\DDoS_HTTP\\IoT_Dataset_HTTP_DDoS__00007_20180604194700.pcap Done!\n",
      "8 ./DDoS_TCP\\IoT_Dataset_TCP_DDoS__00001_20180604170103.pcap Done!\n",
      "9 ./DDoS_TCP\\IoT_Dataset_TCP_DDoS__00002_20180604170225.pcap Done!\n",
      "10 ./DDoS_TCP\\IoT_Dataset_TCP_DDoS__00021_20180604171128.pcap Done!\n",
      "11 ./DDoS_TCP\\IoT_Dataset_TCP_DDoS__00022_20180604171151.pcap Done!\n",
      "12 ./DDoS_TCP\\IoT_Dataset_TCP_DDoS__00071_20180604174001.pcap Done!\n",
      "13 ./DDoS_TCP\\IoT_Dataset_TCP_DDoS__00072_20180604174023.pcap Done!\n",
      "14 ./DDoS_UDP\\IoT_Dataset_UDP_DDoS__00001_20180604180103.pcap Done!\n",
      "15 ./DDoS_UDP\\IoT_Dataset_UDP_DDoS__00002_20180604180217.pcap Done!\n",
      "16 ./DDoS_UDP\\IoT_Dataset_UDP_DDoS__00042_20180604181710.pcap Done!\n",
      "17 ./DDoS_UDP\\IoT_Dataset_UDP_DDoS__00043_20180604181759.pcap Done!\n",
      "18 ./DDoS_UDP\\IoT_Dataset_UDP_DDoS__00069_20180604184255.pcap Done!\n",
      "19 ./DDoS_UDP\\IoT_Dataset_UDP_DDoS__00070_20180604184340.pcap Done!\n",
      "20 ./DoS_HTTP\\DoS_HTTP\\IoT_Dataset_HTTP_DoS__00001_20180604150105.pcap Done!\n",
      "21 ./DoS_HTTP\\DoS_HTTP\\IoT_Dataset_HTTP_DoS__00002_20180604150813.pcap Done!\n",
      "22 ./DoS_HTTP\\DoS_HTTP\\IoT_Dataset_HTTP_DoS__00003_20180604151522.pcap Done!\n",
      "23 ./DoS_HTTP\\DoS_HTTP\\IoT_Dataset_HTTP_DoS__00004_20180604152246.pcap Done!\n",
      "24 ./DoS_HTTP\\DoS_HTTP\\IoT_Dataset_HTTP_DoS__00005_20180604153038.pcap Done!\n",
      "25 ./DoS_HTTP\\DoS_HTTP\\IoT_Dataset_HTTP_DoS__00006_20180604153831.pcap Done!\n",
      "26 ./DoS_HTTP\\DoS_HTTP\\IoT_Dataset_HTTP_DoS__00007_20180604154625.pcap Done!\n",
      "27 ./DoS_TCP\\IoT_Dataset_TCP_DoS__00001_20180604130103.pcap Done!\n",
      "28 ./DoS_TCP\\IoT_Dataset_TCP_DoS__00002_20180604130235.pcap Done!\n",
      "29 ./DoS_TCP\\IoT_Dataset_TCP_DoS__00030_20180604132942.pcap Done!\n",
      "30 ./DoS_TCP\\IoT_Dataset_TCP_DoS__00031_20180604133037.pcap Done!\n",
      "31 ./DoS_TCP\\IoT_Dataset_TCP_DoS__00044_20180604134256.pcap Done!\n",
      "32 ./DoS_TCP\\IoT_Dataset_TCP_DoS__00045_20180604134349.pcap Done!\n",
      "33 ./DoS_UDP\\IoT_Dataset_UDP_DoS__00001_20180604140103.pcap Done!\n",
      "34 ./DoS_UDP\\IoT_Dataset_UDP_DoS__00002_20180604140231.pcap Done!\n",
      "35 ./DoS_UDP\\IoT_Dataset_UDP_DoS__00044_20180604142505.pcap Done!\n",
      "36 ./DoS_UDP\\IoT_Dataset_UDP_DoS__00045_20180604142542.pcap Done!\n",
      "37 ./DoS_UDP\\IoT_Dataset_UDP_DoS__00075_20180604144249.pcap Done!\n",
      "38 ./DoS_UDP\\IoT_Dataset_UDP_DoS__00076_20180604144324.pcap Done!\n"
     ]
    }
   ],
   "source": [
    "for ii,i in enumerate (files_add):\n",
    "    name=i.rfind('\\\\')\n",
    "    name=str(i[name+1:])\n",
    "    folder(name[:-4])\n",
    "    new_name=f\"./{name[:-4]}/{name}\"\n",
    "    command='\\\"C:/\\\"Program Files\\\"/Wireshark/editcap.exe\\\" -c '+str(piece_size )+\" \"+i+\" \"+new_name\n",
    "    os.system(command)\n",
    "    print(ii+1,i, \"Done!\")"
   ]
  },
  {
   "cell_type": "code",
   "execution_count": 20,
   "metadata": {},
   "outputs": [
    {
     "data": {
      "text/plain": [
       "'\"C:/\"Program Files\"/Wireshark/editcap.exe\" -c 50000 ./cic_benign_2021_11_03_Active.pcap ././cic_benign_2021_11_03_Active././cic_benign_2021_11_03_Active.pcap'"
      ]
     },
     "execution_count": 20,
     "metadata": {},
     "output_type": "execute_result"
    }
   ],
   "source": [
    "command"
   ]
  },
  {
   "cell_type": "code",
   "execution_count": null,
   "metadata": {},
   "outputs": [],
   "source": []
  }
 ],
 "metadata": {
  "kernelspec": {
   "display_name": "Python 3 (ipykernel)",
   "language": "python",
   "name": "python3"
  },
  "language_info": {
   "codemirror_mode": {
    "name": "ipython",
    "version": 3
   },
   "file_extension": ".py",
   "mimetype": "text/x-python",
   "name": "python",
   "nbconvert_exporter": "python",
   "pygments_lexer": "ipython3",
   "version": "3.9.12"
  }
 },
 "nbformat": 4,
 "nbformat_minor": 2
}
