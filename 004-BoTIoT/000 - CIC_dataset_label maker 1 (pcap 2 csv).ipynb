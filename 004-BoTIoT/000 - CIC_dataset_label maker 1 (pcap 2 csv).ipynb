{
 "cells": [
  {
   "cell_type": "code",
   "execution_count": 1,
   "metadata": {},
   "outputs": [],
   "source": [
    "import os\n",
    "import pandas as pd"
   ]
  },
  {
   "cell_type": "code",
   "execution_count": 2,
   "metadata": {},
   "outputs": [],
   "source": [
    "def folder(f_name): #this function creates a folder named \"attacks\" in the program directory.\n",
    "    try:\n",
    "        if not os.path.exists(f_name):\n",
    "            os.makedirs(f_name)\n",
    "    except OSError:\n",
    "        print (\"The folder could not be created!\")"
   ]
  },
  {
   "cell_type": "code",
   "execution_count": 3,
   "metadata": {},
   "outputs": [],
   "source": [
    "folder(\"pcaps\")"
   ]
  },
  {
   "cell_type": "code",
   "execution_count": 4,
   "metadata": {},
   "outputs": [],
   "source": [
    "def find_the_way(path,file_format,con=\"\"):\n",
    "    files_add = []\n",
    "    # r=root, d=directories, f = files\n",
    "    for r, d, f in os.walk(path):\n",
    "        for file in f:\n",
    "            if file_format in file:\n",
    "                if con in file:\n",
    "                    files_add.append(os.path.join(r, file))  \n",
    "            \n",
    "    return files_add"
   ]
  },
  {
   "cell_type": "code",
   "execution_count": 5,
   "metadata": {},
   "outputs": [
    {
     "data": {
      "text/plain": [
       "['./pcaps\\\\HTTP_DDoS_00001.pcap',\n",
       " './pcaps\\\\HTTP_DoS_00001.pcap',\n",
       " './pcaps\\\\TCP_DDoS_00001.pcap',\n",
       " './pcaps\\\\TCP_DoS_00001.pcap',\n",
       " './pcaps\\\\UDP_DDoS_00001.pcap',\n",
       " './pcaps\\\\UDP_DoS_00001.pcap']"
      ]
     },
     "execution_count": 5,
     "metadata": {},
     "output_type": "execute_result"
    }
   ],
   "source": [
    "files_add=find_the_way('./','.pcap')\n",
    "files_add"
   ]
  },
  {
   "cell_type": "code",
   "execution_count": 7,
   "metadata": {},
   "outputs": [
    {
     "name": "stdout",
     "output_type": "stream",
     "text": [
      "./pcaps/HTTP_DDoS_00001.pcap\n",
      "./pcaps/HTTP_DoS_00001.pcap\n",
      "./pcaps/TCP_DDoS_00001.pcap\n",
      "./pcaps/TCP_DoS_00001.pcap\n",
      "./pcaps/UDP_DDoS_00001.pcap\n",
      "./pcaps/UDP_DoS_00001.pcap\n"
     ]
    }
   ],
   "source": [
    "for i in files_add:\n",
    "    temp=i[8:]\n",
    "    temp=temp.replace(\" \",\"_\")\n",
    "    temp=temp.replace(\"\\\\\",\"-\")\n",
    "    temp=f\"./pcaps/{temp}\"\n",
    "    #os.rename(i,temp)\n",
    "    print(temp)"
   ]
  },
  {
   "cell_type": "code",
   "execution_count": 8,
   "metadata": {},
   "outputs": [
    {
     "data": {
      "text/plain": [
       "6"
      ]
     },
     "execution_count": 8,
     "metadata": {},
     "output_type": "execute_result"
    }
   ],
   "source": [
    "files_add=find_the_way('./','.pcap')\n",
    "uzun=len(files_add)\n",
    "uzun"
   ]
  },
  {
   "cell_type": "code",
   "execution_count": 9,
   "metadata": {},
   "outputs": [
    {
     "data": {
      "text/html": [
       "<div>\n",
       "<style scoped>\n",
       "    .dataframe tbody tr th:only-of-type {\n",
       "        vertical-align: middle;\n",
       "    }\n",
       "\n",
       "    .dataframe tbody tr th {\n",
       "        vertical-align: top;\n",
       "    }\n",
       "\n",
       "    .dataframe thead th {\n",
       "        text-align: right;\n",
       "    }\n",
       "</style>\n",
       "<table border=\"1\" class=\"dataframe\">\n",
       "  <thead>\n",
       "    <tr style=\"text-align: right;\">\n",
       "      <th></th>\n",
       "      <th>No</th>\n",
       "      <th>File Name</th>\n",
       "      <th>Category</th>\n",
       "      <th>Sub-category</th>\n",
       "      <th>Rule</th>\n",
       "    </tr>\n",
       "  </thead>\n",
       "  <tbody>\n",
       "    <tr>\n",
       "      <th>0</th>\n",
       "      <td>2</td>\n",
       "      <td>HTTP_DDoS_00001.pcap</td>\n",
       "      <td>DDoS</td>\n",
       "      <td>HTTP FlooD</td>\n",
       "      <td>(ip.src==192.168.100.147 || ip.src==192.168.10...</td>\n",
       "    </tr>\n",
       "    <tr>\n",
       "      <th>1</th>\n",
       "      <td>3</td>\n",
       "      <td>HTTP_DoS_00001.pcap</td>\n",
       "      <td>DoS</td>\n",
       "      <td>HTTP FlooD</td>\n",
       "      <td>(ip.src==192.168.100.147 || ip.src==192.168.10...</td>\n",
       "    </tr>\n",
       "    <tr>\n",
       "      <th>2</th>\n",
       "      <td>4</td>\n",
       "      <td>TCP_DDoS_00001.pcap</td>\n",
       "      <td>DDoS</td>\n",
       "      <td>SYN FLOOD</td>\n",
       "      <td>(ip.src==192.168.100.147 || ip.src==192.168.10...</td>\n",
       "    </tr>\n",
       "    <tr>\n",
       "      <th>3</th>\n",
       "      <td>5</td>\n",
       "      <td>TCP_DoS_00001.pcap</td>\n",
       "      <td>DoS</td>\n",
       "      <td>SYN FLOOD</td>\n",
       "      <td>(ip.src==192.168.100.147 || ip.src==192.168.10...</td>\n",
       "    </tr>\n",
       "    <tr>\n",
       "      <th>4</th>\n",
       "      <td>6</td>\n",
       "      <td>UDP_DDoS_00001.pcap</td>\n",
       "      <td>DDoS</td>\n",
       "      <td>UDP FLOOD</td>\n",
       "      <td>(ip.src==192.168.100.147 || ip.src==192.168.10...</td>\n",
       "    </tr>\n",
       "    <tr>\n",
       "      <th>5</th>\n",
       "      <td>7</td>\n",
       "      <td>UDP_DoS_00001.pcap</td>\n",
       "      <td>DoS</td>\n",
       "      <td>UDP FLOOD</td>\n",
       "      <td>(ip.src==192.168.100.147 || ip.src==192.168.10...</td>\n",
       "    </tr>\n",
       "  </tbody>\n",
       "</table>\n",
       "</div>"
      ],
      "text/plain": [
       "   No             File Name Category Sub-category  \\\n",
       "0   2  HTTP_DDoS_00001.pcap     DDoS   HTTP FlooD   \n",
       "1   3   HTTP_DoS_00001.pcap      DoS   HTTP FlooD   \n",
       "2   4   TCP_DDoS_00001.pcap     DDoS    SYN FLOOD   \n",
       "3   5    TCP_DoS_00001.pcap      DoS    SYN FLOOD   \n",
       "4   6   UDP_DDoS_00001.pcap     DDoS    UDP FLOOD   \n",
       "5   7    UDP_DoS_00001.pcap      DoS    UDP FLOOD   \n",
       "\n",
       "                                                Rule  \n",
       "0  (ip.src==192.168.100.147 || ip.src==192.168.10...  \n",
       "1  (ip.src==192.168.100.147 || ip.src==192.168.10...  \n",
       "2  (ip.src==192.168.100.147 || ip.src==192.168.10...  \n",
       "3  (ip.src==192.168.100.147 || ip.src==192.168.10...  \n",
       "4  (ip.src==192.168.100.147 || ip.src==192.168.10...  \n",
       "5  (ip.src==192.168.100.147 || ip.src==192.168.10...  "
      ]
     },
     "execution_count": 9,
     "metadata": {},
     "output_type": "execute_result"
    }
   ],
   "source": [
    "df = pd.read_csv( \"dataset_description.csv\")\n",
    "df"
   ]
  },
  {
   "cell_type": "code",
   "execution_count": 10,
   "metadata": {},
   "outputs": [
    {
     "data": {
      "text/plain": [
       "Index(['No', 'File Name', 'Category', 'Sub-category', 'Rule'], dtype='object')"
      ]
     },
     "execution_count": 10,
     "metadata": {},
     "output_type": "execute_result"
    }
   ],
   "source": [
    "df.columns"
   ]
  },
  {
   "cell_type": "code",
   "execution_count": 11,
   "metadata": {},
   "outputs": [],
   "source": [
    "name=df['File Name']\n",
    "rule=df['Rule']\n",
    "cat=df['Category']\n",
    "subcat=df['Sub-category']"
   ]
  },
  {
   "cell_type": "code",
   "execution_count": 12,
   "metadata": {},
   "outputs": [
    {
     "data": {
      "text/plain": [
       "0    HTTP_DDoS_00001.pcap\n",
       "1     HTTP_DoS_00001.pcap\n",
       "2     TCP_DDoS_00001.pcap\n",
       "3      TCP_DoS_00001.pcap\n",
       "4     UDP_DDoS_00001.pcap\n",
       "5      UDP_DoS_00001.pcap\n",
       "Name: File Name, dtype: object"
      ]
     },
     "execution_count": 12,
     "metadata": {},
     "output_type": "execute_result"
    }
   ],
   "source": [
    "name"
   ]
  },
  {
   "cell_type": "code",
   "execution_count": 13,
   "metadata": {
    "scrolled": false
   },
   "outputs": [
    {
     "name": "stdout",
     "output_type": "stream",
     "text": [
      "tshark -Y \"!((ip.src==192.168.100.147 || ip.src==192.168.100.148  || ip.src==192.168.100.149  || ip.src==192.168.100.150))\" -r ./pcaps/HTTP_DDoS_00001.pcap -T fields -e frame.number > ./pcaps/normal_HTTP_DDoS_00001.csv \n",
      "\n",
      "tshark -Y \"!((ip.src==192.168.100.147 || ip.src==192.168.100.148  || ip.src==192.168.100.149  || ip.src==192.168.100.150))\" -r ./pcaps/HTTP_DoS_00001.pcap -T fields -e frame.number > ./pcaps/normal_HTTP_DoS_00001.csv \n",
      "\n",
      "tshark -Y \"!((ip.src==192.168.100.147 || ip.src==192.168.100.148  || ip.src==192.168.100.149  || ip.src==192.168.100.150) && tcp.flags.syn == 1)\" -r ./pcaps/TCP_DDoS_00001.pcap -T fields -e frame.number > ./pcaps/normal_TCP_DDoS_00001.csv \n",
      "\n",
      "tshark -Y \"!((ip.src==192.168.100.147 || ip.src==192.168.100.148  || ip.src==192.168.100.149  || ip.src==192.168.100.150) && tcp.flags.syn == 1)\" -r ./pcaps/TCP_DoS_00001.pcap -T fields -e frame.number > ./pcaps/normal_TCP_DoS_00001.csv \n",
      "\n",
      "tshark -Y \"!((ip.src==192.168.100.147 || ip.src==192.168.100.148  || ip.src==192.168.100.149  || ip.src==192.168.100.150) && (ip.proto == 17))\" -r ./pcaps/UDP_DDoS_00001.pcap -T fields -e frame.number > ./pcaps/normal_UDP_DDoS_00001.csv \n",
      "\n",
      "tshark -Y \"!((ip.src==192.168.100.147 || ip.src==192.168.100.148  || ip.src==192.168.100.149  || ip.src==192.168.100.150) && (ip.proto == 17))\" -r ./pcaps/UDP_DoS_00001.pcap -T fields -e frame.number > ./pcaps/normal_UDP_DoS_00001.csv \n",
      "\n"
     ]
    }
   ],
   "source": [
    "for i in range(len(name)):\n",
    "    add=str(cat[i])+\"@\"+str(subcat[i])+\"_\"\n",
    "    add=add.replace(\" \",\"_\")\n",
    "    command='tshark -Y \\\"'+str(rule[i])+\"\\\" -r ./pcaps/\"+str(name[i])+\" -T fields -e frame.number > ./pcaps/attack_\"+str(name[i])[:-4]+\"csv\"\n",
    "    os.system(command)\n",
    "    command='tshark -Y \\\"!('+str(rule[i])+\")\\\" -r ./pcaps/\"+str(name[i])+\" -T fields -e frame.number > ./pcaps/normal_\"+str(name[i])[:-4]+\"csv\"\n",
    "    os.system(command)\n",
    "    files_add=find_the_way('./','.pcap')\n",
    "    if uzun==len(files_add):    \n",
    "        print(command,\"\\n\")\n",
    "    uzun=len(files_add) \n",
    " \n",
    "    "
   ]
  },
  {
   "cell_type": "markdown",
   "metadata": {},
   "source": [
    "# MERGE CSVS"
   ]
  },
  {
   "cell_type": "code",
   "execution_count": 14,
   "metadata": {},
   "outputs": [],
   "source": [
    "name_list=find_the_way('./pcaps','.csv')\n",
    "\n",
    "for i in name_list:\n",
    "    boyut=os.path.getsize(i)\n",
    "    if boyut==0:\n",
    "        os.remove(i)\n",
    "        \n",
    "    "
   ]
  },
  {
   "cell_type": "code",
   "execution_count": 15,
   "metadata": {},
   "outputs": [],
   "source": [
    "label_files=[]\n",
    "for i in name_list:\n",
    "    temp=i[15:]\n",
    "    if temp not in label_files:\n",
    "        label_files.append(temp)\n",
    "    "
   ]
  },
  {
   "cell_type": "code",
   "execution_count": 16,
   "metadata": {},
   "outputs": [
    {
     "name": "stdout",
     "output_type": "stream",
     "text": [
      "['./pcaps\\\\attack_HTTP_DDoS_00001.csv', './pcaps\\\\normal_HTTP_DDoS_00001.csv']\n",
      "HTTP_DDoS_00001.csv Label\n",
      "0    298085\n",
      "1     59876\n",
      "dtype: int64 \n",
      "\n",
      "\n",
      "\n",
      "['./pcaps\\\\attack_HTTP_DoS_00001.csv', './pcaps\\\\normal_HTTP_DoS_00001.csv']\n",
      "HTTP_DoS_00001.csv Label\n",
      "0    298598\n",
      "1     66043\n",
      "dtype: int64 \n",
      "\n",
      "\n",
      "\n",
      "['./pcaps\\\\attack_TCP_DDoS_00001.csv', './pcaps\\\\normal_TCP_DDoS_00001.csv']\n",
      "TCP_DDoS_00001.csv Label\n",
      "0    441686\n",
      "1    950141\n",
      "dtype: int64 \n",
      "\n",
      "\n",
      "\n",
      "['./pcaps\\\\attack_TCP_DoS_00001.csv', './pcaps\\\\normal_TCP_DoS_00001.csv']\n",
      "TCP_DoS_00001.csv Label\n",
      "0    338647\n",
      "1    932345\n",
      "dtype: int64 \n",
      "\n",
      "\n",
      "\n",
      "['./pcaps\\\\attack_UDP_DDoS_00001.csv', './pcaps\\\\normal_UDP_DDoS_00001.csv']\n",
      "UDP_DDoS_00001.csv Label\n",
      "0      44054\n",
      "1    2295140\n",
      "dtype: int64 \n",
      "\n",
      "\n",
      "\n",
      "['./pcaps\\\\attack_UDP_DoS_00001.csv', './pcaps\\\\normal_UDP_DoS_00001.csv']\n",
      "UDP_DoS_00001.csv Label\n",
      "0      52901\n",
      "1    2209912\n",
      "dtype: int64 \n",
      "\n",
      "\n",
      "\n"
     ]
    }
   ],
   "source": [
    "for i in label_files:\n",
    "\n",
    "    name=find_the_way('./pcaps',i)\n",
    "    print(name)\n",
    "\n",
    "    dfA = pd.read_csv(name[0], header=None)\n",
    "    dfA=dfA.rename(columns={0: \"PacketNumber\"})\n",
    "    dfA[\"Label\"]=[1] * len(dfA)\n",
    "    \n",
    "    try:\n",
    "        dfN = pd.read_csv(name[1], header=None)\n",
    "        dfN=dfN.rename(columns={0: \"PacketNumber\"})    \n",
    "        dfN[\"Label\"]=[0] * len(dfN) \n",
    "        df = pd.concat([dfA,dfN])\n",
    "        df=df.sort_values('PacketNumber')\n",
    "        df.to_csv(f\"./pcaps/{i}\",  index=False)\n",
    "        print(i,df.groupby(\"Label\").size(),\"\\n\\n\\n\")\n",
    "        os.remove(f\"./pcaps\\\\normal_{i}\")\n",
    "        os.remove(f\"./pcaps\\\\attack_{i}\")\n",
    "    except:\n",
    "        dfA.to_csv(f\"./pcaps/{i}\",  index=False)\n",
    "        print(i,dfA.groupby(\"Label\").size(),\"\\n\\n\\n\")\n",
    "        \n",
    "\n",
    "        \n"
   ]
  },
  {
   "cell_type": "code",
   "execution_count": 105,
   "metadata": {},
   "outputs": [],
   "source": [
    "#!shutdown /s /t 36"
   ]
  },
  {
   "cell_type": "code",
   "execution_count": 106,
   "metadata": {},
   "outputs": [
    {
     "data": {
      "text/html": [
       "<div>\n",
       "<style scoped>\n",
       "    .dataframe tbody tr th:only-of-type {\n",
       "        vertical-align: middle;\n",
       "    }\n",
       "\n",
       "    .dataframe tbody tr th {\n",
       "        vertical-align: top;\n",
       "    }\n",
       "\n",
       "    .dataframe thead th {\n",
       "        text-align: right;\n",
       "    }\n",
       "</style>\n",
       "<table border=\"1\" class=\"dataframe\">\n",
       "  <thead>\n",
       "    <tr style=\"text-align: right;\">\n",
       "      <th></th>\n",
       "      <th>PacketNumber</th>\n",
       "      <th>Label</th>\n",
       "    </tr>\n",
       "  </thead>\n",
       "  <tbody>\n",
       "    <tr>\n",
       "      <th>0</th>\n",
       "      <td>1</td>\n",
       "      <td>1</td>\n",
       "    </tr>\n",
       "    <tr>\n",
       "      <th>0</th>\n",
       "      <td>2</td>\n",
       "      <td>0</td>\n",
       "    </tr>\n",
       "    <tr>\n",
       "      <th>1</th>\n",
       "      <td>3</td>\n",
       "      <td>0</td>\n",
       "    </tr>\n",
       "    <tr>\n",
       "      <th>1</th>\n",
       "      <td>4</td>\n",
       "      <td>1</td>\n",
       "    </tr>\n",
       "    <tr>\n",
       "      <th>2</th>\n",
       "      <td>5</td>\n",
       "      <td>0</td>\n",
       "    </tr>\n",
       "    <tr>\n",
       "      <th>...</th>\n",
       "      <td>...</td>\n",
       "      <td>...</td>\n",
       "    </tr>\n",
       "    <tr>\n",
       "      <th>1657</th>\n",
       "      <td>4971</td>\n",
       "      <td>1</td>\n",
       "    </tr>\n",
       "    <tr>\n",
       "      <th>3313</th>\n",
       "      <td>4972</td>\n",
       "      <td>0</td>\n",
       "    </tr>\n",
       "    <tr>\n",
       "      <th>3314</th>\n",
       "      <td>4973</td>\n",
       "      <td>0</td>\n",
       "    </tr>\n",
       "    <tr>\n",
       "      <th>3315</th>\n",
       "      <td>4974</td>\n",
       "      <td>0</td>\n",
       "    </tr>\n",
       "    <tr>\n",
       "      <th>3316</th>\n",
       "      <td>4975</td>\n",
       "      <td>0</td>\n",
       "    </tr>\n",
       "  </tbody>\n",
       "</table>\n",
       "<p>4975 rows × 2 columns</p>\n",
       "</div>"
      ],
      "text/plain": [
       "      PacketNumber  Label\n",
       "0                1      1\n",
       "0                2      0\n",
       "1                3      0\n",
       "1                4      1\n",
       "2                5      0\n",
       "...            ...    ...\n",
       "1657          4971      1\n",
       "3313          4972      0\n",
       "3314          4973      0\n",
       "3315          4974      0\n",
       "3316          4975      0\n",
       "\n",
       "[4975 rows x 2 columns]"
      ]
     },
     "execution_count": 106,
     "metadata": {},
     "output_type": "execute_result"
    }
   ],
   "source": [
    "df"
   ]
  },
  {
   "cell_type": "code",
   "execution_count": null,
   "metadata": {},
   "outputs": [],
   "source": []
  },
  {
   "cell_type": "code",
   "execution_count": null,
   "metadata": {},
   "outputs": [],
   "source": []
  }
 ],
 "metadata": {
  "kernelspec": {
   "display_name": "Python 3 (ipykernel)",
   "language": "python",
   "name": "python3"
  },
  "language_info": {
   "codemirror_mode": {
    "name": "ipython",
    "version": 3
   },
   "file_extension": ".py",
   "mimetype": "text/x-python",
   "name": "python",
   "nbconvert_exporter": "python",
   "pygments_lexer": "ipython3",
   "version": "3.10.8"
  }
 },
 "nbformat": 4,
 "nbformat_minor": 2
}
