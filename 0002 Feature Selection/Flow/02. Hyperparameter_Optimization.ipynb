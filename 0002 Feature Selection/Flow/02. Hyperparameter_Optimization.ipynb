{
 "cells": [
  {
   "cell_type": "code",
   "execution_count": 1,
   "metadata": {},
   "outputs": [],
   "source": [
    "%matplotlib inline\n",
    "from scipy.stats import randint as sp_randint\n",
    "from scipy.stats import uniform\n",
    "from scipy.stats import uniform as sp_randFloat\n",
    "from sklearn import svm\n",
    "from tqdm import tqdm\n",
    "from sklearn.ensemble import GradientBoostingClassifier\n",
    "from sklearn.naive_bayes import CategoricalNB\n",
    "from sklearn.model_selection import GridSearchCV\n",
    "from sklearn.ensemble import RandomForestClassifier\n",
    "from sklearn.model_selection import GridSearchCV\n",
    "from sklearn.model_selection import RandomizedSearchCV\n",
    "from sklearn.model_selection import train_test_split\n",
    "from sklearn.neighbors import KNeighborsClassifier\n",
    "from sklearn.tree import DecisionTreeClassifier\n",
    "from time import time\n",
    "from tabulate import tabulate\n",
    "import numpy as np\n",
    "import pandas as pd\n",
    "import sklearn\n",
    "import warnings\n",
    "warnings.filterwarnings('ignore')\n",
    "import os"
   ]
  },
  {
   "cell_type": "code",
   "execution_count": 2,
   "metadata": {},
   "outputs": [],
   "source": [
    "from scipy.stats import randint as sp_randInt\n",
    "\n",
    "from sklearn.model_selection import GridSearchCV, PredefinedSplit\n",
    "from sklearn.metrics import make_scorer\n",
    "from scipy import sparse"
   ]
  },
  {
   "cell_type": "code",
   "execution_count": 3,
   "metadata": {},
   "outputs": [],
   "source": [
    "import json\n",
    "with open('GA_output_ET.json', 'r') as fp:\n",
    "    feature_list = json.load(fp)"
   ]
  },
  {
   "cell_type": "code",
   "execution_count": 4,
   "metadata": {},
   "outputs": [
    {
     "data": {
      "text/plain": [
       "{'SYN': ['Src Port',\n",
       "  'Protocol',\n",
       "  'Flow Duration',\n",
       "  'Fwd Pkt Len Max',\n",
       "  'Fwd Pkt Len Min',\n",
       "  'Fwd Pkt Len Mean',\n",
       "  'Fwd Pkt Len Std',\n",
       "  'Bwd Pkt Len Max',\n",
       "  'Bwd Pkt Len Min',\n",
       "  'Bwd Pkt Len Std',\n",
       "  'Flow IAT Min',\n",
       "  'Fwd IAT Tot',\n",
       "  'Fwd IAT Std',\n",
       "  'Bwd IAT Tot',\n",
       "  'Bwd IAT Mean',\n",
       "  'Bwd IAT Max',\n",
       "  'Bwd IAT Min',\n",
       "  'Fwd Header Len',\n",
       "  'Fwd Pkts/s',\n",
       "  'Pkt Len Min',\n",
       "  'Pkt Len Mean',\n",
       "  'Pkt Len Std',\n",
       "  'Pkt Len Var',\n",
       "  'SYN Flag Cnt',\n",
       "  'PSH Flag Cnt',\n",
       "  'ACK Flag Cnt',\n",
       "  'Pkt Size Avg',\n",
       "  'Fwd Seg Size Avg',\n",
       "  'Bwd Seg Size Avg',\n",
       "  'Subflow Fwd Pkts',\n",
       "  'Subflow Fwd Byts',\n",
       "  'Subflow Bwd Pkts',\n",
       "  'Subflow Bwd Byts',\n",
       "  'Active Mean',\n",
       "  'Active Std',\n",
       "  'Active Max',\n",
       "  'Idle Std',\n",
       "  'Idle Max',\n",
       "  'Label'],\n",
       " 'HTTP': ['Dst Port',\n",
       "  'Flow Duration',\n",
       "  'Flow IAT Max',\n",
       "  'Fwd IAT Tot',\n",
       "  'FIN Flag Cnt',\n",
       "  'SYN Flag Cnt',\n",
       "  'Label'],\n",
       " 'ACK': ['TotLen Fwd Pkts',\n",
       "  'TotLen Bwd Pkts',\n",
       "  'Fwd Pkt Len Mean',\n",
       "  'Fwd Pkt Len Std',\n",
       "  'Bwd Pkt Len Max',\n",
       "  'Flow Byts/s',\n",
       "  'Bwd IAT Std',\n",
       "  'Pkt Len Max',\n",
       "  'SYN Flag Cnt',\n",
       "  'ACK Flag Cnt',\n",
       "  'Fwd Seg Size Avg',\n",
       "  'Bwd Seg Size Avg',\n",
       "  'Subflow Fwd Byts',\n",
       "  'Subflow Bwd Byts',\n",
       "  'Fwd Act Data Pkts',\n",
       "  'Label'],\n",
       " 'UDP': ['Src Port',\n",
       "  'TotLen Bwd Pkts',\n",
       "  'Fwd Pkt Len Max',\n",
       "  'Fwd Pkt Len Min',\n",
       "  'Bwd Pkt Len Max',\n",
       "  'Flow IAT Max',\n",
       "  'Flow IAT Min',\n",
       "  'Fwd IAT Std',\n",
       "  'Fwd IAT Max',\n",
       "  'Fwd IAT Min',\n",
       "  'Pkt Len Max',\n",
       "  'Pkt Size Avg',\n",
       "  'Subflow Bwd Byts',\n",
       "  'Label'],\n",
       " 'ARP': ['Src Port',\n",
       "  'Protocol',\n",
       "  'Flow Duration',\n",
       "  'Tot Fwd Pkts',\n",
       "  'Tot Bwd Pkts',\n",
       "  'Bwd Pkt Len Max',\n",
       "  'Bwd Pkt Len Min',\n",
       "  'Bwd Pkt Len Mean',\n",
       "  'Flow IAT Mean',\n",
       "  'Flow IAT Max',\n",
       "  'Flow IAT Min',\n",
       "  'Fwd IAT Tot',\n",
       "  'Fwd IAT Mean',\n",
       "  'Fwd IAT Std',\n",
       "  'Fwd IAT Max',\n",
       "  'Bwd IAT Tot',\n",
       "  'Bwd IAT Mean',\n",
       "  'Bwd IAT Max',\n",
       "  'Bwd IAT Min',\n",
       "  'Bwd PSH Flags',\n",
       "  'Fwd Header Len',\n",
       "  'Bwd Header Len',\n",
       "  'Fwd Pkts/s',\n",
       "  'Bwd Pkts/s',\n",
       "  'Pkt Len Mean',\n",
       "  'Pkt Len Std',\n",
       "  'PSH Flag Cnt',\n",
       "  'ACK Flag Cnt',\n",
       "  'Pkt Size Avg',\n",
       "  'Fwd Seg Size Avg',\n",
       "  'Subflow Fwd Pkts',\n",
       "  'Subflow Fwd Byts',\n",
       "  'Subflow Bwd Byts',\n",
       "  'Fwd Act Data Pkts',\n",
       "  'Active Mean',\n",
       "  'Active Std',\n",
       "  'Active Min',\n",
       "  'Idle Mean',\n",
       "  'Idle Min',\n",
       "  'Label'],\n",
       " 'SP': ['Tot Fwd Pkts',\n",
       "  'TotLen Fwd Pkts',\n",
       "  'Fwd Pkt Len Max',\n",
       "  'Fwd Pkt Len Min',\n",
       "  'Fwd Pkt Len Std',\n",
       "  'Bwd Pkt Len Min',\n",
       "  'Bwd Pkt Len Mean',\n",
       "  'Flow Byts/s',\n",
       "  'Flow IAT Std',\n",
       "  'Fwd IAT Mean',\n",
       "  'Fwd IAT Std',\n",
       "  'Fwd IAT Max',\n",
       "  'Fwd IAT Min',\n",
       "  'Fwd Header Len',\n",
       "  'Fwd Pkts/s',\n",
       "  'Pkt Len Var',\n",
       "  'SYN Flag Cnt',\n",
       "  'Fwd Seg Size Avg',\n",
       "  'Subflow Bwd Pkts',\n",
       "  'Init Bwd Win Byts',\n",
       "  'Active Mean',\n",
       "  'Active Std',\n",
       "  'Active Max',\n",
       "  'Active Min',\n",
       "  'Idle Std',\n",
       "  'Idle Max',\n",
       "  'Idle Min',\n",
       "  'Label'],\n",
       " 'BF': ['Tot Bwd Pkts',\n",
       "  'TotLen Fwd Pkts',\n",
       "  'Flow IAT Max',\n",
       "  'Fwd IAT Tot',\n",
       "  'Fwd IAT Std',\n",
       "  'Fwd IAT Max',\n",
       "  'Bwd IAT Min',\n",
       "  'Fwd Pkts/s',\n",
       "  'Bwd Pkts/s',\n",
       "  'Subflow Fwd Byts',\n",
       "  'Subflow Bwd Pkts',\n",
       "  'Label']}"
      ]
     },
     "execution_count": 4,
     "metadata": {},
     "output_type": "execute_result"
    }
   ],
   "source": [
    "feature_list"
   ]
  },
  {
   "cell_type": "code",
   "execution_count": 10,
   "metadata": {},
   "outputs": [],
   "source": [
    "file_list={'SYN': ['./csvs/dos-synflooding-1-dec.pcap_Flow.csv',\n",
    "  './INPUT/VAL/VAL-SYN.csv'],\n",
    " 'HTTP': ['./csvs/mirai-httpflooding-4-dec.pcap_Flow.csv',\n",
    "  './INPUT/VAL/VAL-HTTP.csv'],\n",
    " 'ACK': ['./csvs/mirai-ackflooding-4-dec.pcap_Flow.csv',\n",
    "  './INPUT/VAL/VAL-ACK.csv'],\n",
    " 'UDP': ['./csvs/mirai-udpflooding-4-dec.pcap_Flow.csv',\n",
    "  './INPUT/VAL/VAL-UDP.csv'],\n",
    " 'ARP': ['./csvs/mitm-arpspoofing-6-dec.pcap_Flow.csv',\n",
    "  './INPUT/VAL/VAL-ARP.csv'],\n",
    " 'SP': ['./csvs/scan-hostport-3-dec.pcap_Flow.csv', './INPUT/VAL/VAL-SP.csv'],\n",
    " 'BF': ['./csvs/mirai-hostbruteforce-5-dec.pcap_Flow.csv',\n",
    "  './INPUT/VAL/VAL-BF.csv']}"
   ]
  },
  {
   "cell_type": "code",
   "execution_count": 6,
   "metadata": {},
   "outputs": [],
   "source": [
    "def run_random_search(model, params, x_train, y_train):\n",
    "    #grid = GridSearchCV(model, params, cv = ps, n_jobs = -1, scoring = score, verbose = 0, refit = False)\n",
    "    grid =RandomizedSearchCV(model, param_grid, cv=ps,scoring = 'f1_macro')\n",
    "    grid.fit(x_train, y_train)\n",
    "    return (grid.best_params_, round(grid.best_score_,8),grid.best_estimator_)"
   ]
  },
  {
   "cell_type": "code",
   "execution_count": 7,
   "metadata": {},
   "outputs": [],
   "source": [
    "def find_the_way(path,file_format,con=\"\"):\n",
    "    files_add = []\n",
    "    # r=root, d=directories, f = files\n",
    "    for r, d, f in os.walk(path):\n",
    "        for file in f:\n",
    "            if file_format in file:\n",
    "                if con in file:\n",
    "                    files_add.append(os.path.join(r, file))  \n",
    "            \n",
    "    return files_add"
   ]
  },
  {
   "cell_type": "code",
   "execution_count": null,
   "metadata": {},
   "outputs": [],
   "source": []
  },
  {
   "cell_type": "markdown",
   "metadata": {},
   "source": [
    "# RandomizedSearchCV  DT"
   ]
  },
  {
   "cell_type": "code",
   "execution_count": 8,
   "metadata": {
    "scrolled": false
   },
   "outputs": [
    {
     "name": "stdout",
     "output_type": "stream",
     "text": [
      "SYN\n",
      "HYPERPARAMETERS                     F1 Score             Time     No      \n",
      "default                             1.0                  1.764    24      \n"
     ]
    },
    {
     "name": "stderr",
     "output_type": "stream",
     "text": [
      "100%|██████████████████████████████████████████████████████████████████████████████████| 50/50 [00:54<00:00,  1.09s/it]\n"
     ]
    },
    {
     "name": "stdout",
     "output_type": "stream",
     "text": [
      "HTTP\n",
      "HYPERPARAMETERS                     F1 Score             Time     No      \n",
      "default                             1.0                  0.235    24      \n"
     ]
    },
    {
     "name": "stderr",
     "output_type": "stream",
     "text": [
      "100%|██████████████████████████████████████████████████████████████████████████████████| 50/50 [00:07<00:00,  6.71it/s]\n"
     ]
    },
    {
     "name": "stdout",
     "output_type": "stream",
     "text": [
      "ACK\n",
      "HYPERPARAMETERS                     F1 Score             Time     No      \n",
      "default                             0.8950041883779875   0.149    24      \n"
     ]
    },
    {
     "name": "stderr",
     "output_type": "stream",
     "text": [
      "100%|██████████████████████████████████████████████████████████████████████████████████| 50/50 [00:04<00:00, 10.84it/s]\n"
     ]
    },
    {
     "name": "stdout",
     "output_type": "stream",
     "text": [
      "UDP\n",
      "HYPERPARAMETERS                     F1 Score             Time     No      \n",
      "default                             1.0                  0.12     24      \n"
     ]
    },
    {
     "name": "stderr",
     "output_type": "stream",
     "text": [
      "100%|██████████████████████████████████████████████████████████████████████████████████| 50/50 [00:04<00:00, 12.21it/s]\n"
     ]
    },
    {
     "name": "stdout",
     "output_type": "stream",
     "text": [
      "ARP\n",
      "HYPERPARAMETERS                     F1 Score             Time     No      \n",
      "default                             0.9196723044397465   0.278    24      \n"
     ]
    },
    {
     "name": "stderr",
     "output_type": "stream",
     "text": [
      "100%|██████████████████████████████████████████████████████████████████████████████████| 50/50 [00:08<00:00,  5.68it/s]\n"
     ]
    },
    {
     "name": "stdout",
     "output_type": "stream",
     "text": [
      "SP\n",
      "HYPERPARAMETERS                     F1 Score             Time     No      \n",
      "default                             1.0                  0.126    24      \n"
     ]
    },
    {
     "name": "stderr",
     "output_type": "stream",
     "text": [
      "100%|██████████████████████████████████████████████████████████████████████████████████| 50/50 [00:04<00:00, 11.49it/s]\n"
     ]
    },
    {
     "name": "stdout",
     "output_type": "stream",
     "text": [
      "BF\n",
      "HYPERPARAMETERS                     F1 Score             Time     No      \n",
      "default                             0.9980172762937576   0.227    24      \n"
     ]
    },
    {
     "name": "stderr",
     "output_type": "stream",
     "text": [
      "100%|██████████████████████████████████████████████████████████████████████████████████| 50/50 [00:07<00:00,  7.04it/s]\n"
     ]
    },
    {
     "name": "stdout",
     "output_type": "stream",
     "text": [
      "    criterion      max_depth    max_features    min_samples_split        F1          Std    Time    No  Attack\n",
      "--  -----------  -----------  --------------  -------------------  --------  -----------  ------  ----  --------\n",
      " 0  gini                   5              35                    6  1         0             1.159     2  SYN\n",
      " 1  entropy               16               2                    2  1         0             0.141    48  HTTP\n",
      " 2  gini                   5               2                    8  0.895004  0             0.068    16  ACK\n",
      " 3  entropy                3              11                    2  1         0             0.079    27  UDP\n",
      " 4  entropy               28              27                    2  0.919672  0             0.198     4  ARP\n",
      " 5  gini                   4              16                    9  1         0             0.088    28  SP\n",
      " 6  gini                  19              10                    3  0.998017  1.11022e-16   0.15     24  BF\n"
     ]
    }
   ],
   "source": [
    "lines=[['criterion', 'max_depth', 'max_features', 'min_samples_split', \"F1\",\"Std\",\"Time\",\"No\",\"Attack\"]]\n",
    "\n",
    "for j in file_list:\n",
    "    print(j)\n",
    "    df=pd.read_csv(file_list[j][0],usecols=feature_list[j]) \n",
    "    X_train = df.iloc[:,0:-1]\n",
    "    df['Label'] = df['Label'].astype('category')\n",
    "    y_train=df['Label'].cat.codes  \n",
    "\n",
    "\n",
    "    df=pd.read_csv(file_list[j][0],usecols=feature_list[j]) \n",
    "    X_test = df.iloc[:,0:-1]\n",
    "    df['Label'] = df['Label'].astype('category')\n",
    "    y_test=df['Label'].cat.codes  \n",
    "    \n",
    "    \n",
    "    \n",
    "    X= np.concatenate([X_train, X_test])\n",
    "    test_fold = [-1 for _ in range(X_train.shape[0])] + [0 for _ in range(X_test.shape[0])]\n",
    "    y = np.concatenate([y_train, y_test])\n",
    "    ps = PredefinedSplit(test_fold)\n",
    "    \n",
    "    \n",
    "    print ('%-35s %-20s %-8s %-8s' % (\"HYPERPARAMETERS\",\"F1 Score\", \"Time\", \"No\"))\n",
    "\n",
    "    nfolds=10\n",
    "    param_grid = { 'criterion':['gini','entropy'],\n",
    "                      \"max_depth\":np.linspace(1, 32, 32, endpoint=True).astype(int),\n",
    "                     \"min_samples_split\": sp_randint(2,10),#uniform(0.1,1 ),\n",
    "                        # \"min_samples_leafs\" : np.linspace(0.1, 0.5, 5, endpoint=True)\n",
    "                        \"max_features\" : sp_randint(1,X_train.shape[1])}\n",
    "\n",
    "    second=time()\n",
    "    f1=[]\n",
    "    clf=DecisionTreeClassifier()\n",
    "    for ii in range(25):\n",
    "        clf.fit(X_train, y_train)\n",
    "        predict =clf.predict(X_test)\n",
    "        f1.append(sklearn.metrics.f1_score(y_test, predict,average= \"macro\") )\n",
    "    f1=sum(f1)/len(f1)   \n",
    "    #if f1>0.76:\n",
    "    print('%-35s %-20s %-8s %-8s' % (\"default\",f1,round(time()-second,3),ii))\n",
    "    ######################################################################################################################\n",
    "    for i in tqdm(range(50)):\n",
    "        second=time()\n",
    "        a,b,clf=run_random_search(DecisionTreeClassifier(),param_grid,X,y)\n",
    "        f1=[]\n",
    "        for ii in range(10):\n",
    "            clf.fit(X_train, y_train)\n",
    "            predict =clf.predict(X_test)\n",
    "            f1.append(sklearn.metrics.f1_score(y_test, predict,average= \"macro\") )\n",
    "        f1_result=sum(f1)/len(f1)   \n",
    "        f1=np.array(f1)\n",
    "        stndtd=f1.std()\n",
    "        temp=list(a.values())\n",
    "        #print('%-90s %-20s %-8s %-8s' % (a,f1_result,round(time()-second,3),i))\n",
    "        temp=temp+[f1_result,stndtd,round(time()-second,3),i,j]\n",
    "        lines.append(temp)\n",
    "\n",
    "        #if f1>0.76:\n",
    "results = pd.DataFrame (lines[1:], columns = lines[0])\n",
    "results.to_csv(\"DT_HPO.csv\",index=False)\n",
    "\n",
    "final_parametres=[['criterion', 'max_depth', 'max_features', 'min_samples_split', \"F1\",\"Std\",\"Time\",\"No\",\"Attack\"]]\n",
    "for i in results[\"Attack\"].unique():\n",
    "    df=results[results[\"Attack\"]==i]\n",
    "    m=df[\"F1\"].max()\n",
    "    df=df[df[\"F1\"]==m]\n",
    "    m=df[\"max_depth\"].min()\n",
    "    df=df[df[\"max_depth\"]==m]  \n",
    "    final_parametres.append(list(df.values)[0])\n",
    "results = pd.DataFrame (final_parametres[1:], columns=  final_parametres[0])\n",
    "print (tabulate(results, headers=list(results.columns)))\n",
    "    \n",
    "    "
   ]
  },
  {
   "cell_type": "markdown",
   "metadata": {},
   "source": [
    "# RandomizedSearchCV RF"
   ]
  },
  {
   "cell_type": "code",
   "execution_count": 9,
   "metadata": {},
   "outputs": [
    {
     "name": "stdout",
     "output_type": "stream",
     "text": [
      "SYN\n",
      "HYPERPARAMETERS                     F1 Score             Time     No      \n",
      "default                             1.0                  1.236    0       \n"
     ]
    },
    {
     "name": "stderr",
     "output_type": "stream",
     "text": [
      "100%|██████████████████████████████████████████████████████████████████████████████████| 10/10 [03:58<00:00, 23.83s/it]\n"
     ]
    },
    {
     "name": "stdout",
     "output_type": "stream",
     "text": [
      "HTTP\n",
      "HYPERPARAMETERS                     F1 Score             Time     No      \n",
      "default                             1.0                  0.312    0       \n"
     ]
    },
    {
     "name": "stderr",
     "output_type": "stream",
     "text": [
      "100%|██████████████████████████████████████████████████████████████████████████████████| 10/10 [01:03<00:00,  6.33s/it]\n"
     ]
    },
    {
     "name": "stdout",
     "output_type": "stream",
     "text": [
      "ACK\n",
      "HYPERPARAMETERS                     F1 Score             Time     No      \n",
      "default                             0.8950041883779871   0.203    0       \n"
     ]
    },
    {
     "name": "stderr",
     "output_type": "stream",
     "text": [
      "100%|██████████████████████████████████████████████████████████████████████████████████| 10/10 [00:27<00:00,  2.77s/it]\n"
     ]
    },
    {
     "name": "stdout",
     "output_type": "stream",
     "text": [
      "UDP\n",
      "HYPERPARAMETERS                     F1 Score             Time     No      \n",
      "default                             1.0                  0.188    0       \n"
     ]
    },
    {
     "name": "stderr",
     "output_type": "stream",
     "text": [
      "100%|██████████████████████████████████████████████████████████████████████████████████| 10/10 [00:28<00:00,  2.81s/it]\n"
     ]
    },
    {
     "name": "stdout",
     "output_type": "stream",
     "text": [
      "ARP\n",
      "HYPERPARAMETERS                     F1 Score             Time     No      \n",
      "default                             0.9194952962115434   0.227    0       \n"
     ]
    },
    {
     "name": "stderr",
     "output_type": "stream",
     "text": [
      "100%|██████████████████████████████████████████████████████████████████████████████████| 10/10 [00:30<00:00,  3.04s/it]\n"
     ]
    },
    {
     "name": "stdout",
     "output_type": "stream",
     "text": [
      "SP\n",
      "HYPERPARAMETERS                     F1 Score             Time     No      \n",
      "default                             1.0                  0.189    0       \n"
     ]
    },
    {
     "name": "stderr",
     "output_type": "stream",
     "text": [
      "100%|██████████████████████████████████████████████████████████████████████████████████| 10/10 [00:27<00:00,  2.72s/it]\n"
     ]
    },
    {
     "name": "stdout",
     "output_type": "stream",
     "text": [
      "BF\n",
      "HYPERPARAMETERS                     F1 Score             Time     No      \n",
      "default                             0.9980172762937574   0.267    0       \n"
     ]
    },
    {
     "name": "stderr",
     "output_type": "stream",
     "text": [
      "100%|██████████████████████████████████████████████████████████████████████████████████| 10/10 [01:04<00:00,  6.47s/it]"
     ]
    },
    {
     "name": "stdout",
     "output_type": "stream",
     "text": [
      "    bootst    criter      max_depth    max_features    min_samp_split    n_estimators        F1          Std    Time    No  Attack\n",
      "--  --------  --------  -----------  --------------  ----------------  --------------  --------  -----------  ------  ----  --------\n",
      " 0  False     gini                6               5                 9              73  1         0            16.646     5  SYN\n",
      " 1  False     entropy            14               9                 2               7  1         0             3.232     1  HTTP\n",
      " 2  False     entropy             4               9                 7             183  0.895004  0             4.091     8  ACK\n",
      " 3  False     gini                6               5                10               7  1         0             1.698     7  UDP\n",
      " 4  False     entropy            25               1                 3              48  0.919637  7.08033e-05   2.399     1  ARP\n",
      " 5  False     entropy             6               5                 6              29  1         0             2.715     7  SP\n",
      " 6  True      entropy            18               2                 2             125  0.998017  0             6.535     9  BF\n"
     ]
    },
    {
     "name": "stderr",
     "output_type": "stream",
     "text": [
      "\n"
     ]
    }
   ],
   "source": [
    "lines=[['bootst', 'criter', 'max_depth', 'max_features',\"min_samp_split\",\"n_estimators\", \"F1\",\"Std\",\"Time\",\"No\",\"Attack\"]]\n",
    "\n",
    "\n",
    "\n",
    "for j in file_list:\n",
    "    print(j)\n",
    "    \n",
    "    \n",
    "    df=pd.read_csv(file_list[j][0],usecols=feature_list[j]) \n",
    "    X_train = df.iloc[:,0:-1]\n",
    "    df['Label'] = df['Label'].astype('category')\n",
    "    y_train=df['Label'].cat.codes  \n",
    "\n",
    "\n",
    "    df=pd.read_csv(file_list[j][0],usecols=feature_list[j]) \n",
    "    X_test = df.iloc[:,0:-1]\n",
    "    df['Label'] = df['Label'].astype('category')\n",
    "    y_test=df['Label'].cat.codes  \n",
    "    \n",
    "    \n",
    "    \n",
    "    X= np.concatenate([X_train, X_test])\n",
    "    test_fold = [-1 for _ in range(X_train.shape[0])] + [0 for _ in range(X_test.shape[0])]\n",
    "    y = np.concatenate([y_train, y_test])\n",
    "    ps = PredefinedSplit(test_fold)\n",
    "    \n",
    "    \n",
    "    \n",
    "    \n",
    "    \n",
    "    print ('%-35s %-20s %-8s %-8s' % (\"HYPERPARAMETERS\",\"F1 Score\", \"Time\", \"No\"))\n",
    "\n",
    "\n",
    "\n",
    "    # use a full grid over all parameters\n",
    "    param_grid = {\"max_depth\":np.linspace(1, 32, 32, endpoint=True).astype(int),\n",
    "                  \"n_estimators\" : sp_randint(1, 200),\n",
    "                  \"max_features\": sp_randint(1, 11),\n",
    "                  \"min_samples_split\":sp_randint(2, 11),\n",
    "                  \"bootstrap\": [True, False],\n",
    "                  \"criterion\": [\"gini\", \"entropy\"]}\n",
    "    second=time()\n",
    "    f1=[]\n",
    "    clf=RandomForestClassifier()\n",
    "    for ii in range(1):\n",
    "        clf.fit(X_train, y_train)\n",
    "        predict =clf.predict(X_test)\n",
    "        f1.append(sklearn.metrics.f1_score(y_test, predict,average= \"macro\") )\n",
    "    f1=sum(f1)/len(f1)   \n",
    "    #if f1>0.76:\n",
    "    print('%-35s %-20s %-8s %-8s' % (\"default\",f1,round(time()-second,3),ii))\n",
    "\n",
    "\n",
    "    \n",
    "    ######################################################################################################################\n",
    "    for i in tqdm(range(10)):\n",
    "        second=time()\n",
    "        a,b,clf=run_random_search(RandomForestClassifier(),param_grid,X,y)\n",
    "        f1=[]\n",
    "        for ii in range(5):\n",
    "            clf.fit(X_train, y_train)\n",
    "            predict =clf.predict(X_test)\n",
    "            f1.append(sklearn.metrics.f1_score(y_test, predict,average= \"macro\") )\n",
    "        f1_result=sum(f1)/len(f1)   \n",
    "        f1=np.array(f1)\n",
    "        stndtd=f1.std()\n",
    "        temp=list(a.values())\n",
    "        #print('%-90s %-20s %-8s %-8s' % (a,f1_result,round(time()-second,3),i))\n",
    "        temp=temp+[f1_result,stndtd,round(time()-second,3),i,j]\n",
    "        lines.append(temp)\n",
    "\n",
    "        #if f1>0.76:\n",
    "results = pd.DataFrame (lines[1:], columns = lines[0])\n",
    "results.to_csv(\"RF_HPO.csv\",index=False)\n",
    "\n",
    "final_parametres=[['bootst', 'criter', 'max_depth', 'max_features',\"min_samp_split\",\"n_estimators\", \"F1\",\"Std\",\"Time\",\"No\",\"Attack\"]]\n",
    "\n",
    "for i in results[\"Attack\"].unique():\n",
    "    df=results[results[\"Attack\"]==i]\n",
    "    m=df[\"F1\"].max()\n",
    "    df=df[df[\"F1\"]==m]\n",
    "    m=df[\"max_depth\"].min()\n",
    "    df=df[df[\"max_depth\"]==m]  \n",
    "    final_parametres.append(list(df.values)[0])\n",
    "results = pd.DataFrame (final_parametres[1:], columns=  final_parametres[0])\n",
    "print (tabulate(results, headers=list(results.columns)))\n",
    "    \n",
    "    \n",
    "    \n",
    "    \n",
    "    \n",
    "    \n",
    "    \n",
    "    \n",
    "    \n",
    "    \n",
    "    \n",
    "    \n",
    "    \n",
    "    \n",
    "    "
   ]
  },
  {
   "cell_type": "markdown",
   "metadata": {},
   "source": [
    "# XGBClassifier"
   ]
  },
  {
   "cell_type": "code",
   "execution_count": 11,
   "metadata": {},
   "outputs": [
    {
     "name": "stdout",
     "output_type": "stream",
     "text": [
      "SYN\n",
      "default                             1.0                  3.633    0       \n"
     ]
    },
    {
     "name": "stderr",
     "output_type": "stream",
     "text": [
      " 20%|████████████████▌                                                                  | 1/5 [04:26<17:44, 266.11s/it]"
     ]
    },
    {
     "name": "stdout",
     "output_type": "stream",
     "text": [
      "{'n_estimators': 500, 'min_child_weight': 2, 'max_depth': 3, 'learning_rate': 0.05}        1.0                  266.107  0       \n"
     ]
    },
    {
     "name": "stderr",
     "output_type": "stream",
     "text": [
      "\r",
      " 40%|█████████████████████████████████▏                                                 | 2/5 [07:12<10:22, 207.46s/it]"
     ]
    },
    {
     "name": "stdout",
     "output_type": "stream",
     "text": [
      "{'n_estimators': 1500, 'min_child_weight': 2, 'max_depth': 10, 'learning_rate': 0.05}      1.0                  166.404  1       \n"
     ]
    },
    {
     "name": "stderr",
     "output_type": "stream",
     "text": [
      "\r",
      " 60%|█████████████████████████████████████████████████▊                                 | 3/5 [08:51<05:15, 157.72s/it]"
     ]
    },
    {
     "name": "stdout",
     "output_type": "stream",
     "text": [
      "{'n_estimators': 900, 'min_child_weight': 1, 'max_depth': 15, 'learning_rate': 0.2}        1.0                  98.541   2       \n"
     ]
    },
    {
     "name": "stderr",
     "output_type": "stream",
     "text": [
      "\r",
      " 80%|██████████████████████████████████████████████████████████████████▍                | 4/5 [10:50<02:22, 142.63s/it]"
     ]
    },
    {
     "name": "stdout",
     "output_type": "stream",
     "text": [
      "{'n_estimators': 1500, 'min_child_weight': 1, 'max_depth': 10, 'learning_rate': 0.1}       1.0                  119.483  3       \n"
     ]
    },
    {
     "name": "stderr",
     "output_type": "stream",
     "text": [
      "100%|███████████████████████████████████████████████████████████████████████████████████| 5/5 [11:46<00:00, 141.27s/it]"
     ]
    },
    {
     "name": "stdout",
     "output_type": "stream",
     "text": [
      "{'n_estimators': 100, 'min_child_weight': 1, 'max_depth': 2, 'learning_rate': 0.15}        1.0                  55.826   4       \n",
      "HTTP\n"
     ]
    },
    {
     "name": "stderr",
     "output_type": "stream",
     "text": [
      "\n"
     ]
    },
    {
     "name": "stdout",
     "output_type": "stream",
     "text": [
      "default                             0.9994302655922218   0.393    0       \n"
     ]
    },
    {
     "name": "stderr",
     "output_type": "stream",
     "text": [
      " 20%|████████████████▊                                                                   | 1/5 [00:29<01:57, 29.36s/it]"
     ]
    },
    {
     "name": "stdout",
     "output_type": "stream",
     "text": [
      "{'n_estimators': 1500, 'min_child_weight': 1, 'max_depth': 2, 'learning_rate': 0.2}        0.9994302655922219   29.358   0       \n"
     ]
    },
    {
     "name": "stderr",
     "output_type": "stream",
     "text": [
      "\r",
      " 40%|█████████████████████████████████▌                                                  | 2/5 [01:01<01:33, 31.07s/it]"
     ]
    },
    {
     "name": "stdout",
     "output_type": "stream",
     "text": [
      "{'n_estimators': 500, 'min_child_weight': 1, 'max_depth': 10, 'learning_rate': 0.15}       0.9994302655922219   32.268   1       \n"
     ]
    },
    {
     "name": "stderr",
     "output_type": "stream",
     "text": [
      "\r",
      " 60%|██████████████████████████████████████████████████▍                                 | 3/5 [01:48<01:16, 38.21s/it]"
     ]
    },
    {
     "name": "stdout",
     "output_type": "stream",
     "text": [
      "{'n_estimators': 1500, 'min_child_weight': 1, 'max_depth': 2, 'learning_rate': 0.1}        0.9994302655922219   46.698   2       \n"
     ]
    },
    {
     "name": "stderr",
     "output_type": "stream",
     "text": [
      "\r",
      " 80%|███████████████████████████████████████████████████████████████████▏                | 4/5 [02:40<00:43, 43.87s/it]"
     ]
    },
    {
     "name": "stdout",
     "output_type": "stream",
     "text": [
      "{'n_estimators': 500, 'min_child_weight': 1, 'max_depth': 10, 'learning_rate': 0.15}       0.9994302655922219   52.553   3       \n"
     ]
    },
    {
     "name": "stderr",
     "output_type": "stream",
     "text": [
      "100%|████████████████████████████████████████████████████████████████████████████████████| 5/5 [03:39<00:00, 43.97s/it]\n"
     ]
    },
    {
     "name": "stdout",
     "output_type": "stream",
     "text": [
      "{'n_estimators': 1100, 'min_child_weight': 1, 'max_depth': 15, 'learning_rate': 0.05}      0.9988608094939145   58.949   4       \n",
      "ACK\n",
      "default                             0.894196863115009    0.135    0       \n"
     ]
    },
    {
     "name": "stderr",
     "output_type": "stream",
     "text": [
      " 20%|████████████████▊                                                                   | 1/5 [00:14<00:57, 14.46s/it]"
     ]
    },
    {
     "name": "stdout",
     "output_type": "stream",
     "text": [
      "{'n_estimators': 900, 'min_child_weight': 1, 'max_depth': 10, 'learning_rate': 0.1}        0.894196863115009    14.458   0       \n"
     ]
    },
    {
     "name": "stderr",
     "output_type": "stream",
     "text": [
      "\r",
      " 40%|█████████████████████████████████▌                                                  | 2/5 [00:26<00:38, 12.80s/it]"
     ]
    },
    {
     "name": "stdout",
     "output_type": "stream",
     "text": [
      "{'n_estimators': 100, 'min_child_weight': 4, 'max_depth': 10, 'learning_rate': 0.2}        0.894196863115009    11.636   1       \n"
     ]
    },
    {
     "name": "stderr",
     "output_type": "stream",
     "text": [
      "\r",
      " 60%|██████████████████████████████████████████████████▍                                 | 3/5 [00:49<00:35, 17.74s/it]"
     ]
    },
    {
     "name": "stdout",
     "output_type": "stream",
     "text": [
      "{'n_estimators': 1500, 'min_child_weight': 3, 'max_depth': 10, 'learning_rate': 0.15}      0.894196863115009    23.601   2       \n"
     ]
    },
    {
     "name": "stderr",
     "output_type": "stream",
     "text": [
      "\r",
      " 80%|███████████████████████████████████████████████████████████████████▏                | 4/5 [01:07<00:17, 17.91s/it]"
     ]
    },
    {
     "name": "stdout",
     "output_type": "stream",
     "text": [
      "{'n_estimators': 1100, 'min_child_weight': 1, 'max_depth': 3, 'learning_rate': 0.1}        0.894196863115009    18.165   3       \n"
     ]
    },
    {
     "name": "stderr",
     "output_type": "stream",
     "text": [
      "100%|████████████████████████████████████████████████████████████████████████████████████| 5/5 [01:29<00:00, 17.92s/it]\n"
     ]
    },
    {
     "name": "stdout",
     "output_type": "stream",
     "text": [
      "{'n_estimators': 1500, 'min_child_weight': 1, 'max_depth': 5, 'learning_rate': 0.05}       0.894196863115009    21.737   4       \n",
      "UDP\n",
      "default                             1.0                  0.148    0       \n"
     ]
    },
    {
     "name": "stderr",
     "output_type": "stream",
     "text": [
      " 20%|████████████████▊                                                                   | 1/5 [00:07<00:29,  7.44s/it]"
     ]
    },
    {
     "name": "stdout",
     "output_type": "stream",
     "text": [
      "{'n_estimators': 100, 'min_child_weight': 2, 'max_depth': 10, 'learning_rate': 0.05}       1.0                  7.44     0       \n"
     ]
    },
    {
     "name": "stderr",
     "output_type": "stream",
     "text": [
      "\r",
      " 40%|█████████████████████████████████▌                                                  | 2/5 [00:18<00:28,  9.45s/it]"
     ]
    },
    {
     "name": "stdout",
     "output_type": "stream",
     "text": [
      "{'n_estimators': 500, 'min_child_weight': 4, 'max_depth': 2, 'learning_rate': 0.05}        1.0                  10.857   1       \n"
     ]
    },
    {
     "name": "stderr",
     "output_type": "stream",
     "text": [
      "\r",
      " 60%|██████████████████████████████████████████████████▍                                 | 3/5 [00:33<00:24, 12.24s/it]"
     ]
    },
    {
     "name": "stdout",
     "output_type": "stream",
     "text": [
      "{'n_estimators': 1500, 'min_child_weight': 4, 'max_depth': 10, 'learning_rate': 0.15}      1.0                  15.561   2       \n"
     ]
    },
    {
     "name": "stderr",
     "output_type": "stream",
     "text": [
      "\r",
      " 80%|███████████████████████████████████████████████████████████████████▏                | 4/5 [00:43<00:11, 11.33s/it]"
     ]
    },
    {
     "name": "stdout",
     "output_type": "stream",
     "text": [
      "{'n_estimators': 500, 'min_child_weight': 1, 'max_depth': 2, 'learning_rate': 0.15}        1.0                  9.918    3       \n"
     ]
    },
    {
     "name": "stderr",
     "output_type": "stream",
     "text": [
      "100%|████████████████████████████████████████████████████████████████████████████████████| 5/5 [00:57<00:00, 11.41s/it]"
     ]
    },
    {
     "name": "stdout",
     "output_type": "stream",
     "text": [
      "{'n_estimators': 1100, 'min_child_weight': 2, 'max_depth': 10, 'learning_rate': 0.05}      1.0                  13.275   4       \n",
      "ARP\n"
     ]
    },
    {
     "name": "stderr",
     "output_type": "stream",
     "text": [
      "\n"
     ]
    },
    {
     "name": "stdout",
     "output_type": "stream",
     "text": [
      "default                             0.9194952962115434   0.344    0       \n"
     ]
    },
    {
     "name": "stderr",
     "output_type": "stream",
     "text": [
      " 20%|████████████████▊                                                                   | 1/5 [00:47<03:11, 47.98s/it]"
     ]
    },
    {
     "name": "stdout",
     "output_type": "stream",
     "text": [
      "{'n_estimators': 900, 'min_child_weight': 1, 'max_depth': 10, 'learning_rate': 0.2}        0.9194952962115434   47.982   0       \n"
     ]
    },
    {
     "name": "stderr",
     "output_type": "stream",
     "text": [
      "\r",
      " 40%|█████████████████████████████████▌                                                  | 2/5 [01:24<02:03, 41.05s/it]"
     ]
    },
    {
     "name": "stdout",
     "output_type": "stream",
     "text": [
      "{'n_estimators': 1100, 'min_child_weight': 3, 'max_depth': 3, 'learning_rate': 0.2}        0.9194952962115434   36.19    1       \n"
     ]
    },
    {
     "name": "stderr",
     "output_type": "stream",
     "text": [
      "\r",
      " 60%|██████████████████████████████████████████████████▍                                 | 3/5 [02:01<01:18, 39.45s/it]"
     ]
    },
    {
     "name": "stdout",
     "output_type": "stream",
     "text": [
      "{'n_estimators': 1100, 'min_child_weight': 1, 'max_depth': 5, 'learning_rate': 0.1}        0.9194952962115434   37.558   2       \n"
     ]
    },
    {
     "name": "stderr",
     "output_type": "stream",
     "text": [
      "\r",
      " 80%|███████████████████████████████████████████████████████████████████▏                | 4/5 [03:25<00:57, 57.02s/it]"
     ]
    },
    {
     "name": "stdout",
     "output_type": "stream",
     "text": [
      "{'n_estimators': 1100, 'min_child_weight': 3, 'max_depth': 5, 'learning_rate': 0.1}        0.9194952962115434   83.949   3       \n"
     ]
    },
    {
     "name": "stderr",
     "output_type": "stream",
     "text": [
      "100%|███████████████████████████████████████████████████████████████████████████████████| 5/5 [08:45<00:00, 105.15s/it]"
     ]
    },
    {
     "name": "stdout",
     "output_type": "stream",
     "text": [
      "{'n_estimators': 1500, 'min_child_weight': 2, 'max_depth': 15, 'learning_rate': 0.15}      0.9194952962115434   320.051  4       \n",
      "SP\n"
     ]
    },
    {
     "name": "stderr",
     "output_type": "stream",
     "text": [
      "\n"
     ]
    },
    {
     "name": "stdout",
     "output_type": "stream",
     "text": [
      "default                             1.0                  1.264    0       \n"
     ]
    },
    {
     "name": "stderr",
     "output_type": "stream",
     "text": [
      " 20%|████████████████▌                                                                  | 1/5 [02:55<11:40, 175.01s/it]"
     ]
    },
    {
     "name": "stdout",
     "output_type": "stream",
     "text": [
      "{'n_estimators': 1500, 'min_child_weight': 4, 'max_depth': 15, 'learning_rate': 0.05}      1.0                  175.01   0       \n"
     ]
    },
    {
     "name": "stderr",
     "output_type": "stream",
     "text": [
      "\r",
      " 40%|█████████████████████████████████▏                                                 | 2/5 [05:28<08:07, 162.61s/it]"
     ]
    },
    {
     "name": "stdout",
     "output_type": "stream",
     "text": [
      "{'n_estimators': 1500, 'min_child_weight': 1, 'max_depth': 2, 'learning_rate': 0.1}        1.0                  153.923  1       \n"
     ]
    },
    {
     "name": "stderr",
     "output_type": "stream",
     "text": [
      "\r",
      " 60%|█████████████████████████████████████████████████▊                                 | 3/5 [06:22<03:45, 112.69s/it]"
     ]
    },
    {
     "name": "stdout",
     "output_type": "stream",
     "text": [
      "{'n_estimators': 1500, 'min_child_weight': 1, 'max_depth': 2, 'learning_rate': 0.15}       1.0                  53.278   2       \n"
     ]
    },
    {
     "name": "stderr",
     "output_type": "stream",
     "text": [
      "\r",
      " 80%|███████████████████████████████████████████████████████████████████▏                | 4/5 [06:35<01:13, 73.58s/it]"
     ]
    },
    {
     "name": "stdout",
     "output_type": "stream",
     "text": [
      "{'n_estimators': 1100, 'min_child_weight': 4, 'max_depth': 2, 'learning_rate': 0.15}       1.0                  13.633   3       \n"
     ]
    },
    {
     "name": "stderr",
     "output_type": "stream",
     "text": [
      "100%|████████████████████████████████████████████████████████████████████████████████████| 5/5 [06:48<00:00, 81.63s/it]"
     ]
    },
    {
     "name": "stdout",
     "output_type": "stream",
     "text": [
      "{'n_estimators': 900, 'min_child_weight': 1, 'max_depth': 2, 'learning_rate': 0.1}         1.0                  12.316   4       \n",
      "BF\n"
     ]
    },
    {
     "name": "stderr",
     "output_type": "stream",
     "text": [
      "\n"
     ]
    },
    {
     "name": "stdout",
     "output_type": "stream",
     "text": [
      "default                             0.9960235354972198   0.199    0       \n"
     ]
    },
    {
     "name": "stderr",
     "output_type": "stream",
     "text": [
      " 20%|████████████████▊                                                                   | 1/5 [00:16<01:04, 16.02s/it]"
     ]
    },
    {
     "name": "stdout",
     "output_type": "stream",
     "text": [
      "{'n_estimators': 500, 'min_child_weight': 1, 'max_depth': 15, 'learning_rate': 0.15}       0.9960235354972198   16.023   0       \n"
     ]
    },
    {
     "name": "stderr",
     "output_type": "stream",
     "text": [
      "\r",
      " 40%|█████████████████████████████████▌                                                  | 2/5 [00:39<01:02, 20.69s/it]"
     ]
    },
    {
     "name": "stdout",
     "output_type": "stream",
     "text": [
      "{'n_estimators': 900, 'min_child_weight': 2, 'max_depth': 10, 'learning_rate': 0.15}       0.9960235354972198   23.954   1       \n"
     ]
    },
    {
     "name": "stderr",
     "output_type": "stream",
     "text": [
      "\r",
      " 60%|██████████████████████████████████████████████████▍                                 | 3/5 [01:17<00:56, 28.23s/it]"
     ]
    },
    {
     "name": "stdout",
     "output_type": "stream",
     "text": [
      "{'n_estimators': 1500, 'min_child_weight': 1, 'max_depth': 15, 'learning_rate': 0.05}      0.9960235354972198   37.193   2       \n"
     ]
    },
    {
     "name": "stderr",
     "output_type": "stream",
     "text": [
      "\r",
      " 80%|███████████████████████████████████████████████████████████████████▏                | 4/5 [01:37<00:25, 25.02s/it]"
     ]
    },
    {
     "name": "stdout",
     "output_type": "stream",
     "text": [
      "{'n_estimators': 900, 'min_child_weight': 2, 'max_depth': 10, 'learning_rate': 0.1}        0.9960235354972198   20.109   3       \n"
     ]
    },
    {
     "name": "stderr",
     "output_type": "stream",
     "text": [
      "100%|████████████████████████████████████████████████████████████████████████████████████| 5/5 [01:56<00:00, 23.22s/it]"
     ]
    },
    {
     "name": "stdout",
     "output_type": "stream",
     "text": [
      "{'n_estimators': 900, 'min_child_weight': 2, 'max_depth': 15, 'learning_rate': 0.15}       0.9960235354972198   18.807   4       \n",
      "      n_estimators    min_child_weight    max_depth    learning_rate        F1          Std     Time    No  Attack\n",
      "--  --------------  ------------------  -----------  ---------------  --------  -----------  -------  ----  --------\n",
      " 0             500                   2            3             0.05  1         0            266.107     0  SYN\n",
      " 1            1500                   2           10             0.05  1         0            166.404     1  SYN\n",
      " 2             900                   1           15             0.2   1         0             98.541     2  SYN\n",
      " 3            1500                   1           10             0.1   1         0            119.483     3  SYN\n",
      " 4             100                   1            2             0.15  1         0             55.826     4  SYN\n",
      " 5            1500                   1            2             0.2   0.99943   1.11022e-16   29.358     0  HTTP\n",
      " 6             500                   1           10             0.15  0.99943   1.11022e-16   32.268     1  HTTP\n",
      " 7            1500                   1            2             0.1   0.99943   1.11022e-16   46.698     2  HTTP\n",
      " 8             500                   1           10             0.15  0.99943   1.11022e-16   52.553     3  HTTP\n",
      " 9            1100                   1           15             0.05  0.998861  1.11022e-16   58.95      4  HTTP\n",
      "10             900                   1           10             0.1   0.894197  0             14.459     0  ACK\n",
      "11             100                   4           10             0.2   0.894197  0             11.637     1  ACK\n",
      "12            1500                   3           10             0.15  0.894197  0             23.602     2  ACK\n",
      "13            1100                   1            3             0.1   0.894197  0             18.165     3  ACK\n",
      "14            1500                   1            5             0.05  0.894197  0             21.737     4  ACK\n",
      "15             100                   2           10             0.05  1         0              7.441     0  UDP\n",
      "16             500                   4            2             0.05  1         0             10.858     1  UDP\n",
      "17            1500                   4           10             0.15  1         0             15.562     2  UDP\n",
      "18             500                   1            2             0.15  1         0              9.918     3  UDP\n",
      "19            1100                   2           10             0.05  1         0             13.275     4  UDP\n",
      "20             900                   1           10             0.2   0.919495  0             47.983     0  ARP\n",
      "21            1100                   3            3             0.2   0.919495  0             36.191     1  ARP\n",
      "22            1100                   1            5             0.1   0.919495  0             37.559     2  ARP\n",
      "23            1100                   3            5             0.1   0.919495  0             83.949     3  ARP\n",
      "24            1500                   2           15             0.15  0.919495  0            320.052     4  ARP\n",
      "25            1500                   4           15             0.05  1         0            175.011     0  SP\n",
      "26            1500                   1            2             0.1   1         0            153.923     1  SP\n",
      "27            1500                   1            2             0.15  1         0             53.278     2  SP\n",
      "28            1100                   4            2             0.15  1         0             13.633     3  SP\n",
      "29             900                   1            2             0.1   1         0             12.317     4  SP\n",
      "30             500                   1           15             0.15  0.996024  0             16.024     0  BF\n",
      "31             900                   2           10             0.15  0.996024  0             23.954     1  BF\n",
      "32            1500                   1           15             0.05  0.996024  0             37.193     2  BF\n",
      "33             900                   2           10             0.1   0.996024  0             20.109     3  BF\n",
      "34             900                   2           15             0.15  0.996024  0             18.807     4  BF\n",
      "      bootst  criter      max_depth    max_features    min_samp_split    n_estimators          F1          Std  Time      No  Attack\n",
      "--  --------  --------  -----------  --------------  ----------------  --------------  ----------  -----------  ------  ----  --------\n",
      " 0     False  gini                6            5             9           73              1         0            16.646     5  SYN\n",
      " 1     False  entropy            14            9             2            7              1         0            3.232      1  HTTP\n",
      " 2     False  entropy             4            9             7          183              0.895004  0            4.091      8  ACK\n",
      " 3     False  gini                6            5            10            7              1         0            1.698      7  UDP\n",
      " 4     False  entropy            25            1             3           48              0.919637  7.08033e-05  2.399      1  ARP\n",
      " 5     False  entropy             6            5             6           29              1         0            2.715      7  SP\n",
      " 6      True  entropy            18            2             2          125              0.998017  0            6.535      9  BF\n",
      " 7       100  1                   2            0.15          1            0             55.826     4            SYN      nan\n",
      " 8      1500  1                   2            0.2           0.99943      1.11022e-16   29.358     0            HTTP     nan\n",
      " 9      1100  1                   3            0.1           0.894197     0             18.165     3            ACK      nan\n",
      "10       500  4                   2            0.05          1            0             10.858     1            UDP      nan\n",
      "11      1100  3                   3            0.2           0.919495     0             36.191     1            ARP      nan\n",
      "12      1500  1                   2            0.1           1            0            153.923     1            SP       nan\n",
      "13       900  2                  10            0.15          0.996024     0             23.954     1            BF       nan\n"
     ]
    },
    {
     "name": "stderr",
     "output_type": "stream",
     "text": [
      "\n"
     ]
    }
   ],
   "source": [
    "import xgboost\n",
    "\n",
    "lines=[['n_estimators', 'min_child_weight', 'max_depth','learning_rate', \"F1\",\"Std\",\"Time\",\"No\",\"Attack\"]]\n",
    "\n",
    "for j in file_list:\n",
    "    print(j)\n",
    "    \n",
    "    \n",
    "    df=pd.read_csv(file_list[j][0],usecols=feature_list[j]) \n",
    "    X_train = df.iloc[:,0:-1]\n",
    "    df['Label'] = df['Label'].astype('category')\n",
    "    y_train=df['Label'].cat.codes  \n",
    "\n",
    "\n",
    "    df=pd.read_csv(file_list[j][0],usecols=feature_list[j]) \n",
    "    X_test = df.iloc[:,0:-1]\n",
    "    df['Label'] = df['Label'].astype('category')\n",
    "    y_test=df['Label'].cat.codes  \n",
    "    \n",
    "    X= np.concatenate([X_train, X_test])\n",
    "    test_fold = [-1 for _ in range(X_train.shape[0])] + [0 for _ in range(X_test.shape[0])]\n",
    "    y = np.concatenate([y_train, y_test])\n",
    "    ps = PredefinedSplit(test_fold)\n",
    "    \n",
    "\n",
    "\n",
    "    param_grid =   {\n",
    "    'n_estimators': [100, 500, 900, 1100, 1500],\n",
    "    'max_depth': [2, 3, 5, 10, 15],\n",
    "    'learning_rate': [0.05, 0.1, 0.15, 0.20],\n",
    "    'min_child_weight': [1, 2, 3, 4]\n",
    "    }\n",
    "\n",
    "    second=time()\n",
    "    f1=[]\n",
    "    clf=xgboost.XGBClassifier()\n",
    "    for ii in range(1):\n",
    "        clf.fit(X_train, y_train)\n",
    "        predict =clf.predict(X_test)\n",
    "        f1.append(sklearn.metrics.f1_score(y_test, predict,average= \"macro\") )\n",
    "    f1=sum(f1)/len(f1)   \n",
    "    #if f1>0.76:\n",
    "    print('%-35s %-20s %-8s %-8s' % (\"default\",f1,round(time()-second,3),ii))\n",
    "\n",
    "\n",
    "    \n",
    "    ######################################################################################################################\n",
    "    for i in tqdm(range(5)):\n",
    "        second=time()\n",
    "        a,b,clf=run_random_search(xgboost.XGBClassifier(),param_grid,X,y)\n",
    "        f1=[]\n",
    "        for ii in range(5):\n",
    "            clf.fit(X_train, y_train)\n",
    "            predict =clf.predict(X_test)\n",
    "            f1.append(sklearn.metrics.f1_score(y_test, predict,average= \"macro\") )\n",
    "        f1_result=sum(f1)/len(f1)   \n",
    "        f1=np.array(f1)\n",
    "        stndtd=f1.std()\n",
    "        temp=list(a.values())\n",
    "        print('%-90s %-20s %-8s %-8s' % (a,f1_result,round(time()-second,3),i))\n",
    "        temp=temp+[f1_result,stndtd,round(time()-second,3),i,j]\n",
    "        lines.append(temp)\n",
    "\n",
    "        #if f1>0.76:\n",
    "\n",
    "results = pd.DataFrame (lines[1:], columns = lines[0])\n",
    "results.to_csv(\"XGB_HPO.csv\",index=False)\n",
    "\n",
    "\n",
    "print (tabulate(results, headers=list(results.columns)))\n",
    "    \n",
    "for i in results[\"Attack\"].unique():\n",
    "    df=results[results[\"Attack\"]==i]\n",
    "    m=df[\"F1\"].max()\n",
    "    df=df[df[\"F1\"]==m]\n",
    "    m=df[\"max_depth\"].min()\n",
    "    df=df[df[\"max_depth\"]==m]  \n",
    "    final_parametres.append(list(df.values)[0])\n",
    "results = pd.DataFrame (final_parametres[1:], columns=  final_parametres[0])\n",
    "print (tabulate(results, headers=list(results.columns)))"
   ]
  },
  {
   "cell_type": "code",
   "execution_count": 15,
   "metadata": {},
   "outputs": [
    {
     "data": {
      "text/html": [
       "<div>\n",
       "<style scoped>\n",
       "    .dataframe tbody tr th:only-of-type {\n",
       "        vertical-align: middle;\n",
       "    }\n",
       "\n",
       "    .dataframe tbody tr th {\n",
       "        vertical-align: top;\n",
       "    }\n",
       "\n",
       "    .dataframe thead th {\n",
       "        text-align: right;\n",
       "    }\n",
       "</style>\n",
       "<table border=\"1\" class=\"dataframe\">\n",
       "  <thead>\n",
       "    <tr style=\"text-align: right;\">\n",
       "      <th></th>\n",
       "      <th>bootst</th>\n",
       "      <th>criter</th>\n",
       "      <th>max_depth</th>\n",
       "      <th>max_features</th>\n",
       "      <th>min_samp_split</th>\n",
       "      <th>n_estimators</th>\n",
       "      <th>F1</th>\n",
       "      <th>Std</th>\n",
       "      <th>Time</th>\n",
       "      <th>No</th>\n",
       "      <th>Attack</th>\n",
       "    </tr>\n",
       "  </thead>\n",
       "  <tbody>\n",
       "    <tr>\n",
       "      <th>7</th>\n",
       "      <td>100</td>\n",
       "      <td>1</td>\n",
       "      <td>2</td>\n",
       "      <td>0.15</td>\n",
       "      <td>1.000000</td>\n",
       "      <td>0.000000e+00</td>\n",
       "      <td>55.826</td>\n",
       "      <td>4.0</td>\n",
       "      <td>SYN</td>\n",
       "      <td>NaN</td>\n",
       "      <td>None</td>\n",
       "    </tr>\n",
       "    <tr>\n",
       "      <th>8</th>\n",
       "      <td>1500</td>\n",
       "      <td>1</td>\n",
       "      <td>2</td>\n",
       "      <td>0.20</td>\n",
       "      <td>0.999430</td>\n",
       "      <td>1.110223e-16</td>\n",
       "      <td>29.358</td>\n",
       "      <td>0.0</td>\n",
       "      <td>HTTP</td>\n",
       "      <td>NaN</td>\n",
       "      <td>None</td>\n",
       "    </tr>\n",
       "    <tr>\n",
       "      <th>9</th>\n",
       "      <td>1100</td>\n",
       "      <td>1</td>\n",
       "      <td>3</td>\n",
       "      <td>0.10</td>\n",
       "      <td>0.894197</td>\n",
       "      <td>0.000000e+00</td>\n",
       "      <td>18.165</td>\n",
       "      <td>3.0</td>\n",
       "      <td>ACK</td>\n",
       "      <td>NaN</td>\n",
       "      <td>None</td>\n",
       "    </tr>\n",
       "    <tr>\n",
       "      <th>10</th>\n",
       "      <td>500</td>\n",
       "      <td>4</td>\n",
       "      <td>2</td>\n",
       "      <td>0.05</td>\n",
       "      <td>1.000000</td>\n",
       "      <td>0.000000e+00</td>\n",
       "      <td>10.858</td>\n",
       "      <td>1.0</td>\n",
       "      <td>UDP</td>\n",
       "      <td>NaN</td>\n",
       "      <td>None</td>\n",
       "    </tr>\n",
       "    <tr>\n",
       "      <th>11</th>\n",
       "      <td>1100</td>\n",
       "      <td>3</td>\n",
       "      <td>3</td>\n",
       "      <td>0.20</td>\n",
       "      <td>0.919495</td>\n",
       "      <td>0.000000e+00</td>\n",
       "      <td>36.191</td>\n",
       "      <td>1.0</td>\n",
       "      <td>ARP</td>\n",
       "      <td>NaN</td>\n",
       "      <td>None</td>\n",
       "    </tr>\n",
       "    <tr>\n",
       "      <th>12</th>\n",
       "      <td>1500</td>\n",
       "      <td>1</td>\n",
       "      <td>2</td>\n",
       "      <td>0.10</td>\n",
       "      <td>1.000000</td>\n",
       "      <td>0.000000e+00</td>\n",
       "      <td>153.923</td>\n",
       "      <td>1.0</td>\n",
       "      <td>SP</td>\n",
       "      <td>NaN</td>\n",
       "      <td>None</td>\n",
       "    </tr>\n",
       "    <tr>\n",
       "      <th>13</th>\n",
       "      <td>900</td>\n",
       "      <td>2</td>\n",
       "      <td>10</td>\n",
       "      <td>0.15</td>\n",
       "      <td>0.996024</td>\n",
       "      <td>0.000000e+00</td>\n",
       "      <td>23.954</td>\n",
       "      <td>1.0</td>\n",
       "      <td>BF</td>\n",
       "      <td>NaN</td>\n",
       "      <td>None</td>\n",
       "    </tr>\n",
       "  </tbody>\n",
       "</table>\n",
       "</div>"
      ],
      "text/plain": [
       "   bootst criter  max_depth  max_features  min_samp_split  n_estimators  \\\n",
       "7     100      1          2          0.15        1.000000  0.000000e+00   \n",
       "8    1500      1          2          0.20        0.999430  1.110223e-16   \n",
       "9    1100      1          3          0.10        0.894197  0.000000e+00   \n",
       "10    500      4          2          0.05        1.000000  0.000000e+00   \n",
       "11   1100      3          3          0.20        0.919495  0.000000e+00   \n",
       "12   1500      1          2          0.10        1.000000  0.000000e+00   \n",
       "13    900      2         10          0.15        0.996024  0.000000e+00   \n",
       "\n",
       "         F1  Std  Time  No Attack  \n",
       "7    55.826  4.0   SYN NaN   None  \n",
       "8    29.358  0.0  HTTP NaN   None  \n",
       "9    18.165  3.0   ACK NaN   None  \n",
       "10   10.858  1.0   UDP NaN   None  \n",
       "11   36.191  1.0   ARP NaN   None  \n",
       "12  153.923  1.0    SP NaN   None  \n",
       "13   23.954  1.0    BF NaN   None  "
      ]
     },
     "execution_count": 15,
     "metadata": {},
     "output_type": "execute_result"
    }
   ],
   "source": [
    "results[-7:]"
   ]
  },
  {
   "cell_type": "code",
   "execution_count": 13,
   "metadata": {},
   "outputs": [
    {
     "ename": "IndexError",
     "evalue": "list index out of range",
     "output_type": "error",
     "traceback": [
      "\u001b[1;31m---------------------------------------------------------------------------\u001b[0m",
      "\u001b[1;31mIndexError\u001b[0m                                Traceback (most recent call last)",
      "Cell \u001b[1;32mIn[13], line 8\u001b[0m\n\u001b[0;32m      6\u001b[0m     m\u001b[38;5;241m=\u001b[39mdf[\u001b[38;5;124m\"\u001b[39m\u001b[38;5;124mmax_depth\u001b[39m\u001b[38;5;124m\"\u001b[39m]\u001b[38;5;241m.\u001b[39mmin()\n\u001b[0;32m      7\u001b[0m     df\u001b[38;5;241m=\u001b[39mdf[df[\u001b[38;5;124m\"\u001b[39m\u001b[38;5;124mmax_depth\u001b[39m\u001b[38;5;124m\"\u001b[39m]\u001b[38;5;241m==\u001b[39mm]  \n\u001b[1;32m----> 8\u001b[0m     final_parametres\u001b[38;5;241m.\u001b[39mappend(\u001b[38;5;28;43mlist\u001b[39;49m\u001b[43m(\u001b[49m\u001b[43mdf\u001b[49m\u001b[38;5;241;43m.\u001b[39;49m\u001b[43mvalues\u001b[49m\u001b[43m)\u001b[49m\u001b[43m[\u001b[49m\u001b[38;5;241;43m0\u001b[39;49m\u001b[43m]\u001b[49m)\n\u001b[0;32m      9\u001b[0m results \u001b[38;5;241m=\u001b[39m pd\u001b[38;5;241m.\u001b[39mDataFrame (final_parametres[\u001b[38;5;241m1\u001b[39m:], columns\u001b[38;5;241m=\u001b[39m  final_parametres[\u001b[38;5;241m0\u001b[39m])\n\u001b[0;32m     10\u001b[0m \u001b[38;5;28mprint\u001b[39m (tabulate(results, headers\u001b[38;5;241m=\u001b[39m\u001b[38;5;28mlist\u001b[39m(results\u001b[38;5;241m.\u001b[39mcolumns)))\n",
      "\u001b[1;31mIndexError\u001b[0m: list index out of range"
     ]
    }
   ],
   "source": [
    "final_parametres=[['n_estimators', 'max_depth', 'learning_rate','min_child_weight', \"F1\",\"Std\",\"Time\",\"No\",\"Attack\"]]\n",
    "for i in results[\"Attack\"].unique():\n",
    "    df=results[results[\"Attack\"]==i]\n",
    "    m=df[\"F1\"].max()\n",
    "    df=df[df[\"F1\"]==m]\n",
    "    m=df[\"max_depth\"].min()\n",
    "    df=df[df[\"max_depth\"]==m]  \n",
    "    final_parametres.append(list(df.values)[0])\n",
    "results = pd.DataFrame (final_parametres[1:], columns=  final_parametres[0])\n",
    "print (tabulate(results, headers=list(results.columns)))\n",
    "    "
   ]
  },
  {
   "cell_type": "markdown",
   "metadata": {},
   "source": [
    "# RandomizedSearchCV  KNeighborsClassifier"
   ]
  },
  {
   "cell_type": "code",
   "execution_count": 16,
   "metadata": {
    "scrolled": true
   },
   "outputs": [
    {
     "name": "stdout",
     "output_type": "stream",
     "text": [
      "SYN\n",
      "default                             0.9614496200317089   56.248   24      \n"
     ]
    },
    {
     "name": "stderr",
     "output_type": "stream",
     "text": [
      "100%|██████████████████████████████████████████████████████████████████████████████████| 10/10 [09:13<00:00, 55.40s/it]\n"
     ]
    },
    {
     "name": "stdout",
     "output_type": "stream",
     "text": [
      "HTTP\n",
      "default                             0.9170290653692525   1.984    24      \n"
     ]
    },
    {
     "name": "stderr",
     "output_type": "stream",
     "text": [
      "100%|██████████████████████████████████████████████████████████████████████████████████| 10/10 [00:10<00:00,  1.03s/it]\n"
     ]
    },
    {
     "name": "stdout",
     "output_type": "stream",
     "text": [
      "ACK\n",
      "default                             0.3703133025166922   2.232    24      \n"
     ]
    },
    {
     "name": "stderr",
     "output_type": "stream",
     "text": [
      "100%|██████████████████████████████████████████████████████████████████████████████████| 10/10 [00:10<00:00,  1.07s/it]\n"
     ]
    },
    {
     "name": "stdout",
     "output_type": "stream",
     "text": [
      "UDP\n",
      "default                             0.9531565656565659   1.058    24      \n"
     ]
    },
    {
     "name": "stderr",
     "output_type": "stream",
     "text": [
      "100%|██████████████████████████████████████████████████████████████████████████████████| 10/10 [00:05<00:00,  1.67it/s]\n"
     ]
    },
    {
     "name": "stdout",
     "output_type": "stream",
     "text": [
      "ARP\n",
      "default                             0.7398308807379749   1.293    24      \n"
     ]
    },
    {
     "name": "stderr",
     "output_type": "stream",
     "text": [
      "100%|██████████████████████████████████████████████████████████████████████████████████| 10/10 [00:04<00:00,  2.26it/s]\n"
     ]
    },
    {
     "name": "stdout",
     "output_type": "stream",
     "text": [
      "SP\n",
      "default                             0.9571576691781299   2.607    24      \n"
     ]
    },
    {
     "name": "stderr",
     "output_type": "stream",
     "text": [
      "100%|██████████████████████████████████████████████████████████████████████████████████| 10/10 [00:13<00:00,  1.39s/it]\n"
     ]
    },
    {
     "name": "stdout",
     "output_type": "stream",
     "text": [
      "BF\n",
      "default                             0.8150577654437577   1.333    24      \n"
     ]
    },
    {
     "name": "stderr",
     "output_type": "stream",
     "text": [
      "100%|██████████████████████████████████████████████████████████████████████████████████| 10/10 [00:07<00:00,  1.36it/s]"
     ]
    },
    {
     "name": "stdout",
     "output_type": "stream",
     "text": [
      "    algorithm      leaf_size    n_neighbors  weights          F1    Std    Time    No  Attack\n",
      "--  -----------  -----------  -------------  ---------  --------  -----  ------  ----  --------\n",
      " 0  auto                  42              6  distance   1             0  47.95      4  SYN\n",
      " 1  brute                  7              4  distance   1             0   1.511     5  HTTP\n",
      " 2  auto                  11              4  distance   0.370959      0   1.038     5  ACK\n",
      " 3  auto                  23              4  distance   1             0   0.487     6  UDP\n",
      " 4  ball_tree              5             16  distance   0.919672      0   0.428     6  ARP\n",
      " 5  kd_tree               33              3  distance   1             0   1.163     2  SP\n",
      " 6  kd_tree               38              2  distance   0.998017      0   0.533     2  BF\n"
     ]
    },
    {
     "name": "stderr",
     "output_type": "stream",
     "text": [
      "\n"
     ]
    }
   ],
   "source": [
    "lines=[['algorithm', 'leaf_size', 'n_neighbors', 'weights', \"F1\",\"Std\",\"Time\",\"No\",\"Attack\"]]\n",
    "\n",
    "\n",
    "for j in file_list:\n",
    "    print(j)\n",
    "    \n",
    "    \n",
    "    df=pd.read_csv(file_list[j][0],usecols=feature_list[j]) \n",
    "    X_train = df.iloc[:,0:-1]\n",
    "    df['Label'] = df['Label'].astype('category')\n",
    "    y_train=df['Label'].cat.codes  \n",
    "\n",
    "\n",
    "    df=pd.read_csv(file_list[j][0],usecols=feature_list[j]) \n",
    "    X_test = df.iloc[:,0:-1]\n",
    "    df['Label'] = df['Label'].astype('category')\n",
    "    y_test=df['Label'].cat.codes  \n",
    "    \n",
    "    \n",
    "    \n",
    "    X= np.concatenate([X_train, X_test])\n",
    "    test_fold = [-1 for _ in range(X_train.shape[0])] + [0 for _ in range(X_test.shape[0])]\n",
    "    y = np.concatenate([y_train, y_test])\n",
    "    ps = PredefinedSplit(test_fold)\n",
    "    \n",
    "    \n",
    "\n",
    "    # use a full grid over all parameters\n",
    "    param_grid = {\"n_neighbors\" : sp_randint(1,64) ,  \n",
    "                 \"leaf_size\": sp_randint(1,50) , \n",
    "                  \"algorithm\" : [\"auto\", \"ball_tree\", \"kd_tree\", \"brute\"],\n",
    "                  \"weights\" : [\"uniform\", \"distance\"]}\n",
    "    second=time()\n",
    "    f1=[]\n",
    "    clf=KNeighborsClassifier()\n",
    "    for ii in range(25):\n",
    "        clf.fit(X_train, y_train)\n",
    "        predict =clf.predict(X_test)\n",
    "        f1.append(sklearn.metrics.f1_score(y_test, predict,average= \"macro\") )\n",
    "    f1=sum(f1)/len(f1)   \n",
    "    #if f1>0.76:\n",
    "    print('%-35s %-20s %-8s %-8s' % (\"default\",f1,round(time()-second,3),ii))\n",
    "\n",
    "\n",
    "    \n",
    "    ######################################################################################################################\n",
    "    for i in tqdm(range(10)):\n",
    "        second=time()\n",
    "        a,b,clf=run_random_search(KNeighborsClassifier(),param_grid,X,y)\n",
    "        f1=[]\n",
    "        for ii in range(5):\n",
    "            clf.fit(X_train, y_train)\n",
    "            predict =clf.predict(X_test)\n",
    "            f1.append(sklearn.metrics.f1_score(y_test, predict,average= \"macro\") )\n",
    "        f1_result=sum(f1)/len(f1)   \n",
    "        f1=np.array(f1)\n",
    "        stndtd=f1.std()\n",
    "        temp=list(a.values())\n",
    "        #print('%-90s %-20s %-8s %-8s' % (a,f1_result,round(time()-second,3),i))\n",
    "        temp=temp+[f1_result,stndtd,round(time()-second,3),i,j]\n",
    "        lines.append(temp)\n",
    "\n",
    "        #if f1>0.76:\n",
    "results = pd.DataFrame (lines[1:], columns = lines[0])\n",
    "results.to_csv(\"knn_HPO.csv\",index=False)\n",
    "\n",
    "final_parametres=[['algorithm', 'leaf_size', 'n_neighbors', 'weights', \"F1\",\"Std\",\"Time\",\"No\",\"Attack\"]]\n",
    "\n",
    "for i in results[\"Attack\"].unique():\n",
    "    df=results[results[\"Attack\"]==i]\n",
    "    m=df[\"F1\"].max()\n",
    "    df=df[df[\"F1\"]==m]\n",
    "    m=df[\"n_neighbors\"].min()\n",
    "    df=df[df[\"n_neighbors\"]==m]  \n",
    "    final_parametres.append(list(df.values)[0])\n",
    "results = pd.DataFrame (final_parametres[1:], columns=  final_parametres[0])\n",
    "print (tabulate(results, headers=list(results.columns)))\n",
    "    \n",
    "    \n",
    "    \n",
    "    \n",
    "    "
   ]
  },
  {
   "cell_type": "code",
   "execution_count": 17,
   "metadata": {},
   "outputs": [],
   "source": [
    "from sklearn.naive_bayes import GaussianNB"
   ]
  },
  {
   "cell_type": "code",
   "execution_count": 18,
   "metadata": {},
   "outputs": [
    {
     "name": "stdout",
     "output_type": "stream",
     "text": [
      "SYN\n",
      "default                             0.7265716823629493   0.047    0       \n"
     ]
    },
    {
     "name": "stderr",
     "output_type": "stream",
     "text": [
      "100%|██████████████████████████████████████████████████████████████████████████████████| 10/10 [00:06<00:00,  1.49it/s]\n"
     ]
    },
    {
     "name": "stdout",
     "output_type": "stream",
     "text": [
      "HTTP\n",
      "default                             0.8041507420497844   0.0      0       \n"
     ]
    },
    {
     "name": "stderr",
     "output_type": "stream",
     "text": [
      "100%|██████████████████████████████████████████████████████████████████████████████████| 10/10 [00:00<00:00, 13.98it/s]\n"
     ]
    },
    {
     "name": "stdout",
     "output_type": "stream",
     "text": [
      "ACK\n",
      "default                             0.7992571884984025   0.006    0       \n"
     ]
    },
    {
     "name": "stderr",
     "output_type": "stream",
     "text": [
      "100%|██████████████████████████████████████████████████████████████████████████████████| 10/10 [00:00<00:00, 14.41it/s]\n"
     ]
    },
    {
     "name": "stdout",
     "output_type": "stream",
     "text": [
      "UDP\n",
      "default                             0.6270659466535755   0.007    0       \n"
     ]
    },
    {
     "name": "stderr",
     "output_type": "stream",
     "text": [
      "100%|██████████████████████████████████████████████████████████████████████████████████| 10/10 [00:00<00:00, 15.84it/s]\n"
     ]
    },
    {
     "name": "stdout",
     "output_type": "stream",
     "text": [
      "ARP\n",
      "default                             0.46306480621765694  0.005    0       \n"
     ]
    },
    {
     "name": "stderr",
     "output_type": "stream",
     "text": [
      "100%|██████████████████████████████████████████████████████████████████████████████████| 10/10 [00:00<00:00, 15.74it/s]\n"
     ]
    },
    {
     "name": "stdout",
     "output_type": "stream",
     "text": [
      "SP\n",
      "default                             0.9721473252804143   0.007    0       \n"
     ]
    },
    {
     "name": "stderr",
     "output_type": "stream",
     "text": [
      "100%|██████████████████████████████████████████████████████████████████████████████████| 10/10 [00:00<00:00, 14.58it/s]\n"
     ]
    },
    {
     "name": "stdout",
     "output_type": "stream",
     "text": [
      "BF\n",
      "default                             0.27946484729619614  0.0      0       \n"
     ]
    },
    {
     "name": "stderr",
     "output_type": "stream",
     "text": [
      "100%|██████████████████████████████████████████████████████████████████████████████████| 10/10 [00:00<00:00, 16.21it/s]"
     ]
    },
    {
     "name": "stdout",
     "output_type": "stream",
     "text": [
      "      var_smoothing        F1          Std    Time    No  Attack\n",
      "--  ---------------  --------  -----------  ------  ----  --------\n",
      " 0      2.84804e-06  0.747152  0             0.67      0  SYN\n",
      " 1      2.84804e-06  0.747152  0             0.664     1  SYN\n",
      " 2      1.51991e-06  0.747152  0             0.675     2  SYN\n",
      " 3      1.87382e-06  0.747152  0             0.659     3  SYN\n",
      " 4      3.51119e-07  0.741789  0             0.663     4  SYN\n",
      " 5      3.51119e-06  0.747152  0             0.67      5  SYN\n",
      " 6      2.31013e-06  0.747152  0             0.677     6  SYN\n",
      " 7      3.51119e-06  0.747152  0             0.679     7  SYN\n",
      " 8      1.87382e-05  0.741609  0             0.667     8  SYN\n",
      " 9      1e-05        0.747152  0             0.669     9  SYN\n",
      "10      2.84804e-09  0.804151  0             0.066     0  HTTP\n",
      "11      1.23285e-08  0.752592  0             0.063     1  HTTP\n",
      "12      3.51119e-09  0.804151  0             0.086     2  HTTP\n",
      "13      1e-09        0.804151  0             0.063     3  HTTP\n",
      "14      3.51119e-09  0.804151  0             0.064     4  HTTP\n",
      "15      5.3367e-09   0.799084  0             0.079     5  HTTP\n",
      "16      2.84804e-08  0.739948  0             0.058     6  HTTP\n",
      "17      4.32876e-09  0.804151  0             0.079     7  HTTP\n",
      "18      1e-09        0.804151  0             0.078     8  HTTP\n",
      "19      6.57933e-09  0.785124  0             0.074     9  HTTP\n",
      "20      6.57933e-09  0.782728  0             0.074     0  ACK\n",
      "21      2.84804e-07  0.736384  0             0.069     1  ACK\n",
      "22      3.51119e-08  0.761003  0             0.076     2  ACK\n",
      "23      1.87382e-09  0.793488  0             0.061     3  ACK\n",
      "24      1e-09        0.799257  0             0.052     4  ACK\n",
      "25      2.84804e-07  0.736384  0             0.068     5  ACK\n",
      "26      1.23285e-09  0.795138  0             0.061     6  ACK\n",
      "27      2.31013e-09  0.791837  0             0.07      7  ACK\n",
      "28      1e-09        0.799257  0             0.078     8  ACK\n",
      "29      2.31013e-09  0.791837  0             0.076     9  ACK\n",
      "30      8.11131e-09  0.592104  0             0.067     0  UDP\n",
      "31      5.3367e-08   0.561649  0             0.068     1  UDP\n",
      "32      1.51991e-09  0.622197  0             0.06      2  UDP\n",
      "33      5.3367e-08   0.561649  0             0.06      3  UDP\n",
      "34      1.87382e-09  0.619043  0             0.074     4  UDP\n",
      "35      1e-09        0.627066  0             0.056     5  UDP\n",
      "36      1.87382e-09  0.619043  0             0.064     6  UDP\n",
      "37      8.11131e-08  0.554332  0             0.068     7  UDP\n",
      "38      2.31013e-08  0.571545  0             0.046     8  UDP\n",
      "39      1.51991e-09  0.622197  0             0.063     9  UDP\n",
      "40      1e-09        0.463065  0             0.064     0  ARP\n",
      "41      8.11131e-09  0.46005   0             0.063     1  ARP\n",
      "42      3.51119e-09  0.46005   0             0.061     2  ARP\n",
      "43      1.51991e-08  0.461446  0             0.061     3  ARP\n",
      "44      1e-08        0.461446  0             0.067     4  ARP\n",
      "45      1.51991e-08  0.461446  0             0.061     5  ARP\n",
      "46      2.84804e-09  0.458655  5.55112e-17   0.067     6  ARP\n",
      "47      2.31013e-07  0.459297  0             0.063     7  ARP\n",
      "48      8.11131e-09  0.46005   0             0.061     8  ARP\n",
      "49      1.87382e-08  0.461446  0             0.056     9  ARP\n",
      "50      2.31013e-09  0.972147  1.11022e-16   0.07      0  SP\n",
      "51      2.84804e-09  0.972147  1.11022e-16   0.067     1  SP\n",
      "52      2.84804e-09  0.972147  1.11022e-16   0.055     2  SP\n",
      "53      1.23285e-09  0.972147  1.11022e-16   0.078     3  SP\n",
      "54      8.11131e-09  0.972147  1.11022e-16   0.067     4  SP\n",
      "55      2.84804e-07  0.946731  1.11022e-16   0.07      5  SP\n",
      "56      4.32876e-09  0.972147  1.11022e-16   0.073     6  SP\n",
      "57      1e-08        0.962239  0             0.074     7  SP\n",
      "58      1e-07        0.951989  0             0.065     8  SP\n",
      "59      1e-09        0.972147  1.11022e-16   0.064     9  SP\n",
      "60      0.0811131    0.501931  0             0.07      0  BF\n",
      "61      0.000811131  0.49391   5.55112e-17   0.048     1  BF\n",
      "62      0.1          0.504825  0             0.062     2  BF\n",
      "63      0.1          0.504825  0             0.064     3  BF\n",
      "64      0.000284804  0.49391   5.55112e-17   0.062     4  BF\n",
      "65      0.0811131    0.501931  0             0.063     5  BF\n",
      "66      0.00053367   0.49391   5.55112e-17   0.059     6  BF\n",
      "67      0.0811131    0.501931  0             0.057     7  BF\n",
      "68      0.1          0.504825  0             0.071     8  BF\n",
      "69      0.0657933    0.497976  5.55112e-17   0.061     9  BF\n"
     ]
    },
    {
     "name": "stderr",
     "output_type": "stream",
     "text": [
      "\n"
     ]
    }
   ],
   "source": [
    "lines=[['var_smoothing', \"F1\",\"Std\",\"Time\",\"No\",\"Attack\"]]\n",
    "for j in file_list:\n",
    "    print(j)\n",
    "    \n",
    "    df=pd.read_csv(file_list[j][0],usecols=feature_list[j]) \n",
    "    X_train = df.iloc[:,0:-1]\n",
    "    df['Label'] = df['Label'].astype('category')\n",
    "    y_train=df['Label'].cat.codes  \n",
    "\n",
    "\n",
    "    df=pd.read_csv(file_list[j][0],usecols=feature_list[j]) \n",
    "    X_test = df.iloc[:,0:-1]\n",
    "    df['Label'] = df['Label'].astype('category')\n",
    "    y_test=df['Label'].cat.codes  \n",
    "    \n",
    "    X= np.concatenate([X_train, X_test])\n",
    "    test_fold = [-1 for _ in range(X_train.shape[0])] + [0 for _ in range(X_test.shape[0])]\n",
    "    y = np.concatenate([y_train, y_test])\n",
    "    ps = PredefinedSplit(test_fold)\n",
    "    \n",
    "    second=time()\n",
    "\n",
    "    param_grid = {\n",
    "        'var_smoothing': np.logspace(0,-9, num=100),\n",
    "    }\n",
    "\n",
    " \n",
    "    second=time()\n",
    "    f1=[]\n",
    "    clf=GaussianNB()\n",
    "    for ii in range(1):\n",
    "        clf.fit(X_train, y_train)\n",
    "        predict =clf.predict(X_test)\n",
    "        f1.append(sklearn.metrics.f1_score(y_test, predict,average= \"macro\") )\n",
    "    f1=sum(f1)/len(f1)   \n",
    "    #if f1>0.76:\n",
    "    print('%-35s %-20s %-8s %-8s' % (\"default\",f1,round(time()-second,3),ii))\n",
    "    ######################################################################################################################\n",
    "    for i in tqdm(range(10)):\n",
    "        second=time()\n",
    "        a,b,clf=run_random_search(GaussianNB(),param_grid,X,y)\n",
    "        f1=[]\n",
    "        for ii in range(5):\n",
    "            clf.fit(X_train, y_train)\n",
    "            predict =clf.predict(X_test)\n",
    "            f1.append(sklearn.metrics.f1_score(y_test, predict,average= \"macro\") )\n",
    "        f1_result=sum(f1)/len(f1)   \n",
    "        f1=np.array(f1)\n",
    "        stndtd=f1.std()\n",
    "        temp=list(a.values())\n",
    "        #print('%-90s %-20s %-8s %-8s' % (a,f1_result,round(time()-second,3),i))\n",
    "        temp=temp+[f1_result,stndtd,round(time()-second,3),i,j]\n",
    "        lines.append(temp)\n",
    "\n",
    "\n",
    "results = pd.DataFrame (lines[1:], columns = lines[0])\n",
    "results.to_csv(\"NB_HPO.csv\",index=False)\n",
    "print (tabulate(results, headers=list(results.columns)))\n",
    "    \n"
   ]
  },
  {
   "cell_type": "code",
   "execution_count": 19,
   "metadata": {},
   "outputs": [
    {
     "name": "stdout",
     "output_type": "stream",
     "text": [
      "      var_smoothing        F1          Std    Time    No  Attack\n",
      "--  ---------------  --------  -----------  ------  ----  --------\n",
      " 0      2.84804e-06  0.747152  0             0.67      0  SYN\n",
      " 1      2.84804e-09  0.804151  0             0.066     0  HTTP\n",
      " 2      1e-09        0.799257  0             0.052     4  ACK\n",
      " 3      1e-09        0.627066  0             0.056     5  UDP\n",
      " 4      1e-09        0.463065  0             0.064     0  ARP\n",
      " 5      2.31013e-09  0.972147  1.11022e-16   0.07      0  SP\n",
      " 6      0.1          0.504825  0             0.062     2  BF\n"
     ]
    }
   ],
   "source": [
    "\n",
    "final_parametres=[[\"var_smoothing\",\"F1\",\"Std\",\"Time\",\"No\",\"Attack\"]]\n",
    "for i in results[\"Attack\"].unique():\n",
    "    df=results[results[\"Attack\"]==i]\n",
    "    m=df[\"F1\"].max()\n",
    "    df=df[df[\"F1\"]==m]\n",
    "    final_parametres.append(list(df.values)[0])\n",
    "results = pd.DataFrame (final_parametres[1:], columns=  final_parametres[0])\n",
    "print (tabulate(results, headers=list(results.columns)))\n",
    "    "
   ]
  },
  {
   "cell_type": "markdown",
   "metadata": {},
   "source": [
    "# LR"
   ]
  },
  {
   "cell_type": "code",
   "execution_count": 20,
   "metadata": {},
   "outputs": [
    {
     "name": "stdout",
     "output_type": "stream",
     "text": [
      "SYN\n",
      "default                             0.9877752607048639   0.444    0       \n"
     ]
    },
    {
     "name": "stderr",
     "output_type": "stream",
     "text": [
      "100%|██████████████████████████████████████████████████████████████████████████████████| 10/10 [01:16<00:00,  7.66s/it]\n"
     ]
    },
    {
     "name": "stdout",
     "output_type": "stream",
     "text": [
      "HTTP\n",
      "default                             0.3436137821238856   0.058    0       \n"
     ]
    },
    {
     "name": "stderr",
     "output_type": "stream",
     "text": [
      "100%|██████████████████████████████████████████████████████████████████████████████████| 10/10 [00:06<00:00,  1.66it/s]\n"
     ]
    },
    {
     "name": "stdout",
     "output_type": "stream",
     "text": [
      "ACK\n",
      "default                             0.894196863115009    0.065    0       \n"
     ]
    },
    {
     "name": "stderr",
     "output_type": "stream",
     "text": [
      "100%|██████████████████████████████████████████████████████████████████████████████████| 10/10 [05:07<00:00, 30.74s/it]\n"
     ]
    },
    {
     "name": "stdout",
     "output_type": "stream",
     "text": [
      "UDP\n",
      "default                             0.9754969949144706   0.144    0       \n"
     ]
    },
    {
     "name": "stderr",
     "output_type": "stream",
     "text": [
      "100%|██████████████████████████████████████████████████████████████████████████████████| 10/10 [00:14<00:00,  1.43s/it]\n"
     ]
    },
    {
     "name": "stdout",
     "output_type": "stream",
     "text": [
      "ARP\n",
      "default                             0.6425775431811649   0.085    0       \n"
     ]
    },
    {
     "name": "stderr",
     "output_type": "stream",
     "text": [
      "100%|██████████████████████████████████████████████████████████████████████████████████| 10/10 [01:53<00:00, 11.40s/it]\n"
     ]
    },
    {
     "name": "stdout",
     "output_type": "stream",
     "text": [
      "SP\n",
      "default                             0.9622386313788566   0.224    0       \n"
     ]
    },
    {
     "name": "stderr",
     "output_type": "stream",
     "text": [
      "100%|██████████████████████████████████████████████████████████████████████████████████| 10/10 [00:11<00:00,  1.14s/it]\n"
     ]
    },
    {
     "name": "stdout",
     "output_type": "stream",
     "text": [
      "BF\n",
      "default                             0.45874587458745875  0.064    0       \n"
     ]
    },
    {
     "name": "stderr",
     "output_type": "stream",
     "text": [
      "100%|██████████████████████████████████████████████████████████████████████████████████| 10/10 [00:12<00:00,  1.26s/it]"
     ]
    },
    {
     "name": "stdout",
     "output_type": "stream",
     "text": [
      "               C  penalty    Solver           F1          Std    Time    No  Attack\n",
      "--  ------------  ---------  ---------  --------  -----------  ------  ----  --------\n",
      " 0   3.12528      none       lbfgs      0.987775  1.11022e-16  21.657     0  SYN\n",
      " 1   0.296439     none       lbfgs      0.987775  1.11022e-16   6.966     1  SYN\n",
      " 2   1.54609e-05  l2         liblinear  0.974941  1.11022e-16   5.812     2  SYN\n",
      " 3   0.000636388  none       lbfgs      0.987775  1.11022e-16   5.227     3  SYN\n",
      " 4   0.00103276   l2         lbfgs      0.987775  1.11022e-16   4.564     4  SYN\n",
      " 5  15.7231       none       lbfgs      0.987775  1.11022e-16   7.806     5  SYN\n",
      " 6   0.00686268   none       lbfgs      0.987775  1.11022e-16   7.071     6  SYN\n",
      " 7   0.00870369   none       lbfgs      0.987775  1.11022e-16   3.903     7  SYN\n",
      " 8  15.8866       none       lbfgs      0.987775  1.11022e-16   8.116     8  SYN\n",
      " 9   0.11427      l2         lbfgs      0.987775  1.11022e-16   5.421     9  SYN\n",
      "10   0.237316     l2         liblinear  0.593155  0             0.285     0  HTTP\n",
      "11   1.39267      l1         liblinear  0.936017  1.11022e-16   0.339     1  HTTP\n",
      "12   0.00316234   l2         liblinear  0.593155  0             1.744     2  HTTP\n",
      "13   0.0251253    l2         liblinear  0.593155  0             0.196     3  HTTP\n",
      "14   0.00382436   l2         liblinear  0.593155  0             0.643     4  HTTP\n",
      "15   0.00134913   none       lbfgs      0.343614  0             0.405     5  HTTP\n",
      "16   4.0544e-05   l2         liblinear  0.593155  0             0.619     6  HTTP\n",
      "17   6.41138e-05  l1         liblinear  0.44059   0.000310315   0.825     7  HTTP\n",
      "18  98.6489       l2         liblinear  0.593155  0             0.147     8  HTTP\n",
      "19   0.819067     l1         liblinear  0.936017  1.11022e-16   0.803     9  HTTP\n",
      "20   0.000174804  none       lbfgs      0.895004  0             0.355     0  ACK\n",
      "21   0.244812     l2         lbfgs      0.894197  0            17.42      1  ACK\n",
      "22  20.1824       none       lbfgs      0.895004  0            54.039     2  ACK\n",
      "23   0.911567     l1         liblinear  0.890161  0.00444926   19.065     3  ACK\n",
      "24   0.00312961   none       lbfgs      0.895004  0            35.179     4  ACK\n",
      "25   0.0011318    l2         liblinear  0.832765  0            54.225     5  ACK\n",
      "26   0.608729     none       lbfgs      0.895004  0            36.136     6  ACK\n",
      "27   0.0152714    l2         lbfgs      0.832765  0            34.878     7  ACK\n",
      "28   0.169408     l2         lbfgs      0.894197  0            18.423     8  ACK\n",
      "29   0.404474     l1         liblinear  0.887418  0.00437833   37.717     9  ACK\n",
      "30   0.000508345  none       lbfgs      1         0             1.609     0  UDP\n",
      "31   0.100423     l2         lbfgs      1         0             1.4       1  UDP\n",
      "32   9.49166      l2         lbfgs      1         0             1.351     2  UDP\n",
      "33  96.1744       l2         lbfgs      1         0             1.732     3  UDP\n",
      "34   0.000483812  l2         lbfgs      1         0             1.663     4  UDP\n",
      "35   0.00220756   none       lbfgs      1         0             1.264     5  UDP\n",
      "36  25.9902       none       lbfgs      1         0             1.331     6  UDP\n",
      "37   1.40942e-05  none       lbfgs      1         0             1.37      7  UDP\n",
      "38   0.139526     l2         lbfgs      1         0             1.326     8  UDP\n",
      "39   7.44654      none       lbfgs      1         0             1.21      9  UDP\n",
      "40   0.000149679  none       newton-cg  0.710938  0            11.65      0  ARP\n",
      "41  17.8643       l1         liblinear  0.70585   0.000991423  12.092     1  ARP\n",
      "42   0.0239764    l2         newton-cg  0.710938  0             9.92      2  ARP\n",
      "43  36.446        none       newton-cg  0.710938  0            14.037     3  ARP\n",
      "44  41.2284       none       newton-cg  0.710938  0            11.658     4  ARP\n",
      "45   7.21375e-05  l2         newton-cg  0.711527  0            10.947     5  ARP\n",
      "46   1.03684e-05  l2         newton-cg  0.710938  0            12.272     6  ARP\n",
      "47   0.000675174  none       newton-cg  0.710938  0            12.057     7  ARP\n",
      "48   5.86876      none       newton-cg  0.710938  0             9.725     8  ARP\n",
      "49   6.02101e-05  none       newton-cg  0.710938  0             9.619     9  ARP\n",
      "50  50.8013       l1         liblinear  1         0             0.737     0  SP\n",
      "51   5.2e-05      l2         lbfgs      0.967234  0             1.827     1  SP\n",
      "52   9.54633      l2         liblinear  0.967234  0             0.359     2  SP\n",
      "53  49.6549       l1         liblinear  1         0             0.581     3  SP\n",
      "54  49.1236       l1         liblinear  1         0             0.593     4  SP\n",
      "55   0.244464     l1         liblinear  1         0             0.214     5  SP\n",
      "56   0.0478966    l2         lbfgs      0.972147  1.11022e-16   1.6       6  SP\n",
      "57   0.0797157    l2         lbfgs      0.967234  0             2.04      7  SP\n",
      "58   9.26076      none       lbfgs      0.964611  0             1.679     8  SP\n",
      "59   2.6486       l2         lbfgs      0.962239  0             1.749     9  SP\n",
      "60   8.47978e-05  l1         liblinear  0.458746  0             1.326     0  BF\n",
      "61   5.70815e-05  l2         liblinear  0.459043  5.55112e-17   1.449     1  BF\n",
      "62   0.000814726  l2         liblinear  0.459043  5.55112e-17   1.584     2  BF\n",
      "63   3.54254e-05  l2         liblinear  0.459043  5.55112e-17   0.275     3  BF\n",
      "64   1.22237      l2         liblinear  0.459043  5.55112e-17   0.213     4  BF\n",
      "65   0.0233077    l2         liblinear  0.459043  5.55112e-17   0.794     5  BF\n",
      "66   0.234263     l2         liblinear  0.459043  5.55112e-17   2.127     6  BF\n",
      "67  17.9561       none       lbfgs      0.458746  0             2.443     7  BF\n",
      "68   0.0126247    l2         liblinear  0.459043  5.55112e-17   1.51      8  BF\n",
      "69  12.4539       l2         liblinear  0.459043  5.55112e-17   0.807     9  BF\n",
      "               C  penalty    Solver           F1          Std    Time    No  Attack\n",
      "--  ------------  ---------  ---------  --------  -----------  ------  ----  --------\n",
      " 0   3.12528      none       lbfgs      0.987775  1.11022e-16  21.657     0  SYN\n",
      " 1   1.39267      l1         liblinear  0.936017  1.11022e-16   0.339     1  HTTP\n",
      " 2   0.000174804  none       lbfgs      0.895004  0             0.355     0  ACK\n",
      " 3   0.000508345  none       lbfgs      1         0             1.609     0  UDP\n",
      " 4   7.21375e-05  l2         newton-cg  0.711527  0            10.947     5  ARP\n",
      " 5  50.8013       l1         liblinear  1         0             0.737     0  SP\n",
      " 6   5.70815e-05  l2         liblinear  0.459043  5.55112e-17   1.449     1  BF\n"
     ]
    },
    {
     "name": "stderr",
     "output_type": "stream",
     "text": [
      "\n"
     ]
    }
   ],
   "source": [
    "from scipy.stats import loguniform\n",
    "from sklearn.linear_model import LogisticRegression\n",
    "lines=[[\"C\",'penalty','Solver',  \"F1\",\"Std\",\"Time\",\"No\",\"Attack\"]]\n",
    "for j in file_list:\n",
    "    print(j)\n",
    "    \n",
    "    df=pd.read_csv(file_list[j][0],usecols=feature_list[j]) \n",
    "    X_train = df.iloc[:,0:-1]\n",
    "    df['Label'] = df['Label'].astype('category')\n",
    "    y_train=df['Label'].cat.codes  \n",
    "\n",
    "\n",
    "    df=pd.read_csv(file_list[j][0],usecols=feature_list[j]) \n",
    "    X_test = df.iloc[:,0:-1]\n",
    "    df['Label'] = df['Label'].astype('category')\n",
    "    y_test=df['Label'].cat.codes  \n",
    "    \n",
    "    X= np.concatenate([X_train, X_test])\n",
    "    test_fold = [-1 for _ in range(X_train.shape[0])] + [0 for _ in range(X_test.shape[0])]\n",
    "    y = np.concatenate([y_train, y_test])\n",
    "    ps = PredefinedSplit(test_fold)\n",
    "    \n",
    "    second=time()\n",
    "\n",
    "    param_grid = {\n",
    "     'solver': ['newton-cg', 'lbfgs', 'liblinear'],\n",
    "    'penalty' : ['none', 'l1', 'l2', 'elasticnet'],\n",
    "    'C' : loguniform(1e-5, 100)\n",
    "        }\n",
    "    \n",
    "\n",
    " \n",
    "    second=time()\n",
    "    f1=[]\n",
    "    clf=LogisticRegression()\n",
    "    for ii in range(1):\n",
    "        clf.fit(X_train, y_train)\n",
    "        predict =clf.predict(X_test)\n",
    "        f1.append(sklearn.metrics.f1_score(y_test, predict,average= \"macro\") )\n",
    "    f1=sum(f1)/len(f1)   \n",
    "    #if f1>0.76:\n",
    "    print('%-35s %-20s %-8s %-8s' % (\"default\",f1,round(time()-second,3),ii))\n",
    "    ######################################################################################################################\n",
    "    for i in tqdm(range(10)):\n",
    "        second=time()\n",
    "        a,b,clf=run_random_search(LogisticRegression(),param_grid,X,y)\n",
    "        f1=[]\n",
    "        for ii in range(5):\n",
    "            clf.fit(X_train, y_train)\n",
    "            predict =clf.predict(X_test)\n",
    "            f1.append(sklearn.metrics.f1_score(y_test, predict,average= \"macro\") )\n",
    "        f1_result=sum(f1)/len(f1)   \n",
    "        f1=np.array(f1)\n",
    "        stndtd=f1.std()\n",
    "        temp=list(a.values())\n",
    "        #print('%-90s %-20s %-8s %-8s' % (a,f1_result,round(time()-second,3),i))\n",
    "        temp=temp+[f1_result,stndtd,round(time()-second,3),i,j]\n",
    "        lines.append(temp)\n",
    "\n",
    "\n",
    "results = pd.DataFrame (lines[1:], columns = lines[0])\n",
    "results.to_csv(\"LR_HPO.csv\",index=False)\n",
    "print (tabulate(results, headers=list(results.columns)))\n",
    "    \n",
    "final_parametres=[[\"C\",'penalty','Solver',  \"F1\",\"Std\",\"Time\",\"No\",\"Attack\"]]\n",
    "for i in results[\"Attack\"].unique():\n",
    "    df=results[results[\"Attack\"]==i]\n",
    "    m=df[\"F1\"].max()\n",
    "    df=df[df[\"F1\"]==m]\n",
    "    final_parametres.append(list(df.values)[0])\n",
    "results = pd.DataFrame (final_parametres[1:], columns=  final_parametres[0])\n",
    "print (tabulate(results, headers=list(results.columns)))\n",
    "    "
   ]
  },
  {
   "cell_type": "code",
   "execution_count": null,
   "metadata": {},
   "outputs": [],
   "source": []
  },
  {
   "cell_type": "code",
   "execution_count": null,
   "metadata": {},
   "outputs": [],
   "source": []
  },
  {
   "cell_type": "code",
   "execution_count": null,
   "metadata": {},
   "outputs": [],
   "source": []
  },
  {
   "cell_type": "markdown",
   "metadata": {},
   "source": [
    "# MLP"
   ]
  },
  {
   "cell_type": "code",
   "execution_count": 11,
   "metadata": {},
   "outputs": [],
   "source": [
    "import scipy.stats\n",
    "from sklearn.datasets import fetch_openml\n",
    "from sklearn.neural_network import MLPClassifier\n",
    "from sklearn.model_selection import RandomizedSearchCV\n",
    "\n",
    "\n",
    "param_dist = [\n",
    "    {'hidden_layer_sizes': (scipy.stats.randint(low=2**5, high=2**11+1).rvs(), )}\n",
    "    for _ in range(100)] + [\n",
    "    {'hidden_layer_sizes': (\n",
    "            scipy.stats.randint(low=2 ** 5, high=2 ** 11 + 1).rvs(),\n",
    "            scipy.stats.randint(low=2 ** 5, high=2 ** 11 + 1).rvs(),\n",
    "    )} for i in range(100)\n",
    "]\n",
    "\n",
    "layers=[]\n",
    "\n",
    "for i in param_dist:\n",
    "    layers.append(i['hidden_layer_sizes'])\n",
    "\n",
    "\n",
    "\n",
    "param_grid =  {\n",
    "    'hidden_layer_sizes': layers,\n",
    "    'solver': ['sgd', 'adam', 'lbfgs'],\n",
    "    'activation': ['relu', 'tanh'],\n",
    "    'alpha': [0.0001,0.001,0.01,0.1, 0.05],\n",
    "    'learning_rate': ['constant','adaptive']\n",
    "}\n"
   ]
  },
  {
   "cell_type": "code",
   "execution_count": 12,
   "metadata": {},
   "outputs": [
    {
     "name": "stdout",
     "output_type": "stream",
     "text": [
      "SYN\n",
      "default                             0.9682803935982738   2.047    0       \n"
     ]
    },
    {
     "name": "stderr",
     "output_type": "stream",
     "text": [
      "100%|████████████████████████████████████████████| 1/1 [07:50<00:00, 470.97s/it]\n"
     ]
    },
    {
     "name": "stdout",
     "output_type": "stream",
     "text": [
      "{'solver': 'adam', 'learning_rate': 'constant', 'hidden_layer_sizes': (901,), 'alpha': 0.1, 'activation': 'relu'} 0.9877752607048639   470.964  0       \n",
      "HTTP\n",
      "default                             0.28181108508977365  0.145    0       \n"
     ]
    },
    {
     "name": "stderr",
     "output_type": "stream",
     "text": [
      "100%|█████████████████████████████████████████████| 1/1 [01:23<00:00, 83.00s/it]"
     ]
    },
    {
     "name": "stdout",
     "output_type": "stream",
     "text": [
      "{'solver': 'adam', 'learning_rate': 'constant', 'hidden_layer_sizes': (408,), 'alpha': 0.001, 'activation': 'tanh'} 0.7605141444027561   83.002   0       \n",
      "ACK\n"
     ]
    },
    {
     "name": "stderr",
     "output_type": "stream",
     "text": [
      "\n"
     ]
    },
    {
     "name": "stdout",
     "output_type": "stream",
     "text": [
      "default                             0.8950041883779871   1.042    0       \n"
     ]
    },
    {
     "name": "stderr",
     "output_type": "stream",
     "text": [
      "100%|█████████████████████████████████████████████| 1/1 [01:08<00:00, 68.53s/it]\n"
     ]
    },
    {
     "name": "stdout",
     "output_type": "stream",
     "text": [
      "{'solver': 'adam', 'learning_rate': 'adaptive', 'hidden_layer_sizes': (95,), 'alpha': 0.01, 'activation': 'relu'} 0.8950041883779871   68.525   0       \n",
      "UDP\n",
      "default                             0.4931693989071038   0.073    0       \n"
     ]
    },
    {
     "name": "stderr",
     "output_type": "stream",
     "text": [
      "100%|████████████████████████████████████████████| 1/1 [03:21<00:00, 201.50s/it]\n"
     ]
    },
    {
     "name": "stdout",
     "output_type": "stream",
     "text": [
      "{'solver': 'lbfgs', 'learning_rate': 'constant', 'hidden_layer_sizes': (1043,), 'alpha': 0.0001, 'activation': 'tanh'} 0.9341673320912075   201.501  0       \n",
      "ARP\n",
      "default                             0.565720125042159    0.133    0       \n"
     ]
    },
    {
     "name": "stderr",
     "output_type": "stream",
     "text": [
      "100%|█████████████████████████████████████████████| 1/1 [00:56<00:00, 56.97s/it]"
     ]
    },
    {
     "name": "stdout",
     "output_type": "stream",
     "text": [
      "{'solver': 'sgd', 'learning_rate': 'adaptive', 'hidden_layer_sizes': (1637,), 'alpha': 0.0001, 'activation': 'tanh'} 0.7345969399406258   56.965   0       \n",
      "SP\n"
     ]
    },
    {
     "name": "stderr",
     "output_type": "stream",
     "text": [
      "\n"
     ]
    },
    {
     "name": "stdout",
     "output_type": "stream",
     "text": [
      "default                             0.9509566538479798   0.655    0       \n"
     ]
    },
    {
     "name": "stderr",
     "output_type": "stream",
     "text": [
      "100%|████████████████████████████████████████████| 1/1 [02:09<00:00, 129.31s/it]\n"
     ]
    },
    {
     "name": "stdout",
     "output_type": "stream",
     "text": [
      "{'solver': 'adam', 'learning_rate': 'constant', 'hidden_layer_sizes': (1533,), 'alpha': 0.05, 'activation': 'relu'} 0.9379884981570639   129.306  0       \n",
      "BF\n",
      "default                             0.49926120304347554  0.097    0       \n"
     ]
    },
    {
     "name": "stderr",
     "output_type": "stream",
     "text": [
      "100%|████████████████████████████████████████████| 1/1 [01:42<00:00, 102.55s/it]"
     ]
    },
    {
     "name": "stdout",
     "output_type": "stream",
     "text": [
      "{'solver': 'adam', 'learning_rate': 'adaptive', 'hidden_layer_sizes': (892, 1585), 'alpha': 0.001, 'activation': 'tanh'} 0.7317536041939712   102.547  0       \n",
      "    solver    learning_rate    hidden_layer_sizes      alpha  activation          F1    Std     Time    No  Attack\n",
      "--  --------  ---------------  --------------------  -------  ------------  --------  -----  -------  ----  --------\n",
      " 0  adam      constant         (901,)                 0.1     relu          0.987775      0  470.964     0  SYN\n",
      " 1  adam      constant         (408,)                 0.001   tanh          0.760514      0   83.002     0  HTTP\n",
      " 2  adam      adaptive         (95,)                  0.01    relu          0.895004      0   68.525     0  ACK\n",
      " 3  lbfgs     constant         (1043,)                0.0001  tanh          0.934167      0  201.501     0  UDP\n",
      " 4  sgd       adaptive         (1637,)                0.0001  tanh          0.734597      0   56.965     0  ARP\n",
      " 5  adam      constant         (1533,)                0.05    relu          0.937988      0  129.306     0  SP\n",
      " 6  adam      adaptive         (892, 1585)            0.001   tanh          0.731754      0  102.548     0  BF\n"
     ]
    },
    {
     "name": "stderr",
     "output_type": "stream",
     "text": [
      "\n"
     ]
    }
   ],
   "source": [
    "# MLP\n",
    "\n",
    "import scipy.stats\n",
    "from sklearn.datasets import fetch_openml\n",
    "from sklearn.neural_network import MLPClassifier\n",
    "from sklearn.model_selection import RandomizedSearchCV\n",
    "\n",
    "\n",
    "param_dist = [\n",
    "    {'hidden_layer_sizes': (scipy.stats.randint(low=2**5, high=2**11+1).rvs(), )}\n",
    "    for _ in range(100)] + [\n",
    "    {'hidden_layer_sizes': (\n",
    "            scipy.stats.randint(low=2 ** 5, high=2 ** 11 + 1).rvs(),\n",
    "            scipy.stats.randint(low=2 ** 5, high=2 ** 11 + 1).rvs(),\n",
    "    )} for i in range(100)\n",
    "]\n",
    "\n",
    "layers=[]\n",
    "\n",
    "for i in param_dist:\n",
    "    layers.append(i['hidden_layer_sizes'])\n",
    "\n",
    "\n",
    "\n",
    "param_grid =  {\n",
    "    'hidden_layer_sizes': layers,\n",
    "    'solver': ['sgd', 'adam', 'lbfgs'],\n",
    "    'activation': ['relu', 'tanh'],\n",
    "    'alpha': [0.0001,0.001,0.01,0.1, 0.05],\n",
    "    'learning_rate': ['constant','adaptive']\n",
    "}\n",
    "\n",
    "\n",
    "\n",
    "\n",
    "lines=[['solver', 'learning_rate','hidden_layer_sizes','alpha','activation', \"F1\",\"Std\",\"Time\",\"No\",\"Attack\"]]\n",
    "\n",
    "\n",
    "for j in file_list:\n",
    "    print(j)\n",
    "    \n",
    "    \n",
    "    df=pd.read_csv(file_list[j][0],usecols=feature_list[j]) \n",
    "    X_train = df.iloc[:,0:-1]\n",
    "    df['Label'] = df['Label'].astype('category')\n",
    "    y_train=df['Label'].cat.codes  \n",
    "\n",
    "\n",
    "    df=pd.read_csv(file_list[j][0],usecols=feature_list[j]) \n",
    "    X_test = df.iloc[:,0:-1]\n",
    "    df['Label'] = df['Label'].astype('category')\n",
    "    y_test=df['Label'].cat.codes  \n",
    "    \n",
    "    X= np.concatenate([X_train, X_test])\n",
    "    test_fold = [-1 for _ in range(X_train.shape[0])] + [0 for _ in range(X_test.shape[0])]\n",
    "    y = np.concatenate([y_train, y_test])\n",
    "    ps = PredefinedSplit(test_fold)\n",
    "    \n",
    "\n",
    "    param_grid =  {\n",
    "        'hidden_layer_sizes': layers,\n",
    "        'solver': ['sgd', 'adam', 'lbfgs'],\n",
    "        'activation': ['relu', 'tanh'],\n",
    "        'alpha': [0.0001,0.001,0.01,0.1, 0.05],\n",
    "        'learning_rate': ['constant','adaptive']\n",
    "    }\n",
    "\n",
    "\n",
    "\n",
    "    second=time()\n",
    "    f1=[]\n",
    "    clf=MLPClassifier()\n",
    "    for ii in range(1):\n",
    "        clf.fit(X_train, y_train)\n",
    "        predict =clf.predict(X_test)\n",
    "        f1.append(sklearn.metrics.f1_score(y_test, predict,average= \"macro\") )\n",
    "    f1=sum(f1)/len(f1)   \n",
    "    #if f1>0.76:\n",
    "    print('%-35s %-20s %-8s %-8s' % (\"default\",f1,round(time()-second,3),ii))\n",
    "\n",
    "\n",
    "    \n",
    "    ######################################################################################################################\n",
    "    for i in tqdm(range(1)):\n",
    "        second=time()\n",
    "        a,b,clf=run_random_search(MLPClassifier(),param_grid,X,y)\n",
    "        f1=[]\n",
    "        for ii in range(1):\n",
    "            clf.fit(X_train, y_train)\n",
    "            predict =clf.predict(X_test)\n",
    "            f1.append(sklearn.metrics.f1_score(y_test, predict,average= \"macro\") )\n",
    "        f1_result=sum(f1)/len(f1)   \n",
    "        f1=np.array(f1)\n",
    "        stndtd=f1.std()\n",
    "        temp=list(a.values())\n",
    "        print('%-90s %-20s %-8s %-8s' % (a,f1_result,round(time()-second,3),i))\n",
    "        temp=temp+[f1_result,stndtd,round(time()-second,3),i,j]\n",
    "        lines.append(temp)\n",
    "\n",
    "        #if f1>0.76:\n",
    "\n",
    "results = pd.DataFrame (lines[1:], columns = lines[0])\n",
    "results.to_csv(\"ann_HPO.csv\",index=False)\n",
    "\n",
    "\n",
    "print (tabulate(results, headers=list(results.columns)))\n",
    "    \n",
    "    "
   ]
  },
  {
   "cell_type": "markdown",
   "metadata": {},
   "source": [
    "-------------"
   ]
  },
  {
   "cell_type": "markdown",
   "metadata": {},
   "source": [
    "# RandomizedSearchCV  SVM"
   ]
  },
  {
   "cell_type": "code",
   "execution_count": 13,
   "metadata": {},
   "outputs": [
    {
     "name": "stdout",
     "output_type": "stream",
     "text": [
      "SYN\n",
      "default                             0.7754773169825647   0.505    0       \n"
     ]
    },
    {
     "name": "stderr",
     "output_type": "stream",
     "text": [
      "100%|████████████████████████████████████████████| 1/1 [04:52<00:00, 292.94s/it]"
     ]
    },
    {
     "name": "stdout",
     "output_type": "stream",
     "text": [
      "{'gamma': 0.001, 'C': 1}                                                                   1.0                  292.943  0       \n",
      "HTTP\n"
     ]
    },
    {
     "name": "stderr",
     "output_type": "stream",
     "text": [
      "\n"
     ]
    },
    {
     "name": "stdout",
     "output_type": "stream",
     "text": [
      "default                             0.583765772216309    0.181    0       \n"
     ]
    },
    {
     "name": "stderr",
     "output_type": "stream",
     "text": [
      "100%|█████████████████████████████████████████████| 1/1 [00:03<00:00,  3.27s/it]\n"
     ]
    },
    {
     "name": "stdout",
     "output_type": "stream",
     "text": [
      "{'gamma': 0.1, 'C': 1}                                                                     0.9988602520329635   3.267    0       \n",
      "ACK\n",
      "default                             0.370959466393022    0.123    0       \n"
     ]
    },
    {
     "name": "stderr",
     "output_type": "stream",
     "text": [
      "100%|█████████████████████████████████████████████| 1/1 [00:01<00:00,  1.17s/it]\n"
     ]
    },
    {
     "name": "stdout",
     "output_type": "stream",
     "text": [
      "{'gamma': 0.1, 'C': 10}                                                                    0.8950041883779871   1.167    0       \n",
      "UDP\n",
      "default                             0.4931693989071038   0.009    0       \n"
     ]
    },
    {
     "name": "stderr",
     "output_type": "stream",
     "text": [
      "100%|█████████████████████████████████████████████| 1/1 [00:00<00:00,  2.14it/s]\n"
     ]
    },
    {
     "name": "stdout",
     "output_type": "stream",
     "text": [
      "{'gamma': 1, 'C': 10}                                                                      1.0                  0.466    0       \n",
      "ARP\n",
      "default                             0.4806064294804404   0.027    0       \n"
     ]
    },
    {
     "name": "stderr",
     "output_type": "stream",
     "text": [
      "100%|█████████████████████████████████████████████| 1/1 [00:00<00:00,  3.83it/s]\n"
     ]
    },
    {
     "name": "stdout",
     "output_type": "stream",
     "text": [
      "{'gamma': 0.01, 'C': 10}                                                                   0.9194952962115434   0.26     0       \n",
      "SP\n",
      "default                             0.7494355816773952   0.018    0       \n"
     ]
    },
    {
     "name": "stderr",
     "output_type": "stream",
     "text": [
      "100%|█████████████████████████████████████████████| 1/1 [00:00<00:00,  3.65it/s]\n"
     ]
    },
    {
     "name": "stdout",
     "output_type": "stream",
     "text": [
      "{'gamma': 0.01, 'C': 10}                                                                   1.0                  0.273    0       \n",
      "BF\n",
      "default                             0.4857314680908948   0.036    0       \n"
     ]
    },
    {
     "name": "stderr",
     "output_type": "stream",
     "text": [
      "100%|█████████████████████████████████████████████| 1/1 [00:00<00:00,  1.19it/s]"
     ]
    },
    {
     "name": "stdout",
     "output_type": "stream",
     "text": [
      "{'gamma': 1, 'C': 10}                                                                      0.9980172762937574   0.843    0       \n",
      "      gamma    C        F1    Std     Time    No  Attack\n",
      "--  -------  ---  --------  -----  -------  ----  --------\n",
      " 0    0.001    1  1             0  292.943     0  SYN\n",
      " 1    0.1      1  0.99886       0    3.267     0  HTTP\n",
      " 2    0.1     10  0.895004      0    1.167     0  ACK\n",
      " 3    1       10  1             0    0.466     0  UDP\n",
      " 4    0.01    10  0.919495      0    0.26      0  ARP\n",
      " 5    0.01    10  1             0    0.274     0  SP\n",
      " 6    1       10  0.998017      0    0.843     0  BF\n"
     ]
    },
    {
     "name": "stderr",
     "output_type": "stream",
     "text": [
      "\n"
     ]
    }
   ],
   "source": [
    "lines=[[ 'gamma','C', \"F1\",\"Std\",\"Time\",\"No\",\"Attack\"]]\n",
    "\n",
    "\n",
    "for j in file_list:\n",
    "    print(j)\n",
    "    \n",
    "    \n",
    "    df=pd.read_csv(file_list[j][0],usecols=feature_list[j]) \n",
    "    X_train = df.iloc[:,0:-1]\n",
    "    df['Label'] = df['Label'].astype('category')\n",
    "    y_train=df['Label'].cat.codes  \n",
    "\n",
    "\n",
    "    df=pd.read_csv(file_list[j][0],usecols=feature_list[j]) \n",
    "    X_test = df.iloc[:,0:-1]\n",
    "    df['Label'] = df['Label'].astype('category')\n",
    "    y_test=df['Label'].cat.codes  \n",
    "    \n",
    "    X= np.concatenate([X_train, X_test])\n",
    "    test_fold = [-1 for _ in range(X_train.shape[0])] + [0 for _ in range(X_test.shape[0])]\n",
    "    y = np.concatenate([y_train, y_test])\n",
    "    ps = PredefinedSplit(test_fold)\n",
    "    \n",
    "\n",
    "\n",
    "    param_grid =  {'C': [0.001, 0.01, 0.1, 1, 10], 'gamma' : [0.001, 0.01, 0.1, 1]}  \n",
    "\n",
    "    second=time()\n",
    "    f1=[]\n",
    "    clf=svm.SVC()\n",
    "    for ii in range(1):\n",
    "        clf.fit(X_train, y_train)\n",
    "        predict =clf.predict(X_test)\n",
    "        f1.append(sklearn.metrics.f1_score(y_test, predict,average= \"macro\") )\n",
    "    f1=sum(f1)/len(f1)   \n",
    "    #if f1>0.76:\n",
    "    print('%-35s %-20s %-8s %-8s' % (\"default\",f1,round(time()-second,3),ii))\n",
    "\n",
    "\n",
    "    \n",
    "    ######################################################################################################################\n",
    "    for i in tqdm(range(1)):\n",
    "        second=time()\n",
    "        a,b,clf=run_random_search(svm.SVC(),param_grid,X,y)\n",
    "        f1=[]\n",
    "        for ii in range(1):\n",
    "            clf.fit(X_train, y_train)\n",
    "            predict =clf.predict(X_test)\n",
    "            f1.append(sklearn.metrics.f1_score(y_test, predict,average= \"macro\") )\n",
    "        f1_result=sum(f1)/len(f1)   \n",
    "        f1=np.array(f1)\n",
    "        stndtd=f1.std()\n",
    "        temp=list(a.values())\n",
    "        print('%-90s %-20s %-8s %-8s' % (a,f1_result,round(time()-second,3),i))\n",
    "        temp=temp+[f1_result,stndtd,round(time()-second,3),i,j]\n",
    "        lines.append(temp)\n",
    "\n",
    "        #if f1>0.76:\n",
    "\n",
    "results = pd.DataFrame (lines[1:], columns = lines[0])\n",
    "results.to_csv(\"svm_HPO.csv\",index=False)\n",
    "\n",
    "\n",
    "print (tabulate(results, headers=list(results.columns)))\n",
    "    \n",
    "    "
   ]
  },
  {
   "cell_type": "code",
   "execution_count": null,
   "metadata": {},
   "outputs": [],
   "source": []
  },
  {
   "cell_type": "code",
   "execution_count": null,
   "metadata": {},
   "outputs": [],
   "source": []
  },
  {
   "cell_type": "code",
   "execution_count": null,
   "metadata": {},
   "outputs": [],
   "source": []
  }
 ],
 "metadata": {
  "kernelspec": {
   "display_name": "Python 3 (ipykernel)",
   "language": "python",
   "name": "python3"
  },
  "language_info": {
   "codemirror_mode": {
    "name": "ipython",
    "version": 3
   },
   "file_extension": ".py",
   "mimetype": "text/x-python",
   "name": "python",
   "nbconvert_exporter": "python",
   "pygments_lexer": "ipython3",
   "version": "3.10.8"
  }
 },
 "nbformat": 4,
 "nbformat_minor": 2
}
