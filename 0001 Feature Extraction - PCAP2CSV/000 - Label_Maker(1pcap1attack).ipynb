{
 "cells": [
  {
   "cell_type": "code",
   "execution_count": 20,
   "metadata": {},
   "outputs": [],
   "source": [
    "import os\n",
    "import pandas as pd"
   ]
  },
  {
   "cell_type": "code",
   "execution_count": 21,
   "metadata": {},
   "outputs": [],
   "source": [
    "def folder(f_name): #this function creates a folder named \"attacks\" in the program directory.\n",
    "    try:\n",
    "        if not os.path.exists(f_name):\n",
    "            os.makedirs(f_name)\n",
    "    except OSError:\n",
    "        print (\"The folder could not be created!\")"
   ]
  },
  {
   "cell_type": "code",
   "execution_count": 22,
   "metadata": {},
   "outputs": [],
   "source": [
    "folder(\"pcaps\")"
   ]
  },
  {
   "cell_type": "code",
   "execution_count": 23,
   "metadata": {},
   "outputs": [],
   "source": [
    "def find_the_way(path,file_format,con=\"\"):\n",
    "    files_add = []\n",
    "    # r=root, d=directories, f = files\n",
    "    for r, d, f in os.walk(path):\n",
    "        for file in f:\n",
    "            if file_format in file:\n",
    "                if con in file:\n",
    "                    files_add.append(os.path.join(r, file))  \n",
    "            \n",
    "    return files_add"
   ]
  },
  {
   "cell_type": "code",
   "execution_count": 24,
   "metadata": {},
   "outputs": [
    {
     "data": {
      "text/plain": [
       "['./AmcrestCamBruteForce_1.pcap',\n",
       " './AmcrestCamRTSP_1.pcap',\n",
       " './Bot_IoT_UDP_DDoS_00001.pcap',\n",
       " './IoT_ENV_[OS_Service_Detection]Google_Home_Mini.pcap',\n",
       " './IoT_ENV_[Port_scan]Google_Home_Mini.pcap',\n",
       " './Kitsune_ARP_MitM.pcap',\n",
       " './NetatmoCamHTTPFlood_1.pcap',\n",
       " './NetatmoCamTCPFlood_3.pcap',\n",
       " './small_Edge_IIoT_DDoS_TCP_SYN_Flood_Attacks_00000_20211124180237.pcap']"
      ]
     },
     "execution_count": 24,
     "metadata": {},
     "output_type": "execute_result"
    }
   ],
   "source": [
    "files_add=find_the_way('./','.pcap')\n",
    "files_add"
   ]
  },
  {
   "cell_type": "code",
   "execution_count": 25,
   "metadata": {},
   "outputs": [
    {
     "name": "stdout",
     "output_type": "stream",
     "text": [
      "./pcaps/AmcrestCamBruteForce_1.pcap\n",
      "./pcaps/AmcrestCamRTSP_1.pcap\n",
      "./pcaps/Bot_IoT_UDP_DDoS_00001.pcap\n",
      "./pcaps/IoT_ENV_[OS_Service_Detection]Google_Home_Mini.pcap\n",
      "./pcaps/IoT_ENV_[Port_scan]Google_Home_Mini.pcap\n",
      "./pcaps/Kitsune_ARP_MitM.pcap\n",
      "./pcaps/NetatmoCamHTTPFlood_1.pcap\n",
      "./pcaps/NetatmoCamTCPFlood_3.pcap\n",
      "./pcaps/small_Edge_IIoT_DDoS_TCP_SYN_Flood_Attacks_00000_20211124180237.pcap\n"
     ]
    }
   ],
   "source": [
    "for i in files_add:\n",
    "    temp=i[2:]\n",
    "    temp=temp.replace(\" \",\"_\")\n",
    "    temp=temp.replace(\"\\\\\",\"-\")\n",
    "    temp=f\"./pcaps/{temp}\"\n",
    "    os.rename(i,temp)\n",
    "    print(temp)"
   ]
  },
  {
   "cell_type": "code",
   "execution_count": 26,
   "metadata": {},
   "outputs": [
    {
     "data": {
      "text/plain": [
       "9"
      ]
     },
     "execution_count": 26,
     "metadata": {},
     "output_type": "execute_result"
    }
   ],
   "source": [
    "files_add=find_the_way('./','.pcap')\n",
    "uzun=len(files_add)\n",
    "uzun"
   ]
  },
  {
   "cell_type": "code",
   "execution_count": 27,
   "metadata": {},
   "outputs": [
    {
     "data": {
      "text/html": [
       "<div>\n",
       "<style scoped>\n",
       "    .dataframe tbody tr th:only-of-type {\n",
       "        vertical-align: middle;\n",
       "    }\n",
       "\n",
       "    .dataframe tbody tr th {\n",
       "        vertical-align: top;\n",
       "    }\n",
       "\n",
       "    .dataframe thead th {\n",
       "        text-align: right;\n",
       "    }\n",
       "</style>\n",
       "<table border=\"1\" class=\"dataframe\">\n",
       "  <thead>\n",
       "    <tr style=\"text-align: right;\">\n",
       "      <th></th>\n",
       "      <th>No</th>\n",
       "      <th>File Name</th>\n",
       "      <th>Category</th>\n",
       "      <th>Sub-category</th>\n",
       "      <th>Rule</th>\n",
       "      <th>Unnamed: 5</th>\n",
       "      <th>Unnamed: 6</th>\n",
       "      <th>Unnamed: 7</th>\n",
       "      <th>Unnamed: 8</th>\n",
       "      <th>Unnamed: 9</th>\n",
       "      <th>Unnamed: 10</th>\n",
       "    </tr>\n",
       "  </thead>\n",
       "  <tbody>\n",
       "    <tr>\n",
       "      <th>0</th>\n",
       "      <td>1</td>\n",
       "      <td>AmcrestCamBruteForce_1.pcap</td>\n",
       "      <td>NaN</td>\n",
       "      <td>NaN</td>\n",
       "      <td>ip.src == 192.168.137.5 or ip.src ==192.168.13...</td>\n",
       "      <td>NaN</td>\n",
       "      <td>NaN</td>\n",
       "      <td>NaN</td>\n",
       "      <td>NaN</td>\n",
       "      <td>NaN</td>\n",
       "      <td>NaN</td>\n",
       "    </tr>\n",
       "    <tr>\n",
       "      <th>1</th>\n",
       "      <td>2</td>\n",
       "      <td>AmcrestCamRTSP_1.pcap</td>\n",
       "      <td>NaN</td>\n",
       "      <td>NaN</td>\n",
       "      <td>ip.src == 192.168.137.5 or ip.src ==192.168.13...</td>\n",
       "      <td>NaN</td>\n",
       "      <td>NaN</td>\n",
       "      <td>NaN</td>\n",
       "      <td>NaN</td>\n",
       "      <td>NaN</td>\n",
       "      <td>NaN</td>\n",
       "    </tr>\n",
       "    <tr>\n",
       "      <th>2</th>\n",
       "      <td>3</td>\n",
       "      <td>Bot_IoT_UDP_DDoS_00001.pcap</td>\n",
       "      <td>NaN</td>\n",
       "      <td>NaN</td>\n",
       "      <td>(ip.src==192.168.100.147 || ip.src==192.168.10...</td>\n",
       "      <td>NaN</td>\n",
       "      <td>NaN</td>\n",
       "      <td>NaN</td>\n",
       "      <td>NaN</td>\n",
       "      <td>NaN</td>\n",
       "      <td>NaN</td>\n",
       "    </tr>\n",
       "    <tr>\n",
       "      <th>3</th>\n",
       "      <td>4</td>\n",
       "      <td>IoT_ENV_[OS_Service_Detection]Google_Home_Mini...</td>\n",
       "      <td>NaN</td>\n",
       "      <td>NaN</td>\n",
       "      <td>ip.src==192.168.10.30 and ip.dst==192.168.10.5...</td>\n",
       "      <td>NaN</td>\n",
       "      <td>NaN</td>\n",
       "      <td>NaN</td>\n",
       "      <td>NaN</td>\n",
       "      <td>NaN</td>\n",
       "      <td>NaN</td>\n",
       "    </tr>\n",
       "    <tr>\n",
       "      <th>4</th>\n",
       "      <td>5</td>\n",
       "      <td>IoT_ENV_[Port_scan]Google_Home_Mini.pcap</td>\n",
       "      <td>NaN</td>\n",
       "      <td>NaN</td>\n",
       "      <td>ip.src==192.168.10.30 and ip.dst==192.168.10.5...</td>\n",
       "      <td>NaN</td>\n",
       "      <td>NaN</td>\n",
       "      <td>NaN</td>\n",
       "      <td>NaN</td>\n",
       "      <td>NaN</td>\n",
       "      <td>NaN</td>\n",
       "    </tr>\n",
       "    <tr>\n",
       "      <th>5</th>\n",
       "      <td>6</td>\n",
       "      <td>NetatmoCamHTTPFlood_1.pcap</td>\n",
       "      <td>NaN</td>\n",
       "      <td>NaN</td>\n",
       "      <td>ip.src == 192.168.137.5 or ip.src ==192.168.13...</td>\n",
       "      <td>NaN</td>\n",
       "      <td>NaN</td>\n",
       "      <td>NaN</td>\n",
       "      <td>NaN</td>\n",
       "      <td>NaN</td>\n",
       "      <td>NaN</td>\n",
       "    </tr>\n",
       "    <tr>\n",
       "      <th>6</th>\n",
       "      <td>7</td>\n",
       "      <td>NetatmoCamTCPFlood_3.pcap</td>\n",
       "      <td>NaN</td>\n",
       "      <td>NaN</td>\n",
       "      <td>ip.src == 192.168.137.5 or ip.src ==192.168.13...</td>\n",
       "      <td>NaN</td>\n",
       "      <td>NaN</td>\n",
       "      <td>NaN</td>\n",
       "      <td>NaN</td>\n",
       "      <td>NaN</td>\n",
       "      <td>NaN</td>\n",
       "    </tr>\n",
       "    <tr>\n",
       "      <th>7</th>\n",
       "      <td>8</td>\n",
       "      <td>small_Edge_IIoT_DDoS_TCP_SYN_Flood_Attacks_000...</td>\n",
       "      <td>NaN</td>\n",
       "      <td>NaN</td>\n",
       "      <td>ip.dst ==192.168.0.128</td>\n",
       "      <td>NaN</td>\n",
       "      <td>NaN</td>\n",
       "      <td>NaN</td>\n",
       "      <td>NaN</td>\n",
       "      <td>NaN</td>\n",
       "      <td>NaN</td>\n",
       "    </tr>\n",
       "  </tbody>\n",
       "</table>\n",
       "</div>"
      ],
      "text/plain": [
       "   No                                          File Name  Category  \\\n",
       "0   1                        AmcrestCamBruteForce_1.pcap       NaN   \n",
       "1   2                              AmcrestCamRTSP_1.pcap       NaN   \n",
       "2   3                        Bot_IoT_UDP_DDoS_00001.pcap       NaN   \n",
       "3   4  IoT_ENV_[OS_Service_Detection]Google_Home_Mini...       NaN   \n",
       "4   5           IoT_ENV_[Port_scan]Google_Home_Mini.pcap       NaN   \n",
       "5   6                         NetatmoCamHTTPFlood_1.pcap       NaN   \n",
       "6   7                          NetatmoCamTCPFlood_3.pcap       NaN   \n",
       "7   8  small_Edge_IIoT_DDoS_TCP_SYN_Flood_Attacks_000...       NaN   \n",
       "\n",
       "   Sub-category                                               Rule  \\\n",
       "0           NaN  ip.src == 192.168.137.5 or ip.src ==192.168.13...   \n",
       "1           NaN  ip.src == 192.168.137.5 or ip.src ==192.168.13...   \n",
       "2           NaN  (ip.src==192.168.100.147 || ip.src==192.168.10...   \n",
       "3           NaN  ip.src==192.168.10.30 and ip.dst==192.168.10.5...   \n",
       "4           NaN  ip.src==192.168.10.30 and ip.dst==192.168.10.5...   \n",
       "5           NaN  ip.src == 192.168.137.5 or ip.src ==192.168.13...   \n",
       "6           NaN  ip.src == 192.168.137.5 or ip.src ==192.168.13...   \n",
       "7           NaN                             ip.dst ==192.168.0.128   \n",
       "\n",
       "   Unnamed: 5  Unnamed: 6  Unnamed: 7  Unnamed: 8  Unnamed: 9  Unnamed: 10  \n",
       "0         NaN         NaN         NaN         NaN         NaN          NaN  \n",
       "1         NaN         NaN         NaN         NaN         NaN          NaN  \n",
       "2         NaN         NaN         NaN         NaN         NaN          NaN  \n",
       "3         NaN         NaN         NaN         NaN         NaN          NaN  \n",
       "4         NaN         NaN         NaN         NaN         NaN          NaN  \n",
       "5         NaN         NaN         NaN         NaN         NaN          NaN  \n",
       "6         NaN         NaN         NaN         NaN         NaN          NaN  \n",
       "7         NaN         NaN         NaN         NaN         NaN          NaN  "
      ]
     },
     "execution_count": 27,
     "metadata": {},
     "output_type": "execute_result"
    }
   ],
   "source": [
    "df = pd.read_csv( \"dataset_description.csv\")\n",
    "df"
   ]
  },
  {
   "cell_type": "code",
   "execution_count": 28,
   "metadata": {},
   "outputs": [
    {
     "data": {
      "text/plain": [
       "Index(['No', 'File Name', 'Category', 'Sub-category', 'Rule', 'Unnamed: 5',\n",
       "       'Unnamed: 6', 'Unnamed: 7', 'Unnamed: 8', 'Unnamed: 9', 'Unnamed: 10'],\n",
       "      dtype='object')"
      ]
     },
     "execution_count": 28,
     "metadata": {},
     "output_type": "execute_result"
    }
   ],
   "source": [
    "df.columns"
   ]
  },
  {
   "cell_type": "code",
   "execution_count": 29,
   "metadata": {},
   "outputs": [],
   "source": [
    "name=df['File Name']\n",
    "rule=df['Rule']\n",
    "cat=df['Category']\n",
    "subcat=df['Sub-category']"
   ]
  },
  {
   "cell_type": "code",
   "execution_count": 30,
   "metadata": {},
   "outputs": [
    {
     "data": {
      "text/plain": [
       "0                          AmcrestCamBruteForce_1.pcap\n",
       "1                                AmcrestCamRTSP_1.pcap\n",
       "2                          Bot_IoT_UDP_DDoS_00001.pcap\n",
       "3    IoT_ENV_[OS_Service_Detection]Google_Home_Mini...\n",
       "4             IoT_ENV_[Port_scan]Google_Home_Mini.pcap\n",
       "5                           NetatmoCamHTTPFlood_1.pcap\n",
       "6                            NetatmoCamTCPFlood_3.pcap\n",
       "7    small_Edge_IIoT_DDoS_TCP_SYN_Flood_Attacks_000...\n",
       "Name: File Name, dtype: object"
      ]
     },
     "execution_count": 30,
     "metadata": {},
     "output_type": "execute_result"
    }
   ],
   "source": [
    "name"
   ]
  },
  {
   "cell_type": "code",
   "execution_count": 31,
   "metadata": {
    "scrolled": false
   },
   "outputs": [
    {
     "name": "stdout",
     "output_type": "stream",
     "text": [
      "tshark -Y \"!(ip.src == 192.168.137.5 or ip.src ==192.168.137.246)\" -r ./pcaps/AmcrestCamBruteForce_1.pcap -T fields -e frame.number > ./pcaps/normal_AmcrestCamBruteForce_1.csv \n",
      "\n",
      "tshark -Y \"!(ip.src == 192.168.137.5 or ip.src ==192.168.137.246)\" -r ./pcaps/AmcrestCamRTSP_1.pcap -T fields -e frame.number > ./pcaps/normal_AmcrestCamRTSP_1.csv \n",
      "\n",
      "tshark -Y \"!((ip.src==192.168.100.147 || ip.src==192.168.100.148  || ip.src==192.168.100.149  || ip.src==192.168.100.150))\" -r ./pcaps/Bot_IoT_UDP_DDoS_00001.pcap -T fields -e frame.number > ./pcaps/normal_Bot_IoT_UDP_DDoS_00001.csv \n",
      "\n",
      "tshark -Y \"!(ip.src==192.168.10.30 and ip.dst==192.168.10.5 and (tcp.flags.syn == 1 ))\" -r ./pcaps/IoT_ENV_[OS_Service_Detection]Google_Home_Mini.pcap -T fields -e frame.number > ./pcaps/normal_IoT_ENV_[OS_Service_Detection]Google_Home_Mini.csv \n",
      "\n",
      "tshark -Y \"!(ip.src==192.168.10.30 and ip.dst==192.168.10.5 and (tcp.flags.syn == 1 ))\" -r ./pcaps/IoT_ENV_[Port_scan]Google_Home_Mini.pcap -T fields -e frame.number > ./pcaps/normal_IoT_ENV_[Port_scan]Google_Home_Mini.csv \n",
      "\n",
      "tshark -Y \"!(ip.src == 192.168.137.5 or ip.src ==192.168.137.246)\" -r ./pcaps/NetatmoCamHTTPFlood_1.pcap -T fields -e frame.number > ./pcaps/normal_NetatmoCamHTTPFlood_1.csv \n",
      "\n",
      "tshark -Y \"!(ip.src == 192.168.137.5 or ip.src ==192.168.137.246)\" -r ./pcaps/NetatmoCamTCPFlood_3.pcap -T fields -e frame.number > ./pcaps/normal_NetatmoCamTCPFlood_3.csv \n",
      "\n",
      "tshark -Y \"!(ip.dst ==192.168.0.128)\" -r ./pcaps/small_Edge_IIoT_DDoS_TCP_SYN_Flood_Attacks_00000_20211124180237.pcap -T fields -e frame.number > ./pcaps/normal_small_Edge_IIoT_DDoS_TCP_SYN_Flood_Attacks_00000_20211124180237.csv \n",
      "\n"
     ]
    }
   ],
   "source": [
    "for i in range(len(name)):\n",
    "    add=str(cat[i])+\"@\"+str(subcat[i])+\"_\"\n",
    "    add=add.replace(\" \",\"_\")\n",
    "    command='tshark -Y \\\"'+str(rule[i])+\"\\\" -r ./pcaps/\"+str(name[i])+\" -T fields -e frame.number > ./pcaps/attack_\"+str(name[i])[:-4]+\"csv\"\n",
    "    os.system(command)\n",
    "    command='tshark -Y \\\"!('+str(rule[i])+\")\\\" -r ./pcaps/\"+str(name[i])+\" -T fields -e frame.number > ./pcaps/normal_\"+str(name[i])[:-4]+\"csv\"\n",
    "    os.system(command)\n",
    "    files_add=find_the_way('./','.pcap')\n",
    "    if uzun==len(files_add):    \n",
    "        print(command,\"\\n\")\n",
    "    uzun=len(files_add) \n",
    " \n",
    "    "
   ]
  },
  {
   "cell_type": "markdown",
   "metadata": {},
   "source": [
    "# MERGE CSVS"
   ]
  },
  {
   "cell_type": "code",
   "execution_count": 32,
   "metadata": {},
   "outputs": [],
   "source": [
    "name_list=find_the_way('./pcaps','.csv')"
   ]
  },
  {
   "cell_type": "code",
   "execution_count": 33,
   "metadata": {},
   "outputs": [],
   "source": [
    "label_files=[]\n",
    "for i in name_list:\n",
    "    temp=i[15:]\n",
    "    if temp not in label_files:\n",
    "        label_files.append(temp)\n",
    "    "
   ]
  },
  {
   "cell_type": "code",
   "execution_count": 34,
   "metadata": {},
   "outputs": [
    {
     "name": "stdout",
     "output_type": "stream",
     "text": [
      "['./pcaps\\\\attack_AmcrestCamBruteForce_1.csv', './pcaps\\\\normal_AmcrestCamBruteForce_1.csv']\n",
      "AmcrestCamBruteForce_1.csv Label\n",
      "0    261\n",
      "1    312\n",
      "dtype: int64 \n",
      "\n",
      "\n",
      "\n",
      "['./pcaps\\\\attack_AmcrestCamRTSP_1.csv', './pcaps\\\\normal_AmcrestCamRTSP_1.csv']\n",
      "AmcrestCamRTSP_1.csv Label\n",
      "0    15589\n",
      "1     2411\n",
      "dtype: int64 \n",
      "\n",
      "\n",
      "\n",
      "['./pcaps\\\\attack_Bot_IoT_UDP_DDoS_00001.csv', './pcaps\\\\normal_Bot_IoT_UDP_DDoS_00001.csv']\n",
      "Bot_IoT_UDP_DDoS_00001.csv Label\n",
      "0      44054\n",
      "1    2295140\n",
      "dtype: int64 \n",
      "\n",
      "\n",
      "\n",
      "['./pcaps\\\\attack_IoT_ENV_[OS_Service_Detection]Google_Home_Mini.csv', './pcaps\\\\normal_IoT_ENV_[OS_Service_Detection]Google_Home_Mini.csv']\n",
      "IoT_ENV_[OS_Service_Detection]Google_Home_Mini.csv Label\n",
      "0    83671\n",
      "1    12426\n",
      "dtype: int64 \n",
      "\n",
      "\n",
      "\n",
      "['./pcaps\\\\attack_IoT_ENV_[Port_scan]Google_Home_Mini.csv', './pcaps\\\\normal_IoT_ENV_[Port_scan]Google_Home_Mini.csv']\n",
      "IoT_ENV_[Port_scan]Google_Home_Mini.csv Label\n",
      "0    4818\n",
      "1    4048\n",
      "dtype: int64 \n",
      "\n",
      "\n",
      "\n",
      "['./pcaps\\\\attack_NetatmoCamHTTPFlood_1.csv', './pcaps\\\\normal_NetatmoCamHTTPFlood_1.csv']\n",
      "NetatmoCamHTTPFlood_1.csv Label\n",
      "0    121134\n",
      "1    147896\n",
      "dtype: int64 \n",
      "\n",
      "\n",
      "\n",
      "['./pcaps\\\\attack_NetatmoCamTCPFlood_3.csv', './pcaps\\\\normal_NetatmoCamTCPFlood_3.csv']\n",
      "NetatmoCamTCPFlood_3.csv Label\n",
      "0    21696\n",
      "1    59003\n",
      "dtype: int64 \n",
      "\n",
      "\n",
      "\n",
      "['./pcaps\\\\attack_small_Edge_IIoT_DDoS_TCP_SYN_Flood_Attacks_00000_20211124180237.csv', './pcaps\\\\normal_small_Edge_IIoT_DDoS_TCP_SYN_Flood_Attacks_00000_20211124180237.csv']\n",
      "small_Edge_IIoT_DDoS_TCP_SYN_Flood_Attacks_00000_20211124180237.csv Label\n",
      "0    433434\n",
      "1    586716\n",
      "dtype: int64 \n",
      "\n",
      "\n",
      "\n"
     ]
    }
   ],
   "source": [
    "for i in label_files:\n",
    "\n",
    "    name=find_the_way('./pcaps',i)\n",
    "    print(name)\n",
    "\n",
    "    dfA = pd.read_csv(name[0], header=None)\n",
    "    dfA=dfA.rename(columns={0: \"PacketNumber\"})\n",
    "    dfA[\"Label\"]=[1] * len(dfA)\n",
    "    \n",
    "    \n",
    "    dfN = pd.read_csv(name[1], header=None)\n",
    "    dfN=dfN.rename(columns={0: \"PacketNumber\"})    \n",
    "    dfN[\"Label\"]=[0] * len(dfN) \n",
    "\n",
    "    df = pd.concat([dfA,dfN])\n",
    "    df=df.sort_values('PacketNumber')\n",
    "    df.to_csv(f\"./pcaps/{i}\",  index=False)\n",
    "    print(i,df.groupby(\"Label\").size(),\"\\n\\n\\n\")\n",
    "    os.remove(f\"./pcaps\\\\normal_{i}\")\n",
    "    os.remove(f\"./pcaps\\\\attack_{i}\")"
   ]
  },
  {
   "cell_type": "code",
   "execution_count": 40,
   "metadata": {},
   "outputs": [],
   "source": [
    "#!shutdown /s /t 36"
   ]
  },
  {
   "cell_type": "code",
   "execution_count": null,
   "metadata": {},
   "outputs": [],
   "source": []
  }
 ],
 "metadata": {
  "kernelspec": {
   "display_name": "Python 3 (ipykernel)",
   "language": "python",
   "name": "python3"
  },
  "language_info": {
   "codemirror_mode": {
    "name": "ipython",
    "version": 3
   },
   "file_extension": ".py",
   "mimetype": "text/x-python",
   "name": "python",
   "nbconvert_exporter": "python",
   "pygments_lexer": "ipython3",
   "version": "3.10.8"
  }
 },
 "nbformat": 4,
 "nbformat_minor": 2
}
