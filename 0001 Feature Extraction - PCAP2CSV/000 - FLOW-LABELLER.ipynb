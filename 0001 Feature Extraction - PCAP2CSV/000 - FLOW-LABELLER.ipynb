{
 "cells": [
  {
   "cell_type": "code",
   "execution_count": 2,
   "metadata": {},
   "outputs": [],
   "source": [
    "import numpy as np\n",
    "import pandas as pd\n",
    "import os"
   ]
  },
  {
   "cell_type": "markdown",
   "metadata": {},
   "source": [
    "### Discovering csv extension files under \"csvs\" folder."
   ]
  },
  {
   "cell_type": "code",
   "execution_count": 3,
   "metadata": {},
   "outputs": [
    {
     "data": {
      "text/plain": [
       "['./csvs\\\\2021_11_04_Idle.UDP.csv',\n",
       " './csvs\\\\ack_maze.csv',\n",
       " './csvs\\\\benign-dec.pcap_Flow.csv',\n",
       " './csvs\\\\dos-synflooding-1-dec.pcap_Flow.csv',\n",
       " './csvs\\\\dos-synflooding-2-dec.pcap_Flow.csv',\n",
       " './csvs\\\\dos-synflooding-3-dec.pcap_Flow.csv',\n",
       " './csvs\\\\dos-synflooding-4-dec.pcap_Flow.csv',\n",
       " './csvs\\\\dos-synflooding-5-dec.pcap_Flow.csv',\n",
       " './csvs\\\\dos-synflooding-6-dec.pcap_Flow.csv',\n",
       " './csvs\\\\Edge-IIoT-SYN.csv',\n",
       " './csvs\\\\Edge-Port Scanning attack.pcap_Flow.csv',\n",
       " './csvs\\\\GlobeLampUDPFlood_1.pcap_Flow.csv',\n",
       " './csvs\\\\GosundRoombaHTTPFlood.csv',\n",
       " './csvs\\\\http-flood -maze.csv',\n",
       " './csvs\\\\kitsune_ARP.csv',\n",
       " './csvs\\\\mirai-ackflooding-1-dec.pcap_Flow.csv',\n",
       " './csvs\\\\mirai-ackflooding-2-dec.pcap_Flow.csv',\n",
       " './csvs\\\\mirai-ackflooding-3-dec.pcap_Flow.csv',\n",
       " './csvs\\\\mirai-ackflooding-4-dec.pcap_Flow.csv',\n",
       " './csvs\\\\mirai-hostbruteforce-1-dec.pcap_Flow.csv',\n",
       " './csvs\\\\mirai-hostbruteforce-2-dec.pcap_Flow.csv',\n",
       " './csvs\\\\mirai-hostbruteforce-3-dec.pcap_Flow.csv',\n",
       " './csvs\\\\mirai-hostbruteforce-4-dec.pcap_Flow.csv',\n",
       " './csvs\\\\mirai-hostbruteforce-5-dec.pcap_Flow.csv',\n",
       " './csvs\\\\mirai-httpflooding-1-dec.pcap_Flow.csv',\n",
       " './csvs\\\\mirai-httpflooding-2-dec.pcap_Flow.csv',\n",
       " './csvs\\\\mirai-httpflooding-3-dec.pcap_Flow.csv',\n",
       " './csvs\\\\mirai-httpflooding-4-dec.pcap_Flow.csv',\n",
       " './csvs\\\\mirai-udpflooding-1-dec.pcap_Flow.csv',\n",
       " './csvs\\\\mirai-udpflooding-2-dec.pcap_Flow.csv',\n",
       " './csvs\\\\mirai-udpflooding-3-dec.pcap_Flow.csv',\n",
       " './csvs\\\\mirai-udpflooding-4-dec.pcap_Flow.csv',\n",
       " './csvs\\\\MitM-ARP-1.csv',\n",
       " './csvs\\\\MitM-ARP-2.csv',\n",
       " './csvs\\\\MitM-ARP-3.csv',\n",
       " './csvs\\\\MitM-ARP-4.csv',\n",
       " './csvs\\\\MitM-ARP-5.csv',\n",
       " './csvs\\\\MitM-ARP-6.csv',\n",
       " './csvs\\\\mitm-arpspoofing-1-dec.pcap_Flow.csv',\n",
       " './csvs\\\\mitm-arpspoofing-2-dec.pcap_Flow.csv',\n",
       " './csvs\\\\mitm-arpspoofing-3-dec.pcap_Flow.csv',\n",
       " './csvs\\\\mitm-arpspoofing-4-dec.pcap_Flow.csv',\n",
       " './csvs\\\\mitm-arpspoofing-5-dec.pcap_Flow.csv',\n",
       " './csvs\\\\mitm-arpspoofing-6-dec.pcap_Flow.csv',\n",
       " './csvs\\\\NetatmoCamTCPFlood_3.pcap_ACK.csv',\n",
       " './csvs\\\\scan-hostport-1-dec.pcap_Flow.csv',\n",
       " './csvs\\\\scan-hostport-2-dec.pcap_Flow.csv',\n",
       " './csvs\\\\scan-hostport-3-dec.pcap_Flow.csv',\n",
       " './csvs\\\\scan-hostport-4-dec.pcap_Flow.csv',\n",
       " './csvs\\\\scan-hostport-5-dec.pcap_Flow.csv',\n",
       " './csvs\\\\scan-hostport-6-dec.pcap_Flow.csv',\n",
       " './csvs\\\\scan-portos-1-dec.pcap_Flow.csv',\n",
       " './csvs\\\\scan-portos-2-dec.pcap_Flow.csv',\n",
       " './csvs\\\\scan-portos-3-dec.pcap_Flow.csv',\n",
       " './csvs\\\\scan-portos-4-dec.pcap_Flow.csv',\n",
       " './csvs\\\\scan-portos-5-dec.pcap_Flow.csv',\n",
       " './csvs\\\\scan-portos-6-dec.pcap_Flow.csv',\n",
       " './csvs\\\\UDP_DDoS_00001.pcap_Flow.csv']"
      ]
     },
     "execution_count": 3,
     "metadata": {},
     "output_type": "execute_result"
    }
   ],
   "source": [
    "def find_the_way(path,file_format):\n",
    "    files_add = []\n",
    "    # r=root, d=directories, f = files\n",
    "    for r, d, f in os.walk(path):\n",
    "        for file in f:\n",
    "            if file_format in file:\n",
    "                files_add.append(os.path.join(r, file))  \n",
    "    return files_add\n",
    "name_list=find_the_way('./csvs','.csv')\n",
    "name_list"
   ]
  },
  {
   "cell_type": "markdown",
   "metadata": {},
   "source": [
    "# SYN FLOOD"
   ]
  },
  {
   "cell_type": "markdown",
   "metadata": {},
   "source": [
    "### IoT-NID 1 and 2"
   ]
  },
  {
   "cell_type": "code",
   "execution_count": 36,
   "metadata": {},
   "outputs": [],
   "source": [
    "file_list=['./dos-synflooding-1-dec.pcap_Flow.csv',\n",
    " './dos-synflooding-2-dec.pcap_Flow.csv']\n",
    "\n",
    "for  file in file_list:\n",
    "    df=pd.read_csv(file)\n",
    "    labeller=df[['Src IP', 'Dst IP', 'Dst Port', 'Protocol']]\n",
    "    \n",
    "    # RULES  ##################################################\n",
    "    label=[]\n",
    "    for i in labeller.values:\n",
    "        if i[0][0:4]==\"222.\":\n",
    "            if i[1]=='192.168.0.13':\n",
    "                if i[2]==554:\n",
    "                    if i[3]==6:\n",
    "                        label.append(1)\n",
    "        else:label.append(0)\n",
    "    # RULES  ##################################################\n",
    "    \n",
    "    df['Label']=label\n",
    "    df.to_csv(file,index=False)\n"
   ]
  },
  {
   "cell_type": "markdown",
   "metadata": {},
   "source": [
    "### IoT-NID 3"
   ]
  },
  {
   "cell_type": "code",
   "execution_count": 37,
   "metadata": {},
   "outputs": [],
   "source": [
    "file_list=[ './dos-synflooding-3-dec.pcap_Flow.csv']\n",
    "\n",
    "for  file in file_list:\n",
    "    df=pd.read_csv(file)\n",
    "    labeller=df[['Src IP', 'Dst IP', 'Dst Port', 'Protocol']]\n",
    "    \n",
    "    # RULES  ##################################################\n",
    "    label=[]\n",
    "    for i in labeller.values:\n",
    "        if i[0][0:4]==\"111.\":\n",
    "            if i[1]=='192.168.0.13':\n",
    "                if i[2]==554:\n",
    "                    if i[3]==6:\n",
    "                        label.append(1)\n",
    "        else:label.append(0)\n",
    "    # RULES  ##################################################\n",
    "    \n",
    "    df['Label']=label\n",
    "    df.to_csv(file,index=False)\n"
   ]
  },
  {
   "cell_type": "markdown",
   "metadata": {},
   "source": [
    "### IoT-NID 4,5, and 6"
   ]
  },
  {
   "cell_type": "code",
   "execution_count": 38,
   "metadata": {},
   "outputs": [],
   "source": [
    "file_list=[ './dos-synflooding-4-dec.pcap_Flow.csv',\n",
    " './dos-synflooding-5-dec.pcap_Flow.csv',\n",
    " './dos-synflooding-6-dec.pcap_Flow.csv']\n",
    "\n",
    "for  file in file_list:\n",
    "    df=pd.read_csv(file)\n",
    "    labeller=df[['Src IP', 'Dst IP', 'Dst Port', 'Protocol']]\n",
    "    \n",
    "    # RULES  ##################################################\n",
    "    label=[]\n",
    "    for i in labeller.values:\n",
    "        if i[0][0:4]==\"111.\":\n",
    "            if i[1]=='192.168.0.24':\n",
    "                if i[2]==19604:\n",
    "                    if i[3]==6:\n",
    "                        label.append(1)\n",
    "        else:label.append(0)\n",
    "    # RULES  ##################################################\n",
    "    \n",
    "    df['Label']=label\n",
    "    df.to_csv(file,index=False)\n"
   ]
  },
  {
   "cell_type": "markdown",
   "metadata": {},
   "source": [
    "### IIoT-SYN"
   ]
  },
  {
   "cell_type": "code",
   "execution_count": 12,
   "metadata": {},
   "outputs": [],
   "source": [
    "file_list=['./csvs\\\\Edge-IIoT.csv']\n",
    "\n",
    "for  file in file_list:\n",
    "    df=pd.read_csv(file)\n",
    "    labeller=df[['Src IP', 'Dst IP', 'Dst Port', 'Protocol']]\n",
    "    # RULES  ##################################################\n",
    "    label=[]\n",
    "    for i in labeller.values:\n",
    "        if i[1]=='192.168.0.128':\n",
    "            label.append(1)\n",
    "        else:label.append(0)\n",
    "    # RULES  ##################################################\n",
    "    \n",
    "    df['Label']=label\n",
    "    df.to_csv(file,index=False)\n"
   ]
  },
  {
   "cell_type": "markdown",
   "metadata": {},
   "source": [
    "# HTTP FLOOD"
   ]
  },
  {
   "cell_type": "code",
   "execution_count": 13,
   "metadata": {},
   "outputs": [
    {
     "data": {
      "text/plain": [
       "['./csvs\\\\mirai-httpflooding-1-dec.pcap_Flow.csv',\n",
       " './csvs\\\\mirai-httpflooding-2-dec.pcap_Flow.csv',\n",
       " './csvs\\\\mirai-httpflooding-3-dec.pcap_Flow.csv',\n",
       " './csvs\\\\mirai-httpflooding-4-dec.pcap_Flow.csv']"
      ]
     },
     "execution_count": 13,
     "metadata": {},
     "output_type": "execute_result"
    }
   ],
   "source": [
    "name_list=find_the_way('./csvs','http')\n",
    "name_list"
   ]
  },
  {
   "cell_type": "code",
   "execution_count": 14,
   "metadata": {},
   "outputs": [
    {
     "name": "stdout",
     "output_type": "stream",
     "text": [
      "./csvs\\mirai-httpflooding-1-dec.pcap_Flow.csv\n",
      "./csvs\\mirai-httpflooding-2-dec.pcap_Flow.csv\n",
      "./csvs\\mirai-httpflooding-3-dec.pcap_Flow.csv\n",
      "./csvs\\mirai-httpflooding-4-dec.pcap_Flow.csv\n"
     ]
    }
   ],
   "source": [
    "for  file in name_list:\n",
    "    df=pd.read_csv(file)\n",
    "    print(file)\n",
    "    labeller=df[['Src IP', 'Dst IP', 'Dst Port', 'Protocol']]\n",
    "\n",
    "    # RULES  ##################################################\n",
    "    label=[]\n",
    "    for i in labeller.values:\n",
    "        if i[1]=='210.89.164.90':\n",
    "            label.append(1)\n",
    "        else:label.append(0)\n",
    "    # RULES  ##################################################\n",
    "    df['Label']=label\n",
    "    df.to_csv(file,index=False)\n"
   ]
  },
  {
   "cell_type": "code",
   "execution_count": 21,
   "metadata": {},
   "outputs": [
    {
     "data": {
      "text/plain": [
       "['./csvs\\\\GosundRoombaHTTPFlood.csv']"
      ]
     },
     "execution_count": 21,
     "metadata": {},
     "output_type": "execute_result"
    }
   ],
   "source": [
    "name_list=find_the_way('./csvs','HTTP')\n",
    "name_list"
   ]
  },
  {
   "cell_type": "markdown",
   "metadata": {},
   "source": [
    "### MAZE HTTP FLOOD"
   ]
  },
  {
   "cell_type": "code",
   "execution_count": 18,
   "metadata": {},
   "outputs": [
    {
     "name": "stdout",
     "output_type": "stream",
     "text": [
      "./csvs\\http-flood -maze.csv\n"
     ]
    }
   ],
   "source": [
    "name_list=['./csvs\\\\http-flood -maze.csv']\n",
    "for  file in name_list:\n",
    "    df=pd.read_csv(file)\n",
    "    print(file)\n",
    "    labeller=df[['Src IP', 'Dst IP', 'Dst Port', 'Protocol']]\n",
    "\n",
    "    # RULES  ##################################################\n",
    "    label=[]\n",
    "    for i in labeller.values:\n",
    "        if i[0]=='10.0.0.2':\n",
    "            if i[1]=='10.128.0.2':\n",
    "                label.append(1)\n",
    "        else:label.append(0)\n",
    "    # RULES  ##################################################\n",
    "    df['Label']=label\n",
    "    df.to_csv(file,index=False)\n"
   ]
  },
  {
   "cell_type": "markdown",
   "metadata": {},
   "source": [
    "### CIC HTTP FLOOD"
   ]
  },
  {
   "cell_type": "code",
   "execution_count": 23,
   "metadata": {},
   "outputs": [
    {
     "name": "stdout",
     "output_type": "stream",
     "text": [
      "./csvs\\GosundRoombaHTTPFlood.csv\n"
     ]
    }
   ],
   "source": [
    "name_list=['./csvs\\\\GosundRoombaHTTPFlood.csv']\n",
    "for  file in name_list:\n",
    "    df=pd.read_csv(file)\n",
    "    print(file)\n",
    "    labeller=df[['Src IP', 'Dst IP', 'Dst Port', 'Protocol']]\n",
    "\n",
    "    # RULES  ##################################################\n",
    "    label=[]\n",
    "    for i in labeller.values:\n",
    "        if (i[0]=='192.168.137.5') or (i[0]=='192.168.137.246') :\n",
    "            label.append(1)\n",
    "        else:label.append(0)\n",
    "    # RULES  ##################################################\n",
    "    df['Label']=label\n",
    "    df.to_csv(file,index=False)\n"
   ]
  },
  {
   "cell_type": "markdown",
   "metadata": {},
   "source": [
    "# ACK FLOOD"
   ]
  },
  {
   "cell_type": "code",
   "execution_count": 25,
   "metadata": {},
   "outputs": [],
   "source": [
    "name_list=find_the_way('./csvs','ack')\n",
    "name_list=[#'./csvs\\\\ack_maze.csv',\n",
    " './csvs\\\\mirai-ackflooding-1-dec.pcap_Flow.csv',\n",
    " './csvs\\\\mirai-ackflooding-2-dec.pcap_Flow.csv',\n",
    " './csvs\\\\mirai-ackflooding-3-dec.pcap_Flow.csv',\n",
    " './csvs\\\\mirai-ackflooding-4-dec.pcap_Flow.csv']"
   ]
  },
  {
   "cell_type": "code",
   "execution_count": 26,
   "metadata": {},
   "outputs": [
    {
     "name": "stdout",
     "output_type": "stream",
     "text": [
      "./csvs\\mirai-ackflooding-1-dec.pcap_Flow.csv\n",
      "./csvs\\mirai-ackflooding-2-dec.pcap_Flow.csv\n",
      "./csvs\\mirai-ackflooding-3-dec.pcap_Flow.csv\n",
      "./csvs\\mirai-ackflooding-4-dec.pcap_Flow.csv\n"
     ]
    }
   ],
   "source": [
    "for  file in name_list:\n",
    "    df=pd.read_csv(file)\n",
    "    print(file)\n",
    "    labeller=df[['Src IP', 'Dst IP', 'Dst Port', 'Protocol']]\n",
    "\n",
    "    # RULES  ##################################################\n",
    "    label=[]\n",
    "    for i in labeller.values:\n",
    "        if i[1]=='210.89.164.90':\n",
    "            label.append(1)\n",
    "        else:label.append(0)\n",
    "    # RULES  ##################################################\n",
    "    df['Label']=label\n",
    "    df.to_csv(file,index=False)\n"
   ]
  },
  {
   "cell_type": "code",
   "execution_count": 27,
   "metadata": {},
   "outputs": [
    {
     "name": "stdout",
     "output_type": "stream",
     "text": [
      "./csvs\\ack_maze.csv\n"
     ]
    }
   ],
   "source": [
    "name_list=['./csvs\\\\ack_maze.csv']\n",
    "for  file in name_list:\n",
    "    df=pd.read_csv(file)\n",
    "    print(file)\n",
    "    labeller=df[['Src IP', 'Dst IP', 'Dst Port', 'Protocol']]\n",
    "\n",
    "    # RULES  ##################################################\n",
    "    label=[]\n",
    "    for i in labeller.values:\n",
    "        if i[0]=='172.28.98.129':\n",
    "            if i[1]=='172.31.252.197':\n",
    "                label.append(1)\n",
    "        else:label.append(0)\n",
    "    # RULES  ##################################################\n",
    "    df['Label']=label\n",
    "    df.to_csv(file,index=False)"
   ]
  },
  {
   "cell_type": "code",
   "execution_count": 28,
   "metadata": {},
   "outputs": [
    {
     "data": {
      "text/plain": [
       "['./csvs\\\\NetatmoCamTCPFlood_3.pcap_ACK.csv']"
      ]
     },
     "execution_count": 28,
     "metadata": {},
     "output_type": "execute_result"
    }
   ],
   "source": [
    "name_list=find_the_way('./csvs','ACK')\n",
    "name_list"
   ]
  },
  {
   "cell_type": "code",
   "execution_count": 29,
   "metadata": {},
   "outputs": [
    {
     "name": "stdout",
     "output_type": "stream",
     "text": [
      "./csvs\\NetatmoCamTCPFlood_3.pcap_ACK.csv\n"
     ]
    }
   ],
   "source": [
    "name_list=['./csvs\\\\NetatmoCamTCPFlood_3.pcap_ACK.csv']\n",
    "for  file in name_list:\n",
    "    df=pd.read_csv(file)\n",
    "    print(file)\n",
    "    labeller=df[['Src IP', 'Dst IP', 'Dst Port', 'Protocol']]\n",
    "\n",
    "    # RULES  ##################################################\n",
    "    label=[]\n",
    "    for i in labeller.values:\n",
    "        if (i[0]=='192.168.137.5') or (i[0]=='192.168.137.246') :\n",
    "            label.append(1)\n",
    "        else:label.append(0)\n",
    "    # RULES  ##################################################\n",
    "    df['Label']=label\n",
    "    df.to_csv(file,index=False)\n"
   ]
  },
  {
   "cell_type": "code",
   "execution_count": null,
   "metadata": {},
   "outputs": [],
   "source": []
  },
  {
   "cell_type": "markdown",
   "metadata": {},
   "source": [
    "# UDP FLOOD"
   ]
  },
  {
   "cell_type": "code",
   "execution_count": 31,
   "metadata": {
    "scrolled": true
   },
   "outputs": [
    {
     "data": {
      "text/plain": [
       "['./csvs\\\\mirai-udpflooding-1-dec.pcap_Flow.csv',\n",
       " './csvs\\\\mirai-udpflooding-2-dec.pcap_Flow.csv',\n",
       " './csvs\\\\mirai-udpflooding-3-dec.pcap_Flow.csv',\n",
       " './csvs\\\\mirai-udpflooding-4-dec.pcap_Flow.csv']"
      ]
     },
     "execution_count": 31,
     "metadata": {},
     "output_type": "execute_result"
    }
   ],
   "source": [
    "name_list=find_the_way('./csvs','udp')\n",
    "name_list"
   ]
  },
  {
   "cell_type": "code",
   "execution_count": 32,
   "metadata": {},
   "outputs": [
    {
     "name": "stdout",
     "output_type": "stream",
     "text": [
      "./csvs\\mirai-udpflooding-1-dec.pcap_Flow.csv\n",
      "./csvs\\mirai-udpflooding-2-dec.pcap_Flow.csv\n",
      "./csvs\\mirai-udpflooding-3-dec.pcap_Flow.csv\n",
      "./csvs\\mirai-udpflooding-4-dec.pcap_Flow.csv\n"
     ]
    }
   ],
   "source": [
    "for  file in name_list:\n",
    "    df=pd.read_csv(file)\n",
    "    print(file)\n",
    "    labeller=df[['Src IP', 'Dst IP', 'Dst Port', 'Protocol']]\n",
    "\n",
    "    # RULES  ##################################################\n",
    "    label=[]\n",
    "    for i in labeller.values:\n",
    "        if i[1]=='210.89.164.90':\n",
    "            label.append(1)\n",
    "        else:label.append(0)\n",
    "    # RULES  ##################################################\n",
    "    df['Label']=label\n",
    "    df.to_csv(file,index=False)\n"
   ]
  },
  {
   "cell_type": "code",
   "execution_count": 42,
   "metadata": {},
   "outputs": [
    {
     "data": {
      "text/plain": [
       "['./csvs\\\\2021_11_04_Idle.UDP.csv',\n",
       " './csvs\\\\GlobeLampUDPFlood_1.pcap_Flow.csv',\n",
       " './csvs\\\\UDP_DDoS_00001.pcap_Flow.csv']"
      ]
     },
     "execution_count": 42,
     "metadata": {},
     "output_type": "execute_result"
    }
   ],
   "source": [
    "name_list=find_the_way('./csvs','UDP')\n",
    "name_list"
   ]
  },
  {
   "cell_type": "code",
   "execution_count": 41,
   "metadata": {},
   "outputs": [
    {
     "name": "stdout",
     "output_type": "stream",
     "text": [
      "./csvs\\2021_11_04_Idle.UDP.csv\n",
      "Label\n",
      "0    77094\n",
      "dtype: int64\n",
      "./csvs\\UDP_DDoS_00001.pcap_Flow.csv\n",
      "Label\n",
      "0         9\n",
      "1    262144\n",
      "dtype: int64\n"
     ]
    }
   ],
   "source": [
    "name_list=['./csvs\\\\2021_11_04_Idle.UDP.csv', './csvs\\\\UDP_DDoS_00001.pcap_Flow.csv']\n",
    "for  file in name_list:\n",
    "    df=pd.read_csv(file)\n",
    "    print(file)\n",
    "    labeller=df[['Src IP', 'Dst IP', 'Dst Port', 'Protocol']]\n",
    "\n",
    "    # RULES  ##################################################\n",
    "    label=[]\n",
    "    for i in labeller.values:\n",
    "        if i[3]==17:\n",
    "            if (i[0]=='192.168.100.147') or (i[0]=='192.168.100.148') or (i[0]=='192.168.100.149') or (i[0]=='192.168.100.150')  :\n",
    "                label.append(1)\n",
    "            else:\n",
    "                label.append(0)\n",
    "        else:label.append(0)\n",
    "    # RULES  ##################################################\n",
    "    df['Label']=label\n",
    "    df.to_csv(file,index=False)\n",
    "    print(df.groupby(\"Label\").size())\n",
    "    \n",
    "    "
   ]
  },
  {
   "cell_type": "code",
   "execution_count": 45,
   "metadata": {},
   "outputs": [
    {
     "name": "stdout",
     "output_type": "stream",
     "text": [
      "./csvs\\GlobeLampUDPFlood_1.pcap_Flow.csv\n",
      "Label\n",
      "0    155\n",
      "1    182\n",
      "dtype: int64\n"
     ]
    }
   ],
   "source": [
    "name_list=[ './csvs\\\\GlobeLampUDPFlood_1.pcap_Flow.csv']\n",
    "for  file in name_list:\n",
    "    df=pd.read_csv(file)\n",
    "    print(file)\n",
    "    labeller=df[['Src IP', 'Dst IP', 'Dst Port', 'Protocol']]\n",
    "\n",
    "    # RULES  ##################################################\n",
    "    label=[]\n",
    "    for i in labeller.values:\n",
    "        if (i[0]=='192.168.137.5') or (i[0]=='192.168.137.246') :\n",
    "            label.append(1)\n",
    "        else:\n",
    "            label.append(0)\n",
    "    # RULES  ##################################################\n",
    "    df['Label']=label\n",
    "    df.to_csv(file,index=False)\n",
    "    print(df.groupby(\"Label\").size())\n",
    "    \n",
    "    "
   ]
  },
  {
   "cell_type": "code",
   "execution_count": null,
   "metadata": {},
   "outputs": [],
   "source": []
  },
  {
   "cell_type": "code",
   "execution_count": null,
   "metadata": {},
   "outputs": [],
   "source": []
  },
  {
   "cell_type": "code",
   "execution_count": null,
   "metadata": {},
   "outputs": [],
   "source": []
  },
  {
   "cell_type": "markdown",
   "metadata": {},
   "source": [
    "# MitM ARP"
   ]
  },
  {
   "cell_type": "code",
   "execution_count": 6,
   "metadata": {
    "scrolled": true
   },
   "outputs": [
    {
     "data": {
      "text/plain": [
       "['./csvs\\\\MitM-ARP-1.csv',\n",
       " './csvs\\\\MitM-ARP-2.csv',\n",
       " './csvs\\\\MitM-ARP-3.csv',\n",
       " './csvs\\\\MitM-ARP-4.csv',\n",
       " './csvs\\\\MitM-ARP-5.csv',\n",
       " './csvs\\\\MitM-ARP-6.csv']"
      ]
     },
     "execution_count": 6,
     "metadata": {},
     "output_type": "execute_result"
    }
   ],
   "source": [
    "name_list=find_the_way('./csvs','MitM-ARP')\n",
    "name_list\n"
   ]
  },
  {
   "cell_type": "code",
   "execution_count": 8,
   "metadata": {},
   "outputs": [
    {
     "name": "stderr",
     "output_type": "stream",
     "text": [
      "C:\\Users\\kahra\\AppData\\Local\\Temp\\ipykernel_21860\\2959521631.py:2: DtypeWarning: Columns (40) have mixed types. Specify dtype option on import or set low_memory=False.\n",
      "  df=pd.read_csv(file)\n"
     ]
    },
    {
     "name": "stdout",
     "output_type": "stream",
     "text": [
      "./csvs\\MitM-ARP-1.csv Label\n",
      "0    125\n",
      "1     31\n",
      "dtype: int64 \n",
      " ====================================================================================================\n"
     ]
    },
    {
     "name": "stderr",
     "output_type": "stream",
     "text": [
      "C:\\Users\\kahra\\AppData\\Local\\Temp\\ipykernel_21860\\2959521631.py:2: DtypeWarning: Columns (40) have mixed types. Specify dtype option on import or set low_memory=False.\n",
      "  df=pd.read_csv(file)\n"
     ]
    },
    {
     "name": "stdout",
     "output_type": "stream",
     "text": [
      "./csvs\\MitM-ARP-2.csv Label\n",
      "0    179\n",
      "dtype: int64 \n",
      " ====================================================================================================\n",
      "./csvs\\MitM-ARP-3.csv Label\n",
      "0    150\n",
      "dtype: int64 \n",
      " ====================================================================================================\n",
      "./csvs\\MitM-ARP-4.csv Label\n",
      "0    113\n",
      "1    192\n",
      "dtype: int64 \n",
      " ====================================================================================================\n",
      "./csvs\\MitM-ARP-5.csv Label\n",
      "0    208\n",
      "1    123\n",
      "dtype: int64 \n",
      " ====================================================================================================\n"
     ]
    },
    {
     "name": "stderr",
     "output_type": "stream",
     "text": [
      "C:\\Users\\kahra\\AppData\\Local\\Temp\\ipykernel_21860\\2959521631.py:2: DtypeWarning: Columns (40) have mixed types. Specify dtype option on import or set low_memory=False.\n",
      "  df=pd.read_csv(file)\n"
     ]
    },
    {
     "name": "stdout",
     "output_type": "stream",
     "text": [
      "./csvs\\MitM-ARP-6.csv Label\n",
      "0    184\n",
      "1    263\n",
      "dtype: int64 \n",
      " ====================================================================================================\n"
     ]
    }
   ],
   "source": [
    "for  file in name_list:\n",
    "    df=pd.read_csv(file)\n",
    "    df[\"ID1\"] = df[\"IP_src\"] +\"-\" +df[\"IP_dst\"] +\"-\"+df[\"sport\"].apply(str)+ \"-\"+ df[\"dport\"].apply(str)+ \"-\"+df[\"IP_proto\"].apply(str)\n",
    "    IDS={}\n",
    "    for j in df[\"ID1\"].unique():\n",
    "        filtered=df[df[\"ID1\"]==j]\n",
    "        temp=dict(filtered.groupby(\"Label\").size())\n",
    "        if len(temp)==1:\n",
    "            IDS[j]=temp\n",
    "    \n",
    "    flow=pd.read_csv(f'./csvs/mitm-arpspoofing-{file[-5]}-dec.pcap_Flow.csv')\n",
    "    new_label=[]\n",
    "    for  j in flow[\"Flow ID\"]:\n",
    "        try:\n",
    "            new_label.append(list(IDS[j].keys())[0])\n",
    "        except:\n",
    "            new_label.append(\"No Label\")\n",
    "    flow[\"Label\"]=new_label\n",
    "    flow=flow[flow[\"Label\"]!=\"No Label\"]\n",
    "    print(file,flow.groupby(\"Label\").size(),\"\\n\",\"=\"*100)\n",
    "    flow.to_csv(f'./csvs/mitm-arpspoofing-{file[-5]}-dec.pcap_Flow.csv',index=False)\n"
   ]
  },
  {
   "cell_type": "markdown",
   "metadata": {},
   "source": [
    "# Kitsune ARP"
   ]
  },
  {
   "cell_type": "code",
   "execution_count": null,
   "metadata": {},
   "outputs": [],
   "source": [
    "graph_name=\"1.pdf\"\n",
    "my_xticks=list(range(len(df[\"Label\"].values)))\n",
    "\n",
    "plt.figure(figsize=(100,15))\n",
    "plt.plot(my_xticks,df[\"Label\"].values,  color='b',label= \"A\")\n",
    "\n",
    "plt.title(\"ML Scores \")\n",
    "plt.legend(numpoints=1)\n",
    "plt.ylabel(\"F1 Score\")\n",
    "plt.xticks(rotation=90) \n",
    "\n",
    "plt.savefig(graph_name,bbox_inches='tight',format=\"pdf\")#, dpi=400)"
   ]
  },
  {
   "cell_type": "code",
   "execution_count": null,
   "metadata": {},
   "outputs": [],
   "source": [
    "\n",
    "df=pd.read_csv( './ARP_MitM._SW.csv')\n",
    "df[\"ID1\"] = df[\"IP_src\"] +\"-\" +df[\"IP_dst\"] +\"-\"+df[\"sport\"].apply(str)+ \"-\"+ df[\"dport\"].apply(str)+ \"-\"+df[\"IP_proto\"].apply(str)\n",
    "IDS={}\n",
    "for j in df[\"ID1\"].unique():\n",
    "    filtered=df[df[\"ID1\"]==j]\n",
    "    temp=dict(filtered.groupby(\"Label\").size())\n",
    "    if len(temp)==1:\n",
    "        IDS[j]=temp\n",
    "    else:print(temp)\n",
    "\n",
    "flow=pd.read_csv('./ARP_MitM.pcap_Flow.csv')\n",
    "new_label=[]\n",
    "for jj,j in enumerate(flow[\"Flow ID\"]):\n",
    "    if int(flow[\"Timestamp\"][jj][11:-3].replace(\":\",\"\"))<93515.6: # ATTACK start this time\n",
    "        new_label.append(0)\n",
    "    else:\n",
    "        try:\n",
    "            new_label.append(list(IDS[j].keys())[0])\n",
    "        except:\n",
    "            new_label.append(\"No Label\")\n",
    "flow[\"Label\"]=new_label\n",
    "flow=flow[flow[\"Label\"]!=\"No Label\"]\n",
    "print(flow.groupby(\"Label\").size(),\"\\n\",\"=\"*100)\n",
    "flow.to_csv('./ARP_MitM-Flow.csv',index=False)\n"
   ]
  },
  {
   "cell_type": "code",
   "execution_count": null,
   "metadata": {},
   "outputs": [],
   "source": []
  },
  {
   "cell_type": "markdown",
   "metadata": {},
   "source": [
    "# PORT SCAN"
   ]
  },
  {
   "cell_type": "code",
   "execution_count": 5,
   "metadata": {},
   "outputs": [
    {
     "data": {
      "text/plain": [
       "['./csvs\\\\scan-hostport-1-dec.pcap_Flow.csv',\n",
       " './csvs\\\\scan-hostport-2-dec.pcap_Flow.csv',\n",
       " './csvs\\\\scan-hostport-3-dec.pcap_Flow.csv',\n",
       " './csvs\\\\scan-hostport-4-dec.pcap_Flow.csv',\n",
       " './csvs\\\\scan-hostport-5-dec.pcap_Flow.csv',\n",
       " './csvs\\\\scan-hostport-6-dec.pcap_Flow.csv']"
      ]
     },
     "execution_count": 5,
     "metadata": {},
     "output_type": "execute_result"
    }
   ],
   "source": [
    "name_list=find_the_way('./csvs','hostp')\n",
    "name_list\n"
   ]
  },
  {
   "cell_type": "code",
   "execution_count": null,
   "metadata": {},
   "outputs": [],
   "source": [
    " #  1-2-3"
   ]
  },
  {
   "cell_type": "code",
   "execution_count": 6,
   "metadata": {},
   "outputs": [],
   "source": [
    "name_list=['./csvs\\\\scan-hostport-1-dec.pcap_Flow.csv',\n",
    " './csvs\\\\scan-hostport-2-dec.pcap_Flow.csv',\n",
    " './csvs\\\\scan-hostport-3-dec.pcap_Flow.csv']\n",
    "# RULE ip.src == 192.168.0.15 and ip.dst == 192.168.0.13"
   ]
  },
  {
   "cell_type": "code",
   "execution_count": 7,
   "metadata": {},
   "outputs": [
    {
     "name": "stdout",
     "output_type": "stream",
     "text": [
      "./csvs\\scan-hostport-1-dec.pcap_Flow.csv\n",
      "Label\n",
      "0     59\n",
      "1    969\n",
      "dtype: int64\n",
      "./csvs\\scan-hostport-2-dec.pcap_Flow.csv\n",
      "Label\n",
      "0      58\n",
      "1    1006\n",
      "dtype: int64\n",
      "./csvs\\scan-hostport-3-dec.pcap_Flow.csv\n",
      "Label\n",
      "0     60\n",
      "1    973\n",
      "dtype: int64\n"
     ]
    }
   ],
   "source": [
    "for  file in name_list:\n",
    "    df=pd.read_csv(file)\n",
    "    print(file)\n",
    "    labeller=df[['Src IP', 'Dst IP', 'Dst Port', 'Protocol']]\n",
    "\n",
    "    # RULES  ##################################################\n",
    "    label=[]\n",
    "    for i in labeller.values:\n",
    "        if (i[0]=='192.168.0.15') and (i[1]=='192.168.0.13') :\n",
    "            label.append(1)\n",
    "        else:\n",
    "            label.append(0)\n",
    "    # RULES  ##################################################\n",
    "    df['Label']=label\n",
    "    df.to_csv(file,index=False)\n",
    "    print(df.groupby(\"Label\").size())\n",
    "    \n",
    "    "
   ]
  },
  {
   "cell_type": "code",
   "execution_count": 8,
   "metadata": {},
   "outputs": [],
   "source": [
    "name_list=['./csvs\\\\scan-hostport-4-dec.pcap_Flow.csv',\n",
    " './csvs\\\\scan-hostport-5-dec.pcap_Flow.csv',\n",
    " './csvs\\\\scan-hostport-6-dec.pcap_Flow.csv']\n",
    "\n",
    "# RULE  ip.src == 192.168.0.15 and ip.dst == 192.168.0.24 "
   ]
  },
  {
   "cell_type": "code",
   "execution_count": 9,
   "metadata": {},
   "outputs": [
    {
     "name": "stdout",
     "output_type": "stream",
     "text": [
      "./csvs\\scan-hostport-4-dec.pcap_Flow.csv\n",
      "Label\n",
      "0    103\n",
      "1    994\n",
      "dtype: int64\n",
      "./csvs\\scan-hostport-5-dec.pcap_Flow.csv\n",
      "Label\n",
      "0     64\n",
      "1    997\n",
      "dtype: int64\n",
      "./csvs\\scan-hostport-6-dec.pcap_Flow.csv\n",
      "Label\n",
      "0      78\n",
      "1    1914\n",
      "dtype: int64\n"
     ]
    }
   ],
   "source": [
    "for  file in name_list:\n",
    "    df=pd.read_csv(file)\n",
    "    print(file)\n",
    "    labeller=df[['Src IP', 'Dst IP', 'Dst Port', 'Protocol']]\n",
    "\n",
    "    # RULES  ##################################################\n",
    "    label=[]\n",
    "    for i in labeller.values:\n",
    "        if (i[0]=='192.168.0.15') and (i[1]=='192.168.0.24') :\n",
    "            label.append(1)\n",
    "        else:\n",
    "            label.append(0)\n",
    "    # RULES  ##################################################\n",
    "    df['Label']=label\n",
    "    df.to_csv(file,index=False)\n",
    "    print(df.groupby(\"Label\").size())"
   ]
  },
  {
   "cell_type": "code",
   "execution_count": null,
   "metadata": {},
   "outputs": [],
   "source": [
    "ROLE edge ---->  ip.src==192.168.0.170"
   ]
  },
  {
   "cell_type": "markdown",
   "metadata": {},
   "source": [
    "# Edge-IoT"
   ]
  },
  {
   "cell_type": "code",
   "execution_count": 9,
   "metadata": {},
   "outputs": [],
   "source": [
    "name_list=find_the_way('./csvs','Ed')\n",
    "name_list=['./csvs\\\\Edge-Port Scanning attack.pcap_Flow.csv']\n"
   ]
  },
  {
   "cell_type": "code",
   "execution_count": 12,
   "metadata": {},
   "outputs": [
    {
     "name": "stdout",
     "output_type": "stream",
     "text": [
      "./csvs\\Edge-Port Scanning attack.pcap_Flow.csv\n",
      "Label\n",
      "0     298\n",
      "1    9987\n",
      "dtype: int64\n"
     ]
    }
   ],
   "source": [
    "for  file in name_list:\n",
    "    df=pd.read_csv(file)\n",
    "    print(file)\n",
    "    labeller=df[['Src IP', 'Dst IP', 'Dst Port', 'Protocol']]\n",
    "\n",
    "    # RULES  ##################################################\n",
    "    label=[]\n",
    "    for i in labeller.values:\n",
    "        if (i[0]=='192.168.0.170') :\n",
    "            label.append(1)\n",
    "        else:\n",
    "            label.append(0)\n",
    "    # RULES  ##################################################\n",
    "    df['Label']=label\n",
    "    df.to_csv(file,index=False)\n",
    "    print(df.groupby(\"Label\").size())"
   ]
  },
  {
   "cell_type": "markdown",
   "metadata": {},
   "source": [
    "# Brute ForCE"
   ]
  },
  {
   "cell_type": "code",
   "execution_count": 13,
   "metadata": {},
   "outputs": [],
   "source": [
    "file_list=find_the_way('./csvs','brute')\n",
    "file_list=['./csvs\\\\mirai-hostbruteforce-1-dec.pcap_Flow.csv',\n",
    " #'./csvs\\\\mirai-hostbruteforce-2-dec.pcap_Flow.csv',\n",
    " './csvs\\\\mirai-hostbruteforce-3-dec.pcap_Flow.csv',\n",
    "# './csvs\\\\mirai-hostbruteforce-4-dec.pcap_Flow.csv',\n",
    " './csvs\\\\mirai-hostbruteforce-5-dec.pcap_Flow.csv']\n"
   ]
  },
  {
   "cell_type": "code",
   "execution_count": 14,
   "metadata": {},
   "outputs": [
    {
     "name": "stdout",
     "output_type": "stream",
     "text": [
      "Label\n",
      "0    490\n",
      "1    119\n",
      "dtype: int64\n",
      "Label\n",
      "0    992\n",
      "1    180\n",
      "dtype: int64\n",
      "Label\n",
      "0    835\n",
      "1    149\n",
      "dtype: int64\n"
     ]
    }
   ],
   "source": [
    "for  file in file_list:\n",
    "    df=pd.read_csv(file)\n",
    "    labeller=df[['Src IP', 'Dst IP', 'Dst Port', 'Protocol']]\n",
    "    \n",
    "    # RULES  ##################################################\n",
    "    label=[]\n",
    "    for i in labeller.values:\n",
    "        if i[0]==\"192.168.0.13\":\n",
    "            if i[3]==6:\n",
    "                label.append(1)\n",
    "            else:\n",
    "                label.append(0)\n",
    "                \n",
    "        else:label.append(0)\n",
    "    # RULES  ##################################################\n",
    "    \n",
    "    df['Label']=label\n",
    "    df.to_csv(file,index=False)\n",
    "    print(df.groupby(\"Label\").size())"
   ]
  },
  {
   "cell_type": "code",
   "execution_count": 15,
   "metadata": {},
   "outputs": [],
   "source": [
    "file_list=[\n",
    " './csvs\\\\mirai-hostbruteforce-2-dec.pcap_Flow.csv',\n",
    "\n",
    " './csvs\\\\mirai-hostbruteforce-4-dec.pcap_Flow.csv']"
   ]
  },
  {
   "cell_type": "code",
   "execution_count": 16,
   "metadata": {},
   "outputs": [
    {
     "name": "stdout",
     "output_type": "stream",
     "text": [
      "Label\n",
      "0    881\n",
      "1    219\n",
      "dtype: int64\n",
      "Label\n",
      "0    692\n",
      "1    546\n",
      "dtype: int64\n"
     ]
    }
   ],
   "source": [
    "for  file in file_list:\n",
    "    df=pd.read_csv(file)\n",
    "    labeller=df[['Src IP', 'Dst IP', 'Dst Port', 'Protocol']]\n",
    "    \n",
    "    # RULES  ##################################################\n",
    "    label=[]\n",
    "    for i in labeller.values:\n",
    "        if i[0]==\"192.168.0.24\":\n",
    "            if i[3]==6:\n",
    "                label.append(1)\n",
    "            else:\n",
    "                label.append(0)\n",
    "                \n",
    "        else:label.append(0)\n",
    "    # RULES  ##################################################\n",
    "    \n",
    "    df['Label']=label\n",
    "    df.to_csv(file,index=False)\n",
    "    print(df.groupby(\"Label\").size())"
   ]
  },
  {
   "cell_type": "code",
   "execution_count": 17,
   "metadata": {},
   "outputs": [
    {
     "data": {
      "text/plain": [
       "['./csvs\\\\edges-password attacks.pcap_Flow.csv',\n",
       " './csvs\\\\ton-password_normal1.pcap_Flow.csv']"
      ]
     },
     "execution_count": 17,
     "metadata": {},
     "output_type": "execute_result"
    }
   ],
   "source": [
    "file_list=find_the_way('./csvs','pass')\n",
    "file_list\n"
   ]
  },
  {
   "cell_type": "code",
   "execution_count": null,
   "metadata": {},
   "outputs": [],
   "source": [
    "file_list['./csvs\\\\edges-password attacks.pcap_Flow.csv']\n",
    "\n",
    "for  file in file_list:\n",
    "    df=pd.read_csv(file)\n",
    "    labeller=df[['Src IP', 'Dst IP', 'Dst Port', 'Protocol']]\n",
    "    \n",
    "    # RULES  ##################################################\n",
    "    label=[]\n",
    "    for i in labeller.values:\n",
    "        if i[0]==\"192.168.0.170\":\n",
    "\n",
    "                label.append(1)\n",
    "\n",
    "                \n",
    "        else:label.append(0)\n",
    "    # RULES  ##################################################\n",
    "    \n",
    "    df['Label']=label\n",
    "    df.to_csv(file,index=False)\n",
    "    print(df.groupby(\"Label\").size())"
   ]
  },
  {
   "cell_type": "code",
   "execution_count": null,
   "metadata": {},
   "outputs": [],
   "source": []
  },
  {
   "cell_type": "code",
   "execution_count": 19,
   "metadata": {},
   "outputs": [
    {
     "name": "stdout",
     "output_type": "stream",
     "text": [
      "Label\n",
      "0    1756\n",
      "dtype: int64\n"
     ]
    }
   ],
   "source": [
    "file_list=[#'./csvs\\\\edges-password attacks.pcap_Flow.csv',\n",
    " './csvs\\\\ton-password_normal1.pcap_Flow.csv']\n",
    "\n",
    "for  file in file_list:\n",
    "    df=pd.read_csv(file)\n",
    "    labeller=df[['Src IP', 'Dst IP', 'Dst Port', 'Protocol']]\n",
    "    \n",
    "    # RULES  ##################################################\n",
    "    label=[]\n",
    "    for i in labeller.values:\n",
    "        if (i[0]=='192.168.1.30') or (i[0]=='192.168.1.31') or (i[0]=='192.168.1.32') or (i[0]=='192.168.1.33') or (i[0]=='192.168.1.35') or (i[0]=='192.168.1.38'): \n",
    "            label.append(1)\n",
    "\n",
    "                \n",
    "        else:label.append(0)\n",
    "    # RULES  ##################################################\n",
    "    \n",
    "    df['Label']=label\n",
    "    df.to_csv(file,index=False)\n",
    "    print(df.groupby(\"Label\").size())"
   ]
  },
  {
   "cell_type": "code",
   "execution_count": 23,
   "metadata": {},
   "outputs": [
    {
     "data": {
      "text/plain": [
       "['./csvs/cic\\\\AmcrestCamBruteForce_1.pcap_Flow.csv',\n",
       " './csvs/cic\\\\AmcrestCamBruteForce_2.pcap_Flow.csv',\n",
       " './csvs/cic\\\\AmcrestCamBruteForce_3.pcap_Flow.csv',\n",
       " './csvs/cic\\\\AmcrestCamRTSP_1.pcap_Flow.csv',\n",
       " './csvs/cic\\\\AmcrestCamRTSP_2.pcap_Flow.csv',\n",
       " './csvs/cic\\\\AmcrestCamRTSP_3.pcap_Flow.csv',\n",
       " './csvs/cic\\\\HeimVisionCamRTSP_1.pcap_Flow.csv',\n",
       " './csvs/cic\\\\HeimVisionCamRTSP_2.pcap_Flow.csv',\n",
       " './csvs/cic\\\\HeimVisionCamRTSP_3.pcap_Flow.csv',\n",
       " './csvs/cic\\\\LuoheCamRSTP_1.pcap_Flow.csv',\n",
       " './csvs/cic\\\\LuoheCamRSTP_2.pcap_Flow.csv',\n",
       " './csvs/cic\\\\LuoheCamRSTP_3.pcap_Flow.csv',\n",
       " './csvs/cic\\\\SimcamBruteForce_1.pcap_Flow.csv',\n",
       " './csvs/cic\\\\SimcamBruteForce_2.pcap_Flow.csv',\n",
       " './csvs/cic\\\\SimcamBruteForce_3.pcap_Flow.csv',\n",
       " './csvs/cic\\\\SIMCAMRTSP_1.pcap_Flow.csv',\n",
       " './csvs/cic\\\\SIMCAMRTSP_2.pcap_Flow.csv']"
      ]
     },
     "execution_count": 23,
     "metadata": {},
     "output_type": "execute_result"
    }
   ],
   "source": [
    "#CIC\n",
    "file_list=find_the_way('./csvs/cic','csv')\n",
    "file_list\n"
   ]
  },
  {
   "cell_type": "code",
   "execution_count": 25,
   "metadata": {},
   "outputs": [
    {
     "name": "stdout",
     "output_type": "stream",
     "text": [
      "./csvs/cic\\AmcrestCamBruteForce_1.pcap_Flow.csv\n",
      "Label\n",
      "0    31\n",
      "1    36\n",
      "dtype: int64\n",
      "./csvs/cic\\AmcrestCamBruteForce_2.pcap_Flow.csv\n",
      "Label\n",
      "0    31\n",
      "1    36\n",
      "dtype: int64\n",
      "./csvs/cic\\AmcrestCamBruteForce_3.pcap_Flow.csv\n",
      "Label\n",
      "0    29\n",
      "1    38\n",
      "dtype: int64\n",
      "./csvs/cic\\AmcrestCamRTSP_1.pcap_Flow.csv\n",
      "Label\n",
      "0     213\n",
      "1    1469\n",
      "dtype: int64\n",
      "./csvs/cic\\AmcrestCamRTSP_2.pcap_Flow.csv\n",
      "Label\n",
      "0     178\n",
      "1    1193\n",
      "dtype: int64\n",
      "./csvs/cic\\AmcrestCamRTSP_3.pcap_Flow.csv\n",
      "Label\n",
      "0     178\n",
      "1    1191\n",
      "dtype: int64\n",
      "./csvs/cic\\HeimVisionCamRTSP_1.pcap_Flow.csv\n",
      "Label\n",
      "0     179\n",
      "1    1190\n",
      "dtype: int64\n",
      "./csvs/cic\\HeimVisionCamRTSP_2.pcap_Flow.csv\n",
      "Label\n",
      "0     177\n",
      "1    1121\n",
      "dtype: int64\n",
      "./csvs/cic\\HeimVisionCamRTSP_3.pcap_Flow.csv\n",
      "Label\n",
      "0     177\n",
      "1    1121\n",
      "dtype: int64\n",
      "./csvs/cic\\LuoheCamRSTP_1.pcap_Flow.csv\n",
      "Label\n",
      "0     172\n",
      "1    1219\n",
      "dtype: int64\n",
      "./csvs/cic\\LuoheCamRSTP_2.pcap_Flow.csv\n",
      "Label\n",
      "0     3\n",
      "1    16\n",
      "dtype: int64\n",
      "./csvs/cic\\LuoheCamRSTP_3.pcap_Flow.csv\n",
      "Label\n",
      "0     181\n",
      "1    1227\n",
      "dtype: int64\n",
      "./csvs/cic\\SimcamBruteForce_1.pcap_Flow.csv\n",
      "Label\n",
      "0     6\n",
      "1    12\n",
      "dtype: int64\n",
      "./csvs/cic\\SimcamBruteForce_2.pcap_Flow.csv\n",
      "Label\n",
      "0     6\n",
      "1    12\n",
      "dtype: int64\n",
      "./csvs/cic\\SimcamBruteForce_3.pcap_Flow.csv\n",
      "Label\n",
      "0     6\n",
      "1    12\n",
      "dtype: int64\n",
      "./csvs/cic\\SIMCAMRTSP_1.pcap_Flow.csv\n",
      "Label\n",
      "0     177\n",
      "1    1188\n",
      "dtype: int64\n",
      "./csvs/cic\\SIMCAMRTSP_2.pcap_Flow.csv\n",
      "Label\n",
      "0     176\n",
      "1    1189\n",
      "dtype: int64\n"
     ]
    }
   ],
   "source": [
    "for  file in file_list:\n",
    "    df=pd.read_csv(file)\n",
    "    print(file)\n",
    "    labeller=df[['Src IP', 'Dst IP', 'Dst Port', 'Protocol']]\n",
    "\n",
    "    # RULES  ##################################################\n",
    "    label=[]\n",
    "    for i in labeller.values:\n",
    "        if (i[0]=='192.168.137.5') or (i[0]=='192.168.137.246') :\n",
    "            label.append(1)\n",
    "        else:label.append(0)\n",
    "    # RULES  ##################################################\n",
    "    df['Label']=label\n",
    "    df.to_csv(file,index=False)\n",
    "    print(df.groupby(\"Label\").size())"
   ]
  },
  {
   "cell_type": "code",
   "execution_count": null,
   "metadata": {},
   "outputs": [],
   "source": []
  }
 ],
 "metadata": {
  "kernelspec": {
   "display_name": "Python 3 (ipykernel)",
   "language": "python",
   "name": "python3"
  },
  "language_info": {
   "codemirror_mode": {
    "name": "ipython",
    "version": 3
   },
   "file_extension": ".py",
   "mimetype": "text/x-python",
   "name": "python",
   "nbconvert_exporter": "python",
   "pygments_lexer": "ipython3",
   "version": "3.10.8"
  }
 },
 "nbformat": 4,
 "nbformat_minor": 2
}
