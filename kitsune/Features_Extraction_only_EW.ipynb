{
 "cells": [
  {
   "cell_type": "code",
   "execution_count": 5,
   "metadata": {},
   "outputs": [],
   "source": [
    "import pandas as pd\n",
    "import zipfile\n",
    "import os\n",
    "import time\n",
    "from tqdm import tqdm\n",
    "import shutil\n",
    "import math\n",
    "import numpy as np"
   ]
  },
  {
   "cell_type": "code",
   "execution_count": 6,
   "metadata": {},
   "outputs": [],
   "source": [
    "def folder(f_name): #this function creates a folder named \"attacks\" in the program directory.\n",
    "    try:\n",
    "        if not os.path.exists(f_name):\n",
    "            os.makedirs(f_name)\n",
    "    except OSError:\n",
    "        print (\"The folder could not be created!\")"
   ]
  },
  {
   "cell_type": "code",
   "execution_count": 7,
   "metadata": {
    "scrolled": true
   },
   "outputs": [],
   "source": [
    "def find_the_way(path,file_format,con=\"\"):\n",
    "    files_add = []\n",
    "    # r=root, d=directories, f = files\n",
    "    for r, d, f in os.walk(path):\n",
    "        for file in f:\n",
    "            if file_format in file:\n",
    "                if con in file:\n",
    "                    files_add.append(os.path.join(r, file))  \n",
    "            \n",
    "    return files_add"
   ]
  },
  {
   "cell_type": "code",
   "execution_count": 8,
   "metadata": {},
   "outputs": [],
   "source": [
    "def folder(f_name): #this function creates a folder.\n",
    "    try:\n",
    "        if not os.path.exists(f_name):\n",
    "            os.makedirs(f_name)\n",
    "    except OSError:\n",
    "        print (\"The folder could not be created!\")"
   ]
  },
  {
   "cell_type": "markdown",
   "metadata": {},
   "source": [
    "# Sliding Windows Features"
   ]
  },
  {
   "cell_type": "code",
   "execution_count": 9,
   "metadata": {},
   "outputs": [
    {
     "data": {
      "text/plain": [
       "['./train-test\\\\Active Wiretap_FE_test.csv',\n",
       " './train-test\\\\Active Wiretap_FE_train.csv',\n",
       " './train-test\\\\ARP MitM_FE_test.csv',\n",
       " './train-test\\\\ARP MitM_FE_train.csv',\n",
       " './train-test\\\\Fuzzing_FE_test.csv',\n",
       " './train-test\\\\Fuzzing_FE_train.csv',\n",
       " './train-test\\\\Mirai_FE_test.csv',\n",
       " './train-test\\\\Mirai_FE_train.csv',\n",
       " './train-test\\\\OS Scan_FE_test.csv',\n",
       " './train-test\\\\OS Scan_FE_train.csv',\n",
       " './train-test\\\\SSDP Flood_FE_test.csv',\n",
       " './train-test\\\\SSDP Flood_FE_train.csv',\n",
       " './train-test\\\\SSL Renegotiation_FE_test.csv',\n",
       " './train-test\\\\SSL Renegotiation_FE_train.csv',\n",
       " './train-test\\\\SYN DoS_FE_test.csv',\n",
       " './train-test\\\\SYN DoS_FE_train.csv',\n",
       " './train-test\\\\Video Injection_FE_test.csv',\n",
       " './train-test\\\\Video Injection_FE_train.csv']"
      ]
     },
     "execution_count": 9,
     "metadata": {},
     "output_type": "execute_result"
    }
   ],
   "source": [
    "files_add=find_the_way('./train-test','FE')\n",
    "files_add"
   ]
  },
  {
   "cell_type": "code",
   "execution_count": null,
   "metadata": {},
   "outputs": [],
   "source": []
  },
  {
   "cell_type": "code",
   "execution_count": 17,
   "metadata": {},
   "outputs": [],
   "source": [
    "def diff(x):\n",
    "    x = pd.Series(x)\n",
    "    result=x.diff()\n",
    "    try:\n",
    "        result=result.fillna(result[1])\n",
    "    except:result=result.fillna(0)\n",
    "    return result\n",
    "def mean(x):\n",
    "    x = pd.Series(x)\n",
    "    result=x.expanding(min_periods=1).mean()\n",
    "    return result\n",
    "def std(x):\n",
    "    x = pd.Series(x)\n",
    "    result=x.expanding(min_periods=1).std()\n",
    "    return result\n",
    "def sum_of(x):\n",
    "    x = pd.Series(x)\n",
    "    result=x.expanding(min_periods=1).sum()\n",
    "    return result\n",
    "def flagsum(x):\n",
    "    total_f=0\n",
    "    result=[]\n",
    "    for i in x:\n",
    "        if i==1:\n",
    "            total_f+=1\n",
    "        result.append(total_f)\n",
    "    return result\n",
    "def portsum(x):\n",
    "    total_ports=[]\n",
    "    result=[]\n",
    "    for i in x:\n",
    "        if i not in total_ports:\n",
    "            total_ports.append(i)\n",
    "        result.append(len(total_ports))\n",
    "    return result     "
   ]
  },
  {
   "cell_type": "code",
   "execution_count": 18,
   "metadata": {},
   "outputs": [],
   "source": [
    "n=['ts',\"WS_src\",\"WS_dst\",\n",
    " 'pck_size',\n",
    " #'Ether_dst',\n",
    " #'Ether_src','IP_src',\n",
    " #'IP_dst',\n",
    "   'UDP_sport',\n",
    " 'UDP_dport','TCP_sport',\n",
    " 'TCP_dport',\n",
    "#'IP_src',\n",
    " #'IP_dst', \n",
    "'TCP_FIN',\n",
    " 'TCP_SYN',\n",
    " 'TCP_RST',\n",
    " 'TCP_PSH',\n",
    " 'TCP_ACK',\n",
    " 'TCP_URG',\n",
    " 'TCP_ECE',\n",
    " 'TCP_CWR',\n",
    " 'TCP_window',\"payload_bytes\",\"entropy\",\"Label\"]"
   ]
  },
  {
   "cell_type": "code",
   "execution_count": null,
   "metadata": {},
   "outputs": [],
   "source": []
  },
  {
   "cell_type": "code",
   "execution_count": 19,
   "metadata": {},
   "outputs": [
    {
     "name": "stdout",
     "output_type": "stream",
     "text": [
      "Active Wiretap_FE_test.csv\n"
     ]
    },
    {
     "name": "stderr",
     "output_type": "stream",
     "text": [
      "100%|████████████████████████████████████████████████████████████████████████████████████| 1/1 [01:00<00:00, 60.70s/it]\n"
     ]
    },
    {
     "name": "stdout",
     "output_type": "stream",
     "text": [
      "-------------------------------------------------------------------------------\n",
      "Active Wiretap_FE_train.csv\n"
     ]
    },
    {
     "name": "stderr",
     "output_type": "stream",
     "text": [
      "100%|███████████████████████████████████████████████████████████████████████████████████| 1/1 [01:53<00:00, 113.16s/it]\n"
     ]
    },
    {
     "name": "stdout",
     "output_type": "stream",
     "text": [
      "-------------------------------------------------------------------------------\n",
      "ARP MitM_FE_test.csv\n"
     ]
    },
    {
     "name": "stderr",
     "output_type": "stream",
     "text": [
      "100%|████████████████████████████████████████████████████████████████████████████████████| 1/1 [00:57<00:00, 57.62s/it]\n"
     ]
    },
    {
     "name": "stdout",
     "output_type": "stream",
     "text": [
      "-------------------------------------------------------------------------------\n",
      "ARP MitM_FE_train.csv\n"
     ]
    },
    {
     "name": "stderr",
     "output_type": "stream",
     "text": [
      "100%|███████████████████████████████████████████████████████████████████████████████████| 1/1 [02:12<00:00, 132.75s/it]\n"
     ]
    },
    {
     "name": "stdout",
     "output_type": "stream",
     "text": [
      "-------------------------------------------------------------------------------\n",
      "Fuzzing_FE_test.csv\n"
     ]
    },
    {
     "name": "stderr",
     "output_type": "stream",
     "text": [
      "100%|████████████████████████████████████████████████████████████████████████████████████| 1/1 [01:26<00:00, 86.06s/it]\n"
     ]
    },
    {
     "name": "stdout",
     "output_type": "stream",
     "text": [
      "-------------------------------------------------------------------------------\n",
      "Fuzzing_FE_train.csv\n"
     ]
    },
    {
     "name": "stderr",
     "output_type": "stream",
     "text": [
      "100%|████████████████████████████████████████████████████████████████████████████████████| 1/1 [01:16<00:00, 76.20s/it]\n"
     ]
    },
    {
     "name": "stdout",
     "output_type": "stream",
     "text": [
      "-------------------------------------------------------------------------------\n",
      "Mirai_FE_test.csv\n"
     ]
    },
    {
     "name": "stderr",
     "output_type": "stream",
     "text": [
      "100%|████████████████████████████████████████████████████████████████████████████████| 174/174 [00:24<00:00,  7.14it/s]\n",
      "C:\\Users\\kahra\\AppData\\Local\\Temp\\ipykernel_6184\\3799620226.py:123: DtypeWarning: Columns (4,5) have mixed types. Specify dtype option on import or set low_memory=False.\n",
      "  df=pd.read_csv(j[13:])\n"
     ]
    },
    {
     "name": "stdout",
     "output_type": "stream",
     "text": [
      "-------------------------------------------------------------------------------\n",
      "Mirai_FE_train.csv\n"
     ]
    },
    {
     "name": "stderr",
     "output_type": "stream",
     "text": [
      "100%|████████████████████████████████████████████████████████████████████████████████████| 1/1 [00:31<00:00, 31.44s/it]\n"
     ]
    },
    {
     "name": "stdout",
     "output_type": "stream",
     "text": [
      "-------------------------------------------------------------------------------\n",
      "OS Scan_FE_test.csv\n"
     ]
    },
    {
     "name": "stderr",
     "output_type": "stream",
     "text": [
      "100%|████████████████████████████████████████████████████████████████████████████████████| 1/1 [00:45<00:00, 45.78s/it]\n"
     ]
    },
    {
     "name": "stdout",
     "output_type": "stream",
     "text": [
      "-------------------------------------------------------------------------------\n",
      "OS Scan_FE_train.csv\n"
     ]
    },
    {
     "name": "stderr",
     "output_type": "stream",
     "text": [
      "100%|████████████████████████████████████████████████████████████████████████████████████| 1/1 [00:53<00:00, 53.32s/it]\n"
     ]
    },
    {
     "name": "stdout",
     "output_type": "stream",
     "text": [
      "-------------------------------------------------------------------------------\n",
      "SSDP Flood_FE_test.csv\n"
     ]
    },
    {
     "name": "stderr",
     "output_type": "stream",
     "text": [
      "100%|████████████████████████████████████████████████████████████████████████████████████| 1/1 [01:03<00:00, 63.48s/it]\n"
     ]
    },
    {
     "name": "stdout",
     "output_type": "stream",
     "text": [
      "-------------------------------------------------------------------------------\n",
      "SSDP Flood_FE_train.csv\n"
     ]
    },
    {
     "name": "stderr",
     "output_type": "stream",
     "text": [
      "100%|██████████████████████████████████████████████████████████████████████████████████| 1/1 [27:30<00:00, 1650.84s/it]\n"
     ]
    },
    {
     "name": "stdout",
     "output_type": "stream",
     "text": [
      "-------------------------------------------------------------------------------\n",
      "SSL Renegotiation_FE_test.csv\n"
     ]
    },
    {
     "name": "stderr",
     "output_type": "stream",
     "text": [
      "100%|████████████████████████████████████████████████████████████████████████████████████| 1/1 [01:01<00:00, 61.69s/it]\n"
     ]
    },
    {
     "name": "stdout",
     "output_type": "stream",
     "text": [
      "-------------------------------------------------------------------------------\n",
      "SSL Renegotiation_FE_train.csv\n"
     ]
    },
    {
     "name": "stderr",
     "output_type": "stream",
     "text": [
      "100%|████████████████████████████████████████████████████████████████████████████████████| 1/1 [01:13<00:00, 73.66s/it]\n"
     ]
    },
    {
     "name": "stdout",
     "output_type": "stream",
     "text": [
      "-------------------------------------------------------------------------------\n",
      "SYN DoS_FE_test.csv\n"
     ]
    },
    {
     "name": "stderr",
     "output_type": "stream",
     "text": [
      "100%|████████████████████████████████████████████████████████████████████████████████| 542/542 [04:07<00:00,  2.19it/s]\n"
     ]
    },
    {
     "name": "stdout",
     "output_type": "stream",
     "text": [
      "-------------------------------------------------------------------------------\n",
      "SYN DoS_FE_train.csv\n"
     ]
    },
    {
     "name": "stderr",
     "output_type": "stream",
     "text": [
      "100%|████████████████████████████████████████████████████████████████████████████████████| 1/1 [01:07<00:00, 67.91s/it]\n"
     ]
    },
    {
     "name": "stdout",
     "output_type": "stream",
     "text": [
      "-------------------------------------------------------------------------------\n",
      "Video Injection_FE_test.csv\n"
     ]
    },
    {
     "name": "stderr",
     "output_type": "stream",
     "text": [
      "100%|████████████████████████████████████████████████████████████████████████████████████| 1/1 [01:03<00:00, 63.04s/it]\n"
     ]
    },
    {
     "name": "stdout",
     "output_type": "stream",
     "text": [
      "-------------------------------------------------------------------------------\n",
      "Video Injection_FE_train.csv\n"
     ]
    },
    {
     "name": "stderr",
     "output_type": "stream",
     "text": [
      "100%|████████████████████████████████████████████████████████████████████████████████████| 1/1 [01:01<00:00, 61.74s/it]\n"
     ]
    },
    {
     "name": "stdout",
     "output_type": "stream",
     "text": [
      "-------------------------------------------------------------------------------\n"
     ]
    }
   ],
   "source": [
    "outputfolder=\"EW\"\n",
    "folder(outputfolder)\n",
    "\n",
    "\n",
    "for j in files_add:\n",
    "    print(j[13:])\n",
    "    df=pd.read_csv(j)#,usecols=n)\n",
    "\n",
    "    df[\"sport\"]=df[\"UDP_sport\"]+df[\"TCP_sport\"]\n",
    "    df[\"dport\"]=df[\"UDP_dport\"]+df[\"TCP_dport\"]\n",
    "\n",
    "    del df[\"UDP_sport\"]\n",
    "    del df[\"TCP_sport\"]\n",
    "    del df[\"UDP_dport\"]\n",
    "    del df[\"TCP_dport\"]\n",
    "\n",
    "    df.to_csv(\"temp.csv\")\n",
    "\n",
    "\n",
    "    df=pd.read_csv(\"temp.csv\")\n",
    "    #df[\"ID\"] = df[\"Ether_src\"] +\"@\" +df[\"IP_src\"] +\"====>\"+df[\"Ether_dst\"]+ \"@\"+ df[\"IP_dst\"]\n",
    "    df[\"ID\"] = df[\"WS_src\"]+\"=>\"+df[\"WS_dst\"]\n",
    "    #del df[\"Ether_src\"] \n",
    "    #del df[\"IP_src\"] \n",
    "    #del df[\"Ether_dst\"] \n",
    "    #del df[\"IP_dst\"]\n",
    "    del df[\"WS_src\"] \n",
    "    del df[\"WS_dst\"]\n",
    "\n",
    "    cols=[ 'TCP_FIN',\n",
    " 'TCP_SYN',\n",
    " 'TCP_RST',\n",
    " 'TCP_PSH',\n",
    " 'TCP_ACK',\n",
    " 'TCP_URG',\n",
    " 'TCP_ECE',\n",
    " 'TCP_CWR', 'Label', 'ID', 'pck_size_diff', 'pck_size_mean',\n",
    "           'pck_size_std',  'ts_diff', 'ts_mean', 'ts_std',\n",
    "            'TCP_window_diff', 'TCP_window_mean', 'TCP_window_std',\"payload_bytes_diff\",\"payload_bytes_mean\",\"payload_bytes_std\",\n",
    "            'entropy_diff',\n",
    "     'entropy_mean',\n",
    "     'entropy_std']\n",
    "\n",
    "\n",
    "\n",
    "    IDS=sorted(list(df[df.columns[-1]].unique()))\n",
    "    func=[diff,mean,std] #functions\n",
    "    func_name=[\"diff\",\"mean\",\"std\",\"sum_of\"]\n",
    "    f_list=[\"pck_size\",\"ts\",'TCP_window',\"payload_bytes\",\"entropy\"]#, \"dport\",\"sport\"     'TCP_SYN', 'TCP_ACK'    'TCP_FIN', 'TCP_SYN', 'TCP_RST', 'TCP_PSH', 'TCP_ACK', 'TCP_URG', 'TCP_ECE', 'TCP_CWR',  \n",
    "    fark=['pck_size_diff',\n",
    "     'pck_size_mean',\n",
    "     'pck_size_std','pck_size_sum_of',\n",
    "     'ts_diff',\n",
    "     'ts_mean',\n",
    "     'ts_std','ts_sum_of',\n",
    "     'TCP_window_diff',\n",
    "     'TCP_window_mean',\n",
    "     'TCP_window_std','TCP_window_sum_of',\n",
    "      \"payload_bytes_diff\",\"payload_bytes_mean\",\"payload_bytes_std\",'payload_bytes_sum_of',\n",
    "     'entropy_diff',\n",
    "     'entropy_mean',\n",
    "     'entropy_std','entropy_sum_of']\n",
    "    flag=1\n",
    "    for i in tqdm(IDS):\n",
    "        smaller = df[df[\"ID\"]==i]\n",
    "        smaller=smaller.reset_index()\n",
    "        del smaller[\"index\"]\n",
    "\n",
    "\n",
    "        smaller[\"ts\"]=np.array(diff(smaller[\"ts\"].values))\n",
    "        for ii in f_list:\n",
    "            for jjj,iii in enumerate (func):\n",
    "                name=str(ii)+\"_\"+str(func_name[jjj])\n",
    "                smaller[name]=iii(smaller[ii])\n",
    "\n",
    "        smaller[\"dport_sum\"]=portsum(smaller[\"dport\"].values)\n",
    "        smaller[\"sport_sum\"] =portsum(smaller[\"sport\"].values)\n",
    "        smaller['TCP_FIN_sum'  ]=flagsum (smaller[ 'TCP_FIN'  ].values)\n",
    "        smaller['TCP_SYN_sum'  ]=flagsum (smaller['TCP_SYN'  ].values)\n",
    "        smaller['TCP_RST_sum'  ]=flagsum (smaller['TCP_RST'  ].values)\n",
    "        smaller['TCP_PSH_sum'  ]=flagsum (smaller['TCP_PSH'  ].values)\n",
    "        smaller['TCP_ACK_sum'  ]=flagsum (smaller['TCP_ACK'  ].values)\n",
    "        smaller['TCP_URG_sum'  ]=flagsum (smaller['TCP_URG'  ].values)\n",
    "        smaller['TCP_ECE_sum'  ]=flagsum (smaller['TCP_ECE'  ].values)\n",
    "        smaller['TCP_CWR_sum'  ]=flagsum (smaller['TCP_CWR'  ].values)\n",
    "        #del smaller[\"dport\"]        \n",
    "        #del smaller[\"sport\"]        \n",
    "        #del smaller[\"ID\"]\n",
    "\n",
    "\n",
    "        smaller[\"TCP_FIN_ratio\"]=smaller[\"TCP_FIN\"]/(smaller[\"TCP_FIN_sum\"]+10e-20)\n",
    "        smaller[\"TCP_SYN_ratio\"]=smaller[\"TCP_SYN\"]/(smaller[\"TCP_SYN_sum\"]+10e-20)\n",
    "        smaller[\"TCP_RST_ratio\"]=smaller[\"TCP_RST\"]/(smaller[\"TCP_RST_sum\"]+10e-20)\n",
    "        smaller[\"TCP_PSH_ratio\"]=smaller[\"TCP_PSH\"]/(smaller[\"TCP_PSH_sum\"]+10e-20)\n",
    "        smaller[\"TCP_ACK_ratio\"]=smaller[\"TCP_ACK\"]/(smaller[\"TCP_ACK_sum\"]+10e-20)\n",
    "        smaller[\"TCP_URG_ratio\"]=smaller[\"TCP_URG\"]/(smaller[\"TCP_URG_sum\"]+10e-20)\n",
    "        smaller[\"TCP_ECE_ratio\"]=smaller[\"TCP_ECE\"]/(smaller[\"TCP_ECE_sum\"]+10e-20)\n",
    "        smaller[\"TCP_CWR_ratio\"]=smaller[\"TCP_CWR\"]/(smaller[\"TCP_CWR_sum\"]+10e-20)\n",
    "        col_list= [\"TCP_FIN_sum\",\"TCP_SYN_sum\",\"TCP_RST_sum\",\"TCP_PSH_sum\",\"TCP_ACK_sum\",\"TCP_URG_sum\",\"TCP_ECE_sum\",\"TCP_CWR_sum\"]\n",
    "        smaller['sum'] = smaller[col_list].sum(axis=1)\n",
    "        smaller[\"TCP_FIN_SR\"]=smaller[\"TCP_FIN\"]/(smaller[\"sum\"]+10e-20)\n",
    "        smaller[\"TCP_SYN_SR\"]=smaller[\"TCP_SYN\"]/(smaller[\"sum\"]+10e-20)\n",
    "        smaller[\"TCP_RST_SR\"]=smaller[\"TCP_RST\"]/(smaller[\"sum\"]+10e-20)\n",
    "        smaller[\"TCP_PSH_SR\"]=smaller[\"TCP_PSH\"]/(smaller[\"sum\"]+10e-20)\n",
    "        smaller[\"TCP_ACK_SR\"]=smaller[\"TCP_ACK\"]/(smaller[\"sum\"]+10e-20)\n",
    "        smaller[\"TCP_URG_SR\"]=smaller[\"TCP_URG\"]/(smaller[\"sum\"]+10e-20)\n",
    "        smaller[\"TCP_ECE_SR\"]=smaller[\"TCP_ECE\"]/(smaller[\"sum\"]+10e-20)\n",
    "        smaller[\"TCP_CWR_SR\"]=smaller[\"TCP_CWR\"]/(smaller[\"sum\"]+10e-20)\n",
    "\n",
    "\n",
    "\n",
    "\n",
    "\n",
    "\n",
    "        if flag:\n",
    "            smaller.to_csv(j[13:],header=True,index=False)\n",
    "            flag=0\n",
    "        else:\n",
    "            smaller.to_csv(j[13:],header=False,index=False,mode=\"a\")\n",
    "\n",
    "\n",
    "\n",
    "    df=pd.read_csv(j[13:])\n",
    "    features=df.columns\n",
    "    count=[]\n",
    "    bos=[]\n",
    "\n",
    "    #for ii,i in enumerate (features):\n",
    "        #a=pd.DataFrame(df.groupby(i).size())\n",
    "        #if a.shape[0]>1:\n",
    "            #print(a)\n",
    "           # count.append(i)\n",
    "            #print(\"________________________________________________________________\\n\\n\")\n",
    "        #else:\n",
    "            #bos.append(i)\n",
    "    df=df.sort_values(by='Unnamed: 0')\n",
    "\n",
    "    y=df[\"Label\"]\n",
    "    #for i in bos:\n",
    "        #print(i)\n",
    "        #del df[i]\n",
    "    del df[\"Label\"]\n",
    "    del df['Unnamed: 0']\n",
    "    df[\"Label\"]=y\n",
    "    last_name=f'./{outputfolder}/last_EW_{j[13:]}'\n",
    "    make_smaller=True\n",
    "    if make_smaller:\n",
    "        attack=df[df[\"Label\"]==1]\n",
    "        normal=df[df[\"Label\"]==0]\n",
    "        if len(attack)>10000:\n",
    "            attack=attack.sample(n=10000,  random_state=42) \n",
    "        if len(normal)>10000:\n",
    "            normal=normal.sample(n=10000,  random_state=42) \n",
    "        df = pd.concat([normal,attack])\n",
    "        df.to_csv(last_name)   \n",
    "    else:\n",
    "        df.to_csv(last_name,index=None)\n",
    "    print(\"-------------------------------------------------------------------------------\")\n"
   ]
  },
  {
   "cell_type": "code",
   "execution_count": null,
   "metadata": {},
   "outputs": [],
   "source": [
    "import winsound\n",
    "duration = 1000  # milliseconds\n",
    "freq = 740  # Hz\n",
    "winsound.Beep(freq, duration)"
   ]
  },
  {
   "cell_type": "code",
   "execution_count": null,
   "metadata": {},
   "outputs": [],
   "source": []
  },
  {
   "cell_type": "code",
   "execution_count": null,
   "metadata": {},
   "outputs": [],
   "source": []
  }
 ],
 "metadata": {
  "colab": {
   "collapsed_sections": [],
   "name": "(105) feature exracto_colab.ipynb",
   "provenance": []
  },
  "kernelspec": {
   "display_name": "Python 3 (ipykernel)",
   "language": "python",
   "name": "python3"
  },
  "language_info": {
   "codemirror_mode": {
    "name": "ipython",
    "version": 3
   },
   "file_extension": ".py",
   "mimetype": "text/x-python",
   "name": "python",
   "nbconvert_exporter": "python",
   "pygments_lexer": "ipython3",
   "version": "3.10.8"
  }
 },
 "nbformat": 4,
 "nbformat_minor": 1
}
