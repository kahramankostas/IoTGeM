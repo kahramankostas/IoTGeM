{
 "cells": [
  {
   "cell_type": "code",
   "execution_count": 1,
   "metadata": {},
   "outputs": [],
   "source": [
    "import warnings\n",
    "warnings.filterwarnings(\"ignore\")"
   ]
  },
  {
   "cell_type": "code",
   "execution_count": 2,
   "metadata": {},
   "outputs": [],
   "source": [
    "import os\n",
    "import time\n",
    "import sklearn\n",
    "import random\n",
    "import numpy as np\n",
    "import pandas as pd\n",
    "from tqdm import tqdm\n",
    "from tabulate import tabulate\n",
    "\n",
    "import pandas as pd\n",
    "import seaborn as sns\n",
    "import matplotlib.pyplot as plt\n",
    "%matplotlib inline\n",
    "\n",
    "from sklearn.tree import DecisionTreeClassifier\n",
    "\n",
    "evaluate={'Acc':\"Accuracy\", 'b_Acc':\"Balanced Accuracy\", 'F1':\"F1 Score\", 'kap':\"Kappa\", 'ROC':\"Roc\"}"
   ]
  },
  {
   "cell_type": "code",
   "execution_count": 3,
   "metadata": {},
   "outputs": [],
   "source": [
    "from sklearn.svm import SVC\n",
    "from xgboost import XGBClassifier\n",
    "from sklearn.naive_bayes import BernoulliNB\n",
    "from sklearn.neighbors import KNeighborsClassifier\n",
    "from sklearn.linear_model import LogisticRegression\n",
    "from sklearn.tree import DecisionTreeClassifier\n",
    "from sklearn.metrics import accuracy_score\n"
   ]
  },
  {
   "cell_type": "code",
   "execution_count": 4,
   "metadata": {},
   "outputs": [],
   "source": [
    "def GA(train,test,cols,gen_number=25,outputcsv=\"GA_output.csv\"):\n",
    "    #defining various steps required for the genetic algorithm\n",
    "    # GA adapted from https://datascienceplus.com/genetic-algorithm-in-machine-learning-using-python/\n",
    "    def initilization_of_population(size,n_feat):\n",
    "        population = []\n",
    "        for i in range(size):\n",
    "            chromosome = np.ones(n_feat,dtype=np.bool)\n",
    "            chromosome[:int(0.3*n_feat)]=False\n",
    "            np.random.shuffle(chromosome)\n",
    "            population.append(chromosome)\n",
    "        return population\n",
    "\n",
    "    def fitness_score(population):\n",
    "        scores = []\n",
    "        for chromosome in population:\n",
    "            logmodel.fit(X_train.iloc[:,chromosome],y_train)\n",
    "            predictions = logmodel.predict(X_test.iloc[:,chromosome])\n",
    "            scores.append(sklearn.metrics.f1_score(y_test,predictions,average= \"macro\"))\n",
    "        scores, population = np.array(scores), np.array(population) \n",
    "        inds = np.argsort(scores)\n",
    "        return list(scores[inds][::-1]), list(population[inds,:][::-1])\n",
    "\n",
    "    def selection(pop_after_fit,n_parents):\n",
    "        population_nextgen = []\n",
    "        for i in range(n_parents):\n",
    "            population_nextgen.append(pop_after_fit[i])\n",
    "        return population_nextgen\n",
    "\n",
    "    def crossover(pop_after_sel):\n",
    "        population_nextgen=pop_after_sel\n",
    "        for i in range(len(pop_after_sel)):\n",
    "            child=pop_after_sel[i]\n",
    "            child[3:7]=pop_after_sel[(i+1)%len(pop_after_sel)][3:7]\n",
    "            population_nextgen.append(child)\n",
    "        return population_nextgen\n",
    "\n",
    "    def mutation(pop_after_cross,mutation_rate):\n",
    "        population_nextgen = []\n",
    "        for i in range(0,len(pop_after_cross)):\n",
    "            chromosome = pop_after_cross[i]\n",
    "            for j in range(len(chromosome)):\n",
    "                if random.random() < mutation_rate:\n",
    "                    chromosome[j]= not chromosome[j]\n",
    "            population_nextgen.append(chromosome)\n",
    "        #print(population_nextgen)\n",
    "        return population_nextgen\n",
    "\n",
    "    def generations(size,n_feat,n_parents,mutation_rate,n_gen,X_train,\n",
    "                                       X_test, y_train, y_test):\n",
    "\n",
    "        best_chromo= []\n",
    "        best_score= []\n",
    "        population_nextgen=initilization_of_population(size,n_feat)\n",
    "        for i in range(n_gen):\n",
    "            second=time.time()\n",
    "            scores, pop_after_fit = fitness_score(population_nextgen)\n",
    "            #print(scores[:2])\n",
    "            zaman=time.time()-second\n",
    "\n",
    "            ths.write(f\"{np.mean(scores)},{np.mean(scores)},{zaman}\\n\")\n",
    "            \n",
    "\n",
    "\n",
    "            pop_after_sel = selection(pop_after_fit,n_parents)\n",
    "            pop_after_cross = crossover(pop_after_sel)\n",
    "            population_nextgen = mutation(pop_after_cross,mutation_rate)\n",
    "            best_chromo.append(pop_after_fit[0])\n",
    "            best_score.append(scores[0])\n",
    "        return best_chromo,best_score\n",
    "    \n",
    "    \n",
    "\n",
    "\n",
    "\n",
    "    df = pd.read_csv(train,usecols=cols)#,header=None )\n",
    "    df=df.fillna(0)\n",
    "    #df = df.sample(n = 10000)\n",
    "    X_train =df[df.columns[0:-1]]\n",
    "    #X_train=np.array(X_train)\n",
    "    df[df.columns[-1]] = df[df.columns[-1]].astype('category')\n",
    "    y_train=df[df.columns[-1]].cat.codes  \n",
    "    df = pd.read_csv(test,usecols=cols)#,header=None )\n",
    "    df=df.fillna(0)\n",
    "    #df = df.sample(n = 10000)\n",
    "    X_test =df[df.columns[0:-1]]\n",
    "    #X_test=np.array(X_test)\n",
    "    df[df.columns[-1]] = df[df.columns[-1]].astype('category')\n",
    "    y_test=df[df.columns[-1]].cat.codes  \n",
    "\n",
    "    \n",
    "    ths = open(f\"./{outputcsv}\", \"w\")\n",
    "    ths.write(\"MEAN,STD,TIME\\n\")\n",
    "    logmodel=DecisionTreeClassifier()\n",
    "    #print ('%-30s %-30s %-30s' % (\"MEAN\",\"STD\",\"TIME\"))\n",
    "    chromo,score=generations(size=200,n_feat=X_train.shape[1],n_parents=120,mutation_rate=0.005,\n",
    "                         n_gen=gen_number,X_train=X_train,X_test=X_test,y_train=y_train,y_test=y_test)\n",
    "    #logmodel.fit(X_train.iloc[:,chromo[-1]],y_train)\n",
    "    #predictions = logmodel.predict(X_test.iloc[:,chromo[-1]])\n",
    "    #print(\"F1 Score score after genetic algorithm is= \"+str(sklearn.metrics.f1_score(y_test,predictions,average= \"macro\")))\n",
    "    ths.close()\n",
    "    sonuç=[]\n",
    "    for k,j in enumerate(chromo):\n",
    "        temp=X_train.iloc[:,j]\n",
    "        temp=list(temp.columns)\n",
    "        temp.append(\"Label\")\n",
    "        sonuç.append(temp)\n",
    "    \n",
    "    np.save(outputcsv.replace(\"csv\",\"npy\"), sonuç)\n",
    "    gf = pd.read_csv(outputcsv)\n",
    "    gf=gf[\"MEAN\"].values\n",
    "    gf=np.argmax(gf) \n",
    "    return sonuç[gf],gf"
   ]
  },
  {
   "cell_type": "code",
   "execution_count": null,
   "metadata": {},
   "outputs": [],
   "source": []
  },
  {
   "cell_type": "code",
   "execution_count": 5,
   "metadata": {},
   "outputs": [],
   "source": [
    "def folder(f_name): #this function creates a folder named \"attacks\" in the program directory.\n",
    "    try:\n",
    "        if not os.path.exists(f_name):\n",
    "            os.makedirs(f_name)\n",
    "    except OSError:\n",
    "        print (\"The folder could not be created!\")"
   ]
  },
  {
   "cell_type": "code",
   "execution_count": 6,
   "metadata": {},
   "outputs": [],
   "source": [
    "def find_the_way(path,file_format,con=\"\"):\n",
    "    files_add = []\n",
    "    # r=root, d=directories, f = files\n",
    "    for r, d, f in os.walk(path):\n",
    "        for file in f:\n",
    "            if file_format in file:\n",
    "                if con in file:\n",
    "                    files_add.append(os.path.join(r, file))  \n",
    "            \n",
    "    return files_add"
   ]
  },
  {
   "cell_type": "code",
   "execution_count": 7,
   "metadata": {},
   "outputs": [],
   "source": [
    "ml_list={\"DT\":DecisionTreeClassifier()}#,\"SVC\":SVC()}}"
   ]
  },
  {
   "cell_type": "code",
   "execution_count": 8,
   "metadata": {},
   "outputs": [],
   "source": [
    "def target_name(name):\n",
    "    df = pd.read_csv(name,usecols=[\"Label\"])\n",
    "    target_names=sorted(list(df[\"Label\"].unique()))\n",
    "    return target_names"
   ]
  },
  {
   "cell_type": "code",
   "execution_count": 9,
   "metadata": {},
   "outputs": [],
   "source": [
    "folder(\"results\")\n",
    "folder(\"pdfs\")"
   ]
  },
  {
   "cell_type": "markdown",
   "metadata": {},
   "source": [
    "## Calculation of evaluations"
   ]
  },
  {
   "cell_type": "code",
   "execution_count": 10,
   "metadata": {},
   "outputs": [],
   "source": [
    "def score(train_time,test_time,predict,y_test,class_based_results,repeat,cv,dname,ml,sw):\n",
    "    train_time=train_time[0]\n",
    "    test_time=test_time[0]\n",
    "    rc=sklearn.metrics.recall_score(y_test, predict,average= \"macro\")\n",
    "    pr=sklearn.metrics.precision_score(y_test, predict,average= \"macro\")\n",
    "    f_1=sklearn.metrics.f1_score(y_test, predict,average= \"macro\")     \n",
    "    accuracy=sklearn.metrics.accuracy_score(y_test, predict)\n",
    "    accuracy_b=sklearn.metrics.balanced_accuracy_score( y_test,predict)\n",
    "    kappa=sklearn.metrics.cohen_kappa_score(y_test, predict,labels=None, weights=None, sample_weight=None)\n",
    "    try:\n",
    "        roc=sklearn.metrics.roc_auc_score(y_test, predict)\n",
    "    except:roc=0\n",
    "    report = sklearn.metrics.classification_report(y_test, predict, target_names=target_names,output_dict=True)\n",
    "    cr = pd.DataFrame(report).transpose()\n",
    "    line=[dname,sw,repeat,cv,ml,accuracy,accuracy_b,pr,rc,f_1,kappa,roc,train_time,test_time]\n",
    "\n",
    "    if class_based_results.empty:\n",
    "        class_based_results =cr\n",
    "    else:\n",
    "        class_based_results = class_based_results.add(cr, fill_value=0)\n",
    "    return class_based_results,line"
   ]
  },
  {
   "cell_type": "code",
   "execution_count": 11,
   "metadata": {},
   "outputs": [],
   "source": [
    "def ML_CV(loop1,loop2,output_csv,cols,dname,sw):\n",
    "    fold=5\n",
    "    repetition=10\n",
    "\n",
    "    for ii in ml_list:\n",
    "        class_based_results=pd.DataFrame()#\"\" #pd.DataFrame(0, index=np.arange((len(target_names)+3)), columns=[\"f1-score\",\"precision\",\"recall\",\"support\"])\n",
    "        cm=pd.DataFrame()\n",
    "        cv=0\n",
    "        lines=[[\"Dataset\",\"SW\",\"T\",\"CV\",\"ML\",\"Acc\",\"b_Acc\",\"Prec\",\"Rec\",\"F1\",\"kap\",\"ROC\",\"tra-T\",\"test-T\"]]\n",
    "        for i in range(repetition):\n",
    "\n",
    "            #rnd = random()\n",
    "            \n",
    "            #kfold = sklearn.model_selection.KFold(n_splits=fold, shuffle=True, random_state=int(rnd*100))  \n",
    "            cv=0\n",
    "            df = pd.read_csv(loop1,usecols=cols)#,header=None )\n",
    "            df=df.fillna(0)\n",
    "            X_train =df[df.columns[0:-1]]\n",
    "            X_train=np.array(X_train)\n",
    "            df[df.columns[-1]] = df[df.columns[-1]].astype('category')\n",
    "            y_train=df[df.columns[-1]].cat.codes  \n",
    "\n",
    "\n",
    "            df = pd.read_csv(loop2,usecols=cols)#,header=None )\n",
    "            df=df.fillna(0)\n",
    "            X_test =df[df.columns[0:-1]]\n",
    "            X_test=np.array(X_test)\n",
    "            df[df.columns[-1]] = df[df.columns[-1]].astype('category')\n",
    "            y_test=df[df.columns[-1]].cat.codes  \n",
    "\n",
    "\n",
    "\n",
    "\n",
    "            #dname=loop1  [6:-13]  \n",
    "            results_y=[]\n",
    "            cv+=1\n",
    "            results_y.append(y_test)\n",
    "\n",
    "\n",
    "            precision=[]\n",
    "            recall=[]\n",
    "            f1=[]\n",
    "            accuracy=[]\n",
    "            train_time=[]\n",
    "            test_time=[]\n",
    "            total_time=[]\n",
    "            kappa=[]\n",
    "            accuracy_b=[]\n",
    "\n",
    "                #machine learning algorithm is applied in this section\n",
    "            clf = ml_list[ii]#choose algorithm from ml_list dictionary\n",
    "            second=time.time()\n",
    "            clf.fit(X_train, y_train)\n",
    "            train_time.append(float((time.time()-second)) )\n",
    "            second=time.time()\n",
    "            predict =clf.predict(X_test)\n",
    "            test_time.append(float((time.time()-second)) )\n",
    "\n",
    "            altime=0\n",
    "            class_based_results,line=score(train_time,test_time,predict,y_test,class_based_results,cv,i,dname,ii,sw)\n",
    "            lines.append(line)\n",
    "\n",
    "        results = pd.DataFrame (lines[1:], columns = lines[0])\n",
    "        results.to_csv(output_csv.replace(\"ML\",ii),index=False)\n",
    "        results=results.round(3)\n",
    "        #print (tabulate(results, headers=list(results.columns)))\n",
    "        #print()"
   ]
  },
  {
   "cell_type": "code",
   "execution_count": 12,
   "metadata": {},
   "outputs": [],
   "source": [
    "features=['ts', 'pck_size', 'payload_bytes','entropy','TCP_window','pck_size_diff','pck_size_mean','pck_size_std',\n",
    "'ts_diff', 'ts_mean', 'ts_std','TCP_window_diff','TCP_window_mean','TCP_window_std',\n",
    "'payload_bytes_diff' ,'payload_bytes_mean','payload_bytes_std',\n",
    "'entropy_diff','entropy_mean','entropy_std','ts_sum_of', 'pck_size_sum_of', 'payload_bytes_sum_of','entropy_sum_of','TCP_window_sum_of',\"Label\"]"
   ]
  },
  {
   "cell_type": "code",
   "execution_count": 13,
   "metadata": {},
   "outputs": [],
   "source": [
    "attack_dict={'Active Wiretap':\"AWT\",\n",
    " 'ARP MitM':\"ARPMitM\",\n",
    " 'Fuzzing':\"Fuzzing\",\n",
    " 'Mirai':\"Mirai\",\n",
    " 'OS Scan':\"OS_Scan\",\n",
    " 'SSDP Flood':\"SSDP_F\",\n",
    " 'SSL Renegotiation':\"SSL_Ren\",\n",
    " 'SYN DoS':\"SYN_F\",\n",
    " 'Video Injection':\"Vid_Inj\"}"
   ]
  },
  {
   "cell_type": "markdown",
   "metadata": {},
   "source": [
    "# ONLY MiTM"
   ]
  },
  {
   "cell_type": "code",
   "execution_count": 14,
   "metadata": {},
   "outputs": [],
   "source": [
    "MiTM=[\"AWT\",\"ARPMitM\",\"Vid_Inj\"]"
   ]
  },
  {
   "cell_type": "markdown",
   "metadata": {},
   "source": [
    "# Without GA"
   ]
  },
  {
   "cell_type": "code",
   "execution_count": 15,
   "metadata": {},
   "outputs": [
    {
     "name": "stdout",
     "output_type": "stream",
     "text": [
      "AWT : ['ts', 'pck_size', 'payload_bytes', 'entropy', 'TCP_window', 'pck_size_diff', 'pck_size_mean', 'pck_size_std', 'ts_diff', 'ts_mean', 'ts_std', 'TCP_window_diff', 'TCP_window_mean', 'TCP_window_std', 'payload_bytes_diff', 'payload_bytes_mean', 'payload_bytes_std', 'entropy_diff', 'entropy_mean', 'entropy_std', 'ts_sum_of', 'pck_size_sum_of', 'payload_bytes_sum_of', 'entropy_sum_of', 'TCP_window_sum_of', 'Label']\n",
      "ARPMitM : ['ts', 'pck_size', 'payload_bytes', 'entropy', 'TCP_window', 'pck_size_diff', 'pck_size_mean', 'pck_size_std', 'ts_diff', 'ts_mean', 'ts_std', 'TCP_window_diff', 'TCP_window_mean', 'TCP_window_std', 'payload_bytes_diff', 'payload_bytes_mean', 'payload_bytes_std', 'entropy_diff', 'entropy_mean', 'entropy_std', 'ts_sum_of', 'pck_size_sum_of', 'payload_bytes_sum_of', 'entropy_sum_of', 'TCP_window_sum_of', 'Label']\n",
      "Fuzzing : ['ts', 'pck_size', 'payload_bytes', 'entropy', 'TCP_window', 'pck_size_diff', 'pck_size_mean', 'pck_size_std', 'ts_diff', 'ts_mean', 'ts_std', 'TCP_window_diff', 'TCP_window_mean', 'TCP_window_std', 'payload_bytes_diff', 'payload_bytes_mean', 'payload_bytes_std', 'entropy_diff', 'entropy_mean', 'entropy_std', 'ts_sum_of', 'pck_size_sum_of', 'payload_bytes_sum_of', 'entropy_sum_of', 'TCP_window_sum_of', 'Label']\n",
      "Mirai : ['ts', 'pck_size', 'payload_bytes', 'entropy', 'TCP_window', 'pck_size_diff', 'pck_size_mean', 'pck_size_std', 'ts_diff', 'ts_mean', 'ts_std', 'TCP_window_diff', 'TCP_window_mean', 'TCP_window_std', 'payload_bytes_diff', 'payload_bytes_mean', 'payload_bytes_std', 'entropy_diff', 'entropy_mean', 'entropy_std', 'ts_sum_of', 'pck_size_sum_of', 'payload_bytes_sum_of', 'entropy_sum_of', 'TCP_window_sum_of', 'Label']\n",
      "OS_Scan : ['ts', 'pck_size', 'payload_bytes', 'entropy', 'TCP_window', 'pck_size_diff', 'pck_size_mean', 'pck_size_std', 'ts_diff', 'ts_mean', 'ts_std', 'TCP_window_diff', 'TCP_window_mean', 'TCP_window_std', 'payload_bytes_diff', 'payload_bytes_mean', 'payload_bytes_std', 'entropy_diff', 'entropy_mean', 'entropy_std', 'ts_sum_of', 'pck_size_sum_of', 'payload_bytes_sum_of', 'entropy_sum_of', 'TCP_window_sum_of', 'Label']\n",
      "SSDP_F : ['ts', 'pck_size', 'payload_bytes', 'entropy', 'TCP_window', 'pck_size_diff', 'pck_size_mean', 'pck_size_std', 'ts_diff', 'ts_mean', 'ts_std', 'TCP_window_diff', 'TCP_window_mean', 'TCP_window_std', 'payload_bytes_diff', 'payload_bytes_mean', 'payload_bytes_std', 'entropy_diff', 'entropy_mean', 'entropy_std', 'ts_sum_of', 'pck_size_sum_of', 'payload_bytes_sum_of', 'entropy_sum_of', 'TCP_window_sum_of', 'Label']\n",
      "SSL_Ren : ['ts', 'pck_size', 'payload_bytes', 'entropy', 'TCP_window', 'pck_size_diff', 'pck_size_mean', 'pck_size_std', 'ts_diff', 'ts_mean', 'ts_std', 'TCP_window_diff', 'TCP_window_mean', 'TCP_window_std', 'payload_bytes_diff', 'payload_bytes_mean', 'payload_bytes_std', 'entropy_diff', 'entropy_mean', 'entropy_std', 'ts_sum_of', 'pck_size_sum_of', 'payload_bytes_sum_of', 'entropy_sum_of', 'TCP_window_sum_of', 'Label']\n",
      "SYN_F : ['ts', 'pck_size', 'payload_bytes', 'entropy', 'TCP_window', 'pck_size_diff', 'pck_size_mean', 'pck_size_std', 'ts_diff', 'ts_mean', 'ts_std', 'TCP_window_diff', 'TCP_window_mean', 'TCP_window_std', 'payload_bytes_diff', 'payload_bytes_mean', 'payload_bytes_std', 'entropy_diff', 'entropy_mean', 'entropy_std', 'ts_sum_of', 'pck_size_sum_of', 'payload_bytes_sum_of', 'entropy_sum_of', 'TCP_window_sum_of', 'Label']\n",
      "Vid_Inj : ['ts', 'pck_size', 'payload_bytes', 'entropy', 'TCP_window', 'pck_size_diff', 'pck_size_mean', 'pck_size_std', 'ts_diff', 'ts_mean', 'ts_std', 'TCP_window_diff', 'TCP_window_mean', 'TCP_window_std', 'payload_bytes_diff', 'payload_bytes_mean', 'payload_bytes_std', 'entropy_diff', 'entropy_mean', 'entropy_std', 'ts_sum_of', 'pck_size_sum_of', 'payload_bytes_sum_of', 'entropy_sum_of', 'TCP_window_sum_of', 'Label']\n",
      "    Dataset                 Acc     b_Acc      Prec       Rec        F1         kap       ROC      tra-T      test-T\n",
      "--  -----------------  --------  --------  --------  --------  --------  ----------  --------  ---------  ----------\n",
      " 0  Active Wiretap     0.5842    0.5842    0.660801  0.5842    0.529224   0.1684     0.5842    0.287047   0.00198882\n",
      " 1  ARP MitM           0.54459   0.54459   0.443899  0.54459   0.418385   0.08918    0.54459   0.253098   0.00148964\n",
      " 2  Fuzzing            0.507235  0.507235  0.485499  0.507235  0.394707   0.01447    0.507235  0.309213   0.00190392\n",
      " 3  Mirai              0.55398   0.55398   0.453489  0.55398   0.423837   0.10796    0.55398   0.0193553  0.00161994\n",
      " 4  OS Scan            0.73857   0.73857   0.740093  0.73857   0.717557   0.47714    0.73857   0.24987    0.00190341\n",
      " 5  SSDP Flood         0.595175  0.595175  0.601559  0.595175  0.555833   0.19035    0.595175  0.152251   0.00154016\n",
      " 6  SSL Renegotiation  0.53833   0.53833   0.539448  0.53833   0.500877   0.07666    0.53833   0.342246   0.00171118\n",
      " 7  SYN DoS            0.6651    0.523715  0.474883  0.523715  0.453079   0.0497792  0.523715  0.0602289  0.00158322\n",
      " 8  Video Injection    0.478325  0.478325  0.540823  0.478325  0.348474  -0.04335    0.478325  0.284864   0.00179863\n"
     ]
    }
   ],
   "source": [
    "file_list=find_the_way(\"EW\",\"train\")\n",
    "i=0\n",
    "for ii in (file_list):\n",
    "    temp=ii.split(\"_\")[2]\n",
    "    output_csv=f\"./results/ML_{temp}.csv\"\n",
    "    target_names=[\"attack\",\"benign\"]\n",
    "    dname=attack_dict[temp]  \n",
    "    feature=features\n",
    "    print(f\"{dname} : {feature}\")\n",
    "    ML_CV(ii,ii.replace(\"train\",\"test\"),output_csv,feature,dname,i)   \n",
    "\n",
    "name_list=find_the_way('./results/','.csv')\n",
    "lines=[[\"Dataset\",\"Acc\",\"b_Acc\",\"Prec\",\"Rec\",\"F1\",\"kap\",\"ROC\",\"tra-T\",\"test-T\"]]\n",
    "cols=['Acc', 'b_Acc', 'Prec', 'Rec', 'F1','kap', 'ROC', 'tra-T', 'test-T']\n",
    "for p in name_list:\n",
    "    df = pd.read_csv(p,usecols=cols) \n",
    "    temp=pd.DataFrame(df.mean())\n",
    "    a=list(temp.values.flatten())\n",
    "    add_data=p[:-4].split(\"_\")[1:]\n",
    "    add_data=add_data+a\n",
    "    lines.append(add_data)\n",
    "results = pd.DataFrame (lines[1:], columns = lines[0])\n",
    "\n",
    "print (tabulate(results, headers=list(results.columns)))\n"
   ]
  },
  {
   "cell_type": "code",
   "execution_count": 17,
   "metadata": {},
   "outputs": [
    {
     "data": {
      "text/plain": [
       "26"
      ]
     },
     "execution_count": 17,
     "metadata": {},
     "output_type": "execute_result"
    }
   ],
   "source": [
    "len(features)"
   ]
  },
  {
   "cell_type": "markdown",
   "metadata": {},
   "source": [
    "# Without 25 Generation GA"
   ]
  },
  {
   "cell_type": "code",
   "execution_count": 18,
   "metadata": {
    "scrolled": false
   },
   "outputs": [
    {
     "name": "stdout",
     "output_type": "stream",
     "text": [
      "AWT : ['ts', 'pck_size', 'payload_bytes', 'entropy', 'pck_size_sum_of', 'ts_diff', 'ts_mean', 'ts_std', 'ts_sum_of', 'TCP_window_diff', 'payload_bytes_diff', 'payload_bytes_sum_of', 'entropy_sum_of', 'Label']\n",
      "########################################################################################################################\n",
      "\n",
      "ARPMitM : ['pck_size', 'TCP_window', 'entropy', 'pck_size_diff', 'pck_size_std', 'ts_diff', 'ts_mean', 'ts_sum_of', 'TCP_window_diff', 'payload_bytes_diff', 'entropy_diff', 'Label']\n",
      "########################################################################################################################\n",
      "\n",
      "Fuzzing : ['payload_bytes', 'pck_size_mean', 'pck_size_sum_of', 'ts_diff', 'ts_std', 'ts_sum_of', 'TCP_window_diff', 'TCP_window_mean', 'TCP_window_std', 'TCP_window_sum_of', 'payload_bytes_diff', 'payload_bytes_std', 'Label']\n",
      "########################################################################################################################\n",
      "\n",
      "Mirai : ['ts', 'TCP_window', 'entropy', 'pck_size_mean', 'pck_size_std', 'ts_diff', 'ts_mean', 'ts_sum_of', 'TCP_window_mean', 'TCP_window_std', 'TCP_window_sum_of', 'payload_bytes_diff', 'payload_bytes_mean', 'payload_bytes_std', 'entropy_diff', 'entropy_mean', 'entropy_std', 'Label']\n",
      "########################################################################################################################\n",
      "\n",
      "OS_Scan : ['ts', 'TCP_window', 'pck_size_mean', 'pck_size_std', 'ts_std', 'ts_sum_of', 'TCP_window_diff', 'TCP_window_std', 'payload_bytes_mean', 'payload_bytes_std', 'payload_bytes_sum_of', 'entropy_mean', 'entropy_std', 'Label']\n",
      "########################################################################################################################\n",
      "\n",
      "SSDP_F : ['TCP_window', 'entropy', 'pck_size_mean', 'ts_diff', 'ts_std', 'ts_sum_of', 'TCP_window_diff', 'TCP_window_mean', 'TCP_window_std', 'payload_bytes_std', 'entropy_mean', 'entropy_std', 'Label']\n",
      "########################################################################################################################\n",
      "\n",
      "SSL_Ren : ['ts', 'pck_size', 'TCP_window', 'pck_size_mean', 'pck_size_std', 'pck_size_sum_of', 'ts_sum_of', 'TCP_window_diff', 'TCP_window_sum_of', 'payload_bytes_diff', 'payload_bytes_mean', 'payload_bytes_std', 'entropy_diff', 'entropy_std', 'Label']\n",
      "########################################################################################################################\n",
      "\n",
      "SYN_F : ['ts', 'pck_size', 'TCP_window', 'payload_bytes', 'entropy', 'ts_mean', 'ts_std', 'ts_sum_of', 'TCP_window_diff', 'TCP_window_mean', 'TCP_window_sum_of', 'payload_bytes_mean', 'entropy_diff', 'Label']\n",
      "########################################################################################################################\n",
      "\n",
      "Vid_Inj : ['pck_size', 'TCP_window', 'entropy', 'pck_size_diff', 'pck_size_std', 'pck_size_sum_of', 'ts_diff', 'ts_mean', 'ts_std', 'ts_sum_of', 'TCP_window_std', 'TCP_window_sum_of', 'payload_bytes_diff', 'payload_bytes_mean', 'payload_bytes_sum_of', 'entropy_diff', 'Label']\n",
      "########################################################################################################################\n",
      "\n",
      "    Dataset                 Acc     b_Acc      Prec       Rec        F1      kap       ROC      tra-T       test-T\n",
      "--  -----------------  --------  --------  --------  --------  --------  -------  --------  ---------  -----------\n",
      " 0  Active Wiretap     0.70114   0.70114   0.72755   0.70114   0.692609  0.40228  0.70114   0.168751   0.00166461\n",
      " 1  ARP MitM           0.900595  0.900595  0.907093  0.900595  0.900157  0.80119  0.900595  0.0951314  0.00152705\n",
      " 2  Fuzzing            0.75737   0.75737   0.758185  0.75737   0.757167  0.51474  0.75737   0.180161   0.00161881\n",
      " 3  Mirai              0.57055   0.57055   0.41775   0.57055   0.440265  0.1411   0.57055   0.0177039  0.0010129\n",
      " 4  OS Scan            0.867135  0.867135  0.890591  0.867135  0.861744  0.73427  0.867135  0.153714   0.00130589\n",
      " 5  SSDP Flood         0.75805   0.75805   0.708609  0.75805   0.72464   0.5161   0.75805   0.101453   0.00090003\n",
      " 6  SSL Renegotiation  0.601875  0.601875  0.660377  0.601875  0.570736  0.20375  0.601875  0.175727   0.0015774\n",
      " 7  SYN DoS            0.864553  0.803827  0.898689  0.803827  0.826293  0.66135  0.803827  0.0241614  0.000897551\n",
      " 8  Video Injection    0.80244   0.80244   0.832704  0.80244   0.786375  0.60488  0.80244   0.194874   0.00189745\n"
     ]
    }
   ],
   "source": [
    "file_list=find_the_way(\"EW\",\"train\")\n",
    "i=0\n",
    "for ii in (file_list):\n",
    "    temp=ii.split(\"_\")[2]\n",
    "    output_csv=f\"./results/ML_{temp}.csv\"\n",
    "    target_names=[\"attack\",\"benign\"]\n",
    "    dname=attack_dict[temp]  \n",
    "    feature,_=GA(ii,ii.replace(\"train\",\"test\"),features,gen_number=25,outputcsv=f\"{dname}_GA_output.csv\")\n",
    "    print(f\"{dname} : {feature}\")\n",
    "    ML_CV(ii,ii.replace(\"train\",\"test\"),output_csv,feature,dname,i)   \n",
    "    print(f\"{120*'#'}\\n\")\n",
    "name_list=find_the_way('./results/','.csv')\n",
    "lines=[[\"Dataset\",\"Acc\",\"b_Acc\",\"Prec\",\"Rec\",\"F1\",\"kap\",\"ROC\",\"tra-T\",\"test-T\"]]\n",
    "cols=['Acc', 'b_Acc', 'Prec', 'Rec', 'F1','kap', 'ROC', 'tra-T', 'test-T']\n",
    "for p in name_list:\n",
    "    df = pd.read_csv(p,usecols=cols) \n",
    "    temp=pd.DataFrame(df.mean())\n",
    "    a=list(temp.values.flatten())\n",
    "    add_data=p[:-4].split(\"_\")[1:]\n",
    "    add_data=add_data+a\n",
    "    lines.append(add_data)\n",
    "results = pd.DataFrame (lines[1:], columns = lines[0])\n",
    "\n",
    "print (tabulate(results, headers=list(results.columns)))\n"
   ]
  }
 ],
 "metadata": {
  "kernelspec": {
   "display_name": "Python 3 (ipykernel)",
   "language": "python",
   "name": "python3"
  },
  "language_info": {
   "codemirror_mode": {
    "name": "ipython",
    "version": 3
   },
   "file_extension": ".py",
   "mimetype": "text/x-python",
   "name": "python",
   "nbconvert_exporter": "python",
   "pygments_lexer": "ipython3",
   "version": "3.10.8"
  }
 },
 "nbformat": 4,
 "nbformat_minor": 2
}
