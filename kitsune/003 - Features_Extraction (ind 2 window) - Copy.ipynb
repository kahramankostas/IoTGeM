{
 "cells": [
  {
   "cell_type": "code",
   "execution_count": 1,
   "metadata": {},
   "outputs": [],
   "source": [
    "import pandas as pd\n",
    "import numpy as np\n",
    "from tqdm import tqdm\n",
    "import zipfile\n",
    "import os\n",
    "import time\n",
    "import shutil\n",
    "import math"
   ]
  },
  {
   "cell_type": "code",
   "execution_count": 2,
   "metadata": {},
   "outputs": [],
   "source": [
    "def folder(f_name): #this function creates a folder named \"attacks\" in the program directory.\n",
    "    try:\n",
    "        if not os.path.exists(f_name):\n",
    "            os.makedirs(f_name)\n",
    "    except OSError:\n",
    "        print (\"The folder could not be created!\")"
   ]
  },
  {
   "cell_type": "code",
   "execution_count": 3,
   "metadata": {
    "scrolled": false
   },
   "outputs": [],
   "source": [
    "def find_the_way(path,file_format,con=\"\"):\n",
    "    files_add = []\n",
    "    # r=root, d=directories, f = files\n",
    "    for r, d, f in os.walk(path):\n",
    "        for file in f:\n",
    "            if file_format in file:\n",
    "                if con in file:\n",
    "                    files_add.append(os.path.join(r, file))  \n",
    "            \n",
    "    return files_add\n",
    "path=\"smaller_pcaps\"\n"
   ]
  },
  {
   "cell_type": "markdown",
   "metadata": {},
   "source": [
    "# WIRESHARK FEATURES dst,src and Protocol added"
   ]
  },
  {
   "cell_type": "code",
   "execution_count": null,
   "metadata": {},
   "outputs": [],
   "source": [
    "name_list=find_the_way('./FE','_FE.csv')\n",
    "for i in tqdm(name_list):\n",
    "    df=pd.read_csv(i)\n",
    "    WS_s_d=i.replace(\"_FE.csv\",\"_WS.csv\")\n",
    "    s_d=pd.read_csv(WS_s_d)\n",
    "    df[\"WS_src\"]=s_d[\"_ws.col.Source\"]\n",
    "    df[\"WS_dst\"]=s_d[\"_ws.col.Destination\"]\n",
    "    df[\"Protocol\"]=s_d[\"_ws.col.Protocol\"]\n",
    "    y=df[\"Label\"]\n",
    "    del df[\"Label\"]\n",
    "    df[\"Label\"]=y\n",
    "    df.to_csv(i,index=None) \n",
    "    flag_fixer(i)\n",
    "    os.remove(WS_s_d)\n",
    "\n",
    "\n",
    "\n"
   ]
  },
  {
   "cell_type": "markdown",
   "metadata": {},
   "source": [
    "# NEW FEATURES: dst_IP_diversity, dst_port_diversity, src_IP_diversity IP_add_count"
   ]
  },
  {
   "cell_type": "code",
   "execution_count": 15,
   "metadata": {},
   "outputs": [
    {
     "name": "stdout",
     "output_type": "stream",
     "text": [
      "./FE\\ARP_MitM_x_FE.csv\n"
     ]
    },
    {
     "name": "stderr",
     "output_type": "stream",
     "text": [
      "100%|███████████████████████████████████████████████████████████████████████| 400000/400000 [00:15<00:00, 25448.46it/s]\n"
     ]
    }
   ],
   "source": [
    "for i in name_list:  \n",
    "    print(i)\n",
    "    dst_IP_diversity=[]\n",
    "    dst_port_diversity=[]\n",
    "    src_IP_diversity=[]\n",
    "    src_IP_v_dst_IP={}\n",
    "    \n",
    "    IP_add_count=[]\n",
    "    src_MAC_v_dst_IP={}\n",
    "    \n",
    "    src_IP_v_dst_port={}\n",
    "    dst_IP_v_src_port={}\n",
    "    df=pd.read_csv(i)\n",
    "    count=0\n",
    "    for j in tqdm(range(len(df))):\n",
    "        \n",
    "        if df['IP_src'][j] in src_IP_v_dst_IP:\n",
    "            if df['IP_dst'][j] not in src_IP_v_dst_IP[df['IP_src'][j]]:\n",
    "                src_IP_v_dst_IP[df['IP_src'][j]].append(df['IP_dst'][j])\n",
    "        else:\n",
    "            src_IP_v_dst_IP[df['IP_src'][j]]=[]\n",
    "            src_IP_v_dst_IP[df['IP_src'][j]].append(df['IP_dst'][j])\n",
    "        dst_IP_diversity.append(len(src_IP_v_dst_IP[df['IP_src'][j]]))\n",
    "        \n",
    "        ###############################################################################\n",
    "        \n",
    "        if df['IP_dst'][j] in dst_IP_v_src_port:\n",
    "            if df['IP_src'][j] not in dst_IP_v_src_port[df['IP_dst'][j]]:\n",
    "                dst_IP_v_src_port[df['IP_dst'][j]].append(df['IP_src'][j])\n",
    "        else:\n",
    "            dst_IP_v_src_port[df['IP_dst'][j]]=[]\n",
    "            dst_IP_v_src_port[df['IP_dst'][j]].append(df['IP_src'][j])\n",
    "        src_IP_diversity.append(len(dst_IP_v_src_port[df['IP_dst'][j]]))\n",
    "        \n",
    "        ###############################################################################\n",
    "        if df['IP_src'][j] in src_IP_v_dst_port:\n",
    "            if df['dport_bare'][j] not in src_IP_v_dst_port[df['IP_src'][j]]:\n",
    "                src_IP_v_dst_port[df['IP_src'][j]].append(df['dport_bare'][j])\n",
    "        else:\n",
    "            src_IP_v_dst_port[df['IP_src'][j]]=[]\n",
    "            src_IP_v_dst_port[df['IP_src'][j]].append(df['dport_bare'][j])\n",
    "        dst_port_diversity.append(len(src_IP_v_dst_port[df['IP_src'][j]]))\n",
    "        #################################################################\n",
    "        if df['Ether_src'][j] in src_MAC_v_dst_IP:\n",
    "            if df['IP_dst'][j] not in src_MAC_v_dst_IP[df['Ether_src'][j]]:\n",
    "                src_MAC_v_dst_IP[df['Ether_src'][j]].append(df['IP_dst'][j])\n",
    "        else:\n",
    "            src_MAC_v_dst_IP[df['Ether_src'][j]]=[]\n",
    "            src_MAC_v_dst_IP[df['Ether_src'][j]].append(df['IP_dst'][j])\n",
    "        IP_add_count.append(len(src_MAC_v_dst_IP[df['Ether_src'][j]]))\n",
    "        count+=1\n",
    "        #if count>300000:break\n",
    "    y=df[\"Label\"]\n",
    "    del df[\"Label\"]\n",
    "    df[\"dst_IP_diversity\"]=dst_IP_diversity\n",
    "    df[\"dst_port_diversity\"]=dst_port_diversity\n",
    "    df[\"src_IP_diversity\"]=src_IP_diversity\n",
    "    df[\"IP_add_count\"]=IP_add_count\n",
    "    df[\"Label\"]=y\n",
    "    df.to_csv(i,index=None) \n"
   ]
  },
  {
   "cell_type": "markdown",
   "metadata": {},
   "source": [
    "# Sliding Windows Features"
   ]
  },
  {
   "cell_type": "code",
   "execution_count": 5,
   "metadata": {},
   "outputs": [
    {
     "data": {
      "text/plain": [
       "['./FE\\\\ARP_MitM_x_FE.csv']"
      ]
     },
     "execution_count": 5,
     "metadata": {},
     "output_type": "execute_result"
    }
   ],
   "source": [
    "files_add=find_the_way('./FE','FE.csv')\n",
    "files_add"
   ]
  },
  {
   "cell_type": "code",
   "execution_count": 6,
   "metadata": {},
   "outputs": [],
   "source": [
    "def diff(x):\n",
    "    x = pd.Series(x)\n",
    "    result=x.diff()\n",
    "    result=result.fillna(0)\n",
    "    return result\n",
    "def mean(x,WS):\n",
    "    x = pd.Series(x)\n",
    "    result=x.rolling(WS).mean()\n",
    "    result=result.fillna(result[WS-1])\n",
    "    return result\n",
    "def std(x,WS):\n",
    "    x = pd.Series(x)\n",
    "    result=x.rolling(WS).std()\n",
    "    result=result.fillna(result[WS-1])\n",
    "    return result\n",
    "\n",
    "def mean_EW(x):\n",
    "    x = pd.Series(x)\n",
    "    result=x.expanding(min_periods=1).mean()\n",
    "    return result\n",
    "def std_EW(x):\n",
    "    x = pd.Series(x)\n",
    "    result=x.expanding(min_periods=1).std()\n",
    "    result=result.fillna(0)\n",
    "    return result\n",
    "def sum_of_EW(x):\n",
    "    x = pd.Series(x)\n",
    "    result=x.expanding(min_periods=1).sum()\n",
    "    return result\n",
    "\n",
    "def var(x,WS):\n",
    "    x = pd.Series(x)\n",
    "    result=x.rolling(WS).var()\n",
    "    result=result.fillna(result[WS-1])\n",
    "    return result\n",
    "def flagsum(x):\n",
    "    total_f=0\n",
    "    result=[]\n",
    "    for i in x:\n",
    "        if i==1:\n",
    "            total_f+=1\n",
    "        result.append(total_f)\n",
    "    return result\n",
    "def portsum(x):\n",
    "    total_ports=[]\n",
    "    result=[]\n",
    "    for i in x:\n",
    "        if i not in total_ports:\n",
    "            total_ports.append(i)\n",
    "        result.append(len(total_ports))\n",
    "    return result     "
   ]
  },
  {
   "cell_type": "code",
   "execution_count": 7,
   "metadata": {},
   "outputs": [],
   "source": [
    "n=['ts',\"WS_src\",\"WS_dst\",\n",
    " 'pck_size',\n",
    " #'Ether_dst',\n",
    " #'Ether_src','IP_src',\n",
    " #'IP_dst',\n",
    "   'UDP_sport',\n",
    " 'UDP_dport','TCP_sport',\n",
    " 'TCP_dport',\n",
    "#'IP_src',\n",
    " #'IP_dst', \n",
    "'TCP_FIN',\n",
    " 'TCP_SYN',\n",
    " 'TCP_RST',\n",
    " 'TCP_PSH',\n",
    " 'TCP_ACK',\n",
    " 'TCP_URG',\n",
    " 'TCP_ECE',\n",
    " 'TCP_CWR',\n",
    " 'TCP_window',\"payload_bytes\",\"entropy\",\"Label\"]"
   ]
  },
  {
   "cell_type": "code",
   "execution_count": 8,
   "metadata": {},
   "outputs": [],
   "source": [
    "for j in files_add:\n",
    "    df=pd.read_csv(j)\n",
    "    break"
   ]
  },
  {
   "cell_type": "code",
   "execution_count": 9,
   "metadata": {},
   "outputs": [
    {
     "name": "stdout",
     "output_type": "stream",
     "text": [
      "ARP_MitM_x_FE.csv\n"
     ]
    },
    {
     "name": "stderr",
     "output_type": "stream",
     "text": [
      "100%|██████████████████████████████████████████████████████████████████████████████████| 10/10 [00:14<00:00,  1.42s/it]\n",
      "C:\\Users\\kahra\\AppData\\Local\\Temp\\ipykernel_20024\\1465388484.py:132: DtypeWarning: Columns (40) have mixed types. Specify dtype option on import or set low_memory=False.\n",
      "  df=pd.read_csv(j[5:])\n"
     ]
    },
    {
     "name": "stdout",
     "output_type": "stream",
     "text": [
      "2 -------------------------------------------------------------------------------\n",
      "ARP_MitM_x_FE.csv\n"
     ]
    },
    {
     "name": "stderr",
     "output_type": "stream",
     "text": [
      "100%|██████████████████████████████████████████████████████████████████████████████████| 10/10 [00:15<00:00,  1.51s/it]\n",
      "C:\\Users\\kahra\\AppData\\Local\\Temp\\ipykernel_20024\\1465388484.py:132: DtypeWarning: Columns (40) have mixed types. Specify dtype option on import or set low_memory=False.\n",
      "  df=pd.read_csv(j[5:])\n"
     ]
    },
    {
     "name": "stdout",
     "output_type": "stream",
     "text": [
      "3 -------------------------------------------------------------------------------\n"
     ]
    }
   ],
   "source": [
    "outputfolder=\"SW\"\n",
    "folder(outputfolder)\n",
    "\n",
    "for windows_size in range(2,4):\n",
    "    for j in files_add:\n",
    "        print(j[5:])\n",
    "        df=pd.read_csv(j)#,usecols=n)\n",
    "\n",
    "        df[\"sport\"]=df[\"UDP_sport\"]+df[\"TCP_sport\"]\n",
    "        df[\"dport\"]=df[\"UDP_dport\"]+df[\"TCP_dport\"]\n",
    "\n",
    "        del df[\"UDP_sport\"]\n",
    "        del df[\"TCP_sport\"]\n",
    "        del df[\"UDP_dport\"]\n",
    "        del df[\"TCP_dport\"]\n",
    "\n",
    "        df.to_csv(\"temp.csv\")\n",
    "\n",
    "\n",
    "        df=pd.read_csv(\"temp.csv\")\n",
    "        #df[\"ID\"] = df[\"Ether_src\"] +\"@\" +df[\"IP_src\"] +\"====>\"+df[\"Ether_dst\"]+ \"@\"+ df[\"IP_dst\"]\n",
    "        df[\"ID\"] = df[\"WS_src\"]+\"=>\"+df[\"WS_dst\"]\n",
    "        #del df[\"Ether_src\"] \n",
    "        #del df[\"IP_src\"] \n",
    "        #del df[\"Ether_dst\"] \n",
    "        #del df[\"IP_dst\"]\n",
    "        del df[\"WS_src\"] \n",
    "        del df[\"WS_dst\"]\n",
    "\n",
    "        cols=[ 'TCP_FIN',\n",
    "     'TCP_SYN',\n",
    "     'TCP_RST',\n",
    "     'TCP_PSH',\n",
    "     'TCP_ACK',\n",
    "     'TCP_URG',\n",
    "     'TCP_ECE',\n",
    "     'TCP_CWR', 'Label', 'ID', 'pck_size_diff', 'pck_size_mean',\n",
    "               'pck_size_std',  'ts_diff', 'ts_mean', 'ts_std',\n",
    "                'TCP_window_diff', 'TCP_window_mean', 'TCP_window_std',\"payload_bytes_diff\",\"payload_bytes_mean\",\"payload_bytes_std\",\n",
    "                'entropy_diff',\n",
    "         'entropy_mean',\n",
    "         'entropy_std',\n",
    "'pck_size_mean_EW','pck_size_std_EW',\n",
    "'ts_mean_EW', 'ts_std_EW',\n",
    "'TCP_window_mean_EW','TCP_window_std_EW',\n",
    "'payload_bytes_mean_EW','payload_bytes_std_EW',\n",
    "'entropy_mean_EW','entropy_std_EW',\n",
    "'ts_sum_of_EW', 'pck_size_sum_of_EW', \n",
    "'payload_bytes_sum_of_EW','entropy_sum_of_EW','TCP_window_sum_of_EW',\"Label\"]\n",
    "\n",
    "        IDS=sorted(list(df[df.columns[-1]].unique()))\n",
    "        func_sw=[mean,std] #functions\n",
    "        func_ew=[diff,mean_EW,std_EW,sum_of_EW] #functions   \n",
    "        func_name_sw=[\"mean\",\"std\"]\n",
    "        func_name_ew=[\"diff\",\"mean_WE\",\"std_WE\",\"sum_of_EW\"]\n",
    "        \n",
    "        f_list=[\"pck_size\",\"ts\",'TCP_window',\"payload_bytes\",\"entropy\"]#, \"dport\",\"sport\"     'TCP_SYN', 'TCP_ACK'    'TCP_FIN', 'TCP_SYN', 'TCP_RST', 'TCP_PSH', 'TCP_ACK', 'TCP_URG', 'TCP_ECE', 'TCP_CWR',  \n",
    "        fark=[#'pck_size_diff',\n",
    "         'pck_size_mean',\n",
    "         'pck_size_std',\n",
    "         #'ts_diff',\n",
    "         'ts_mean',\n",
    "         'ts_std',\n",
    "         #'TCP_window_diff',\n",
    "         'TCP_window_mean',\n",
    "         'TCP_window_std',#\"payload_bytes_diff\",\n",
    "          \"payload_bytes_mean\",\"payload_bytes_std\",\n",
    "         #'entropy_diff',\n",
    "         'entropy_mean',\n",
    "         'entropy_std']\n",
    "        WS=windows_size\n",
    "        flag=1\n",
    "        for i in tqdm(IDS):\n",
    "            smaller = df[df[\"ID\"]==i]\n",
    "            smaller=smaller.reset_index()\n",
    "            del smaller[\"index\"]\n",
    "            # smaller[\"ts\"]=np.array(diff(smaller[\"ts\"].values)) older way\n",
    "            #print( smaller[\"ts\"])\n",
    "            smaller[\"ts\"]=smaller[\"ts\"].values-smaller[\"ts\"].values[0]\n",
    "            #print( smaller[\"ts\"])\n",
    "            for ii in f_list:\n",
    "                for jjj,iii in enumerate (func_ew):\n",
    "                    name=str(ii)+\"_\"+str(func_name_ew[jjj])\n",
    "                    smaller[name]=iii(smaller[ii])\n",
    "            if len(smaller)>=WS:\n",
    "                for ii in f_list:\n",
    "                    for jjj,iii in enumerate (func_sw):\n",
    "                        name=str(ii)+\"_\"+str(func_name_sw[jjj])\n",
    "                        smaller[name]=iii(smaller[ii],WS)\n",
    "            else:\n",
    "                for ii in fark:\n",
    "                        smaller[ii]=0\n",
    "            smaller[\"dport_sum\"]=portsum(smaller[\"dport\"].values)\n",
    "            smaller[\"sport_sum\"] =portsum(smaller[\"sport\"].values)\n",
    "            smaller['TCP_FIN_sum'  ]=flagsum (smaller[ 'TCP_FIN'  ].values)\n",
    "            smaller['TCP_SYN_sum'  ]=flagsum (smaller['TCP_SYN'  ].values)\n",
    "            smaller['TCP_RST_sum'  ]=flagsum (smaller['TCP_RST'  ].values)\n",
    "            smaller['TCP_PSH_sum'  ]=flagsum (smaller['TCP_PSH'  ].values)\n",
    "            smaller['TCP_ACK_sum'  ]=flagsum (smaller['TCP_ACK'  ].values)\n",
    "            smaller['TCP_URG_sum'  ]=flagsum (smaller['TCP_URG'  ].values)\n",
    "            smaller['TCP_ECE_sum'  ]=flagsum (smaller['TCP_ECE'  ].values)\n",
    "            smaller['TCP_CWR_sum'  ]=flagsum (smaller['TCP_CWR'  ].values)\n",
    "            #del smaller[\"dport\"]        \n",
    "            #del smaller[\"sport\"]        \n",
    "            #del smaller[\"ID\"]\n",
    "            \n",
    "\n",
    "            smaller[\"TCP_FIN_ratio\"]=smaller[\"TCP_FIN\"]/(smaller[\"TCP_FIN_sum\"]+10e-20)\n",
    "            smaller[\"TCP_SYN_ratio\"]=smaller[\"TCP_SYN\"]/(smaller[\"TCP_SYN_sum\"]+10e-20)\n",
    "            smaller[\"TCP_RST_ratio\"]=smaller[\"TCP_RST\"]/(smaller[\"TCP_RST_sum\"]+10e-20)\n",
    "            smaller[\"TCP_PSH_ratio\"]=smaller[\"TCP_PSH\"]/(smaller[\"TCP_PSH_sum\"]+10e-20)\n",
    "            smaller[\"TCP_ACK_ratio\"]=smaller[\"TCP_ACK\"]/(smaller[\"TCP_ACK_sum\"]+10e-20)\n",
    "            smaller[\"TCP_URG_ratio\"]=smaller[\"TCP_URG\"]/(smaller[\"TCP_URG_sum\"]+10e-20)\n",
    "            smaller[\"TCP_ECE_ratio\"]=smaller[\"TCP_ECE\"]/(smaller[\"TCP_ECE_sum\"]+10e-20)\n",
    "            smaller[\"TCP_CWR_ratio\"]=smaller[\"TCP_CWR\"]/(smaller[\"TCP_CWR_sum\"]+10e-20)\n",
    "            col_list= [\"TCP_FIN_sum\",\"TCP_SYN_sum\",\"TCP_RST_sum\",\"TCP_PSH_sum\",\"TCP_ACK_sum\",\"TCP_URG_sum\",\"TCP_ECE_sum\",\"TCP_CWR_sum\"]\n",
    "            smaller['sum'] = smaller[col_list].sum(axis=1)\n",
    "            smaller[\"TCP_FIN_SR\"]=smaller[\"TCP_FIN\"]/(smaller[\"sum\"]+10e-20)\n",
    "            smaller[\"TCP_SYN_SR\"]=smaller[\"TCP_SYN\"]/(smaller[\"sum\"]+10e-20)\n",
    "            smaller[\"TCP_RST_SR\"]=smaller[\"TCP_RST\"]/(smaller[\"sum\"]+10e-20)\n",
    "            smaller[\"TCP_PSH_SR\"]=smaller[\"TCP_PSH\"]/(smaller[\"sum\"]+10e-20)\n",
    "            smaller[\"TCP_ACK_SR\"]=smaller[\"TCP_ACK\"]/(smaller[\"sum\"]+10e-20)\n",
    "            smaller[\"TCP_URG_SR\"]=smaller[\"TCP_URG\"]/(smaller[\"sum\"]+10e-20)\n",
    "            smaller[\"TCP_ECE_SR\"]=smaller[\"TCP_ECE\"]/(smaller[\"sum\"]+10e-20)\n",
    "            smaller[\"TCP_CWR_SR\"]=smaller[\"TCP_CWR\"]/(smaller[\"sum\"]+10e-20)\n",
    "\n",
    "            if flag:\n",
    "                smaller.to_csv(j[5:],header=True,index=False)\n",
    "                flag=0\n",
    "            else:\n",
    "                smaller.to_csv(j[5:],header=False,index=False,mode=\"a\")\n",
    "        df=pd.read_csv(j[5:])\n",
    "        features=df.columns\n",
    "        count=[]\n",
    "        bos=[]\n",
    "\n",
    "        #for ii,i in enumerate (features):\n",
    "            #a=pd.DataFrame(df.groupby(i).size())\n",
    "            #if a.shape[0]>1:\n",
    "                #print(a)\n",
    "               # count.append(i)\n",
    "                #print(\"________________________________________________________________\\n\\n\")\n",
    "            #else:\n",
    "                #bos.append(i)\n",
    "        df=df.sort_values(by='Unnamed: 0')\n",
    "\n",
    "        y=df[\"Label\"]\n",
    "        #for i in bos:\n",
    "            #print(i)\n",
    "            #del df[i]\n",
    "        del df[\"Label\"]\n",
    "        del df['Unnamed: 0']\n",
    "        df[\"Label\"]=y\n",
    "        last_name=f'./{outputfolder}/last_{str(WS)}_{j[5:]}'\n",
    "        df.to_csv(last_name,index=None)\n",
    "        print(WS,\"-------------------------------------------------------------------------------\")\n"
   ]
  }
 ],
 "metadata": {
  "colab": {
   "collapsed_sections": [],
   "name": "(105) feature exracto_colab.ipynb",
   "provenance": []
  },
  "kernelspec": {
   "display_name": "Python 3 (ipykernel)",
   "language": "python",
   "name": "python3"
  },
  "language_info": {
   "codemirror_mode": {
    "name": "ipython",
    "version": 3
   },
   "file_extension": ".py",
   "mimetype": "text/x-python",
   "name": "python",
   "nbconvert_exporter": "python",
   "pygments_lexer": "ipython3",
   "version": "3.10.8"
  }
 },
 "nbformat": 4,
 "nbformat_minor": 1
}
